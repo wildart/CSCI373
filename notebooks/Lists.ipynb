{
 "cells": [
  {
   "cell_type": "code",
   "execution_count": 2,
   "metadata": {
    "slideshow": {
     "slide_type": "skip"
    }
   },
   "outputs": [],
   "source": [
    "#include <iostream>\n",
    "#include <iomanip>\n",
    "#include <exception>\n",
    "#include <stdexcept>\n",
    "using namespace std;\n",
    "std::cout << std::boolalpha; "
   ]
  },
  {
   "cell_type": "markdown",
   "metadata": {
    "slideshow": {
     "slide_type": "slide"
    }
   },
   "source": [
    "# Lists"
   ]
  },
  {
   "cell_type": "markdown",
   "metadata": {
    "slideshow": {
     "slide_type": "slide"
    }
   },
   "source": [
    "## Abstract List\n",
    "\n",
    "- An **Abstract List (or List ADT)** is linearly ordered data where the programmer explicitly defines the ordering\n",
    "\n",
    "    - We will look at the most common operations that are usually \n",
    "    - The most obvious implementation is to use either an array or linked list\n",
    "    - These are, however, not always the most optimal"
   ]
  },
  {
   "cell_type": "markdown",
   "metadata": {
    "slideshow": {
     "slide_type": "slide"
    }
   },
   "source": [
    "## Operations\n",
    "\n",
    "- Operations at the $k$th entry of the list include:\n",
    "\n",
    "    - Access to the object <img style=\"vertical-align: center; max-width: 50%; display: inline-block;\" src=\"../img/access.png\"/>\n",
    "    - Insertion of a new object <img style=\"vertical-align: center; max-width: 50%; display: inline-block;\" src=\"../img/insert.png\"/>\n",
    "    - Replacement of the object <img style=\"vertical-align: center; max-width: 50%; display: inline-block;\" src=\"../img/replace.png\"/>\n",
    "    - Erasing an object <img style=\"vertical-align: center; max-width: 50%; display: inline-block;\" src=\"../img/erase.png\"/>"
   ]
  },
  {
   "cell_type": "markdown",
   "metadata": {
    "slideshow": {
     "slide_type": "slide"
    }
   },
   "source": [
    "- Given access to the $k$th object, gain access to either the previous or next object\n",
    "![](../img/element.png)\n",
    "\n",
    "- Given two abstract lists, we may want to\n",
    "    - Concatenate the two lists\n",
    "    - Determine if one is a sub-list of the other"
   ]
  },
  {
   "cell_type": "markdown",
   "metadata": {
    "slideshow": {
     "slide_type": "slide"
    }
   },
   "source": [
    "## Singly Linked List\n",
    "\n",
    "- A **linked list** is a data structure consisting of a sequence of object where each object is stored in a **node**\n",
    "\n",
    "- As well as storing data, the node must also contains a **reference/pointer** to the node containing the **next item** of data\n",
    "\n",
    "![](../img/linked-list.png)"
   ]
  },
  {
   "cell_type": "markdown",
   "metadata": {
    "slideshow": {
     "slide_type": "slide"
    }
   },
   "source": [
    "## Node List ADT\n",
    "\n",
    "- The **Node List ADT** models a sequence of positions storing arbitrary objects\n",
    "    - It establishes a before/after relation between positions\n",
    "\n",
    "- The node are dynamically created in a linked list\n",
    "    \n",
    "- A `Node` class must store the **data** and a **reference** to the next node (also a pointer)\n",
    "\n",
    "![](../img/list-node.png)"
   ]
  },
  {
   "cell_type": "code",
   "execution_count": 3,
   "metadata": {
    "slideshow": {
     "slide_type": "slide"
    }
   },
   "outputs": [],
   "source": [
    "class Node {\n",
    "public:\n",
    "    Node( int = 0, Node* = nullptr );\n",
    "\n",
    "    int value() const;\n",
    "    Node* next() const;\n",
    "\n",
    "private:\n",
    "    int node_value;\n",
    "    Node *next_node;\n",
    "};"
   ]
  },
  {
   "cell_type": "markdown",
   "metadata": {
    "slideshow": {
     "slide_type": "slide"
    }
   },
   "source": [
    "## Accessors\n",
    "\n",
    "- The two member functions are accessors which simply return the `node_value` and the `next_node` member variables, respectively\n",
    "    - Member functions that do not change the object acted upon are variously called *accessors*, *readonly functions*, *inspectors*, and, when it involves simply returning a member variable, *getters*"
   ]
  },
  {
   "cell_type": "code",
   "execution_count": 4,
   "metadata": {
    "slideshow": {
     "slide_type": "fragment"
    }
   },
   "outputs": [],
   "source": [
    "int Node::value() const {\n",
    "    return node_value;\n",
    "}"
   ]
  },
  {
   "cell_type": "code",
   "execution_count": 5,
   "metadata": {
    "slideshow": {
     "slide_type": "fragment"
    }
   },
   "outputs": [],
   "source": [
    "Node* Node::next() const {\n",
    "    return next_node;\n",
    "}"
   ]
  },
  {
   "cell_type": "markdown",
   "metadata": {
    "slideshow": {
     "slide_type": "slide"
    }
   },
   "source": [
    "## Constructor\n",
    "\n",
    "- The constructor assigns the two member variables based on the arguments"
   ]
  },
  {
   "cell_type": "code",
   "execution_count": 6,
   "metadata": {
    "slideshow": {
     "slide_type": "fragment"
    }
   },
   "outputs": [],
   "source": [
    "Node::Node( int e, Node *n ): node_value( e ), next_node( n ) {\n",
    "    // empty constructor\n",
    "}"
   ]
  },
  {
   "cell_type": "code",
   "execution_count": 7,
   "metadata": {
    "slideshow": {
     "slide_type": "fragment"
    }
   },
   "outputs": [
    {
     "name": "stdout",
     "output_type": "stream",
     "text": [
      "0 0\n",
      "12 0\n",
      "12 0x7ffe169e60a8\n"
     ]
    }
   ],
   "source": [
    "{\n",
    "    Node n1;\n",
    "    cout << n1.value() << \" \" << n1.next() << endl;\n",
    "    Node n2{12};\n",
    "    cout << n2.value() << \" \" << n2.next() << endl;\n",
    "    Node n3{12, &n2};\n",
    "    cout << n3.value() << \" \" << n3.next() << endl;\n",
    "}"
   ]
  },
  {
   "cell_type": "markdown",
   "metadata": {
    "slideshow": {
     "slide_type": "slide"
    }
   },
   "source": [
    "## Accessors (cont.)\n",
    "\n",
    "- In C++, a member function cannot have the same name as a member variable\n",
    "\n",
    "|                     | Member Variables | Member Functions |\n",
    "|--------------------:|:----------------:|:----------------:|\n",
    "| Vary capitalization | next_node        | Next_node() or NextNode() |\n",
    "| Prefix with \"get\"   | next_node        | get_next_node() / getNextNode() |\n",
    "| Use an underscore   | next_node_       | next_node() |\n",
    "| Different names     | next_node        | next() |\n",
    "\n",
    "- Always use the naming convention and coding styles used by your employer - even if you disagree with them\n",
    "  - Consistency aids in maintenance"
   ]
  },
  {
   "cell_type": "markdown",
   "metadata": {
    "slideshow": {
     "slide_type": "slide"
    }
   },
   "source": [
    "## Linked List Class\n",
    "\n",
    "- Because each node in a linked lists refers to the next, the linked list class need only link to the first node in the list\n",
    "\n",
    "- The linked list class requires member variable: a pointer to a node\n",
    "\n",
    "```cpp\n",
    "class List {\n",
    "    public:\n",
    "        class Node {...};\n",
    "\n",
    "    private:\n",
    "        Node *list_head;\n",
    "    // ...\n",
    "};\n",
    "```"
   ]
  },
  {
   "cell_type": "markdown",
   "metadata": {
    "slideshow": {
     "slide_type": "slide"
    }
   },
   "source": [
    "## Structure\n",
    "\n",
    "- To begin, let us look at the internal representation of a linked list\n",
    "\n",
    "- Suppose we want a linked list to store the values in this order\n",
    "\n",
    "    42  95  70  81\n"
   ]
  },
  {
   "cell_type": "markdown",
   "metadata": {
    "slideshow": {
     "slide_type": "slide"
    }
   },
   "source": [
    "## Structure (cont.)\n",
    "\n",
    "- A linked list uses *linked allocation*, and therefore each node may appear anywhere in memory\n",
    "\n",
    "- Also the memory required for each node equals the memory required by the member variables\n",
    "    - 4 bytes for the linked list (a pointer)\n",
    "    - 8 bytes for each node (an int and a pointer)\n",
    "        - We are assuming a 32-bit machine\n"
   ]
  },
  {
   "cell_type": "markdown",
   "metadata": {
    "slideshow": {
     "slide_type": "slide"
    }
   },
   "source": [
    "## Structure (cont.)\n",
    "\n",
    "- Such a list could occupy memory as follows:\n",
    "    - The `next_node` pointers store the addresses of the next node in the list\n",
    "\n",
    "![](../img/linked-list-example.png)"
   ]
  },
  {
   "cell_type": "markdown",
   "metadata": {
    "slideshow": {
     "slide_type": "slide"
    }
   },
   "source": [
    "## Structure (cont.)\n",
    "\n",
    "- Because the addresses are arbitrary, we can remove that information:\n",
    "\n",
    "![](../img/linked-list-example2.png)"
   ]
  },
  {
   "cell_type": "markdown",
   "metadata": {
    "slideshow": {
     "slide_type": "slide"
    }
   },
   "source": [
    "## Structure (cont.)\n",
    "\n",
    "- We will clean up the representation as follows:\n",
    "\n",
    "![](../img/linked-list-example3.png)\n",
    "\t\n",
    "- We do not specify the addresses because they are arbitrary and:\n",
    "    - The contents of the circle is the value\n",
    "    - The `next_node` pointer is represented by an arrow"
   ]
  },
  {
   "cell_type": "markdown",
   "metadata": {
    "slideshow": {
     "slide_type": "slide"
    }
   },
   "source": [
    "## Operations\n",
    "\n",
    "- First, we want to create a linked list\n",
    "\n",
    "- We also want to be able to manage the stored values in the linked list\n",
    "    - insert into,\n",
    "    - access, and\n",
    "    - erase from"
   ]
  },
  {
   "cell_type": "markdown",
   "metadata": {
    "slideshow": {
     "slide_type": "slide"
    }
   },
   "source": [
    "## Operations (cont.)\n",
    "\n",
    "- We can do them with the following operations:\n",
    "    - Adding, retrieving, or removing the value at the front of the linked list\n",
    "```cpp\n",
    "void push_front( int );\n",
    "int front() const;\n",
    "void pop_front();\n",
    "```\n",
    "    - We may also want to access the head of the linked list\n",
    "``` cpp\n",
    "Node *begin() const;\n",
    "```\n",
    "\n",
    "- Member functions that may change the object acted upon are variously called *mutators*, *modifiers*, and, when it involves changing a single member variable, *setters*"
   ]
  },
  {
   "cell_type": "markdown",
   "metadata": {
    "slideshow": {
     "slide_type": "slide"
    }
   },
   "source": [
    "## Operations (cont.)\n",
    "\n",
    "- All these operations relate to the first node of the linked list\n",
    "\n",
    "- We may want to perform operations on an arbitrary node of the linked list, for example:\n",
    "\n",
    "- Find the number of instances of an integer in the list:\n",
    "```cpp\n",
    "int count( int ) const;\n",
    "```\n",
    "\n",
    "- Remove all instances of an integer from the list:\n",
    "```cpp\n",
    "int erase( int );\n",
    "```"
   ]
  },
  {
   "cell_type": "markdown",
   "metadata": {
    "slideshow": {
     "slide_type": "slide"
    }
   },
   "source": [
    "## Capacity\n",
    "\n",
    "- Additionally, we may wish to check the state: \n",
    "    - Is the linked list empty?\n",
    "```cpp\n",
    "bool empty() const;\n",
    "```\n",
    "    - How many objects are in the list?\n",
    "```cpp\n",
    "int size() const;\n",
    "```\n",
    "\n",
    "- The list is empty when the `list_head` pointer is set to `nullptr`"
   ]
  },
  {
   "cell_type": "markdown",
   "metadata": {
    "slideshow": {
     "slide_type": "slide"
    }
   },
   "source": [
    "Consider this simple (but **incomplete**) linked list class:"
   ]
  },
  {
   "cell_type": "code",
   "execution_count": 8,
   "metadata": {
    "slideshow": {
     "slide_type": "fragment"
    }
   },
   "outputs": [],
   "source": [
    "class List {\n",
    "public:\n",
    "    // we defined it outside of the List class scope\n",
    "    //class Node {...};\n",
    "    List();\n",
    "    ~List(){};\n",
    "\n",
    "    // Accessors\n",
    "    bool empty() const;\n",
    "    int size() const;\n",
    "    int front() const;\n",
    "    Node* begin() const;\n",
    "    Node* end() const;\n",
    "\n",
    "    // Mutators\n",
    "    void push_front( int );\n",
    "    int pop_front();\n",
    "    \n",
    "    // Misc\n",
    "    int count( int ) const;\n",
    "    int erase( int );\n",
    "\n",
    "private:\n",
    "    Node *list_head; // head pointer of the list\n",
    "};"
   ]
  },
  {
   "cell_type": "markdown",
   "metadata": {
    "slideshow": {
     "slide_type": "slide"
    }
   },
   "source": [
    "## Constructor\n",
    "\n",
    "- The constructor initializes the linked list\n",
    "    - We do not count how may objects are in this list, thus:\n",
    "        - we must rely on the last pointer in the linked list to point to a special value\n",
    "        - in C++, that standard value is `nullptr`\n",
    "\n",
    "- Thus, in the constructor, we assign `list_head` the value `nullptr`\n",
    "\n",
    "- We will always ensure that when a linked list is empty, the list head is assigned `nullptr`"
   ]
  },
  {
   "cell_type": "code",
   "execution_count": 9,
   "metadata": {
    "slideshow": {
     "slide_type": "fragment"
    }
   },
   "outputs": [],
   "source": [
    "List::List(): list_head( nullptr ) { } // empty constructor"
   ]
  },
  {
   "cell_type": "markdown",
   "metadata": {
    "slideshow": {
     "slide_type": "slide"
    }
   },
   "source": [
    "## Allocation\n",
    "\n",
    "The constructor is called whenever an object is created, either:\n",
    "\n",
    "- Statically\n",
    "    - The following statement defines `ls` to be a linked list and the compiler deals with memory allocation\n",
    "```cpp\n",
    "List ls;\n",
    "```\n",
    "\n",
    "- Dynamically\n",
    "\t- The following statement requests sufficient memory from the OS to store an instance of the class\n",
    "```cpp\n",
    "List *pls = new List();\n",
    "```\n",
    "\n",
    "- In both cases, the memory is allocated and then the constructor is called"
   ]
  },
  {
   "cell_type": "markdown",
   "metadata": {
    "slideshow": {
     "slide_type": "slide"
    }
   },
   "source": [
    "## Static Allocation"
   ]
  },
  {
   "cell_type": "code",
   "execution_count": 10,
   "metadata": {
    "slideshow": {
     "slide_type": "fragment"
    }
   },
   "outputs": [],
   "source": [
    "int f() {\n",
    "    List ls;   // ls is declared as a local variable on the stack\n",
    "\n",
    "    ls.push_front( 3 );\n",
    "    cout << ls.front() << endl;\n",
    "\n",
    "    // The return value is evaluated\n",
    "    // The compiler then calls the destructor for local variables\n",
    "    // The memory allocated for 'ls' is deallocated\n",
    "\n",
    "    return 0;\n",
    "}"
   ]
  },
  {
   "cell_type": "markdown",
   "metadata": {
    "slideshow": {
     "slide_type": "slide"
    }
   },
   "source": [
    "## Dynamic Allocation"
   ]
  },
  {
   "cell_type": "code",
   "execution_count": 11,
   "metadata": {
    "slideshow": {
     "slide_type": "fragment"
    }
   },
   "outputs": [],
   "source": [
    "List* f( int n ) {\n",
    "    List *pls = new List();  // pls is allocated memory by the OS\n",
    "\n",
    "    pls->push_front( n );\n",
    "    cout << pls->front() << endl;\n",
    "\n",
    "    // The address of the linked list is the return value\n",
    "    // After this, the 4 bytes for the pointer 'pls' is deallocated\n",
    "    // The memory allocated for the linked list is still there\n",
    "\n",
    "    return pls;\n",
    "}"
   ]
  },
  {
   "cell_type": "markdown",
   "metadata": {
    "slideshow": {
     "slide_type": "slide"
    }
   },
   "source": [
    "## `empty()`\n",
    "\n",
    "- Starting with the easier member functions:\n",
    "```cpp\n",
    "bool List::empty() const {\n",
    "    if ( list_head == nullptr ) {\n",
    "        return true;\n",
    "    } else {\n",
    "        return false;\n",
    "    }\n",
    "}   \n",
    "```\n",
    "\n",
    "- Better yet:"
   ]
  },
  {
   "cell_type": "code",
   "execution_count": 12,
   "metadata": {
    "slideshow": {
     "slide_type": "fragment"
    }
   },
   "outputs": [],
   "source": [
    "bool List::empty() const {\n",
    "    return ( list_head == nullptr );\n",
    "}"
   ]
  },
  {
   "cell_type": "code",
   "execution_count": 13,
   "metadata": {
    "slideshow": {
     "slide_type": "fragment"
    }
   },
   "outputs": [
    {
     "name": "stdout",
     "output_type": "stream",
     "text": [
      "true\n"
     ]
    }
   ],
   "source": [
    "{\n",
    "    List ls;\n",
    "    cout << ls.empty() << endl;\n",
    "}"
   ]
  },
  {
   "cell_type": "markdown",
   "metadata": {
    "slideshow": {
     "slide_type": "slide"
    }
   },
   "source": [
    "## `begin()`\n",
    "\n",
    "- The member function `Node* begin() const` is easy enough to implement:"
   ]
  },
  {
   "cell_type": "code",
   "execution_count": 14,
   "metadata": {
    "slideshow": {
     "slide_type": "fragment"
    }
   },
   "outputs": [],
   "source": [
    "Node* List::begin() const {\n",
    "    return list_head;\n",
    "}"
   ]
  },
  {
   "cell_type": "markdown",
   "metadata": {
    "slideshow": {
     "slide_type": "fragment"
    }
   },
   "source": [
    "- This will always work: if the list is empty, it will return `nullptr`"
   ]
  },
  {
   "cell_type": "code",
   "execution_count": 15,
   "metadata": {
    "slideshow": {
     "slide_type": "fragment"
    }
   },
   "outputs": [
    {
     "name": "stdout",
     "output_type": "stream",
     "text": [
      "true\n",
      "0\n"
     ]
    }
   ],
   "source": [
    "{\n",
    "    List ls;\n",
    "    cout << ls.empty() << endl;\n",
    "    cout << ls.begin() << endl;\n",
    "}"
   ]
  },
  {
   "cell_type": "markdown",
   "metadata": {
    "slideshow": {
     "slide_type": "slide"
    }
   },
   "source": [
    "## `end()`\n",
    "\n",
    "- The member function `Node* end() const` equals whatever the last node in the linked list points to"
   ]
  },
  {
   "cell_type": "code",
   "execution_count": 16,
   "metadata": {
    "slideshow": {
     "slide_type": "fragment"
    }
   },
   "outputs": [],
   "source": [
    "// In this case, nullptr front\n",
    "Node* List::end() const {\n",
    "    return nullptr;\n",
    "}"
   ]
  },
  {
   "cell_type": "markdown",
   "metadata": {
    "slideshow": {
     "slide_type": "slide"
    }
   },
   "source": [
    "## `front()`\n",
    "\n",
    "- To get the first value in the linked list, we must access the node to which the `list_head` is pointing\n",
    "\n",
    "- Because we have a pointer, we must use the `->` operator to call the member function:\n",
    "```cpp\n",
    "int List::front() const {\n",
    "    return begin()->value();\n",
    "}\n",
    "```"
   ]
  },
  {
   "cell_type": "markdown",
   "metadata": {
    "slideshow": {
     "slide_type": "slide"
    }
   },
   "source": [
    "- The member function `int front() const` requires some additional consideration, however:\n",
    "    - What if the list is empty?\n",
    "\n",
    "- If we tried to access a member function of a pointer set to `nullptr`, we would access restricted memory\n",
    "    - The operating system would terminate the running program\n",
    "    - Instead, we can use an exception handling mechanism where we thrown an exception"
   ]
  },
  {
   "cell_type": "code",
   "execution_count": 17,
   "metadata": {
    "slideshow": {
     "slide_type": "fragment"
    }
   },
   "outputs": [],
   "source": [
    "int List::front() const {\n",
    "    if ( empty() ) {\n",
    "        throw underflow_error(\"List is empty\");\n",
    "    }\n",
    "    return begin()->value();\n",
    "}"
   ]
  },
  {
   "cell_type": "markdown",
   "metadata": {
    "slideshow": {
     "slide_type": "slide"
    }
   },
   "source": [
    "## Software Engening Tip\n",
    "\n",
    "- Why is `empty()` better than\n",
    "\n",
    "```cpp\n",
    "int List::front() const {\n",
    "    if ( list_head == nullptr ) {\n",
    "        throw underflow();\n",
    "    }\n",
    "\n",
    "    return list_head->node_value;\n",
    "}\n",
    "```\n",
    "\n",
    "- Two benefits:\n",
    "    - More readable\n",
    "    - If the implementation changes we do nothing"
   ]
  },
  {
   "cell_type": "markdown",
   "metadata": {
    "slideshow": {
     "slide_type": "slide"
    }
   },
   "source": [
    "## Inserting at the Head\n",
    "\n",
    "- Step required for insering a new element at the beginning of the list\n",
    "    - Allocate a new node\n",
    "    - Insert new element value\n",
    "    - Have new node point to old head\n",
    "    - Update head to point to new node\n",
    "- Corresponding mutator function is `void push_front(int)`"
   ]
  },
  {
   "cell_type": "markdown",
   "metadata": {
    "slideshow": {
     "slide_type": "slide"
    }
   },
   "source": [
    "## `push_front`\n",
    "\n",
    "Let us add a value in front of the list\n",
    "\n",
    "- If it is empty, we start with:\n",
    "![](../img/llist01.png)"
   ]
  },
  {
   "cell_type": "markdown",
   "metadata": {
    "slideshow": {
     "slide_type": "fragment"
    }
   },
   "source": [
    "- and, if we try to add 81, we should end up with:\n",
    "![](../img/llist02.png)"
   ]
  },
  {
   "cell_type": "markdown",
   "metadata": {
    "slideshow": {
     "slide_type": "slide"
    }
   },
   "source": [
    "- To visualize what we must do:\n",
    "    - We must create a new node which:\n",
    "        - stores the value 81, and\n",
    "        - is pointing to 0\n",
    "    - We must then assign its address to list_head\n",
    "\n",
    "- We can do this as follows:\n",
    "```cpp\n",
    "list_head = new Node( 81, nullptr );\n",
    "```\n",
    "\n",
    "- We could also use the default value..."
   ]
  },
  {
   "cell_type": "markdown",
   "metadata": {
    "slideshow": {
     "slide_type": "slide"
    }
   },
   "source": [
    "- Suppose however, we already have a non-empty list\n",
    "![](../img/llist02.png)"
   ]
  },
  {
   "cell_type": "markdown",
   "metadata": {
    "slideshow": {
     "slide_type": "fragment"
    }
   },
   "source": [
    "- Adding 70, we want:\n",
    "![](../img/llist03.png)"
   ]
  },
  {
   "cell_type": "markdown",
   "metadata": {
    "slideshow": {
     "slide_type": "slide"
    }
   },
   "source": [
    "- To achieve this\n",
    "    - We must we must create a new node which:\n",
    "        - stores the value 70, and\n",
    "        - is pointing to the current list head\n",
    "    - We must then assign its address to `list_head`\n",
    "\n",
    "- We can do this as follows:\n",
    "```cpp\n",
    "list_head = new Node( 70, list_head );\n",
    "```"
   ]
  },
  {
   "cell_type": "code",
   "execution_count": 18,
   "metadata": {
    "slideshow": {
     "slide_type": "slide"
    }
   },
   "outputs": [],
   "source": [
    "void List::push_front( int n ) {\n",
    "    if ( empty() ) {\n",
    "        list_head = new Node( n, nullptr );\n",
    "    } else {\n",
    "        list_head = new Node( n, begin() );\n",
    "    }\n",
    "}"
   ]
  },
  {
   "cell_type": "markdown",
   "metadata": {
    "slideshow": {
     "slide_type": "slide"
    }
   },
   "source": [
    "- We could, however, note that when the list is empty, `list_head == nullptr`, thus we could shorten this to:\n",
    "\n",
    "```cpp\n",
    "void List::push_front( int n ) {\n",
    "    list_head = new Node( n, list_head );\n",
    "}\n",
    "```"
   ]
  },
  {
   "cell_type": "markdown",
   "metadata": {
    "slideshow": {
     "slide_type": "fragment"
    }
   },
   "source": [
    "- Are we allowed to do this?\n",
    "\n",
    "```cpp\n",
    "void List::push_front( int n ) {\n",
    "    list_head = new Node( n, begin() );\n",
    "}\n",
    "```"
   ]
  },
  {
   "cell_type": "markdown",
   "metadata": {
    "slideshow": {
     "slide_type": "fragment"
    }
   },
   "source": [
    "- **Yes**:  the right-hand side of an assignment is evaluated first\n",
    "    - The original value of `list_head` is accessed first before the function call is made"
   ]
  },
  {
   "cell_type": "markdown",
   "metadata": {
    "slideshow": {
     "slide_type": "slide"
    }
   },
   "source": [
    "## Question\n",
    "\n",
    "- Does this work?\n",
    "\n",
    "```cpp\n",
    "void List::push_front( int n ) {\n",
    "    Node new_node( n, begin() );\n",
    "    list_head = &new_node;\n",
    "}\n",
    "```"
   ]
  },
  {
   "cell_type": "markdown",
   "metadata": {
    "slideshow": {
     "slide_type": "fragment"
    }
   },
   "source": [
    "- Why or why not?  What happens to `new_node`?"
   ]
  },
  {
   "cell_type": "markdown",
   "metadata": {
    "slideshow": {
     "slide_type": "fragment"
    }
   },
   "source": [
    "- How does this differ from\n",
    "\n",
    "```cpp\n",
    "void List::push_front( int n ) {\n",
    "    Node *new_node = new Node( n, begin() );\n",
    "    list_head = new_node;\n",
    "}\n",
    "```"
   ]
  },
  {
   "cell_type": "markdown",
   "metadata": {
    "slideshow": {
     "slide_type": "slide"
    }
   },
   "source": [
    "## Insertion\n",
    "\n",
    "- We can generalize `push_front`, in order to insert a node at any position of the list:\n",
    "\n",
    "```cpp\n",
    "void List::insert( Node* p, int n ) {\n",
    "    p->next_node = new Node( n, p->next() );\n",
    "}\n",
    "```"
   ]
  },
  {
   "cell_type": "markdown",
   "metadata": {
    "slideshow": {
     "slide_type": "fragment"
    }
   },
   "source": [
    "- General `insert` method can be used to rewrite `push` methods\n",
    "\n",
    "```cpp\n",
    "void List::push_front( int n ) {\n",
    "    insert( begin(), n );\n",
    "}\n",
    "\n",
    "void List::push_back( int n ) {\n",
    "    insert( end(), n ) // if we have tail pointer\n",
    "}\n",
    "```"
   ]
  },
  {
   "cell_type": "markdown",
   "metadata": {
    "slideshow": {
     "slide_type": "slide"
    }
   },
   "source": [
    "## Removing at the Head\n",
    "\n",
    "- Erasing the element from the front of the list requires:\n",
    "\n",
    "    1. Update head to point to next node in the list\n",
    "    2. Free memory of the former first node"
   ]
  },
  {
   "cell_type": "markdown",
   "metadata": {
    "slideshow": {
     "slide_type": "slide"
    }
   },
   "source": [
    "## `pop_front`\n",
    "\n",
    "- Erasing from the front of a linked list is even easier:\n",
    "    - We assign the list head to the next pointer of the first node\n",
    "\n",
    "- Graphically, given:\n",
    "![](../img/llist04.png)"
   ]
  },
  {
   "cell_type": "markdown",
   "metadata": {
    "slideshow": {
     "slide_type": "fragment"
    }
   },
   "source": [
    "- we want\n",
    "![](../img/llist05.png)"
   ]
  },
  {
   "cell_type": "markdown",
   "metadata": {
    "slideshow": {
     "slide_type": "slide"
    }
   },
   "source": [
    "- Easy enough:\n",
    "```cpp\n",
    "int List::pop_front() {\n",
    "    int e = front();\n",
    "    list_head = begin()->next();\n",
    "    return e;\n",
    "}\n",
    "```"
   ]
  },
  {
   "cell_type": "markdown",
   "metadata": {
    "slideshow": {
     "slide_type": "fragment"
    }
   },
   "source": [
    "- Unfortunately, we have some problems:\n",
    "    - The list may be empty\n",
    "    - We still have the memory allocated for the node containing 70"
   ]
  },
  {
   "cell_type": "markdown",
   "metadata": {
    "slideshow": {
     "slide_type": "slide"
    }
   },
   "source": [
    "- Does this work?\t\n",
    "\n",
    "```cpp\n",
    "int List::pop_front() {\n",
    "    if ( empty() ) {\n",
    "        throw underflow_error(\"List is empty\");\n",
    "    }\n",
    "\n",
    "    int e = front();\n",
    "    delete begin();               /// ????\n",
    "    list_head = begin()->next();  /// ????\n",
    "    return e;\n",
    "}\n",
    "```"
   ]
  },
  {
   "cell_type": "markdown",
   "metadata": {
    "slideshow": {
     "slide_type": "slide"
    }
   },
   "source": [
    "int List::pop_front() {\n",
    "<div style=\"margin-left: 1em\">\n",
    "    \n",
    "if ( empty() ) {\n",
    "     throw underflow_error();\n",
    "}\n",
    "\n",
    "<div><span style=\"color:red\"> int e = front(); </span><img style=\"vertical-align: center;  max-width: auto;  display: inline-block;\" src=\"../img/llist06.png\"/>\n",
    "\n",
    "delete begin();\n",
    "\n",
    "list_head = begin()->next();\n",
    "\n",
    "return e;\n",
    "</div>\n",
    "}"
   ]
  },
  {
   "cell_type": "markdown",
   "metadata": {
    "slideshow": {
     "slide_type": "slide"
    }
   },
   "source": [
    "int List::pop_front() {\n",
    "<div style=\"margin-left: 1em\">\n",
    "    \n",
    "if ( empty() ) {\n",
    "     throw underflow_error();\n",
    "}\n",
    "\n",
    "int e = front();    \n",
    "    \n",
    "<div><span style=\"color:red\"> delete begin(); </span><img style=\"vertical-align: center;  max-width: auto;  display: inline-block;\" src=\"../img/llist07.png\"/>\n",
    "\n",
    "list_head = begin()->next();\n",
    "\n",
    "return e;\n",
    "</div>\n",
    "}"
   ]
  },
  {
   "cell_type": "markdown",
   "metadata": {
    "slideshow": {
     "slide_type": "slide"
    }
   },
   "source": [
    "int List::pop_front() {\n",
    "<div style=\"margin-left: 1em\">\n",
    "    \n",
    "if ( empty() ) {\n",
    "     throw underflow_error();\n",
    "}\n",
    "\n",
    "int e = front();    \n",
    "\n",
    "delete begin();\n",
    "       \n",
    "<div><span style=\"color:red\"> list_head = begin()->next(); </span><img style=\"vertical-align: center;  max-width: auto;  display: inline-block;\" src=\"../img/llist08.png\"/>\n",
    "    \n",
    "return e; \n",
    "    \n",
    "</div>\n",
    "}"
   ]
  },
  {
   "cell_type": "markdown",
   "metadata": {
    "slideshow": {
     "slide_type": "slide"
    }
   },
   "source": [
    "## Problem\n",
    "\n",
    "- The problem is, we are accessing a node which we have just deleted\n",
    "\n",
    "- Unfortunately, this will work more than 99% of the time:\n",
    "    - The running program (process) may still own the memory\n",
    "- Once in a while it will fail ...\n",
    "    - ... and it will be almost impossible to debug\n",
    "        \n",
    "![](https://imgs.xkcd.com/comics/forgetting.png)"
   ]
  },
  {
   "cell_type": "markdown",
   "metadata": {
    "slideshow": {
     "slide_type": "slide"
    }
   },
   "source": [
    "## Solution\n",
    "\n",
    "- The correct implementation assigns a temporary pointer to point to the node being deleted:"
   ]
  },
  {
   "cell_type": "code",
   "execution_count": 19,
   "metadata": {
    "slideshow": {
     "slide_type": "fragment"
    }
   },
   "outputs": [],
   "source": [
    "int List::pop_front() {\n",
    "     if ( empty() ) {\n",
    "          throw underflow_error(\"List is empty\");\n",
    "     }\n",
    "\n",
    "    int e = front();\n",
    "    Node *ptr = list_head;\n",
    "    list_head = list_head->next();\n",
    "    delete ptr;\n",
    "    return e;\n",
    "}"
   ]
  },
  {
   "cell_type": "markdown",
   "metadata": {
    "slideshow": {
     "slide_type": "slide"
    }
   },
   "source": [
    "int List::pop_front() {\n",
    "<div style=\"margin-left: 1em\">\n",
    "    \n",
    "if ( empty() ) {\n",
    "     throw underflow_error();\n",
    "}\n",
    "\n",
    "\n",
    "<div><span style=\"color:red\"> int e = front(); </span><img style=\"vertical-align: center;  max-width: auto;  display: inline-block;\" src=\"../img/llist09.png\"/></div>\n",
    "\n",
    "Node *ptr = begin();   \n",
    "    \n",
    "list_head = begin()->next();\n",
    "    \n",
    "delete ptr;\n",
    "\n",
    "return e;\n",
    "    \n",
    "</div>\n",
    "}"
   ]
  },
  {
   "cell_type": "markdown",
   "metadata": {
    "slideshow": {
     "slide_type": "slide"
    }
   },
   "source": [
    "int List::pop_front() {\n",
    "<div style=\"margin-left: 1em\">\n",
    "    \n",
    "if ( empty() ) {\n",
    "     throw underflow_error();\n",
    "}\n",
    "\n",
    "int e = front();\n",
    "    \n",
    "<div><span style=\"color:red\"> Node *ptr = begin(); </span><img style=\"vertical-align: center;  max-width: auto;  display: inline-block;\" src=\"../img/llist10.png\"/></div>\n",
    "    \n",
    "list_head = begin()->next();\n",
    "    \n",
    "delete ptr;\n",
    "\n",
    "return e;\n",
    "    \n",
    "</div>\n",
    "}"
   ]
  },
  {
   "cell_type": "markdown",
   "metadata": {
    "slideshow": {
     "slide_type": "slide"
    }
   },
   "source": [
    "int List::pop_front() {\n",
    "<div style=\"margin-left: 1em\">\n",
    "    \n",
    "if ( empty() ) {\n",
    "     throw underflow_error();\n",
    "}\n",
    "\n",
    "int e = front();\n",
    "    \n",
    "Node *ptr = begin();\n",
    "    \n",
    "<div><span style=\"color:red\"> list_head = begin()->next(); </span><img style=\"vertical-align: center;  max-width: auto;  display: inline-block;\" src=\"../img/llist11.png\"/></div>    \n",
    "    \n",
    "delete ptr;\n",
    "\n",
    "return e;\n",
    "    \n",
    "</div>\n",
    "}"
   ]
  },
  {
   "cell_type": "markdown",
   "metadata": {
    "slideshow": {
     "slide_type": "slide"
    }
   },
   "source": [
    "int List::pop_front() {\n",
    "<div style=\"margin-left: 1em\">\n",
    "    \n",
    "if ( empty() ) {\n",
    "     throw underflow_error();\n",
    "}\n",
    "\n",
    "int e = front();\n",
    "    \n",
    "Node *ptr = begin();\n",
    "    \n",
    "list_head = begin()->next();\n",
    "    \n",
    "<div><span style=\"color:red\"> delete ptr; </span><img style=\"vertical-align: center;  max-width: auto;  display: inline-block;\" src=\"../img/llist12.png\"/>  </div>      \n",
    "\n",
    "return e;\n",
    "    \n",
    "</div>\n",
    "}"
   ]
  },
  {
   "cell_type": "markdown",
   "metadata": {
    "slideshow": {
     "slide_type": "slide"
    }
   },
   "source": [
    "## Inserting at the Tail\n",
    "\n",
    "- Inserting or removing at the tail of a singly linked list is not efficient!\n",
    "- There is no constant-time way to update the tail to point to the previous node\n",
    "    - Unless the list ADT maintains the `tail` pointer"
   ]
  },
  {
   "cell_type": "markdown",
   "metadata": {
    "slideshow": {
     "slide_type": "slide"
    }
   },
   "source": [
    "## `push_back`\n",
    "\n",
    "- For a given the linked list with `tail` pointer ![](../img/linked-list-tail0.png)\n",
    "- Allocate a new node & insert new element into it \n",
    "- Have new node point to null\n",
    "- Have old last node point to new node\n",
    "- Update `tail` pointer to point to new node"
   ]
  },
  {
   "cell_type": "markdown",
   "metadata": {
    "slideshow": {
     "slide_type": "slide"
    }
   },
   "source": [
    "## `push_back`\n",
    "\n",
    "- For a given the linked list with `tail` pointer \n",
    "- Allocate a new node & insert new element into it ![](../img/linked-list-tail1.png) \n",
    "- Have new node point to null\n",
    "- Have old last node point to new node\n",
    "- Update `tail` pointer to point to new node"
   ]
  },
  {
   "cell_type": "markdown",
   "metadata": {
    "slideshow": {
     "slide_type": "slide"
    }
   },
   "source": [
    "## `push_back`\n",
    "\n",
    "- For a given the linked list with `tail` pointer \n",
    "- Allocate a new node & insert new element into it\n",
    "- Have new node point to null  ![](../img/linked-list-tail2.png) \n",
    "- Have old last node point to new node\n",
    "- Update `tail` pointer to point to new node"
   ]
  },
  {
   "cell_type": "markdown",
   "metadata": {
    "slideshow": {
     "slide_type": "slide"
    }
   },
   "source": [
    "## `push_back`\n",
    "\n",
    "- For a given the linked list with `tail` pointer \n",
    "- Allocate a new node & insert new element into it\n",
    "- Have new node point to null  \n",
    "- Have old last node point to new node ![](../img/linked-list-tail3.png) \n",
    "- Update `tail` pointer to point to new node"
   ]
  },
  {
   "cell_type": "markdown",
   "metadata": {
    "slideshow": {
     "slide_type": "slide"
    }
   },
   "source": [
    "## `push_back`\n",
    "\n",
    "- For a given the linked list with `tail` pointer \n",
    "- Allocate a new node & insert new element into it\n",
    "- Have new node point to null  \n",
    "- Have old last node point to new node\n",
    "- Update `tail` pointer to point to new node ![](../img/linked-list-tail4.png) "
   ]
  },
  {
   "cell_type": "markdown",
   "metadata": {
    "slideshow": {
     "slide_type": "slide"
    }
   },
   "source": [
    "## Stepping through a Linked List\n",
    "\n",
    "- The next step is to look at member functions which potentially require us to step through the entire list:\n",
    "\n",
    "```cpp\n",
    "int size() const;\n",
    "int count( int ) const;\n",
    "int erase( int );\n",
    "```\n",
    "\n",
    "- The second counts the number of instances of an integer, and the last removes the nodes containing that integer"
   ]
  },
  {
   "cell_type": "markdown",
   "metadata": {
    "slideshow": {
     "slide_type": "slide"
    }
   },
   "source": [
    "- The process of stepping through a linked list can be thought of as being analogous to a for-loop:\n",
    "- We initialize a temporary pointer with the list `head`\n",
    "- We continue iterating until the pointer equals `end()` (e.g. `nullptr`)\n",
    "- With each step, we set the pointer to point to the next object"
   ]
  },
  {
   "cell_type": "markdown",
   "metadata": {
    "slideshow": {
     "slide_type": "fragment"
    }
   },
   "source": [
    "Thus, we have:\n",
    "\n",
    "```cpp\n",
    "for ( Node *ptr = begin(); ptr != end(); ptr = ptr->next() ) {\n",
    "   // do something\n",
    "   // use ptr->fn() to call member functions\n",
    "   // use ptr->var to assign/access member variables\n",
    "}\n",
    "```  "
   ]
  },
  {
   "cell_type": "markdown",
   "metadata": {
    "slideshow": {
     "slide_type": "slide"
    }
   },
   "source": [
    "## Initialization\n",
    "\n",
    "- With the initialization and first iteration of the loop, we have:\n",
    "\n",
    "![](../img/llist13.png)\n",
    "\n",
    "- `ptr != nullptr` and thus we evaluate the body of the loop and then set ptr to the next pointer of the node it is pointing to"
   ]
  },
  {
   "cell_type": "markdown",
   "metadata": {
    "slideshow": {
     "slide_type": "slide"
    }
   },
   "source": [
    "## Stepping\n",
    "\n",
    "- `ptr != nullptr` and thus we evaluate the loop and increment the pointer\n",
    "\n",
    "![](../img/llist14.png)\n",
    "\n",
    "- In the loop, we can access the value being pointed to by using `ptr->value()`"
   ]
  },
  {
   "cell_type": "markdown",
   "metadata": {
    "slideshow": {
     "slide_type": "slide"
    }
   },
   "source": [
    "## Stepping\n",
    "\n",
    "- `ptr != nullptr` and thus we evaluate the loop and increment the\n",
    "\n",
    "![](../img/llist15.png)\n",
    "\n",
    "- Also, in the loop, we can access the next node in the list by using `ptr->next()`"
   ]
  },
  {
   "cell_type": "markdown",
   "metadata": {
    "slideshow": {
     "slide_type": "slide"
    }
   },
   "source": [
    "## Stepping\n",
    "\n",
    "- `ptr != nullptr` and thus we evaluate the loop and increment the\n",
    "\n",
    "![](../img/llist16.png)\n",
    "\n",
    "- \tThis last increment causes `ptr == nullptr` "
   ]
  },
  {
   "cell_type": "markdown",
   "metadata": {
    "slideshow": {
     "slide_type": "slide"
    }
   },
   "source": [
    "## Reached the End\n",
    "\n",
    "- Here, we check and find `ptr != nullptr` is false, and thus we exit the loop\n",
    "\n",
    "![](../img/llist17.png)\n",
    "\n",
    "- Because the variable `ptr` was declared inside the loop, we can no longer access it"
   ]
  },
  {
   "cell_type": "markdown",
   "metadata": {
    "slideshow": {
     "slide_type": "slide"
    }
   },
   "source": [
    "## `count`\n",
    "\n",
    "- To implement `int count(int) const`, we simply check if the argument matches the value with each step\n",
    "    - Each time we find a match, we increment the count\n",
    "    - When the loop is finished, we return the count\n",
    "    - The size function is simplification of count\n",
    "\n",
    "    "
   ]
  },
  {
   "cell_type": "code",
   "execution_count": 20,
   "metadata": {
    "slideshow": {
     "slide_type": "fragment"
    }
   },
   "outputs": [],
   "source": [
    "int List::count( int n ) const {\n",
    "    int node_count = 0;\n",
    "\n",
    "    for ( Node *ptr = begin(); ptr != end(); ptr = ptr->next() ) {\n",
    "        if ( ptr->value() == n ) {\n",
    "            ++node_count;\n",
    "        }\n",
    "    }\n",
    "\n",
    "    return node_count;\n",
    "}"
   ]
  },
  {
   "cell_type": "code",
   "execution_count": 21,
   "metadata": {
    "slideshow": {
     "slide_type": "slide"
    }
   },
   "outputs": [
    {
     "name": "stdout",
     "output_type": "stream",
     "text": [
      "]->(7)[0x5563577b6410]->(5)[0x556356f097e0]->(6)[0x556356cc4180]->(7)[0x55635777bcb0]->0\n",
      "List size = 4\n",
      "# of 7s in the list = 2\n"
     ]
    }
   ],
   "source": [
    "#include \"../src/BasicLinkedList.h\"\n",
    "{\n",
    "    BasicLinkedList<int> ls;\n",
    "    ls.push_front(7);\n",
    "    ls.push_front(6);\n",
    "    ls.push_front(5);\n",
    "    ls.push_front(7);\n",
    "    std::cout << ls << std::endl;    \n",
    "    std::cout << \"List size = \"<< ls.size() << std::endl;\n",
    "    std::cout << \"# of 7s in the list = \"<< ls.count(7) << std::endl;\n",
    "}"
   ]
  },
  {
   "cell_type": "markdown",
   "metadata": {
    "slideshow": {
     "slide_type": "slide"
    }
   },
   "source": [
    "## `erase`\n",
    "\n",
    "- To remove an arbitrary value, i.e., to implement `int erase( int )`, we must update the previous node\n",
    "\t\n",
    "- For example, given\n",
    "\n",
    "![](../img/linked-list-example3.png)\n",
    "\n",
    "- if we delete **70**, we want to end up with\n",
    "\n",
    "![](../img/linked-list-example4.png)"
   ]
  },
  {
   "cell_type": "code",
   "execution_count": 22,
   "metadata": {
    "slideshow": {
     "slide_type": "slide"
    }
   },
   "outputs": [
    {
     "name": "stdout",
     "output_type": "stream",
     "text": [
      "]->(7)[0x55635722b9c0]->(3)[0x556357925870]->(7)[0x556356575130]->(6)[0x55635778a250]->0\n",
      "]->(7)[0x55635722b9c0]->(7)[0x556356575130]->(6)[0x55635778a250]->0\n"
     ]
    }
   ],
   "source": [
    "#include \"../src/BasicLinkedList.h\"\n",
    "{\n",
    "    BasicLinkedList<int> ls;\n",
    "    ls.push_front(6);\n",
    "    ls.push_front(7);\n",
    "    ls.push_front(3);\n",
    "    ls.push_front(7);\n",
    "    std::cout << ls << std::endl;\n",
    "    ls.erase(3);\n",
    "    std::cout << ls << std::endl;\n",
    "}"
   ]
  },
  {
   "cell_type": "markdown",
   "metadata": {
    "slideshow": {
     "slide_type": "slide"
    }
   },
   "source": [
    "## Software Engening Tip\n",
    "\n",
    "- The `erase` function must modify the member variables of the node prior to the node being removed\n",
    "\n",
    "- Thus, it must have access to the member variable `next_node`\n",
    "\n",
    "- We could supply the member function\n",
    "```cpp\n",
    "void set_next( Node * );\n",
    "```\n",
    "however, this would be globally accessible\n",
    "\n",
    "- Possible solutions:\n",
    "    - Friends\n",
    "    - Nested classes"
   ]
  },
  {
   "cell_type": "markdown",
   "metadata": {
    "slideshow": {
     "slide_type": "slide"
    }
   },
   "source": [
    "## Friends\n",
    "\n",
    "- In C++, you could explicitly break encapsulation by declaring the class `List` to be a **friend** of the class `Node`:\n",
    "\n",
    "```cpp\n",
    "class A {\n",
    "    private:\n",
    "        int class_size;\n",
    "    // ... declaration ...\n",
    "    friend class B;\n",
    "};\n",
    "```\n",
    "\n",
    "- Now, any member function of class `B` has access to all private member variables of class `A`"
   ]
  },
  {
   "cell_type": "markdown",
   "metadata": {
    "slideshow": {
     "slide_type": "slide"
    }
   },
   "source": [
    "- For example, if the `Node` class was one class, and the `List` class was a **friend** of the `Node` class, `List::erase` could modify nodes:\n",
    "\n",
    "```cpp\n",
    "int List::erase( int n ) {\n",
    "    int node_count = 0;\n",
    "    // ... \n",
    "    for ( Node *ptr = begin(); ptr != end(); ptr = ptr->next() ) {\n",
    "        // ...\n",
    "        if ( some condition ) {\n",
    "            // access private `next_node` of the Node class \n",
    "            ptr->next_node = ptr->next()->next(); \n",
    "            // ...\n",
    "            ++node_count;\n",
    "        }\n",
    "    }\n",
    "    return node_count;\n",
    "}\n",
    "```"
   ]
  },
  {
   "cell_type": "markdown",
   "metadata": {
    "slideshow": {
     "slide_type": "slide"
    }
   },
   "source": [
    "## Nested Classes\n",
    "\n",
    "- In C++, you can nest one class inside another, which is what we do: \n",
    "\n",
    "```cpp\n",
    "class Outer {\n",
    "    private:\n",
    "        class Nested {\n",
    "            private:\n",
    "                int node_value;\n",
    "            public:\n",
    "                int get() const;\n",
    "                void set( int );\n",
    "        };\n",
    "        Nested stored;\n",
    "    public:\n",
    "        int get() const;\n",
    "        void set( int );\n",
    "};\n",
    "```"
   ]
  },
  {
   "cell_type": "markdown",
   "metadata": {
    "slideshow": {
     "slide_type": "slide"
    }
   },
   "source": [
    "The function definitions are as one would expect:\n",
    "\n",
    "```cpp\n",
    "int Outer::Nested::get() const {\n",
    "    return node_value;\n",
    "}\n",
    " \n",
    "void Outer::Nested::set( int n ) {\n",
    "    node_value = n;\n",
    "}\n",
    "```\n",
    "\n",
    "```cpp\n",
    "int Outer::get() const {\n",
    "    return stored.get();\n",
    "}\n",
    " \n",
    "void Outer::set( int n ) {\n",
    "    // Not allowed, as node_value is private  \n",
    "    // stored.node_value = n; \n",
    "    stored.set( n );\n",
    "}\n",
    "```"
   ]
  },
  {
   "cell_type": "markdown",
   "metadata": {
    "slideshow": {
     "slide_type": "slide"
    }
   },
   "source": [
    "## Destructor\n",
    "\n",
    "- We dynamically allocated memory each time we added a new **int** into this list\n",
    "\n",
    "- Suppose we delete a list before we remove everything from it\n",
    "    - This would leave the memory allocated with no reference to it    \n",
    "    ![](../img/linked-list-delete.png)"
   ]
  },
  {
   "cell_type": "markdown",
   "metadata": {
    "slideshow": {
     "slide_type": "slide"
    }
   },
   "source": [
    "- The destructor has to delete any memory which had been allocated but has not yet been deallocated\n",
    "\n",
    "- This is straight-forward enough:\n",
    "```cpp\n",
    "while ( !empty() ) {\n",
    "    pop_front();\n",
    "}\n",
    "```"
   ]
  },
  {
   "cell_type": "markdown",
   "metadata": {
    "slideshow": {
     "slide_type": "fragment"
    }
   },
   "source": [
    "- Is this efficient?\n",
    "    - It runs in $O(n)$ time, where $n$ is the number of objects in the linked list\n",
    "    - Given that *delete* is approximately 100× slower than most other instructions (it does call the OS), the extra overhead is negligible..."
   ]
  },
  {
   "cell_type": "markdown",
   "metadata": {
    "slideshow": {
     "slide_type": "slide"
    }
   },
   "source": [
    "## Making Copies\n",
    "\n",
    "- Is the above sufficient for a linked list class?\n",
    "\n",
    "- Initially, it may appear yes, but we now have to look at how C++ copies objects during:\n",
    "    - Passing by value (making a copy), and\n",
    "    - Assignment"
   ]
  },
  {
   "cell_type": "markdown",
   "metadata": {
    "slideshow": {
     "slide_type": "slide"
    }
   },
   "source": [
    "## Modifying Arguments\n",
    "\n",
    "- **Pass by reference** could be used to modify a list"
   ]
  },
  {
   "cell_type": "code",
   "execution_count": 23,
   "metadata": {
    "slideshow": {
     "slide_type": "fragment"
    }
   },
   "outputs": [],
   "source": [
    "void reverse( BasicLinkedList<int> &list ) {\n",
    "    BasicLinkedList<int> tmp;\n",
    "    // pop from the front and push into other list\n",
    "    while ( !list.empty() ) {\n",
    "        tmp.push_front( list.pop_front() );\n",
    "    }\n",
    "    // All the member variables of 'list' and 'tmp' are swapped\n",
    "    std::swap( list, tmp );\n",
    "    // The memory for 'tmp' will be cleaned up\n",
    "}"
   ]
  },
  {
   "cell_type": "code",
   "execution_count": 24,
   "metadata": {
    "slideshow": {
     "slide_type": "fragment"
    }
   },
   "outputs": [
    {
     "name": "stdout",
     "output_type": "stream",
     "text": [
      "]->(3)[0x556356d67ee0]->(2)[0x5563579860a0]->(5)[0x556357783d40]->0\n",
      "]->(5)[0x556357783d40]->(2)[0x5563579860a0]->(3)[0x556356d67ee0]->0\n"
     ]
    }
   ],
   "source": [
    "{\n",
    "    BasicLinkedList<int> ls;\n",
    "    ls.push_front(5); ls.push_front(2); ls.push_front(3);\n",
    "    std::cout << ls << std::endl;\n",
    "    reverse(ls);\n",
    "    std::cout << ls << std::endl;\n",
    "}"
   ]
  },
  {
   "cell_type": "markdown",
   "metadata": {
    "slideshow": {
     "slide_type": "slide"
    }
   },
   "source": [
    "- If you wanted to prevent the argument from being modified, you could declare it `const`"
   ]
  },
  {
   "cell_type": "code",
   "execution_count": 32,
   "metadata": {
    "slideshow": {
     "slide_type": "fragment"
    }
   },
   "outputs": [],
   "source": [
    "double average( const BasicLinkedList<double> &ls ) {\n",
    "    double sum = 0, count = 0;\n",
    "    for ( SinglyLinkedNode<double> *ptr = ls.begin(); ptr != ls.end(); ptr = ptr->next() ) {\n",
    "        sum += ptr->value();\n",
    "        ++count;\n",
    "    }\n",
    "    return sum/count;\n",
    "}"
   ]
  },
  {
   "cell_type": "code",
   "execution_count": 25,
   "metadata": {
    "slideshow": {
     "slide_type": "fragment"
    }
   },
   "outputs": [
    {
     "name": "stdout",
     "output_type": "stream",
     "text": [
      "Average: 23.3333\n"
     ]
    }
   ],
   "source": [
    "{\n",
    "    BasicLinkedList<double> ls;\n",
    "    ls.push_front(10.0); ls.push_front(25.0); ls.push_front(35.0);    \n",
    "    std::cout << \"Average: \" << average(ls) << std::endl;\n",
    "}"
   ]
  },
  {
   "cell_type": "markdown",
   "metadata": {
    "slideshow": {
     "slide_type": "slide"
    }
   },
   "source": [
    "- What if you want to pass a copy of a linked list to a function - where the function can modify the passed argument, but the original is unchanged?\n",
    "    - By default, all the member variables are simply copied over into the new instance of the class\n",
    "    - This is the default **copy constructor** behavior\n",
    "    - Because a copy is made, the destructor must also be called on it"
   ]
  },
  {
   "cell_type": "markdown",
   "metadata": {
    "slideshow": {
     "slide_type": "slide"
    }
   },
   "source": [
    "## Copy Constructor\n",
    "\n",
    "- You can modify how copies are made by defining a copy constructor\n",
    "    - The default copy constructor simply copies the member variables\n",
    "    - In this case, this is not what we want\n",
    "\n",
    "- The signature for the copy constructor is\n",
    "```cpp\n",
    "Class_name( const Class_name & );\n",
    "```\n",
    "\n",
    "- For the linked list, we would define the member function\n",
    "```cpp\n",
    "List( const List & );\n",
    "```"
   ]
  },
  {
   "cell_type": "markdown",
   "metadata": {
    "slideshow": {
     "slide_type": "slide"
    }
   },
   "source": [
    "- If such a function is defined, every time an instance is passed by value, the copy constructor is called to make that copy\n",
    "\n",
    "- Additionally, you can use the copy constructor as follows:"
   ]
  },
  {
   "cell_type": "code",
   "execution_count": 26,
   "metadata": {
    "slideshow": {
     "slide_type": "fragment"
    }
   },
   "outputs": [
    {
     "name": "stdout",
     "output_type": "stream",
     "text": [
      "]->(2)[0x565505585030]->(4)[0x5655059c7ff0]->0\n",
      "]->(2)[0x565503eda680]->(4)[0x565505f2dbe0]->0\n"
     ]
    }
   ],
   "source": [
    "#include \"../src/BasicLinkedList.h\"\n",
    "{\n",
    "    BasicLinkedList<int> ls1;\n",
    "    ls1.push_front( 4 );\n",
    "    ls1.push_front( 2 );\n",
    "    std::cout << ls1 << std::endl;\n",
    "\n",
    "    BasicLinkedList<int> ls2( ls1 );  // make a copy of ls1\n",
    "    std::cout << ls2 << std::endl;\n",
    "}"
   ]
  },
  {
   "cell_type": "markdown",
   "metadata": {
    "slideshow": {
     "slide_type": "fragment"
    }
   },
   "source": [
    "- When an object is **passed/returned by value**, again, the copy constructor is called to make a copy of the passed/returned value"
   ]
  },
  {
   "cell_type": "markdown",
   "metadata": {
    "slideshow": {
     "slide_type": "slide"
    }
   },
   "source": [
    "- Thus, we must define a copy constructor:\n",
    "    - The copy constructor allows us to initialize the member variables\n",
    "    - Naïvely, we step through `list` and call `push_front( int )`: \n",
    "    ```cpp\n",
    "    List::List( List const &list ):list_head( nullptr ) {\n",
    "        for ( Node *ptr = list.begin();\n",
    "              ptr != list.end(); ptr = ptr->next() ) {\n",
    "            push_front( ptr->value() );\n",
    "        }\n",
    "    }\n",
    "    ```"
   ]
  },
  {
   "cell_type": "markdown",
   "metadata": {
    "slideshow": {
     "slide_type": "fragment"
    }
   },
   "source": [
    "- Does this work?\n",
    "    - How could we make this work?\n",
    "    - We need a `push_back( int )` member function"
   ]
  },
  {
   "cell_type": "markdown",
   "metadata": {
    "slideshow": {
     "slide_type": "slide"
    }
   },
   "source": [
    "- Unfortunately, to make `push_back( int )` more efficient, we need a pointer to the last node in the linked list\n",
    "- We require a `list_tail` member variable\n",
    "- Otherwise, `push_back( int )` becomes a  $\\Theta(n)$ function\n",
    "    - This would make the copy constructor $\\Theta(n^2)$\n",
    "\n",
    "- In Assignment 3, you will define and use the member variable `list_tail`"
   ]
  },
  {
   "cell_type": "code",
   "execution_count": null,
   "metadata": {
    "slideshow": {
     "slide_type": "slide"
    }
   },
   "outputs": [],
   "source": [
    "List::List( List const &list ):list_head( nullptr ) {\n",
    "    // if list is empty, we are finished\n",
    "    if ( list.empty() ) {\n",
    "        return;\n",
    "    }\n",
    "    // copy the first node\n",
    "    push_front(list.front());\n",
    "    // modify the next pointer of the node pointed to by copy\n",
    "    for (\n",
    "        Node *original = list.begin()->next(), *copy = begin();\n",
    "        original != list.end();\n",
    "        original = original->next(), copy = copy->next()\n",
    "    ) {\n",
    "        copy->next_node = new Node( original->value(), nullptr );\n",
    "    }\n",
    "}"
   ]
  },
  {
   "cell_type": "markdown",
   "metadata": {
    "slideshow": {
     "slide_type": "slide"
    }
   },
   "source": [
    "## Assignment\n",
    "\n",
    "- Let's have two lists\n",
    "![](../img/list-assign1.png)\n",
    "\n",
    "- Consider an assignment:\n",
    "```c\n",
    "lst2 = lst1;\n",
    "```\n",
    "\n",
    "- What do we want?  What should this do?\n",
    "    - The default is to copy the member variables from `lst1` to `lst2`"
   ]
  },
  {
   "cell_type": "markdown",
   "metadata": {
    "slideshow": {
     "slide_type": "slide"
    }
   },
   "source": [
    "- Because the only member variable of this class is `list_head`, the value it is storing (the address of the first node) is copied over\n",
    "\n",
    "- It is equivalent to writing:\n",
    "```c\n",
    "lst2.list_head = lst1.list_head;\n",
    "```\n",
    "![](../img/list-assign2.png)"
   ]
  },
  {
   "cell_type": "markdown",
   "metadata": {
    "slideshow": {
     "slide_type": "slide"
    }
   },
   "source": [
    "## Problem\n",
    "\n",
    "- What's wrong with this picture?\n",
    "![](../img/list-assign2.png)"
   ]
  },
  {
   "cell_type": "markdown",
   "metadata": {
    "slideshow": {
     "slide_type": "fragment"
    }
   },
   "source": [
    "- Also, suppose we call the member function: `lst1.pop_front();`"
   ]
  },
  {
   "cell_type": "markdown",
   "metadata": {
    "slideshow": {
     "slide_type": "fragment"
    }
   },
   "source": [
    "- This only affects the member variable from the object `lst1`\n",
    "![](../img/list-assign3.png)"
   ]
  },
  {
   "cell_type": "markdown",
   "metadata": {
    "slideshow": {
     "slide_type": "slide"
    }
   },
   "source": [
    "- Now, the second list `lst2` is pointing to memory which has been deallocated...\n",
    "\n",
    "- What is the behavior if we make this call?\n",
    "```cpp\n",
    "lst2.pop_front();\n",
    "```\n",
    "\n",
    "- The behavior is undefined, however, soon this will probably lead to an access violation"
   ]
  },
  {
   "cell_type": "markdown",
   "metadata": {
    "slideshow": {
     "slide_type": "slide"
    }
   },
   "source": [
    "- Like making copies, we must have a reasonable means of assigning\n",
    "\n",
    "- Starting with\n",
    "![](../img/list-assign1.png)\n",
    "\n",
    "- We need to erase the content of `lst2` and copy over the nodes in `lst1`\n",
    "![](../img/list-assign4.png)"
   ]
  },
  {
   "cell_type": "markdown",
   "metadata": {
    "slideshow": {
     "slide_type": "slide"
    }
   },
   "source": [
    "## Assignment Operator\n",
    "\n",
    "- First, to overload the [assignment operator](https://en.cppreference.com/w/cpp/language/operators#Assignment_operator), we must overload the function named `operator=`\n",
    "    - This is a how you indicate to the compiler that you are overloading the assignment (=) operator\n",
    "\n",
    "- The signature is:\n",
    "```cpp\n",
    "List& operator= ( List );\n",
    "```\n",
    "    - The right-hand side `rhs` is passed by *value* (a copy is made)\n",
    "    - The return value is passed by *reference*"
   ]
  },
  {
   "cell_type": "markdown",
   "metadata": {
    "slideshow": {
     "slide_type": "slide"
    }
   },
   "source": [
    "- We will swap all the values of the member variables between the left- and right-hand sides\n",
    "    - `rhs` is already a copy, so we swap all member variables of it and `*this`\n",
    "\n",
    "```cpp\n",
    "List& operator = ( List rhs ) {\n",
    "    // 'rhs' is passed by value\n",
    "    // it is a copy of the right-hand side of the assignment\n",
    "    // copy/move constructor is called to construct `rhs`\n",
    "    \n",
    "    // Swap all the entries of the copy with this\n",
    "\n",
    "    return *this;\n",
    "}\n",
    "```"
   ]
  },
  {
   "cell_type": "code",
   "execution_count": null,
   "metadata": {
    "slideshow": {
     "slide_type": "slide"
    }
   },
   "outputs": [],
   "source": [
    "List& List::operator= ( List rhs ) {\n",
    "    std::swap( *this, rhs );\n",
    "    // Memory for rhs was allocated on the stack\n",
    "    // and the destructor will delete it\n",
    "    return *this;\n",
    "}"
   ]
  },
  {
   "cell_type": "markdown",
   "metadata": {
    "slideshow": {
     "slide_type": "slide"
    }
   },
   "source": [
    "## Copy Assignment\n",
    "\n",
    "- Visually, we are doing the following:\n",
    "\n",
    "![](../img/list-assign5.png)"
   ]
  },
  {
   "cell_type": "markdown",
   "metadata": {
    "slideshow": {
     "slide_type": "subslide"
    }
   },
   "source": [
    "- Visually, we are doing the following:\n",
    "    - Passed by value, the copy constructor is called to create `rhs`\n",
    "    \n",
    "![](../img/list-assign6.png)"
   ]
  },
  {
   "cell_type": "markdown",
   "metadata": {
    "slideshow": {
     "slide_type": "subslide"
    }
   },
   "source": [
    "- Visually, we are doing the following:\n",
    "    - Passed by value, the copy constructor is called to create `rhs`\n",
    "    - Swapping the member variables of `*this` and `rhs`\n",
    "    \n",
    "![](../img/list-assign7.png)"
   ]
  },
  {
   "cell_type": "markdown",
   "metadata": {
    "slideshow": {
     "slide_type": "subslide"
    }
   },
   "source": [
    "- Visually, we are doing the following:\n",
    "    - Passed by value, the copy constructor is called to create `rhs`\n",
    "    - Swapping the member variables of `*this` and `rhs`\n",
    "    - We return and the destructor is called on `rhs`\n",
    "    \n",
    "![](../img/list-assign8.png)"
   ]
  },
  {
   "cell_type": "markdown",
   "metadata": {
    "slideshow": {
     "slide_type": "subslide"
    }
   },
   "source": [
    "- Visually, we are doing the following:\n",
    "    - Passed by value, the copy constructor is called to create `rhs`\n",
    "    - Swapping the member variables of `*this` and `rhs`\n",
    "    - We return and the destructor is called on `rhs`\n",
    "    - Back in the calling function, the two lists contain the same values\n",
    "    \n",
    "![](../img/list-assign9.png)"
   ]
  },
  {
   "cell_type": "markdown",
   "metadata": {
    "slideshow": {
     "slide_type": "slide"
    }
   },
   "source": [
    "- Can we do better?\n",
    "    - This idea of *copy and swap* is highly visible in the literature\n",
    "    - If the copy constructor is written correctly, it will be fast\n",
    "    - Is it always the most efficient?\n",
    "\n",
    "- Consider the calls to new and delete\n",
    "    - Each of these is very expensive\n",
    "    - Would it not be better to reuse the nodes if possible?\n",
    "    ![](../img/list-assign10.png)"
   ]
  },
  {
   "cell_type": "markdown",
   "metadata": {
    "slideshow": {
     "slide_type": "slide"
    }
   },
   "source": [
    "## Move Assignment\n",
    "\n",
    "- [Move assignment](https://en.cppreference.com/w/cpp/language/move_assignment) operators typically **\"steal\"** the resources held by the argument, rather than make *copies* of them, and leave the argument in some valid but otherwise indeterminate state."
   ]
  },
  {
   "cell_type": "code",
   "execution_count": null,
   "metadata": {
    "slideshow": {
     "slide_type": "fragment"
    }
   },
   "outputs": [],
   "source": [
    "List& List::operator= ( List &&rhs ) {\n",
    "    while ( !empty() ) {\n",
    "        pop_front();\n",
    "    }\n",
    "\n",
    "    list_head = rhs.begin();\n",
    "    rhs.list_head = nullptr;\n",
    "\n",
    "    return *this;\n",
    "}"
   ]
  },
  {
   "cell_type": "markdown",
   "metadata": {
    "slideshow": {
     "slide_type": "slide"
    }
   },
   "source": [
    "## Position ADT\n",
    "\n",
    "- The Position ADT models the notion of place within a data structure where a single object is stored\n",
    "\n",
    "![](../img/dlist-node.png)\n",
    "\n",
    "- Nodes implement **Position ADT** (element at position) and store:\n",
    "    - element\n",
    "    - link to the previous node\n",
    "    - link to the next node"
   ]
  },
  {
   "cell_type": "code",
   "execution_count": 31,
   "metadata": {
    "slideshow": {
     "slide_type": "slide"
    }
   },
   "outputs": [],
   "source": [
    "class DoubleNode {\n",
    "public:\n",
    "    DoubleNode( int e = 0, DoubleNode* p = nullptr, DoubleNode* n = nullptr );\n",
    "\n",
    "    int value() const;\n",
    "    DoubleNode* next() const;\n",
    "    DoubleNode* previous() const;\n",
    "\n",
    "private:\n",
    "    int node_value;\n",
    "    DoubleNode *previous_node;\n",
    "    DoubleNode *next_node;\n",
    "};"
   ]
  },
  {
   "cell_type": "markdown",
   "metadata": {
    "slideshow": {
     "slide_type": "slide"
    }
   },
   "source": [
    "## Doubly Linked List\n",
    "\n",
    "- A doubly linked list provides a natural implementation of the **Node List ADT**\n",
    "    - We have every node maintain a link to its previous node in the list\n",
    "    - Also, special trailer and header sentinel nodes can be added\n",
    "![](../img/double-list.png)"
   ]
  },
  {
   "cell_type": "markdown",
   "metadata": {
    "slideshow": {
     "slide_type": "slide"
    }
   },
   "source": [
    "Consider this simple (but **incomplete**) doubly linked list class:"
   ]
  },
  {
   "cell_type": "code",
   "execution_count": 32,
   "metadata": {
    "slideshow": {
     "slide_type": "fragment"
    }
   },
   "outputs": [],
   "source": [
    "class DoublyList {\n",
    "public:\n",
    "    // we defined it outside of the List class scope\n",
    "    //class DoubleNode {...};\n",
    "    DoublyList();\n",
    "    ~DoublyList();\n",
    "\n",
    "    // Accessors\n",
    "    bool empty() const;\n",
    "    int size() const;\n",
    "    int front() const;\n",
    "    int back() const;\n",
    "    Node* begin() const;\n",
    "    Node* end() const;\n",
    "\n",
    "    // Mutators\n",
    "    void push_front( int );\n",
    "    void push_back( int );\n",
    "    int pop_front();\n",
    "    int pop_back();\n",
    "    \n",
    "    // Misc\n",
    "    int count( int ) const;\n",
    "    int erase( int );\n",
    "\n",
    "private:\n",
    "    DoubleNode *list_head;\n",
    "    DoubleNode *list_tail;\n",
    "};"
   ]
  },
  {
   "cell_type": "markdown",
   "metadata": {
    "slideshow": {
     "slide_type": "slide"
    }
   },
   "source": [
    "## Insertion\n",
    "\n",
    "- Because of its double link structure, it is possible to insert a node at **any** position\n",
    "within a doubly linked list."
   ]
  },
  {
   "cell_type": "markdown",
   "metadata": {
    "slideshow": {
     "slide_type": "fragment"
    }
   },
   "source": [
    "void DoubleList::insert( DoubleNode &p, const int &x ) {\n",
    "<div style=\"margin-left: 1em\">\n",
    "    \n",
    "\n",
    "<div><span style=\"color:red\"> DoubleNode *q = new DoubleNode{ x, p->prev, p }; </span><img style=\"vertical-align: center;  max-width: auto;  display: inline-block;\" src=\"../img/dl-insert2.png\"/></div>\n",
    "\n",
    "p->prev = p->prev->next = q;    \n",
    "</div>\n",
    "}"
   ]
  },
  {
   "cell_type": "markdown",
   "metadata": {
    "slideshow": {
     "slide_type": "slide"
    }
   },
   "source": [
    "void DoubleList::insert( DoubleNode &p, const int &x ) {\n",
    "<div style=\"margin-left: 1em\">\n",
    "    \n",
    "DoubleNode *q = new DoubleNode{ x, p->prev, p }; \n",
    "    \n",
    "<div><span style=\"color:red\"> p->prev = p->prev->next = q; </span><img style=\"vertical-align: center;  max-width: auto;  display: inline-block;\" src=\"../img/dl-insert3.png\"/></div>\n",
    "\n",
    "</div>\n",
    "}"
   ]
  },
  {
   "cell_type": "markdown",
   "metadata": {
    "slideshow": {
     "slide_type": "slide"
    }
   },
   "source": [
    "## Deletion\n",
    "\n",
    "- If `p` points to the node being removed, only two pointers change before the node can be reclaimed:"
   ]
  },
  {
   "cell_type": "markdown",
   "metadata": {
    "slideshow": {
     "slide_type": "fragment"
    }
   },
   "source": [
    "void DoubleList::remove( DoubleNode &p ) {\n",
    "<div style=\"margin-left: 1em\">    \n",
    "\n",
    "<div><span style=\"color:red\"> p->prev->next = p->next;  </span> // linking out of p.<img style=\"vertical-align: center;  max-width: auto;  display: inline-block;\" src=\"../img/dl-delete1.png\"/></div>\n",
    "    \n",
    "p->next->prev = p->prev;\n",
    "    \n",
    "delete p;\n",
    "</div>\n",
    "}"
   ]
  },
  {
   "cell_type": "markdown",
   "metadata": {
    "slideshow": {
     "slide_type": "slide"
    }
   },
   "source": [
    "void DoubleList::remove( DoubleNode &p ) {\n",
    "<div style=\"margin-left: 1em\">    \n",
    "\n",
    "p->prev->next = p->next;\n",
    "\n",
    "<div><span style=\"color:red\"> p->next->prev = p->prev; </span><img style=\"vertical-align: center;  max-width: auto;  display: inline-block;\" src=\"../img/dl-delete2.png\"/></div>\n",
    "    \n",
    "delete p;\n",
    "</div>\n",
    "}"
   ]
  },
  {
   "cell_type": "markdown",
   "metadata": {
    "slideshow": {
     "slide_type": "slide"
    }
   },
   "source": [
    "void DoubleList::remove( DoubleNode &p ) {\n",
    "<div style=\"margin-left: 1em\">    \n",
    "\n",
    "p->prev->next = p->next;\n",
    "    \n",
    "p->next->prev = p->prev;\n",
    "\n",
    "<div><span style=\"color:red\"> delete p; </span><img style=\"vertical-align: center;  max-width: auto;  display: inline-block;\" src=\"../img/dl-delete3.png\"/></div>\n",
    "    \n",
    "</div>\n",
    "}"
   ]
  },
  {
   "cell_type": "markdown",
   "metadata": {
    "slideshow": {
     "slide_type": "slide"
    }
   },
   "source": [
    "## Sentinels\n",
    "\n",
    "- It is convenient to add special nodes at both ends of a doubly linked list: \n",
    "    - a header node just before the head of the list, and\n",
    "    - a trailer node just after the tail of the list.\n",
    "![](../img/double-sentinel-list.png)\n",
    "\n",
    "- These \"dummy\" or sentinel nodes do not store any elements.\n",
    "- They provide quick access to the first and last nodes of the list.\n",
    "    - the header's next pointer points to the first node of the list, and\n",
    "    - the trail pointer of the trailer node points to the last node of the list."
   ]
  },
  {
   "cell_type": "markdown",
   "metadata": {
    "slideshow": {
     "slide_type": "slide"
    }
   },
   "source": [
    "## Circular Linked List\n",
    "\n",
    "- A **circularly linked list** has the same kind of nodes as a singly linked list.\n",
    "- Each node in a circularly linked list has a next pointer and an element value, but **no** `head` or `tail`.\n",
    "![](../img/circular-llist.png)\n",
    "- A special node is marked as the **cursor**.\n",
    "    - The cursor node allows us to have a place to starting point in the list.\n",
    "    - The element that is referenced by the cursor, which is called the **back**, and\n",
    "    - The element *immediately following* it in the circular order, which is called the **front**."
   ]
  },
  {
   "cell_type": "code",
   "execution_count": 49,
   "metadata": {
    "slideshow": {
     "slide_type": "slide"
    }
   },
   "outputs": [],
   "source": [
    "class CircularList {\n",
    "public:\n",
    "    CircularList() : cursor{nullptr} {}\n",
    "    ~CircularList() { while (!empty()) pop(); }\n",
    "\n",
    "    // Accessors\n",
    "    bool empty() const { return cursor == nullptr; }\n",
    "    int front() const { return cursor->next()->value(); }\n",
    "    int back() const { return cursor->value(); }\n",
    "\n",
    "    // Mutators\n",
    "    void push( int );\n",
    "    void pop();    \n",
    "private:\n",
    "    Node *cursor; // head pointer of the list\n",
    "};"
   ]
  },
  {
   "cell_type": "code",
   "execution_count": null,
   "metadata": {
    "slideshow": {
     "slide_type": "slide"
    }
   },
   "outputs": [],
   "source": [
    "void CircularList::push(int e) {\n",
    "    Node* tmp = new Node(e, nullptr);\n",
    "    if ( empty() )\n",
    "        // link node to itself\n",
    "        cursor = tmp->next_node = tmp;\n",
    "    else {\n",
    "        // point new node to the next from the cursor\n",
    "        tmp->next_node = cursor->next();\n",
    "        // point cursor to new node\n",
    "        cursor->next_node = tmp;\n",
    "    }\n",
    "}"
   ]
  },
  {
   "cell_type": "code",
   "execution_count": null,
   "metadata": {
    "slideshow": {
     "slide_type": "fragment"
    }
   },
   "outputs": [],
   "source": [
    "void CircularList::pop() {\n",
    "    Node* old = cursor->next();\n",
    "    if (old == cursor)\n",
    "        // remove only element from the list, it points to itself\n",
    "        cursor = nullptr;\n",
    "    else\n",
    "        // remove next element from cursor\n",
    "        cursor->next_node = old->next();\n",
    "    delete old;\n",
    "}"
   ]
  },
  {
   "cell_type": "markdown",
   "metadata": {
    "slideshow": {
     "slide_type": "slide"
    }
   },
   "source": [
    "## Doubly Circular Linked List\n",
    "\n",
    "- In a doubly circular linked list has `tail->next` pointing to the `head` element and `head->prev` pointing to the `tail` element\n",
    "\n",
    "![](../img/circular-dllist.png)"
   ]
  },
  {
   "cell_type": "markdown",
   "metadata": {
    "slideshow": {
     "slide_type": "slide"
    }
   },
   "source": [
    "## Locations and run times\n",
    "\n",
    "- The most obvious data structures for implementing an abstract list are **arrays** and **linked lists**\n",
    "    - We will review the run time operations on these structures\n",
    "\n",
    "- We will consider the amount of time required to perform actions such as finding, inserting new entries before or after, or erasing entries at\n",
    "    - the first location (the front)\n",
    "    - an arbitrary ($k$th) location\n",
    "    - the last location (the back or nth)\n",
    "\n",
    "- The run times will be $\\Theta(1)$, $O(n)$ or $\\Theta(n)$"
   ]
  },
  {
   "cell_type": "markdown",
   "metadata": {
    "slideshow": {
     "slide_type": "slide"
    }
   },
   "source": [
    "## Singly Linked List\n",
    "\n",
    "![](../img/sll.png)\n",
    "\n",
    "- With asymptotic analysis of linked lists, we can now make the following statements:\n",
    "\n",
    "|        | front / 1st node | arbitrary / $k$th node | back / $n$th node        |\n",
    "|-------:|:-----------:|:---------:|:-----------:|    \n",
    "| find | $\\Theta(1)$ | $O(n)$    | ${\\Theta(1)}^1$ |\n",
    "| insert before | $\\Theta(1)$ | $O(n)$    | ${\\Theta(n)}$ |\n",
    "| insert after | $\\Theta(1)$ | $\\Theta(1)^2$    | ${\\Theta(1)}^1$ |\n",
    "| replace | $\\Theta(1)$ | $\\Theta(1)^2$    | ${\\Theta(1)}^1$ |\n",
    "| erase  | $\\Theta(1)$ | $O(n)$    | $\\Theta(n)$ |    \n",
    "| next  | $\\Theta(1)$ | $\\Theta(1)^2$    | n/a |\n",
    "| previous  | n/a | $O(n)$    | $\\Theta(n)$ |    \n",
    "\n",
    "\n",
    "- $^1$ These become $\\Theta(n)$ if we don't have a tail pointer\n",
    "- $^2$ These assume we have already accessed the $k$th entry - an $O(n)$ operation"
   ]
  },
  {
   "cell_type": "markdown",
   "metadata": {
    "slideshow": {
     "slide_type": "slide"
    }
   },
   "source": [
    "## Doubly Linked List\n",
    "\n",
    "![](../img/dll.png)\n",
    "\n",
    "- The asymptotic analysis of doubly linked lists shows:\n",
    "\n",
    "|        | front / 1st node | arbitrary / $k$th node | back / $n$th node        |\n",
    "|-------:|:-----------:|:---------:|:-----------:|    \n",
    "| find | $\\Theta(1)$ | $O(n)$    | ${\\Theta(1)}$ |\n",
    "| insert before | $\\Theta(1)$ | $\\Theta(1)^1$    | ${\\Theta(1)}$ |\n",
    "| insert after | $\\Theta(1)$ | $\\Theta(1)^1$    | ${\\Theta(1)}$ |\n",
    "| replace | $\\Theta(1)$ | $\\Theta(1)^1$    | ${\\Theta(1)}$ |\n",
    "| erase  | $\\Theta(1)$ | $\\Theta(1)^1$    | $\\Theta(1)$ |    \n",
    "| next  | $\\Theta(1)$ | $\\Theta(1)^1$    | n/a |\n",
    "| previous  | n/a | $\\Theta(1)^1$    | $\\Theta(1)$ |    \n",
    "\n",
    "- $^1$ These assume we have already accessed the $k$th entry - an $O(n)$ operation"
   ]
  },
  {
   "cell_type": "markdown",
   "metadata": {
    "slideshow": {
     "slide_type": "slide"
    }
   },
   "source": [
    "## Other operations on linked lists\n",
    "\n",
    "- Allocation and deallocating the memory requires $\\Theta(n)$ time\n",
    "- Concatenating two linked lists can be done in $\\Theta(1)$\n",
    "    - This requires a tail pointer\n"
   ]
  },
  {
   "cell_type": "markdown",
   "metadata": {
    "slideshow": {
     "slide_type": "slide"
    }
   },
   "source": [
    "## Arrays\n",
    "\n",
    "- Consider these operations for arrays, including\n",
    "    - Standard or one-ended arrays\n",
    "    ![](../img/array1.png)\n",
    "    - Two-ended arrays\n",
    "    ![](../img/array2.png)    "
   ]
  },
  {
   "cell_type": "markdown",
   "metadata": {
    "slideshow": {
     "slide_type": "skip"
    }
   },
   "source": [
    "## Run times    \n",
    "\n",
    "<style type=\"text/css\">\n",
    ".tg  {border-collapse:collapse;border-spacing:0;background:none; width:100%}\n",
    ".tg td{border-color:black;border-style:solid;border-width:1px;\n",
    "  overflow:hidden;padding:10px 5px;word-break:normal;}\n",
    ".tg th{border-color:black;border-style:solid;border-width:1px;\n",
    "  font-weight:normal;overflow:hidden;padding:10px 5px;word-break:normal;}\n",
    ".tg .tg-cly1{vertical-align:middle;width:25%}\n",
    ".tg .tg-baqh{vertical-align:top}\n",
    ".tg .tg-0lax{vertical-align:top;width:25%}\n",
    ".tg .tg-nrix{vertical-align:middle}\n",
    "</style>\n",
    "<table class=\"tg\">\n",
    "<thead>\n",
    "  <tr>\n",
    "    <th class=\"tg-0lax\" style=\"width:25%\" rowspan=\"2\"></th>\n",
    "    <th class=\"tg-nrix\" style=\"text-align:center;\" rowspan=\"2\">Accessing<br>the k-th<br>entry</th>\n",
    "    <th class=\"tg-baqh\" style=\"text-align:center;\" colspan=\"3\">Insert or erase at the</th>\n",
    "  </tr>\n",
    "  <tr>\n",
    "    <td class=\"tg-baqh\" style=\"text-align:center;\">Front</td>\n",
    "    <td class=\"tg-baqh\" style=\"text-align:center;\">k-th entry</td>\n",
    "    <td class=\"tg-baqh\" style=\"text-align:center;\">Back</td>\n",
    "  </tr>\n",
    "</thead>\n",
    "<tbody>\n",
    "  <tr>\n",
    "    <td class=\"tg-0lax\">Singly linked lists</td>\n",
    "    <td class=\"tg-nrix\" style=\"text-align:center;\" rowspan=\"2\">$O(n)$</td>\n",
    "    <td class=\"tg-cly1\" style=\"text-align:center;\" rowspan=\"2\">$\\Theta(1)$</td>\n",
    "    <td class=\"tg-nrix\" style=\"text-align:center;\" rowspan=\"2\">$\\Theta(1)^*$</td>\n",
    "    <td class=\"tg-0lax\" style=\"text-align:center;\">$\\Theta(1)$ or $\\Theta(n)$</td>\n",
    "  </tr>\n",
    "  <tr>\n",
    "    <td class=\"tg-0lax\">Doubly linked lists</td>\n",
    "    <td class=\"tg-baqh\" style=\"text-align:center;\">$\\Theta(1)$</td>\n",
    "  </tr>\n",
    "  <tr style=\"1px solid black\">\n",
    "    <td class=\"tg-0lax\">Arrays</td>\n",
    "    <td class=\"tg-nrix\" style=\"text-align:center;\" rowspan=\"2\">$\\Theta(1)$</td>\n",
    "    <td class=\"tg-baqh\" style=\"text-align:center;\"><span style=\"font-weight:400;font-style:normal\">$\\Theta(n)$</span></td>\n",
    "    <td class=\"tg-nrix\" style=\"text-align:center;\" rowspan=\"2\">$O(n)$</td>\n",
    "    <td class=\"tg-nrix\" style=\"text-align:center;\" rowspan=\"2\">$\\Theta(1)$</td>\n",
    "  </tr>\n",
    "  <tr>\n",
    "    <td class=\"tg-0lax\">Two-ended arrays</td>\n",
    "    <td class=\"tg-0lax\" style=\"text-align:center;\"><span style=\"font-weight:400;font-style:normal\">$\\Theta(1)$</span></td>\n",
    "  </tr>\n",
    "</tbody>\n",
    "</table>\n",
    "\n",
    "- $^*$ Assume we have a pointer to this node"
   ]
  },
  {
   "cell_type": "markdown",
   "metadata": {
    "slideshow": {
     "slide_type": "slide"
    }
   },
   "source": [
    "## Run times    \n",
    "\n",
    "![](../img/runtimes.png)\n",
    "\n",
    "- $^*$ Assume we have a pointer to this node"
   ]
  },
  {
   "cell_type": "markdown",
   "metadata": {
    "slideshow": {
     "slide_type": "fragment"
    }
   },
   "source": [
    "- In general, we will only use these basic data structures if we can restrict ourselves to operations that execute in $\\Theta(1)$ time, as the only alternative is $O(n)$ or $\\Theta(n)$"
   ]
  },
  {
   "cell_type": "markdown",
   "metadata": {
    "slideshow": {
     "slide_type": "slide"
    }
   },
   "source": [
    "## Memory usage versus run times\n",
    "\n",
    "- All of list data structures require $\\Theta(n)$ memory\n",
    "- Using a two-ended array requires one more member variable,$\\Theta(1)$, in order to significantly speed up certain operations\n",
    "- Using a doubly linked list, however, required $\\Theta(n)$ additional memory to speed up other operations\n"
   ]
  }
 ],
 "metadata": {
  "celltoolbar": "Slideshow",
  "kernelspec": {
   "display_name": "C++17",
   "language": "C++17",
   "name": "xcpp17"
  },
  "language_info": {
   "codemirror_mode": "text/x-c++src",
   "file_extension": ".cpp",
   "mimetype": "text/x-c++src",
   "name": "c++",
   "version": "17"
  },
  "rise": {
   "enable_chalkboard": true
  }
 },
 "nbformat": 4,
 "nbformat_minor": 4
}
