{
 "cells": [
  {
   "cell_type": "code",
   "execution_count": 2,
   "metadata": {
    "slideshow": {
     "slide_type": "skip"
    }
   },
   "outputs": [],
   "source": [
    "#include <iostream>\n",
    "#include <algorithm>"
   ]
  },
  {
   "cell_type": "markdown",
   "metadata": {
    "slideshow": {
     "slide_type": "slide"
    }
   },
   "source": [
    "# Binary Trees"
   ]
  },
  {
   "cell_type": "markdown",
   "metadata": {
    "slideshow": {
     "slide_type": "slide"
    }
   },
   "source": [
    "- The arbitrary number of children in general trees is often unnecessary - many real-life trees are restricted to two branches\n",
    "    - Expression trees using binary operators\n",
    "    - An ancestral tree of an individual, parents, grandparents, etc.\n",
    "    - Phylogenetic trees\n",
    "    - Lossless encoding algorithms\n",
    "\n",
    "- There are also issues with general trees\n",
    "    - There is no natural order between a node and its children"
   ]
  },
  {
   "cell_type": "markdown",
   "metadata": {
    "slideshow": {
     "slide_type": "slide"
    }
   },
   "source": [
    "## Definition\n",
    "\n",
    "A **binary tree** is a restriction where each node has exactly two children\n",
    "- Each child is either empty or another binary tree\n",
    "- This restriction allows us to label the children as *left* and *right* subtrees\n",
    "\n",
    "![](../img/btree1.png)\n",
    "\n",
    "*Reminder:* Recall that $\\lg(n) = \\Theta(log_b(n))$ for any $b$"
   ]
  },
  {
   "cell_type": "markdown",
   "metadata": {
    "slideshow": {
     "slide_type": "slide"
    }
   },
   "source": [
    "- We will also refer to the two sub-trees as\n",
    "    - <span style=\"color:red\">The left-hand sub-tree</span>, and\n",
    "    - <span style=\"color:blue\">The right-hand sub-tree</span>\n",
    "    \n",
    "![](../img/btree2.png)"
   ]
  },
  {
   "cell_type": "markdown",
   "metadata": {
    "slideshow": {
     "slide_type": "slide"
    }
   },
   "source": [
    "- Sample variations on binary trees with five nodes\n",
    "\n",
    "![](../img/btree3.png)"
   ]
  },
  {
   "cell_type": "markdown",
   "metadata": {
    "slideshow": {
     "slide_type": "slide"
    }
   },
   "source": [
    "- A **full** node is a node where both the left and right sub-trees are non-empty trees\n",
    "\n",
    "![](../img/btree4.png)\n",
    "![](../img/btree5.png)"
   ]
  },
  {
   "cell_type": "markdown",
   "metadata": {
    "slideshow": {
     "slide_type": "slide"
    }
   },
   "source": [
    "- An **empty node** or a null sub-tree is any location where a new leaf node could be appended\n",
    "\n",
    "![](../img/btree6.png)"
   ]
  },
  {
   "cell_type": "markdown",
   "metadata": {
    "slideshow": {
     "slide_type": "slide"
    }
   },
   "source": [
    "- A **full binary tree** is where each node is\n",
    "    - A full node, or\n",
    "    - A leaf node\n",
    "\n",
    "![](../img/btree7.png)\n",
    "\n",
    "- These have applications in\n",
    "    - Expression trees\n",
    "    - Huffman encoding"
   ]
  },
  {
   "cell_type": "markdown",
   "metadata": {
    "slideshow": {
     "slide_type": "slide"
    }
   },
   "source": [
    "## Implementation: Binary Node\n",
    "\n",
    "- The binary node class is similar to the single node class"
   ]
  },
  {
   "cell_type": "code",
   "execution_count": 2,
   "metadata": {
    "slideshow": {
     "slide_type": "fragment"
    }
   },
   "outputs": [],
   "source": [
    "template <typename Type>\n",
    "class BinaryNode {\n",
    "    Type element;\n",
    "    BinaryNode *left_tree;\n",
    "    BinaryNode *right_tree;\n",
    "\n",
    "public:\n",
    "    BinaryNode( const Type& , BinaryNode<Type>* = nullptr, BinaryNode<Type>* = nullptr );\n",
    "\n",
    "    Type value() const;\n",
    "    BinaryNode* left() const;\n",
    "    BinaryNode* right() const;\n",
    "    bool is_leaf() const;\n",
    "    \n",
    "    int size() const;\n",
    "    int height() const;\n",
    "    \n",
    "    void clear();\n",
    "};"
   ]
  },
  {
   "cell_type": "markdown",
   "metadata": {
    "slideshow": {
     "slide_type": "slide"
    }
   },
   "source": [
    "- We will usually only construct new leaf nodes"
   ]
  },
  {
   "cell_type": "code",
   "execution_count": 3,
   "metadata": {
    "slideshow": {
     "slide_type": "fragment"
    }
   },
   "outputs": [],
   "source": [
    "template <typename Type>\n",
    "BinaryNode<Type>::BinaryNode( const Type &e, BinaryNode<Type>* l, BinaryNode<Type>* r):\n",
    "    element( e ),\n",
    "    left_tree( l ),\n",
    "    right_tree( r )\n",
    "{\n",
    "    // Empty constructor\n",
    "}"
   ]
  },
  {
   "cell_type": "markdown",
   "metadata": {
    "slideshow": {
     "slide_type": "slide"
    }
   },
   "source": [
    "- The accessors are similar to that of `SinglyLinkedList`"
   ]
  },
  {
   "cell_type": "code",
   "execution_count": 4,
   "metadata": {
    "slideshow": {
     "slide_type": "fragment"
    }
   },
   "outputs": [],
   "source": [
    "template <typename Type>\n",
    "Type BinaryNode<Type>::value() const {\n",
    "    return element;\n",
    "}"
   ]
  },
  {
   "cell_type": "code",
   "execution_count": 5,
   "metadata": {
    "slideshow": {
     "slide_type": "fragment"
    }
   },
   "outputs": [],
   "source": [
    "template <typename Type>\n",
    "BinaryNode<Type>* BinaryNode<Type>::left() const {\n",
    "    return left_tree;\n",
    "}"
   ]
  },
  {
   "cell_type": "code",
   "execution_count": 6,
   "metadata": {
    "slideshow": {
     "slide_type": "fragment"
    }
   },
   "outputs": [],
   "source": [
    "template <typename Type>\n",
    "BinaryNode<Type>* BinaryNode<Type>::right() const {\n",
    "    return right_tree;\n",
    "}"
   ]
  },
  {
   "cell_type": "markdown",
   "metadata": {
    "slideshow": {
     "slide_type": "fragment"
    }
   },
   "source": [
    "- Much of the basic functionality is very similar to `SimpleTree`"
   ]
  },
  {
   "cell_type": "code",
   "execution_count": 7,
   "metadata": {
    "slideshow": {
     "slide_type": "fragment"
    }
   },
   "outputs": [],
   "source": [
    "template <typename Type>\n",
    "bool BinaryNode<Type>::is_leaf() const {\n",
    "    return (left() == nullptr) && (right() == nullptr);\n",
    "}"
   ]
  },
  {
   "cell_type": "markdown",
   "metadata": {
    "slideshow": {
     "slide_type": "slide"
    }
   },
   "source": [
    "### `size`\n",
    "\n",
    "- The recursive `size` function runs in $\\Theta(n)$ time and $\\Theta(h)$ memory, $h$ is a tree height"
   ]
  },
  {
   "cell_type": "code",
   "execution_count": 8,
   "metadata": {
    "slideshow": {
     "slide_type": "fragment"
    }
   },
   "outputs": [],
   "source": [
    "template <typename Type>\n",
    "int BinaryNode<Type>::size() const {    \n",
    "    if ( left() == nullptr ) {\n",
    "        return ( right() == nullptr ) ? 1 : 1 + right()->size();\n",
    "    } else {\n",
    "        return ( right() == nullptr ) ?\n",
    "            1 + left()->size() :\n",
    "            1 + left()->size() + right()->size();\n",
    "    }\n",
    "}"
   ]
  },
  {
   "cell_type": "markdown",
   "metadata": {
    "slideshow": {
     "slide_type": "fragment"
    }
   },
   "source": [
    "- Or, we can maintain integer `size` data member of the `BinaryTree` wrapper class and have $\\Theta(1)$ runtime."
   ]
  },
  {
   "cell_type": "code",
   "execution_count": 9,
   "metadata": {
    "scrolled": true,
    "slideshow": {
     "slide_type": "subslide"
    }
   },
   "outputs": [
    {
     "name": "stdout",
     "output_type": "stream",
     "text": [
      "Root: 1\n",
      "L: 2, R: 3\n",
      "Tree size: 5\n"
     ]
    }
   ],
   "source": [
    "{    \n",
    "    BinaryNode<int> c{4}, d{5};\n",
    "    BinaryNode<int> a{2}, b{3, &c, &d};\n",
    "    BinaryNode<int> r{1, &a, &b};\n",
    "    std::cout << \"Root: \" << r.value() << std::endl;\n",
    "    std::cout << \"L: \" << r.left()->value() << \", R: \" << r.right()->value() << std::endl;    \n",
    "    std::cout << \"Tree size: \" << r.size() << std::endl;\n",
    "}"
   ]
  },
  {
   "cell_type": "markdown",
   "metadata": {
    "slideshow": {
     "slide_type": "slide"
    }
   },
   "source": [
    "### `height`\n",
    "\n",
    "- The recursive `height` function also runs in $\\Theta(n)$ time and $\\Theta(h)$ memory\n",
    "    - Later we will implement this in $\\Theta(h)$ time"
   ]
  },
  {
   "cell_type": "code",
   "execution_count": 10,
   "metadata": {
    "slideshow": {
     "slide_type": "fragment"
    }
   },
   "outputs": [],
   "source": [
    "template <typename Type>\n",
    "int BinaryNode<Type>::height() const {\n",
    "    return 1 + std::max(\n",
    "        left() == nullptr ? 0 : left()->height(),\n",
    "        right() == nullptr ? 0 : right()->height()\n",
    "    );\n",
    "}"
   ]
  },
  {
   "cell_type": "markdown",
   "metadata": {
    "slideshow": {
     "slide_type": "fragment"
    }
   },
   "source": [
    "- Or, we can maintain integer `height` data member in the node and have $\\Theta(h)$ runtime."
   ]
  },
  {
   "cell_type": "code",
   "execution_count": 11,
   "metadata": {
    "slideshow": {
     "slide_type": "subslide"
    }
   },
   "outputs": [
    {
     "name": "stdout",
     "output_type": "stream",
     "text": [
      "height: 2\n"
     ]
    }
   ],
   "source": [
    "{\n",
    "    BinaryNode c{4}, d{5};\n",
    "    BinaryNode a{2}, b{3, &c, &d};\n",
    "    BinaryNode r{1, &a, &b};\n",
    "    \n",
    "    std::cout << \"height: \" << r.height() << std::endl;\n",
    "}"
   ]
  },
  {
   "cell_type": "markdown",
   "metadata": {
    "slideshow": {
     "slide_type": "slide"
    }
   },
   "source": [
    "### `clear`\n",
    "\n",
    "- Removing all the nodes in a tree is similarly recursive"
   ]
  },
  {
   "cell_type": "code",
   "execution_count": 12,
   "metadata": {
    "slideshow": {
     "slide_type": "fragment"
    }
   },
   "outputs": [],
   "source": [
    "template <typename Type>\n",
    "void BinaryNode<Type>::clear() {\n",
    "    if ( left() != nullptr ) {\n",
    "        left()->clear();\n",
    "    }\n",
    "\n",
    "    if ( right() != nullptr ) {\n",
    "        right()->clear();\n",
    "    }\n",
    "\n",
    "    delete this;\n",
    "}"
   ]
  },
  {
   "cell_type": "markdown",
   "metadata": {
    "slideshow": {
     "slide_type": "slide"
    }
   },
   "source": [
    "## Binary Tree\n",
    "\n",
    "- Because each node in a tree refers to its children, the binary tree class need only a link to the tree root"
   ]
  },
  {
   "cell_type": "code",
   "execution_count": 13,
   "metadata": {
    "slideshow": {
     "slide_type": "fragment"
    }
   },
   "outputs": [],
   "source": [
    "template <typename Type>\n",
    "class BinaryTree {\n",
    "    BinaryNode<Type>* root_node;\n",
    "\n",
    "public:\n",
    "    BinaryTree(BinaryNode<Type>* = nullptr);\n",
    "    ~BinaryTree();\n",
    "    // Accessors\n",
    "    bool empty() const;\n",
    "    BinaryNode<Type>* root() const;\n",
    "    int size() const;\n",
    "    int height() const;\n",
    "    // Mutators\n",
    "    void expand( BinaryNode<Type>* );    \n",
    "    BinaryNode<Type>* insert_left( const Type&, BinaryNode<Type>* );\n",
    "    BinaryNode<Type>* insert_right( const Type&, BinaryNode<Type>* );\n",
    "    void erase( BinaryNode<Type>* );\n",
    "    void clear();\n",
    "};"
   ]
  },
  {
   "cell_type": "markdown",
   "metadata": {
    "slideshow": {
     "slide_type": "slide"
    }
   },
   "source": [
    "## Operations\n",
    "- First, we want to create a binary tree"
   ]
  },
  {
   "cell_type": "code",
   "execution_count": 14,
   "metadata": {
    "slideshow": {
     "slide_type": "fragment"
    }
   },
   "outputs": [],
   "source": [
    "template <typename Type>\n",
    "BinaryTree<Type>::BinaryTree(BinaryNode<Type>* root) : root_node{root} {\n",
    "    // Empty constructor\n",
    "}"
   ]
  },
  {
   "cell_type": "markdown",
   "metadata": {
    "slideshow": {
     "slide_type": "slide"
    }
   },
   "source": [
    "- We also want to be able to manage the stored values in the binary tree\n",
    "    - check the state,\n",
    "    - access,\n",
    "    - insert into, and   \n",
    "    - erase from    "
   ]
  },
  {
   "cell_type": "code",
   "execution_count": 15,
   "metadata": {
    "slideshow": {
     "slide_type": "fragment"
    }
   },
   "outputs": [],
   "source": [
    "template <typename Type>\n",
    "BinaryNode<Type>* BinaryTree<Type>::root() const {\n",
    "    return root_node;\n",
    "}"
   ]
  },
  {
   "cell_type": "code",
   "execution_count": 16,
   "metadata": {
    "slideshow": {
     "slide_type": "fragment"
    }
   },
   "outputs": [],
   "source": [
    "template <typename Type>\n",
    "bool BinaryTree<Type>::empty() const {\n",
    "    return (size() == 0);\n",
    "}"
   ]
  },
  {
   "cell_type": "code",
   "execution_count": 17,
   "metadata": {
    "slideshow": {
     "slide_type": "fragment"
    }
   },
   "outputs": [],
   "source": [
    "template <typename Type>\n",
    "int BinaryTree<Type>::size() const {\n",
    "    return (root() == nullptr) ? 0 : root()->size();\n",
    "}"
   ]
  },
  {
   "cell_type": "markdown",
   "metadata": {
    "slideshow": {
     "slide_type": "slide"
    }
   },
   "source": [
    "- For adding nodes to the tree, we can expand a leaf node `p` making it into an internal one\n",
    "    - by creating two new leaf nodes and making them the children of `p`\n",
    "    - an error condition occurs if `p` is an internal node."
   ]
  },
  {
   "cell_type": "code",
   "execution_count": 18,
   "metadata": {
    "slideshow": {
     "slide_type": "fragment"
    }
   },
   "outputs": [],
   "source": [
    "template <typename Type>\n",
    "void BinaryTree<Type>::expand( BinaryNode<Type>* p) {\n",
    "    if ( !p->is_leaf() ) {\n",
    "        throw std::logic_error(\"Cannot expand internal node\");\n",
    "    }\n",
    "    p->left_tree = new BinaryNode<Type>();\n",
    "    p->right_tree = new BinaryNode<Type>();\n",
    "}"
   ]
  },
  {
   "cell_type": "markdown",
   "metadata": {
    "slideshow": {
     "slide_type": "slide"
    }
   },
   "source": [
    "- or using separate methods"
   ]
  },
  {
   "cell_type": "code",
   "execution_count": 19,
   "metadata": {
    "slideshow": {
     "slide_type": "fragment"
    }
   },
   "outputs": [],
   "source": [
    "template <typename Type>\n",
    "BinaryNode<Type>* BinaryTree<Type>::insert_left( const Type &obj, BinaryNode<Type> *p ) {\n",
    "    if (p->left() != nullptr)\n",
    "        throw std::logic_error(\"Cannot insert to the left\");\n",
    "    p->left_tree = new BinaryNode<Type>(obj);\n",
    "    return p->left_tree;\n",
    "}"
   ]
  },
  {
   "cell_type": "code",
   "execution_count": 20,
   "metadata": {
    "slideshow": {
     "slide_type": "fragment"
    }
   },
   "outputs": [],
   "source": [
    "template <typename Type>\n",
    "BinaryNode<Type>* BinaryTree<Type>::insert_right( const Type &obj, BinaryNode<Type> *p ){\n",
    "    if (p->right() != nullptr)\n",
    "        throw std::logic_error(\"Cannot insert to the right\");\n",
    "    p->right_tree = new BinaryNode<Type>(obj);\n",
    "    return p->right_tree;\n",
    "}"
   ]
  },
  {
   "cell_type": "markdown",
   "metadata": {
    "slideshow": {
     "slide_type": "slide"
    }
   },
   "source": [
    "- Remove the external node `w` together with its parent `v`, replacing `v` with the sibling of `w`\n",
    "    - an error condition occurs if `w` is an internal node or `w` is the root.\n",
    "![](../img/erase-internal.png)"
   ]
  },
  {
   "cell_type": "code",
   "execution_count": 23,
   "metadata": {
    "slideshow": {
     "slide_type": "fragment"
    }
   },
   "outputs": [],
   "source": [
    "template <typename Type>\n",
    "void BinaryTree<Type>::erase( BinaryNode<Type>* w) {\n",
    "    auto v = w->parent(); // node must have parent link\n",
    "    auto z = (w == v->left() ? v->right() : v->left()); // get a sibling of w\n",
    "    if (v == root()) { // child of root?\n",
    "        z->parent = nullptr; // then make sibling to be the root\n",
    "        root_node = z;\n",
    "    } else {\n",
    "        auto u = v->parent();\n",
    "        if (v == u->left())  // replace parent by sibling\n",
    "            u->left_node = z;\n",
    "        else\n",
    "            u->right_node = z;\n",
    "        z->parent = u;\n",
    "    }\n",
    "    delete w; delete v; // delete removed nodes\n",
    "}"
   ]
  },
  {
   "cell_type": "markdown",
   "metadata": {
    "slideshow": {
     "slide_type": "slide"
    }
   },
   "source": [
    "- For removing all the nodes in a tree, call recursive `clear` function on the root"
   ]
  },
  {
   "cell_type": "code",
   "execution_count": 25,
   "metadata": {
    "slideshow": {
     "slide_type": "fragment"
    }
   },
   "outputs": [],
   "source": [
    "template <typename Type>\n",
    "void BinaryTree<Type>::clear() {\n",
    "    root()->clear();\n",
    "}"
   ]
  },
  {
   "cell_type": "markdown",
   "metadata": {
    "slideshow": {
     "slide_type": "slide"
    }
   },
   "source": [
    "## Application: Expression Trees\n",
    "\n",
    "- Any basic mathematical expression containing binary operators may be represented using a binary tree\n",
    "\n",
    "- For example, $3(4a + b + c) + d/5 + (6 – e)$\n",
    "\n",
    "![](../img/binexp.png)"
   ]
  },
  {
   "cell_type": "markdown",
   "metadata": {
    "slideshow": {
     "slide_type": "slide"
    }
   },
   "source": [
    "- Observations\n",
    "    - Internal nodes store operators\n",
    "    - Leaf nodes store literals or variables\n",
    "    - No nodes have just one sub tree\n",
    "    - The order is not relevant for\n",
    "        - Addition and multiplication (commutative)\n",
    "    - Order is relevant for\n",
    "        - Subtraction and division (non-commutative)\n",
    "    - It is possible to replace non-commutative operators using the unary negation and inversion\n",
    "        - $(a/b) = a b^{-1}$\n",
    "        - $(a - b) = a + (-b)$ "
   ]
  },
  {
   "cell_type": "markdown",
   "metadata": {
    "slideshow": {
     "slide_type": "slide"
    }
   },
   "source": [
    "- A post-order depth-first traversal converts such a tree to the reverse-Polish format\n",
    "  \n",
    "![](../img/binexp.png)\n",
    "\n",
    "\n",
    "    3  4  a  ×  b  c  +  +  ×  d  5  ÷  6  e  -  +  +"
   ]
  },
  {
   "cell_type": "code",
   "execution_count": 1,
   "metadata": {
    "slideshow": {
     "slide_type": "subslide"
    }
   },
   "outputs": [],
   "source": [
    "#include <iostream>\n",
    "#include \"../src/BinaryTree.h\"\n",
    "\n",
    "auto tree = new BinaryTree<char>( new BinaryNode<char>('+') );\n",
    "auto tmp1 = tree->insert_left('*', tree->root());\n",
    "tree->insert_left('3', tmp1);\n",
    "tmp1 = tree->insert_right('+', tmp1);\n",
    "auto tmp2 = tree->insert_left('*', tmp1);\n",
    "tree->insert_left('4', tmp2); tree->insert_right('a', tmp2);\n",
    "tmp2 = tree->insert_right('+', tmp1);\n",
    "tree->insert_left('b', tmp2); tree->insert_right('c', tmp2);\n",
    "auto tmp = tree->insert_right('+', tree->root());\n",
    "tmp1 = tree->insert_left('/', tmp); tree->insert_left('d', tmp1); tree->insert_right('5', tmp1);\n",
    "tmp2 = tree->insert_right('-', tmp); tree->insert_left('6', tmp2); tree->insert_right('e', tmp2);"
   ]
  },
  {
   "cell_type": "code",
   "execution_count": 2,
   "metadata": {
    "slideshow": {
     "slide_type": "fragment"
    }
   },
   "outputs": [
    {
     "name": "stdout",
     "output_type": "stream",
     "text": [
      "Tree size: 17\n",
      "Tree height: 5\n",
      "3  4  a  *  b  c  +  +  *  d  5  /  6  e  -  +  + \n"
     ]
    }
   ],
   "source": [
    "std::cout <<  \"Tree size: \" << tree->size() << std::endl;\n",
    "std::cout <<  \"Tree height: \" << tree->height() << std::endl;\n",
    "std::cout << *tree << std::endl;"
   ]
  },
  {
   "cell_type": "code",
   "execution_count": 3,
   "metadata": {
    "slideshow": {
     "slide_type": "fragment"
    }
   },
   "outputs": [],
   "source": [
    "tree->clear();\n",
    "delete tree;"
   ]
  },
  {
   "cell_type": "markdown",
   "metadata": {
    "slideshow": {
     "slide_type": "slide"
    }
   },
   "source": [
    "## Run Times\n",
    "\n",
    "- Recall that with linked lists and arrays, some operations would run in $\\Theta(n)$ time\n",
    "\n",
    "- The run times of operations on binary trees, we will see, depends on the height of the tree\n",
    "\n",
    "- We will see that:\n",
    "    - The worst is clearly $\\Theta(n)$\n",
    "    - Under average conditions, the height is $\\Theta(\\sqrt{n})$\n",
    "    - The best case is $\\Theta(\\ln(n))$\n",
    "    \n",
    "- If we can achieve and maintain a height $\\Theta(\\ln(n))$, we will see that many operations can run in $\\Theta(\\ln(n))$\n",
    "    - Logarithmic time is not significantly worse than constant time"
   ]
  },
  {
   "cell_type": "markdown",
   "metadata": {
    "slideshow": {
     "slide_type": "slide"
    }
   },
   "source": [
    "## Properties of Binary Trees\n",
    "\n",
    "- Binary trees have several interesting properties dealing with relationships between their heights and number of nodes.\n",
    "\n",
    "- Let $T$ be a nonempty binary tree, then it has the following properties:\n",
    "\n",
    "$$h + 1 \\leq n \\leq 2^{h+1}-1$$\n",
    "$$1 \\leq n_l \\leq 2^h$$\n",
    "$$h \\leq n_i \\leq 2^{h-1}$$\n",
    "$$\\log(n + 1) - 1 \\leq h \\leq n - 1$$\n",
    "\n",
    "- where $n$ is the number of nodes, $n_l$ is the number of external nodes, $n_i$ is the number of internal nodes, and $h$ denote height of $T$. "
   ]
  },
  {
   "cell_type": "markdown",
   "metadata": {
    "slideshow": {
     "slide_type": "slide"
    }
   },
   "source": [
    "- A binary tree is **proper** if each node has either zero or two children.\n",
    "- If $T$ is proper, then it has the following properties:\n",
    "\n",
    "$$2h + 1 \\leq n \\leq 2^{h+1}-1$$\n",
    "$$h+1 \\leq n_l \\leq 2^h$$\n",
    "$$h \\leq n_i \\leq 2^{h-1}$$\n",
    "$$\\log(n + 1) - 1 \\leq h \\leq (n - 1)/2$$\n",
    "\n",
    "- In a nonempty proper binary tree $T$, the number of leaf nodes is one more than the number of internal nodes.\n",
    "$$ n_i = n_l+1$$"
   ]
  },
  {
   "cell_type": "markdown",
   "metadata": {
    "slideshow": {
     "slide_type": "slide"
    }
   },
   "source": [
    "## Perfect Binary Tree\n",
    "\n",
    "- Standard definition:\n",
    "    - A perfect binary tree of height $h$ is a binary tree where\n",
    "    - All leaf nodes have the same depth $h$\n",
    "    - All other nodes are full\n",
    "    \n",
    "- Recursive definition:\n",
    "    - A binary tree of height $h = 0$ is perfect\n",
    "    - A binary tree with height $h > 0$ is a perfect if both subtrees are prefect binary trees of height $h-1$"
   ]
  },
  {
   "cell_type": "markdown",
   "metadata": {
    "slideshow": {
     "slide_type": "slide"
    }
   },
   "source": [
    "- Perfect binary trees of height h = 0, 1, 2, 3 and 4\n",
    "![](../img/perfect-bt.png)"
   ]
  },
  {
   "cell_type": "markdown",
   "metadata": {
    "slideshow": {
     "slide_type": "slide"
    }
   },
   "source": [
    "## Theorems \n",
    "\n",
    "- We will now look at four theorems that describe the properties of perfect binary trees:\n",
    "    - A perfect tree of height $h$ has $2^{h + 1} - 1$ nodes\n",
    "    - The height of a tree with $n$ nodes is $\\Theta(\\ln(n))$\n",
    "    - There are $2^h$ leaf nodes\n",
    "    - The average depth of a node is $\\Theta(\\ln(n))$\n",
    "\n",
    "- The results of these theorems will allow us to determine the optimal run-time properties of operations on binary trees"
   ]
  },
  {
   "cell_type": "markdown",
   "metadata": {
    "slideshow": {
     "slide_type": "slide"
    }
   },
   "source": [
    "## Logarithmic Height\n",
    "\n",
    "- Theorem\n",
    "    - A perfect binary tree with $n$ nodes has height $\\lg(n + 1) - 1$\n",
    "\n",
    "- Proof\n",
    "    - Solving $n = 2^{h + 1} - 1$ for $h$\n",
    "    \n",
    "$$n + 1 = 2{h + 1}$$\n",
    "$$\\lg(n + 1) = h + 1$$\n",
    "$$h = lg(n + 1) - 1$$\n",
    "\n",
    "- Lemma\n",
    "\t$$\\lg(n + 1) - 1 = \\Theta(\\ln(n))$$"
   ]
  },
  {
   "cell_type": "markdown",
   "metadata": {
    "slideshow": {
     "slide_type": "slide"
    }
   },
   "source": [
    "## Leaf Nodes\n",
    "\n",
    "- Theorem\n",
    "    - A perfect binary tree with height $h$ has $2^h$ leaf nodes\n",
    "\n",
    "- Proof (by induction)\n",
    "    - When $h = 0$, there is $2^0 = 1$ leaf node.\n",
    "    - Assume that a perfect binary tree of height $h$ has $2^h$ leaf nodes and observe that both sub-trees of a perfect binary tree of height $h + 1$ have $2^h$ leaf nodes.\n",
    "\n",
    "- Consequence\n",
    "    - Over half all nodes are leaf nodes\n",
    "    $$ \\frac{2^h}{2^{h+1}-1} > \\frac{1}{2}$$"
   ]
  },
  {
   "cell_type": "markdown",
   "metadata": {
    "slideshow": {
     "slide_type": "slide"
    }
   },
   "source": [
    "## Node Average Depth\n",
    "\n",
    "- Consequence\n",
    "    - 50/50 chance that a randomly selected node is a leaf node\n",
    "\n",
    "- The average depth of a node in a perfect binary tree is\n",
    "\n",
    "$$\\frac{\\sum_{k=0}^h k 2^k }{2^{h+1}-1} = \\frac{h2^{h+1} - 2^{h-1} + 2}{2^{h+1}-1} = h+1+\\frac{h+1}{2^{h+1}-1} \\approx h+1 = \\Theta(\\ln(n))$$"
   ]
  },
  {
   "cell_type": "markdown",
   "metadata": {
    "slideshow": {
     "slide_type": "slide"
    }
   },
   "source": [
    "## Applications\n",
    "\n",
    "- Perfect binary trees are considered to be the *ideal* case\n",
    "    - The height and average depth are both $\\Theta(\\ln(n))$\n",
    "\n",
    "- We will attempt to find trees which are as close as possible to perfect binary trees"
   ]
  },
  {
   "cell_type": "markdown",
   "metadata": {
    "slideshow": {
     "slide_type": "slide"
    }
   },
   "source": [
    "## Complete Binary Tree\n",
    "\n",
    "- A perfect binary tree has ideal properties but restricted in the number of nodes:  $n = 2^{h + 1} - 1$\n",
    "\n",
    "- We require binary trees which are\n",
    "    - Similar to perfect binary trees, but\n",
    "    - Defined for **all** $n$\n",
    "\n",
    "- A **complete** binary tree filled at each depth from left to right    \n",
    "![](../img/complete-bt.png)"
   ]
  },
  {
   "cell_type": "markdown",
   "metadata": {
    "slideshow": {
     "slide_type": "fragment"
    }
   },
   "source": [
    "- The order is identical to that of a breadth-first traversal"
   ]
  },
  {
   "cell_type": "markdown",
   "metadata": {
    "slideshow": {
     "slide_type": "slide"
    }
   },
   "source": [
    "## Recursive Definition\n",
    "\n",
    "- A binary tree with a single node is a complete binary tree of height $h = 0$, and a complete binary tree of height $h$ is a tree where either:\n",
    "- The left sub-tree is a **complete tree** of height $h - 1$ and the right sub-tree is a *perfect tree* of height $h - 2$, or\n",
    "- The left sub-tree is a **perfect tree** with height $h - 1$ and the right sub-tree is *complete tree* with height $h - 1$\n",
    "\n",
    "![](../img/complete-bt2.png)"
   ]
  },
  {
   "cell_type": "markdown",
   "metadata": {
    "slideshow": {
     "slide_type": "slide"
    }
   },
   "source": [
    "## Height\n",
    "\n",
    "- Theorem    \n",
    "    - The height of a complete binary tree with $n$ nodes is $h = \\lfloor\\lg(n)\\rfloor$\n",
    "\n",
    "- Proof\n",
    "    - Base case\n",
    "        - When $n = 1$ then $\\lfloor\\lg(1)\\rfloor = 0$ and a tree with one node is a complete tree with height $h = 0$\n",
    "    - Inductive step\n",
    "        - Assume that a complete tree with $n$ nodes has height $\\lfloor\\lg(n)\\rfloor$\n",
    "        - Must show that $\\lfloor\\lg(n+1)\\rfloor$ gives the height of a complete tree with $n + 1$ nodes\n",
    "        - Two cases:\n",
    "            - If the tree with $n$ nodes is perfect, and\n",
    "            - If the tree with $n$ nodes is complete but not perfect"
   ]
  },
  {
   "cell_type": "markdown",
   "metadata": {
    "slideshow": {
     "slide_type": "slide"
    }
   },
   "source": [
    "- Case 1 (the tree is perfect)\n",
    "    - If it is a perfect tree then\n",
    "        - Adding one more node must increase the height\n",
    "    - Before the insertion, it had $n = 2^{h + 1} - 1$ nodes\n",
    "    $$2^h < n < 2^{h+1}-1$$\n",
    "    $$h = \\lg(2^h) < \\lg(2^{h+1}-1) <  \\lg(2^{h + 1}) = h+1$$\n",
    "    $$h \\leq \\lg(2^{h+1}-1) < h+1$$\n",
    "    $$\\lfloor\\lg(n)\\rfloor = h$$\n",
    "    - Thus,\n",
    "    $$\\lfloor\\lg(n+1)\\rfloor = \\lfloor\\lg(2^{h+1} -1 + 1)\\rfloor = \\lfloor\\lg(2^{h+1})\\rfloor = h+1$$"
   ]
  },
  {
   "cell_type": "markdown",
   "metadata": {
    "slideshow": {
     "slide_type": "slide"
    }
   },
   "source": [
    "- Case 2 (the tree is complete but not perfect)\n",
    "    - If it is not a perfect tree of height $h$ then\n",
    "    $$2^h \\leq n < 2^{h+1}-1$$\n",
    "    $$2^h+1 \\leq n < 2^{h+1}$$\n",
    "    $$h = \\lg(2^h) < \\lg(2^h+1) \\leq \\lg(n + 1)<  \\lg(2^{h + 1}) = h+1$$\n",
    "    $$h \\leq \\lg(n + 1) < h+1$$\n",
    "    - Consequently, the height is unchanged: $\\lfloor\\lg(n+1)\\rfloor = h$"
   ]
  },
  {
   "cell_type": "markdown",
   "metadata": {
    "slideshow": {
     "slide_type": "slide"
    }
   },
   "source": [
    "## Array Storage\n",
    "\n",
    "- We are able to store a complete tree as an array\n",
    "    - Traverse the tree in breadth-first order, placing the entries into the array\n",
    "![](../img/bt-array1.png)"
   ]
  },
  {
   "cell_type": "markdown",
   "metadata": {
    "slideshow": {
     "slide_type": "slide"
    }
   },
   "source": [
    "- To insert another node while maintaining the complete-binary-tree structure, insert the node into the next array location\n",
    "    \n",
    "![](../img/bt-array2.png)"
   ]
  },
  {
   "cell_type": "markdown",
   "metadata": {
    "slideshow": {
     "slide_type": "slide"
    }
   },
   "source": [
    "- To remove a node while keeping the complete-tree structure, remove the last element from the array\n",
    "![](../img/bt-array3.png)"
   ]
  },
  {
   "cell_type": "markdown",
   "metadata": {
    "slideshow": {
     "slide_type": "slide"
    }
   },
   "source": [
    "- Leaving the first entry blank yields a bonus\n",
    "    - The children of the node with index $k$ are in $2k$ and $2k + 1$\n",
    "    - The parent of node with index $k$ is in $k/2$\n",
    "![](../img/bt-array4.png)    "
   ]
  },
  {
   "cell_type": "markdown",
   "metadata": {
    "slideshow": {
     "slide_type": "slide"
    }
   },
   "source": [
    "- Leaving the first entry blank yields a bonus    \n",
    "    - In C++, this simplifies the calculations:\n",
    "    ```cpp\n",
    "    parent = k >> 1;\n",
    "    left_child = k << 1;\n",
    "    right_child = left_child | 1;\n",
    "    ```\n",
    "\n",
    "![](../img/bt-array4.png)    "
   ]
  },
  {
   "cell_type": "markdown",
   "metadata": {
    "slideshow": {
     "slide_type": "slide"
    }
   },
   "source": [
    "- Q: why not store any tree as an array using breadth-first traversals?"
   ]
  },
  {
   "cell_type": "markdown",
   "metadata": {
    "slideshow": {
     "slide_type": "fragment"
    }
   },
   "source": [
    "- A: There is a significant potential for a lot of wasted memory\n",
    "\n",
    "- Consider this tree with 12 nodes would require an array of size 32\n",
    "    - Adding a child to node K doubles the required memory \n",
    "![](../img/bt-array5.png)  "
   ]
  },
  {
   "cell_type": "markdown",
   "metadata": {
    "slideshow": {
     "slide_type": "slide"
    }
   },
   "source": [
    "- In the worst case, an exponential amount of memory is required\n",
    "\n",
    "![](../img/bt-array6.png)  \n",
    "\n",
    "- These nodes would be stored in entries 1, 3, 6, 13, 26, 52, 105"
   ]
  },
  {
   "cell_type": "markdown",
   "metadata": {
    "slideshow": {
     "slide_type": "skip"
    }
   },
   "source": [
    "Based on material provided by Douglas Wilhelm Harder"
   ]
  }
 ],
 "metadata": {
  "celltoolbar": "Slideshow",
  "kernelspec": {
   "display_name": "C++17",
   "language": "C++17",
   "name": "xcpp17"
  },
  "language_info": {
   "codemirror_mode": "text/x-c++src",
   "file_extension": ".cpp",
   "mimetype": "text/x-c++src",
   "name": "c++",
   "version": "17"
  }
 },
 "nbformat": 4,
 "nbformat_minor": 4
}
