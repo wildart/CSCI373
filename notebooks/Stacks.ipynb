{
 "cells": [
  {
   "cell_type": "code",
   "execution_count": 2,
   "metadata": {
    "slideshow": {
     "slide_type": "skip"
    }
   },
   "outputs": [],
   "source": [
    "#include <iostream>\n",
    "#include <exception>\n",
    "#include \"../src/SinglyLinkedNode.h\"\n",
    "using namespace std;"
   ]
  },
  {
   "cell_type": "markdown",
   "metadata": {
    "slideshow": {
     "slide_type": "slide"
    }
   },
   "source": [
    "# Stacks"
   ]
  },
  {
   "cell_type": "markdown",
   "metadata": {
    "slideshow": {
     "slide_type": "slide"
    }
   },
   "source": [
    "## Abstract Stack\n",
    "\n",
    "- An **Abstract Stack (Stack ADT)** is an abstract data type which emphasizes specific operations:\n",
    "    - Uses a explicit linear ordering\n",
    "    - Insertions and removals are performed individually\n",
    "    - Inserted objects are pushed onto the stack\n",
    "    - The top of the stack is the most recently object pushed onto the stack\n",
    "    - When an object is popped from the stack, the current top is erased"
   ]
  },
  {
   "cell_type": "markdown",
   "metadata": {
    "slideshow": {
     "slide_type": "slide"
    }
   },
   "source": [
    "- Also called a last-in-first-out (LIFO) behavior\n",
    "- Graphically, we may view these operations as follows:\n",
    "![](../img/stack.png)\n",
    "\n",
    "- There are two exceptions associated with abstract stacks:\n",
    "    - It is an undefined operation to call either pop or top on an empty stack"
   ]
  },
  {
   "cell_type": "markdown",
   "metadata": {
    "slideshow": {
     "slide_type": "slide"
    }
   },
   "source": [
    "## Applications\n",
    "\n",
    "- Numerous applications:\n",
    "    - Parsing code\n",
    "        - Matching parenthesis\n",
    "        - XML (e.g., XHTML)\n",
    "    - Tracking function calls\n",
    "    - Dealing with undo/redo operations\n",
    "    - Reverse-Polish calculators\n",
    "    - Assembly language\n",
    "\n",
    "- The stack is a very simple data structure\n",
    "    - Given any problem, if it is possible to use a stack, this significantly simplifies the solution"
   ]
  },
  {
   "cell_type": "markdown",
   "metadata": {
    "slideshow": {
     "slide_type": "slide"
    }
   },
   "source": [
    "## Stack:  Applications\n",
    "\n",
    "- Problem solving\n",
    "    - Solving one problem may lead to subsequent problems\n",
    "    - These problems may result in further problems\n",
    "    - As problems are solved, your focus shifts back to the problem which lead to the solved problem\n",
    "\n",
    "- Notice that function calls behave similarly\n",
    "    - A function is a collection of code which solves a problem\n",
    "\n",
    "- Reference: *Donald Knuth*"
   ]
  },
  {
   "cell_type": "markdown",
   "metadata": {
    "slideshow": {
     "slide_type": "slide"
    }
   },
   "source": [
    "## Implementations\n",
    "\n",
    "- We will look at two implementations of stacks\n",
    "\n",
    "- The optimal asymptotic run time of any algorithm is $\\Theta(1)$\n",
    "    - The run time of the algorithm is independent of the number of objects being stored in the container\n",
    "    - We will always attempt to achieve this lower bound\n",
    "\n",
    "- We will look at\n",
    "    - Singly linked lists\n",
    "    - One-ended arrays"
   ]
  },
  {
   "cell_type": "markdown",
   "metadata": {
    "slideshow": {
     "slide_type": "slide"
    }
   },
   "source": [
    "## Linked List Implementation\n",
    "\n",
    "- Operations at the front of a singly linked list are all $\\Theta(1)$\n",
    "\n",
    "![](../img/sll.png)\n",
    "\n",
    "- With asymptotic analysis of linked lists, we can now make the following statements:\n",
    "\n",
    "|        | front / 1st node | back / $n$th node        |\n",
    "|-------:|:-----------:|:-----------:|    \n",
    "| find | $\\Theta(1)$ | ${\\Theta(1)}$ |\n",
    "| insert | $\\Theta(1)$ | ${\\Theta(1)}$ |\n",
    "| erase  | $\\Theta(1)$ | $\\Theta(n)$ |    \n",
    "\n",
    "- The desired behavior of an Abstract Stack may be reproduced by performing all operations at the front"
   ]
  },
  {
   "cell_type": "markdown",
   "metadata": {
    "slideshow": {
     "slide_type": "slide"
    }
   },
   "source": [
    "## `LinkedList` Definition"
   ]
  },
  {
   "cell_type": "code",
   "execution_count": 2,
   "metadata": {
    "slideshow": {
     "slide_type": "fragment"
    }
   },
   "outputs": [],
   "source": [
    "template <typename Type>\n",
    "class LinkedList {\n",
    "private:\n",
    "    SinglyLinkedNode<Type> *list_head;\n",
    "\n",
    "public:\n",
    "    LinkedList();\n",
    "    ~LinkedList();\n",
    "\n",
    "    // Accessors\n",
    "    bool empty() const;\n",
    "    Type front() const;\n",
    "    SinglyLinkedNode<Type>* begin() const;\n",
    "\n",
    "    int size() const;\n",
    "    int count( const Type & ) const;\n",
    "    SinglyLinkedNode<Type>* find( const Type & ) const;\n",
    "\n",
    "    // Mutators\n",
    "    void push_front( const Type & );\n",
    "    Type pop_front();\n",
    "};"
   ]
  },
  {
   "cell_type": "markdown",
   "metadata": {
    "slideshow": {
     "slide_type": "slide"
    }
   },
   "source": [
    "## Stack-as-List Class\n",
    "\n",
    "- The stack class using a singly linked list has a single private member variable: **list**"
   ]
  },
  {
   "cell_type": "code",
   "execution_count": 3,
   "metadata": {
    "slideshow": {
     "slide_type": "fragment"
    }
   },
   "outputs": [],
   "source": [
    "template <typename Type>\n",
    "class Stack {\n",
    "    private:\n",
    "        LinkedList<Type> list;\n",
    "    public:\n",
    "        bool empty() const;\n",
    "        Type top() const;\n",
    "        void push( Type const & );\n",
    "        Type pop();\n",
    "};"
   ]
  },
  {
   "cell_type": "markdown",
   "metadata": {
    "slideshow": {
     "slide_type": "fragment"
    }
   },
   "source": [
    "- A constructor and destructor is not needed\n",
    "    - Because **list** is declared, the compiler will call the constructor of the `LinkedList` class when the `Stack` is constructed"
   ]
  },
  {
   "cell_type": "markdown",
   "metadata": {
    "slideshow": {
     "slide_type": "slide"
    }
   },
   "source": [
    "- The `empty` and `push` functions just call the appropriate functions of the `LinkedList` class"
   ]
  },
  {
   "cell_type": "code",
   "execution_count": 4,
   "metadata": {
    "slideshow": {
     "slide_type": "fragment"
    }
   },
   "outputs": [],
   "source": [
    "template <typename Type>\n",
    "bool Stack<Type>::empty() const {\n",
    "    return list.empty();\n",
    "}"
   ]
  },
  {
   "cell_type": "code",
   "execution_count": 5,
   "metadata": {
    "slideshow": {
     "slide_type": "fragment"
    }
   },
   "outputs": [],
   "source": [
    "template <typename Type>\n",
    "void Stack<Type>::push( Type const &obj ) {\n",
    "    list.push_front( obj );\n",
    "}"
   ]
  },
  {
   "cell_type": "markdown",
   "metadata": {
    "slideshow": {
     "slide_type": "fragment"
    }
   },
   "source": [
    "- The `top` and `pop` functions, however, must check the boundary case:"
   ]
  },
  {
   "cell_type": "code",
   "execution_count": 6,
   "metadata": {
    "slideshow": {
     "slide_type": "fragment"
    }
   },
   "outputs": [],
   "source": [
    "template <typename Type>\n",
    "Type Stack<Type>::top() const {\n",
    "    if ( empty() ) {\n",
    "        throw std::underflow_error(\"Stack is empty\");\n",
    "    }\n",
    "    return list.front();\n",
    "}"
   ]
  },
  {
   "cell_type": "code",
   "execution_count": 7,
   "metadata": {
    "slideshow": {
     "slide_type": "fragment"
    }
   },
   "outputs": [],
   "source": [
    "template <typename Type>\n",
    "Type Stack<Type>::pop() {\n",
    "    if ( empty() ) {\n",
    "        throw std::underflow_error(\"Stack is empty\");\n",
    "    }\n",
    "    return list.pop_front();\n",
    "}"
   ]
  },
  {
   "cell_type": "markdown",
   "metadata": {
    "slideshow": {
     "slide_type": "slide"
    }
   },
   "source": [
    "## Array Implementation\n",
    "\n",
    "- For one-ended arrays, all operations at the back are $\\Theta(1)$\n",
    "\n",
    "![](../img/array1.png)\n",
    "\n",
    "- With asymptotic analysis of array lists, we can now make the following statements:\n",
    "\n",
    "|        | front / 1st node | back / $n$th node        |\n",
    "|-------:|:-----------:|:-----------:|    \n",
    "| find | $\\Theta(1)$ | ${\\Theta(1)}$ |\n",
    "| insert | $\\Theta(n)$ | ${\\Theta(1)}$ |\n",
    "| erase  | $\\Theta(n)$ | $\\Theta(1)$ |    \n",
    "\n",
    "- The desired behavior of an Abstract Stack may be reproduced by performing all operations at the back\n"
   ]
  },
  {
   "cell_type": "markdown",
   "metadata": {
    "slideshow": {
     "slide_type": "slide"
    }
   },
   "source": [
    "## Design\n",
    "\n",
    "- We need to store an array\n",
    "    - In C++, this is done by storing the address of the first entry\n",
    "    ```cpp\n",
    "    Type *array;\n",
    "    ```\n",
    "\n",
    "- We need additional information, including\n",
    "    - The number of objects currently in the stack\n",
    "    ```cpp\n",
    "    int stack_size;\n",
    "    ```\n",
    "    - The capacity of the array\n",
    "    ```cpp\n",
    "\tint array_capacity;\n",
    "    ```"
   ]
  },
  {
   "cell_type": "markdown",
   "metadata": {
    "slideshow": {
     "slide_type": "slide"
    }
   },
   "source": [
    "## Stack-as-Array Class"
   ]
  },
  {
   "cell_type": "code",
   "execution_count": 8,
   "metadata": {
    "slideshow": {
     "slide_type": "fragment"
    }
   },
   "outputs": [],
   "source": [
    "template <typename Type>\n",
    "class ArrayStack {\n",
    "    private:\n",
    "        int stack_size;\n",
    "        int array_capacity;\n",
    "        Type *array;\n",
    "    public:\n",
    "        ArrayStack( int = 10 );\n",
    "        ~ArrayStack();\n",
    "        bool empty() const;\n",
    "        Type top() const;\n",
    "        void push( Type const & );\n",
    "        Type pop();\n",
    "};"
   ]
  },
  {
   "cell_type": "markdown",
   "metadata": {
    "slideshow": {
     "slide_type": "slide"
    }
   },
   "source": [
    "## Constructor\n",
    "\n",
    "- The class is only storing the address of the array\n",
    "    - We must allocate memory for the array and initialize the member variables\n",
    "    - The call to `new Type[array_capacity]` makes a request to the operating system for `array_capacity` objects"
   ]
  },
  {
   "cell_type": "code",
   "execution_count": 9,
   "metadata": {
    "slideshow": {
     "slide_type": "fragment"
    }
   },
   "outputs": [],
   "source": [
    "#include <algorithm>\n",
    "\n",
    "template <typename Type>\n",
    "ArrayStack<Type>::ArrayStack( int n ):\n",
    "    stack_size( 0 ),\n",
    "    array_capacity( std::max( 1, n ) ),\n",
    "    array( new Type[array_capacity] ) \n",
    "{\n",
    "    // Empty constructor\n",
    "}"
   ]
  },
  {
   "cell_type": "markdown",
   "metadata": {
    "slideshow": {
     "slide_type": "slide"
    }
   },
   "source": [
    "## Destructor\n",
    "\n",
    "- The call to `new` in the constructor requested memory from the operating system\n",
    "    - The destructor must return that memory to the operating system"
   ]
  },
  {
   "cell_type": "code",
   "execution_count": 10,
   "metadata": {
    "slideshow": {
     "slide_type": "fragment"
    }
   },
   "outputs": [],
   "source": [
    "template <typename Type>\n",
    "ArrayStack<Type>::~ArrayStack() {\n",
    "    delete[] array;\n",
    "}"
   ]
  },
  {
   "cell_type": "markdown",
   "metadata": {
    "slideshow": {
     "slide_type": "slide"
    }
   },
   "source": [
    "## `empty`\n",
    "\n",
    "- The stack is empty if the stack size is zero"
   ]
  },
  {
   "cell_type": "code",
   "execution_count": 11,
   "metadata": {
    "slideshow": {
     "slide_type": "fragment"
    }
   },
   "outputs": [],
   "source": [
    "template <typename Type>\n",
    "bool ArrayStack<Type>::empty() const {\n",
    "    return ( stack_size == 0 );\n",
    "}"
   ]
  },
  {
   "cell_type": "markdown",
   "metadata": {
    "cell_style": "center",
    "slideshow": {
     "slide_type": "slide"
    }
   },
   "source": [
    "## `top`\n",
    "\n",
    "- If there are `n` objects in the stack, the last is located at index `n-1`"
   ]
  },
  {
   "cell_type": "code",
   "execution_count": 12,
   "metadata": {
    "slideshow": {
     "slide_type": "fragment"
    }
   },
   "outputs": [],
   "source": [
    "template <typename Type>\n",
    "Type ArrayStack<Type>::top() const {\n",
    "    if ( empty() ) {\n",
    "        throw std::underflow_error(\"Stack is empty\");\n",
    "    }\n",
    "    return array[stack_size - 1];\n",
    "}"
   ]
  },
  {
   "cell_type": "markdown",
   "metadata": {
    "cell_style": "center",
    "slideshow": {
     "slide_type": "slide"
    }
   },
   "source": [
    "## `pop`\n",
    "\n",
    "- Removing an object simply involves reducing the size\n",
    "    - It is **invalid** to assign the last entry to `0`\n",
    "    - By decreasing the size, the previous top of the stack is now at the location `stack_size`"
   ]
  },
  {
   "cell_type": "code",
   "execution_count": 13,
   "metadata": {
    "slideshow": {
     "slide_type": "fragment"
    }
   },
   "outputs": [],
   "source": [
    "template <typename Type>\n",
    "Type ArrayStack<Type>::pop() {\n",
    "    if ( empty() ) {\n",
    "        throw std::underflow_error(\"Stack is empty\");\n",
    "    }\n",
    "    --stack_size;\n",
    "    return array[stack_size];\n",
    "}"
   ]
  },
  {
   "cell_type": "markdown",
   "metadata": {
    "cell_style": "center",
    "slideshow": {
     "slide_type": "slide"
    }
   },
   "source": [
    "## `push`\n",
    "\n",
    "- Pushing an object onto the stack can only be performed if the array is not full"
   ]
  },
  {
   "cell_type": "code",
   "execution_count": 14,
   "metadata": {
    "slideshow": {
     "slide_type": "fragment"
    }
   },
   "outputs": [],
   "source": [
    "template <typename Type>\n",
    "void ArrayStack<Type>::push( Type const &obj ) {\n",
    "    if ( stack_size == array_capacity ) {\n",
    "        throw overflow_error(\"Stack is full\");  // Best solution?????\n",
    "    }\n",
    "    array[stack_size] = obj;\n",
    "    ++stack_size;\n",
    "}"
   ]
  },
  {
   "cell_type": "markdown",
   "metadata": {
    "cell_style": "center",
    "slideshow": {
     "slide_type": "slide"
    }
   },
   "source": [
    "## Exceptions\n",
    "\n",
    "- The case where the array is full is not an exception defined in the Abstract Stack \n",
    "\n",
    "- If the array is filled, we have five options:\n",
    "    - Increase the size of the array\n",
    "    - Throw an exception\n",
    "    - Ignore the element being pushed\n",
    "    - Replace the current top of the stack\n",
    "    - Put the pushing process to \"sleep\" until something else removes the top of the stack\n",
    "\n",
    "- Include a member function `bool full() const;`"
   ]
  },
  {
   "cell_type": "markdown",
   "metadata": {
    "cell_style": "center",
    "slideshow": {
     "slide_type": "slide"
    }
   },
   "source": [
    "## Array Capacity\n",
    "\n",
    "- If dynamic memory is available, the best option is to increase the array capacity\n",
    "\n",
    "- If we increase the array capacity, the question is:\n",
    "    - How much?\n",
    "        - By a constant?\t\t\n",
    "            - `array_capacity += c;`\n",
    "        - By a multiple?\n",
    "            - `array_capacity *= c;`"
   ]
  },
  {
   "cell_type": "markdown",
   "metadata": {
    "cell_style": "center",
    "slideshow": {
     "slide_type": "slide"
    }
   },
   "source": [
    "1. First, this requires a call to `new Type[N]` where `N` is the new capacity\n",
    "    - We must have access to this so we must store the address returned by new in a local variable, say `tmp` \n",
    "2. Next, the values must be copied over\n",
    "3. The memory for the original array must be deallocated\n",
    "4. Finally, the appropriate member variables must be reassigned"
   ]
  },
  {
   "cell_type": "code",
   "execution_count": null,
   "metadata": {
    "slideshow": {
     "slide_type": "fragment"
    }
   },
   "outputs": [],
   "source": [
    "void double_capacity() {\n",
    "    Type *tmp_array = new Type[2*array_capacity]; //| Step 1\n",
    "                                                  //|--------\n",
    "    for ( int i = 0; i < array_capacity; ++i ) {  //| \n",
    "        tmp_array[i] = array[i];                  //| Step 2\n",
    "    }                                             //|--------\n",
    "                                                  //|\n",
    "    delete [] array;                              //| Step 3\n",
    "                                                  //|--------    \n",
    "    array = tmp_array;                            //| \n",
    "    array_capacity *= 2;                          //| Step 4\n",
    "}"
   ]
  },
  {
   "cell_type": "markdown",
   "metadata": {
    "cell_style": "center",
    "slideshow": {
     "slide_type": "slide"
    }
   },
   "source": [
    "- Back to the original question:\n",
    "    - How much do we change the capacity?\n",
    "    - Add a constant?\n",
    "    - Multiply by a constant?\n",
    "\n",
    "- First, we recognize that any time that we push onto a full stack, this requires n copies and the run time is $\\Theta(n)$\n",
    "- Therefore, push is usually $\\Theta(1)$ except when new memory is required"
   ]
  },
  {
   "cell_type": "markdown",
   "metadata": {
    "cell_style": "center",
    "slideshow": {
     "slide_type": "slide"
    }
   },
   "source": [
    "- To state the average run time, we will introduce the concept of **amortized time**\n",
    "    - If $n$ operations requires $\\Theta(f(n))$, we will say that an individual operation has an *amortized run time* of $\\Theta(f(n)/n)$\n",
    "    - Therefore, if inserting n objects requires:\n",
    "        - $\\Theta(n^2)$ copies, the amortized time is $\\Theta(n)$\n",
    "        - $\\Theta(n)$ copies, the amortized time is $\\Theta(1)$\n"
   ]
  },
  {
   "cell_type": "markdown",
   "metadata": {
    "cell_style": "split",
    "slideshow": {
     "slide_type": "slide"
    }
   },
   "source": [
    "- Let us consider the case of increasing the capacity by 1 each time the array is full\n",
    "    - With each insertion when the array is full, this requires all entries to be copied"
   ]
  },
  {
   "cell_type": "markdown",
   "metadata": {
    "cell_style": "split",
    "slideshow": {
     "slide_type": "fragment"
    }
   },
   "source": [
    "![](../img/copy1.png)"
   ]
  },
  {
   "cell_type": "markdown",
   "metadata": {
    "cell_style": "center",
    "slideshow": {
     "slide_type": "slide"
    }
   },
   "source": [
    " - Suppose we insert $n$ objects\n",
    "    - The pushing of the $k$th object on the stack requires $k-1$ copies\n",
    "    - The total number of copies is now given by\n",
    "    $$\\sum_{k=1}^{n}(k-1) = \\left(\\sum_{k=1}^{n}k \\right) -n = \\frac{n(n+1)}{2} - n =  \\frac{n(n-1)}{2} = \\Theta(n^2)$$\n",
    "\n",
    "- Therefore, the amortized number of copies is given by\n",
    "$$\\Theta\\left(\\frac{n^2}{n}\\right) = \\Theta(n)$$\n",
    "\n",
    "- Therefore each push must run in $\\Theta(n)$ time\n",
    "- The wasted space, however is $\\Theta(1)$"
   ]
  },
  {
   "cell_type": "markdown",
   "metadata": {
    "cell_style": "split",
    "slideshow": {
     "slide_type": "slide"
    }
   },
   "source": [
    "- Suppose we double the number of entries each time the array is full\n",
    "    - Now the number of copies appears to be significantly fewer    "
   ]
  },
  {
   "cell_type": "markdown",
   "metadata": {
    "cell_style": "split",
    "slideshow": {
     "slide_type": "fragment"
    }
   },
   "source": [
    "![](../img/copy2.png)"
   ]
  },
  {
   "cell_type": "markdown",
   "metadata": {
    "cell_style": "center",
    "slideshow": {
     "slide_type": "slide"
    }
   },
   "source": [
    "Suppose we double the array size each time it is full\n",
    "- This is difficult to solve for an arbitrary n so instead, we will restrict the number of objects we are inserting to $n = 2^h$ objects\n",
    "- We will then assume that the behavior for intermediate values of $n$ will be similar \n",
    "\n",
    "- Inserting $n = 2^h$ objects would therefore require\n",
    "$$1, 2, 4, 8, \\ldots, 2^{h-1}$$\n",
    "     copies, for once we add the last object, the array will be full\n",
    "- The total number of copies is therefore\n",
    "$$\\sum_{k=1}^{n}2^k = 2^{(h-1)+1} - 1 = 2^{h} - 1 = n - 1 = \\Theta(n)$$\n",
    "\n",
    "\n",
    "- Therefore the amortized number of copies per insertion is $\\Theta(1)$\n",
    "- The wasted space, however is $O(n)$\n"
   ]
  },
  {
   "cell_type": "markdown",
   "metadata": {
    "cell_style": "split",
    "slideshow": {
     "slide_type": "slide"
    }
   },
   "source": [
    "- What if we increase the array size by a larger constant?\n",
    "    - For example, increase the array size by 4, 8, 100?"
   ]
  },
  {
   "cell_type": "markdown",
   "metadata": {
    "cell_style": "split",
    "slideshow": {
     "slide_type": "fragment"
    }
   },
   "source": [
    "![](../img/copy5.png)"
   ]
  },
  {
   "cell_type": "markdown",
   "metadata": {
    "slideshow": {
     "slide_type": "slide"
    }
   },
   "source": [
    "- Suppose we increase it by a constant value $m$ and we add $n = lm$ objects\n",
    "\n",
    "    - To add $n$ items, we will have to make\n",
    "    $$m, 2m, 3m, \\ldots, (l-1)m$$\n",
    "     copies in total, or\n",
    "    $$\\sum_{k=1}^{l-1}km = m \\sum_{k=1}^{l-1}k = m\\frac{l(l-1)}{2}= \\Theta(ml^2) = \\Theta((ml)l) = \\Theta\\left(n\\frac{n}{m}\\right)$$\n",
    "\n",
    "- The amortized number of copies is\n",
    "$$\\Theta\\left(\\frac{n}{m}\\right) = \\Theta(n)$$\n",
    "as $m$ is fixed"
   ]
  },
  {
   "cell_type": "markdown",
   "metadata": {
    "slideshow": {
     "slide_type": "slide"
    }
   },
   "source": [
    "- Note the difference in worst-case amortized scenarios\n",
    "\n",
    "|             | Copies per Insertion |  Unused Memory |\n",
    "|------------:|:--------------------:|:--------------:|\n",
    "|Increase by $1$| $n-1$ | $0$ |\n",
    "|Increase by $m$| $n/m$ | $m-1$ |\n",
    "|Increase by a factor of $2$| $1$ | $n$ |\n",
    "|Increase by a factor of $r$| $1/(r-1)$ | $(r-1)n$ |\n",
    "\n",
    "\n",
    "\n"
   ]
  },
  {
   "cell_type": "markdown",
   "metadata": {
    "slideshow": {
     "slide_type": "slide"
    }
   },
   "source": [
    "## Reverse-Polish Notation\n",
    "\n",
    "- Normally, mathematics is written using what we call infix notation:\n",
    "$$(3 + 4) \\times 5 - 6$$\n",
    "\n",
    "- The operator is placed between to operands\n",
    "\n",
    "- One weakness:  parentheses are required\n",
    "$$(3 + 4) \\times  5 - 6 =  29$$\n",
    "$$3 + 4   \\times  5 - 6 =  17$$\n",
    "$$3 + 4   \\times (5 - 6) =  -1$$\n",
    "$$(3 + 4) \\times (5 - 6) =  -7$$"
   ]
  },
  {
   "cell_type": "markdown",
   "metadata": {
    "slideshow": {
     "slide_type": "slide"
    }
   },
   "source": [
    "- Alternatively, we can place the operands first, followed by the operator:\n",
    "$$(3 + 4) \\times  5 - 6$$\n",
    "$$3 \\;  4  +  5  \\times  6  -$$\n",
    "\n",
    "- Parsing reads left-to-right and performs any operation on the last two operands:\n",
    "$$3 \\; 4  +  5  \\times  6  -$$\n",
    "$$7 \\; 5  \\times  6  -$$\n",
    "$$35 \\; 6  -$$\n",
    "$$29$$"
   ]
  },
  {
   "cell_type": "markdown",
   "metadata": {
    "slideshow": {
     "slide_type": "slide"
    }
   },
   "source": [
    "- Benefits\n",
    "    - No ambiguity and no brackets are required\n",
    "    - It is the same process used by a computer to perform computations\n",
    "        - operands must be loaded into registers before operations can be performed on them\n",
    "    - Reverse-Polish can be processed using stacks"
   ]
  },
  {
   "cell_type": "markdown",
   "metadata": {
    "slideshow": {
     "slide_type": "slide"
    }
   },
   "source": [
    "- Reverse-Polish notation is used with some programming languages\n",
    "    - e.g., postscript, pdf, and HP calculators\n",
    "\n",
    "- Similar to the thought process required for writing assembly language code\n",
    "    - you cannot perform an operation until you have all of the operands loaded into registers\n",
    "\n",
    "```asm\n",
    "MOVE.L #$2A, D1      ; Load  42 into Register D1\n",
    "MOVE.L #$100, D2     ; Load 256 into Register D2\n",
    "ADD D2, D1           ; Add D2 into D1\n",
    "```\n"
   ]
  },
  {
   "cell_type": "markdown",
   "metadata": {
    "slideshow": {
     "slide_type": "slide"
    }
   },
   "source": [
    "The easiest way to parse Reverse-Polish notation is to use an operand stack\n",
    "- operands are processed by pushing them onto the stack\n",
    "- when processing an operator\n",
    "    - pop the last two items off the operand stack,\n",
    "    - perform the operation, and\n",
    "    - push the result back onto the stack"
   ]
  },
  {
   "cell_type": "markdown",
   "metadata": {
    "slideshow": {
     "slide_type": "slide"
    }
   },
   "source": [
    "## Example"
   ]
  },
  {
   "cell_type": "markdown",
   "metadata": {
    "cell_style": "split",
    "slideshow": {
     "slide_type": "fragment"
    }
   },
   "source": [
    "- Evaluate the following Reverse-Polish expression using a stack: \n",
    "$$1 \\,  2 \\,  3  +  4 \\, 5 \\, 6  \\times  -  7  \\times  +  -  8 \\, 9  \\times  +$$\n",
    "\n"
   ]
  },
  {
   "cell_type": "markdown",
   "metadata": {
    "cell_style": "split",
    "slideshow": {
     "slide_type": "fragment"
    }
   },
   "source": [
    "| Stack |\n",
    "|-|\n",
    "| |\n",
    "| |\n",
    "| |\n",
    "| |\n",
    "| |"
   ]
  },
  {
   "cell_type": "markdown",
   "metadata": {
    "cell_style": "split",
    "slideshow": {
     "slide_type": "slide"
    }
   },
   "source": [
    "- Push $1$ onto the stack\n",
    "$$\\color{red}{1} \\,  2 \\,  3  +  4 \\, 5 \\, 6  \\times  -  7  \\times  +  -  8 \\, 9  \\times  +$$"
   ]
  },
  {
   "cell_type": "markdown",
   "metadata": {
    "cell_style": "split",
    "slideshow": {
     "slide_type": "fragment"
    }
   },
   "source": [
    "| Stack |\n",
    "|:-:|\n",
    "| |\n",
    "| |\n",
    "| |\n",
    "| |\n",
    "|$\\color{red}{1}$|"
   ]
  },
  {
   "cell_type": "markdown",
   "metadata": {
    "cell_style": "split",
    "slideshow": {
     "slide_type": "slide"
    }
   },
   "source": [
    "- Push $2$ onto the stack\n",
    "$$1 \\,  \\color{red}{2} \\,  3  +  4 \\, 5 \\, 6  \\times  -  7  \\times  +  -  8 \\, 9  \\times  +$$"
   ]
  },
  {
   "cell_type": "markdown",
   "metadata": {
    "cell_style": "split",
    "slideshow": {
     "slide_type": "fragment"
    }
   },
   "source": [
    "| Stack |\n",
    "|:-:|\n",
    "| |\n",
    "| |\n",
    "| |\n",
    "|$\\color{red}{2}$|\n",
    "|1|"
   ]
  },
  {
   "cell_type": "markdown",
   "metadata": {
    "cell_style": "split",
    "slideshow": {
     "slide_type": "slide"
    }
   },
   "source": [
    "- Push $3$ onto the stack\n",
    "$$1 \\,  2 \\, \\color{red}{3}  +  4 \\, 5 \\, 6  \\times  -  7  \\times  +  -  8 \\, 9  \\times  +$$"
   ]
  },
  {
   "cell_type": "markdown",
   "metadata": {
    "cell_style": "split",
    "slideshow": {
     "slide_type": "fragment"
    }
   },
   "source": [
    "| Stack |\n",
    "|:-:|\n",
    "| |\n",
    "| |\n",
    "|$\\color{red}{3}$|\n",
    "|2|\n",
    "|1|"
   ]
  },
  {
   "cell_type": "markdown",
   "metadata": {
    "cell_style": "split",
    "slideshow": {
     "slide_type": "slide"
    }
   },
   "source": [
    "- \tPop $3$ and $2$ and push $2 \\color{red}{+} 3 = 5$\n",
    "$$1 \\,  2 \\, 3  \\color{red}{+}  4 \\, 5 \\, 6  \\times  -  7  \\times  +  -  8 \\, 9  \\times  +$$"
   ]
  },
  {
   "cell_type": "markdown",
   "metadata": {
    "cell_style": "split",
    "slideshow": {
     "slide_type": "fragment"
    }
   },
   "source": [
    "| Stack |\n",
    "|:-:|\n",
    "| |\n",
    "| |\n",
    "| |\n",
    "|$\\color{red}{5}$|\n",
    "|1|"
   ]
  },
  {
   "cell_type": "markdown",
   "metadata": {
    "cell_style": "split",
    "slideshow": {
     "slide_type": "slide"
    }
   },
   "source": [
    "- Push $4$ onto the stack\n",
    "$$1 \\,  2 \\, 3  +  \\color{red}{4} \\, 5 \\, 6  \\times  -  7  \\times  +  -  8 \\, 9  \\times  +$$"
   ]
  },
  {
   "cell_type": "markdown",
   "metadata": {
    "cell_style": "split",
    "slideshow": {
     "slide_type": "fragment"
    }
   },
   "source": [
    "| Stack |\n",
    "|:-:|\n",
    "| |\n",
    "| |\n",
    "|$\\color{red}{4}$|\n",
    "|5|\n",
    "|1|"
   ]
  },
  {
   "cell_type": "markdown",
   "metadata": {
    "cell_style": "split",
    "slideshow": {
     "slide_type": "slide"
    }
   },
   "source": [
    "- Push $5$ onto the stack\n",
    "$$1 \\,  2 \\, 3  +  4 \\, \\color{red}{5} \\, 6  \\times  -  7  \\times  +  -  8 \\, 9  \\times  +$$"
   ]
  },
  {
   "cell_type": "markdown",
   "metadata": {
    "cell_style": "split",
    "slideshow": {
     "slide_type": "fragment"
    }
   },
   "source": [
    "| Stack |\n",
    "|:-:|\n",
    "| |\n",
    "|$\\color{red}{5}$|\n",
    "|4|\n",
    "|5|\n",
    "|1|"
   ]
  },
  {
   "cell_type": "markdown",
   "metadata": {
    "cell_style": "split",
    "slideshow": {
     "slide_type": "slide"
    }
   },
   "source": [
    "- Push $6$ onto the stack\n",
    "$$1 \\,  2 \\, 3  +  4 \\, 5 \\, \\color{red}{6}  \\times  -  7  \\times  +  -  8 \\, 9  \\times  +$$"
   ]
  },
  {
   "cell_type": "markdown",
   "metadata": {
    "cell_style": "split",
    "slideshow": {
     "slide_type": "fragment"
    }
   },
   "source": [
    "| Stack |\n",
    "|:-:|\n",
    "|$\\color{red}{6}$|\n",
    "|5|\n",
    "|4|\n",
    "|5|\n",
    "|1|"
   ]
  },
  {
   "cell_type": "markdown",
   "metadata": {
    "cell_style": "split",
    "slideshow": {
     "slide_type": "slide"
    }
   },
   "source": [
    "- Pop $5$ and $6$ and push $5 \\color{red}{\\times} 6 = 30$\n",
    "$$1 \\,  2 \\, 3  +  4 \\, 5 \\, 6  \\color{red}{\\times}  -  7  \\times  +  -  8 \\, 9  \\times  +$$"
   ]
  },
  {
   "cell_type": "markdown",
   "metadata": {
    "cell_style": "split",
    "slideshow": {
     "slide_type": "fragment"
    }
   },
   "source": [
    "| Stack |\n",
    "|:-:|\n",
    "| |\n",
    "|$\\color{red}{30}$|\n",
    "|4|\n",
    "|5|\n",
    "|1|"
   ]
  },
  {
   "cell_type": "markdown",
   "metadata": {
    "cell_style": "split",
    "slideshow": {
     "slide_type": "slide"
    }
   },
   "source": [
    "- Pop $30$ and $4$ and push $4 \\color{red}{-} 30 = -26$\n",
    "$$1 \\,  2 \\, 3  +  4 \\, 5 \\, 6  \\times  \\color{red}{-}  7  \\times  +  -  8 \\, 9  \\times  +$$"
   ]
  },
  {
   "cell_type": "markdown",
   "metadata": {
    "cell_style": "split",
    "slideshow": {
     "slide_type": "fragment"
    }
   },
   "source": [
    "| Stack |\n",
    "|:-:|\n",
    "| |\n",
    "| |\n",
    "|$\\color{red}{-26}$|\n",
    "|5|\n",
    "|1|"
   ]
  },
  {
   "cell_type": "markdown",
   "metadata": {
    "cell_style": "split",
    "slideshow": {
     "slide_type": "slide"
    }
   },
   "source": [
    "- Push $7$ onto the stack\n",
    "$$1 \\,  2 \\, 3  +  4 \\, 5 \\, 6  \\times  -  \\color{red}{7}  \\times  +  -  8 \\, 9  \\times  +$$"
   ]
  },
  {
   "cell_type": "markdown",
   "metadata": {
    "cell_style": "split",
    "slideshow": {
     "slide_type": "fragment"
    }
   },
   "source": [
    "| Stack |\n",
    "|:-:|\n",
    "| |\n",
    "|$\\color{red}{7}$|\n",
    "|-26|\n",
    "|5|\n",
    "|1|"
   ]
  },
  {
   "cell_type": "markdown",
   "metadata": {
    "cell_style": "split",
    "slideshow": {
     "slide_type": "slide"
    }
   },
   "source": [
    "- Pop $7$ and $-26$ and push $-26 \\color{red}{\\times} 7 = -182$\n",
    "$$1 \\,  2 \\, 3  +  4 \\, 5 \\, 6  \\times  -  7  \\color{red}{\\times}  +  -  8 \\, 9  \\times  +$$"
   ]
  },
  {
   "cell_type": "markdown",
   "metadata": {
    "cell_style": "split",
    "slideshow": {
     "slide_type": "fragment"
    }
   },
   "source": [
    "| Stack |\n",
    "|:-:|\n",
    "| |\n",
    "| |\n",
    "|$\\color{red}{\\text{-}182}$|\n",
    "|5|\n",
    "|1|"
   ]
  },
  {
   "cell_type": "markdown",
   "metadata": {
    "cell_style": "split",
    "slideshow": {
     "slide_type": "slide"
    }
   },
   "source": [
    "- Pop $-182$ and $5$ and push $-182 \\color{red}{+} 5 = -177$\n",
    "$$1 \\,  2 \\, 3  +  4 \\, 5 \\, 6  \\times  -  7  \\times  \\color{red}{+}  -  8 \\, 9  \\times  +$$"
   ]
  },
  {
   "cell_type": "markdown",
   "metadata": {
    "cell_style": "split",
    "slideshow": {
     "slide_type": "fragment"
    }
   },
   "source": [
    "| Stack |\n",
    "|:-:|\n",
    "| |\n",
    "| |\n",
    "| |\n",
    "|$\\color{red}{\\text{-}177}$|\n",
    "|1|"
   ]
  },
  {
   "cell_type": "markdown",
   "metadata": {
    "cell_style": "split",
    "slideshow": {
     "slide_type": "slide"
    }
   },
   "source": [
    "- Pop $-177$ and $1$ and push $1 \\color{red}{-} (-177) = 178$\n",
    "$$1 \\,  2 \\, 3  +  4 \\, 5 \\, 6  \\times  -  7  \\times  +  \\color{red}{-}  8 \\, 9  \\times  +$$"
   ]
  },
  {
   "cell_type": "markdown",
   "metadata": {
    "cell_style": "split",
    "slideshow": {
     "slide_type": "fragment"
    }
   },
   "source": [
    "| Stack |\n",
    "|:-:|\n",
    "| |\n",
    "| |\n",
    "| |\n",
    "| |\n",
    "|$\\color{red}{178}$|"
   ]
  },
  {
   "cell_type": "markdown",
   "metadata": {
    "cell_style": "split",
    "slideshow": {
     "slide_type": "slide"
    }
   },
   "source": [
    "- Push $8$ onto the stack\n",
    "$$1 \\,  2 \\, 3  +  4 \\, 5 \\, 6  \\times  -  7  \\times  +  -  \\color{red}{8} \\, 9  \\times  +$$"
   ]
  },
  {
   "cell_type": "markdown",
   "metadata": {
    "cell_style": "split",
    "slideshow": {
     "slide_type": "fragment"
    }
   },
   "source": [
    "| Stack |\n",
    "|:-:|\n",
    "| |\n",
    "| |\n",
    "| |\n",
    "|$\\color{red}{8}$|\n",
    "|178|"
   ]
  },
  {
   "cell_type": "markdown",
   "metadata": {
    "cell_style": "split",
    "slideshow": {
     "slide_type": "slide"
    }
   },
   "source": [
    "- Push $9$ onto the stack\n",
    "$$1 \\,  2 \\, 3  +  4 \\, 5 \\, 6  \\times  -  7  \\times  +  -  8 \\, \\color{red}{9}  \\times  +$$"
   ]
  },
  {
   "cell_type": "markdown",
   "metadata": {
    "cell_style": "split",
    "slideshow": {
     "slide_type": "fragment"
    }
   },
   "source": [
    "| Stack |\n",
    "|:-:|\n",
    "| |\n",
    "| |\n",
    "|$\\color{red}{9}$|\n",
    "|8|\n",
    "|178|"
   ]
  },
  {
   "cell_type": "markdown",
   "metadata": {
    "cell_style": "split",
    "slideshow": {
     "slide_type": "slide"
    }
   },
   "source": [
    "- Pop $9$ and $8$ and push $8 \\color{red}{\\times} 9 = 72$\n",
    "$$1 \\,  2 \\, 3  +  4 \\, 5 \\, 6  \\times  -  7  \\times  +  -  8 \\, 9  \\color{red}{\\times}  +$$"
   ]
  },
  {
   "cell_type": "markdown",
   "metadata": {
    "cell_style": "split",
    "slideshow": {
     "slide_type": "fragment"
    }
   },
   "source": [
    "| Stack |\n",
    "|:-:|\n",
    "| |\n",
    "| |\n",
    "| |\n",
    "|$\\color{red}{72}$|\n",
    "|178|"
   ]
  },
  {
   "cell_type": "markdown",
   "metadata": {
    "cell_style": "split",
    "slideshow": {
     "slide_type": "slide"
    }
   },
   "source": [
    "- Pop $72$ and $178$ and push $178 \\color{red}{+} 72 = 250$\n",
    "$$1 \\,  2 \\, 3  +  4 \\, 5 \\, 6  \\times  -  7  \\times  +  -  8 \\, 9  \\times  \\color{red}{+}$$"
   ]
  },
  {
   "cell_type": "markdown",
   "metadata": {
    "cell_style": "split",
    "slideshow": {
     "slide_type": "fragment"
    }
   },
   "source": [
    "| Stack |\n",
    "|:-:|\n",
    "| |\n",
    "| |\n",
    "| |\n",
    "| |\n",
    "|$\\color{red}{250}$|"
   ]
  },
  {
   "cell_type": "markdown",
   "metadata": {
    "cell_style": "center",
    "slideshow": {
     "slide_type": "slide"
    }
   },
   "source": [
    "- Thus\n",
    "$$1 \\,  2 \\,  3  +  4 \\, 5 \\, 6  \\times  -  7  \\times  +  -  8 \\, 9  \\times  +$$\n",
    "evaluates to the value on the top: $250$\n",
    "\n",
    "- The equivalent infix notation is\n",
    "$$((1 - ((2 + 3) + ((4 - (5 \\times 6)) \\times 7))) + (8 \\times 9))$$\n",
    "\n",
    "- We reduce the parentheses using order-of-operations:\n",
    "$$1 - (2 + 3 + (4 - 5 \\times 6) \\times 7) + 8 \\times 9$$"
   ]
  },
  {
   "cell_type": "markdown",
   "metadata": {
    "cell_style": "center",
    "slideshow": {
     "slide_type": "slide"
    }
   },
   "source": [
    "- Incidentally,\n",
    "$$1 - 2 + 3 + 4 - 5 \\times 6 \\times 7 + 8 \\times 9 = -132$$\n",
    "which has the infix notation of\n",
    "- The equivalent Reverse-Polish notation is\n",
    "$$1 \\, 2  \\times  3  +  4  +  5 \\, 6 \\, 7  \\times  \\times  -  8 \\,  9  \\times  +$$\n",
    "\n",
    "- For comparison, the calculated expression was\n",
    "$$1 \\,  2 \\,  3  +  4 \\, 5 \\, 6  \\times  -  7  \\times  +  -  8 \\, 9  \\times  +$$"
   ]
  },
  {
   "cell_type": "markdown",
   "metadata": {
    "slideshow": {
     "slide_type": "slide"
    }
   },
   "source": [
    "## Standard Template Library\n",
    "\n",
    "- The Standard Template Library (STL) has a [wrapper class `stack`](https://en.cppreference.com/w/cpp/container/stack) with the following declaration"
   ]
  },
  {
   "cell_type": "code",
   "execution_count": 2,
   "metadata": {
    "slideshow": {
     "slide_type": "fragment"
    }
   },
   "outputs": [],
   "source": [
    "template <typename T>\n",
    "class stack {\n",
    "public:\n",
    "    stack();\n",
    "    bool empty() const;\n",
    "    int size() const;\n",
    "    const T& top() const;\n",
    "    void push( const T& );\n",
    "    void pop();\n",
    "};"
   ]
  },
  {
   "cell_type": "code",
   "execution_count": 4,
   "metadata": {
    "slideshow": {
     "slide_type": "slide"
    }
   },
   "outputs": [
    {
     "name": "stdout",
     "output_type": "stream",
     "text": [
      "Top: 42\n",
      "Top: 13\n",
      "Size: 1\n"
     ]
    }
   ],
   "source": [
    "#include <iostream>\n",
    "#include <stack>\n",
    "#include <list>\n",
    "#include <vector>\n",
    "{\n",
    "    std::stack<int> istack;\n",
    "//     std::stack< int, std::vector<int> > istack;\n",
    "//     std::stack< int, std::list<int> > istack;\n",
    "\n",
    "    istack.push( 13 );\n",
    "    istack.push( 42 );\n",
    "    std::cout << \"Top: \" << istack.top() << std::endl;\n",
    "    istack.pop();                             // no return value\n",
    "    std::cout << \"Top: \" << istack.top() << std::endl;\n",
    "    std::cout << \"Size: \" << istack.size() << std::endl;\n",
    "}"
   ]
  },
  {
   "cell_type": "markdown",
   "metadata": {
    "slideshow": {
     "slide_type": "fragment"
    }
   },
   "source": [
    "- The reason that the `stack` class is termed a wrapper is because it uses a different container class to actually store the elements\n",
    "\n",
    "- The `stack` class simply presents the `stack` interface with appropriately named member functions\n",
    "    - `push`, `pop`, and `top` "
   ]
  },
  {
   "cell_type": "markdown",
   "metadata": {
    "slideshow": {
     "slide_type": "slide"
    }
   },
   "source": [
    "## Stacks\n",
    "\n",
    "- The stack is the simplest of all ADTs\n",
    "    - Understanding how a stack works is trivial\n",
    "\n",
    "- The application of a stack, however, is not in the implementation, but rather:\n",
    "    - Where possible, create a design which allows the use of a stack"
   ]
  }
 ],
 "metadata": {
  "celltoolbar": "Slideshow",
  "kernelspec": {
   "display_name": "C++17",
   "language": "C++17",
   "name": "xcpp17"
  },
  "language_info": {
   "codemirror_mode": "text/x-c++src",
   "file_extension": ".cpp",
   "mimetype": "text/x-c++src",
   "name": "c++",
   "version": "17"
  },
  "rise": {
   "enable_chalkboard": true
  }
 },
 "nbformat": 4,
 "nbformat_minor": 4
}
