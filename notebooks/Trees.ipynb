{
 "cells": [
  {
   "cell_type": "code",
   "execution_count": 1,
   "metadata": {
    "slideshow": {
     "slide_type": "slide"
    }
   },
   "outputs": [],
   "source": [
    "#include <iostream>\n",
    "#include <algorithm>\n",
    "#include \"../src/SinglyLinkedList.h\"\n",
    "#include \"../src/TreeTraversals.h\""
   ]
  },
  {
   "cell_type": "markdown",
   "metadata": {
    "slideshow": {
     "slide_type": "slide"
    }
   },
   "source": [
    "# Trees"
   ]
  },
  {
   "cell_type": "markdown",
   "metadata": {
    "slideshow": {
     "slide_type": "slide"
    }
   },
   "source": [
    "## Tree ADT\n",
    "\n",
    "- **Tree** is a hierarchical data structure    \n",
    "    - A rooted tree data structure stores information in **nodes**\n",
    "        - Often stores data that is related to each other\n",
    "    - Defined recursively\n",
    "        - Trees are built using smaller trees\n",
    "\n",
    "![](../img/tree.png)"
   ]
  },
  {
   "cell_type": "markdown",
   "metadata": {
    "slideshow": {
     "slide_type": "slide"
    }
   },
   "source": [
    "- Similar to linked lists\n",
    "    - There is a first node, or **root**\n",
    "    - Each node has variable number of references to successors\n",
    "    - Each node, other than the root, has exactly one node pointing to it"
   ]
  },
  {
   "cell_type": "markdown",
   "metadata": {
    "slideshow": {
     "slide_type": "slide"
    }
   },
   "source": [
    "## Terminology\n",
    "\n",
    "- All nodes will have zero or more **child nodes** or children\n",
    "    - `I` has three children:  `J`, `K` and `L`\t\n",
    "- For all nodes other than the root node, there is one **parent node**\n",
    "    - `H` is the parent `I`\n",
    "- The degree of a node is defined as the number of its children\n",
    "    - `deg(I) = 3`\n",
    "\n",
    "![](../img/branch.png)"
   ]
  },
  {
   "cell_type": "markdown",
   "metadata": {
    "slideshow": {
     "slide_type": "slide"
    }
   },
   "source": [
    "- Nodes with the same parent are **siblings**\n",
    "    - `J`, `K`, and `L` are siblings\n",
    "\n",
    "- Nodes with degree zero are also called **leaf nodes**\n",
    "\t\n",
    "- All other nodes are said to be *internal nodes*, that is, they are internal to the tree\n",
    "    \n",
    "![](../img/leafs.png)"
   ]
  },
  {
   "cell_type": "markdown",
   "metadata": {
    "slideshow": {
     "slide_type": "slide"
    }
   },
   "source": [
    "### Leaf Nodes\n",
    "![](../img/nodes1.png)"
   ]
  },
  {
   "cell_type": "markdown",
   "metadata": {
    "slideshow": {
     "slide_type": "slide"
    }
   },
   "source": [
    "### Internal Nodes\n",
    "![](../img/nodes2.png)"
   ]
  },
  {
   "cell_type": "markdown",
   "metadata": {
    "slideshow": {
     "slide_type": "slide"
    }
   },
   "source": [
    "- These trees are equal if the order of the children is ignored (*unordered trees*)\n",
    "\n",
    "| | |\n",
    "|-|-|\n",
    "|![](../img/tree1.png)|![](../img/tree2.png)|\n",
    "\t\n",
    "\n",
    "- They are different if order is relevant (*ordered trees*)\n",
    "    - We will usually examine ordered trees (*linear orders*)\n",
    "    - In a hierarchical ordering, order is not relevant"
   ]
  },
  {
   "cell_type": "markdown",
   "metadata": {
    "slideshow": {
     "slide_type": "slide"
    }
   },
   "source": [
    "- The shape of a rooted tree gives a natural flow from the *root node*, or just **root**\n",
    "\n",
    "![](../img/flow.png)"
   ]
  },
  {
   "cell_type": "markdown",
   "metadata": {
    "slideshow": {
     "slide_type": "slide"
    }
   },
   "source": [
    "- A **path** is a sequence of nodes $(a_0, a_1, \\ldots, a_n)$\n",
    "    - where $a_{k + 1}$ is a child of $a_k$\n",
    "\t\n",
    "- The length of this path is $n$\t\n",
    "\t- E.g., the path $(B, E, G)$ has length 2\n",
    "    \n",
    "![](../img/path1.png)"
   ]
  },
  {
   "cell_type": "markdown",
   "metadata": {
    "slideshow": {
     "slide_type": "slide"
    }
   },
   "source": [
    "- Paths of length <span style=\"color:gold\">10 (11 nodes)</span> and <span style=\"color:red\">4 (5 nodes)</span>\n",
    "![](../img/path2.png)"
   ]
  },
  {
   "cell_type": "markdown",
   "metadata": {
    "slideshow": {
     "slide_type": "slide"
    }
   },
   "source": [
    "- For each node in a tree, there exists a unique path from the root node to that node\n",
    "\t\n",
    "- The length of this path is the **depth** of the node, e.g.,\n",
    "    - `E` has depth 2\n",
    "    - `L` has depth 3\n",
    "\n",
    "![](../img/depth1.png)"
   ]
  },
  {
   "cell_type": "markdown",
   "metadata": {
    "slideshow": {
     "slide_type": "slide"
    }
   },
   "source": [
    "- Nodes of depth up to 17\n",
    "\n",
    "![](../img/depth2.png)"
   ]
  },
  {
   "cell_type": "markdown",
   "metadata": {
    "slideshow": {
     "slide_type": "slide"
    }
   },
   "source": [
    "- The **height** of a tree is defined as the maximum depth of any node within the tree\n",
    "\n",
    "- The height of a tree with one node is 0\n",
    "    - Just the root node\n",
    "\n",
    "- For convenience, we define the height of the empty tree to be  –1"
   ]
  },
  {
   "cell_type": "markdown",
   "metadata": {
    "slideshow": {
     "slide_type": "slide"
    }
   },
   "source": [
    "- If a path exists from node $a$ to node $b$\n",
    "    - $a$ is an **ancestor** of $b$\n",
    "    - $b$ is a **descendent** of $a$\n",
    "\n",
    "- Thus, a node is both an ancestor and a descendant of itself\n",
    "    - We can add the adjective *strict* to exclude equality\n",
    "        - $a$ is a strict descendent of $b$ if $a$ is a descendant of $b$ but $a \\neq b$\n",
    "\n",
    "- The root node is an ancestor of all nodes"
   ]
  },
  {
   "cell_type": "markdown",
   "metadata": {
    "slideshow": {
     "slide_type": "slide"
    }
   },
   "source": [
    "- The ancestors of node `I` are `I`, `H`, and `A`:\n",
    "![](../img/ancs1.png)\n",
    "- The descendants of node `B` are `B`, `C`, `D`, `E`, `F`, and `G`:\n",
    "![](../img/ancs2.png)"
   ]
  },
  {
   "cell_type": "markdown",
   "metadata": {
    "slideshow": {
     "slide_type": "slide"
    }
   },
   "source": [
    "- Another approach to a tree is to define the tree recursively\n",
    "    - A degree $0$ node is a tree\n",
    "    - A node with degree $n$ is a tree if it has $n$ children and all of its children are disjoint trees (i.e., with no intersecting nodes)\n",
    "\n",
    "![](../img/subtree.png)\n",
    "\n",
    "- Given any node a within a tree with root $r$, the collection of $a$ and all of its descendants is said to\n",
    "be a subtree of the tree with root $a$"
   ]
  },
  {
   "cell_type": "markdown",
   "metadata": {
    "slideshow": {
     "slide_type": "slide"
    }
   },
   "source": [
    "## Example: XML\n",
    "\n",
    "- In general, any XML can be represented as a tree\n",
    "    - All XML tools make use of this feature\n",
    "    - Parsers convert XML into an internal tree structure\n",
    "    - XML transformation languages manipulate the tree structure\n",
    "        - E.g., XSLT"
   ]
  },
  {
   "cell_type": "markdown",
   "metadata": {
    "slideshow": {
     "slide_type": "slide"
    }
   },
   "source": [
    "- MathML: $x^2 + y^2 = z^2$\n",
    "\n",
    "```xml\n",
    "<math xmlns=\"http://www.w3.org/1998/Math/MathML\">\n",
    "  <semantics>\n",
    "    <mrow><mrow><msup><mi>x</mi><mn>2</mn></msup><mo>+</mo>\n",
    "    <msup><mi>y</mi><mn>2</mn></msup></mrow>\n",
    "    <mo>=</mo><msup><mi>z</mi><mn>2</mn></msup></mrow>\n",
    "    <annotation-xml encoding=\"MathML-Content\">\n",
    "      <apply><eq/>\n",
    "        <apply><plus/>\n",
    "          <apply><power/><ci>x</ci><cn>2</cn></apply>\n",
    "          <apply><power/><ci>y</ci><cn>2</cn></apply>\n",
    "        </apply>\n",
    "        <apply><power/><ci>z</ci><cn>2</cn></apply>\n",
    "      </apply>\n",
    "    </annotation-xml>\n",
    "    <annotation encoding=\"Maple\">x^2+y^2 = z^2</annotation>\n",
    "  </semantics>\n",
    "</math>\n",
    "```"
   ]
  },
  {
   "cell_type": "markdown",
   "metadata": {
    "slideshow": {
     "slide_type": "subslide"
    }
   },
   "source": [
    "- The tree structure for the same MathML expression is\n",
    "![](../img/mathml.png)"
   ]
  },
  {
   "cell_type": "markdown",
   "metadata": {
    "slideshow": {
     "slide_type": "subslide"
    }
   },
   "source": [
    "- Why use 500 characters to describe the equation\n",
    "$$x^2 + y^2 = z^2$$\n",
    "which, after all, is only twelve characters (counting spaces)?\n",
    "\n",
    "- The root contains three children, each different codings of:\n",
    "    - How it should look (presentation),\n",
    "    - What it means mathematically (content), and\n",
    "    - A translation to a specific language (Maple)"
   ]
  },
  {
   "cell_type": "markdown",
   "metadata": {
    "slideshow": {
     "slide_type": "slide"
    }
   },
   "source": [
    "## Hierarchical ADT\n",
    "\n",
    "- A hierarchical ordering of a finite number of objects may be stored in a tree data structure\n",
    "\n",
    "- Operations on a hierarchically stored container include\n",
    "    - Accessing the root\n",
    "    - Given an object in the container\n",
    "        - Access the parent of the current object\n",
    "        - Find the degree of the current object\n",
    "        - Get a reference to a child\n",
    "        - Attach a new sub-tree to the current object\n",
    "        - Detach this tree from its parent"
   ]
  },
  {
   "cell_type": "markdown",
   "metadata": {
    "slideshow": {
     "slide_type": "slide"
    }
   },
   "source": [
    "## Abstract Trees\n",
    "\n",
    "- An **abstract tree (or abstract hierarchy)** does not restrict the number of nodes\n",
    "    - In this tree, the degrees vary\n",
    "    \n",
    "| Degree  | Nodes   |\n",
    "|---------|---------|\n",
    "| 0       | C, E, F, G, J, K |\n",
    "| 1       | H |\n",
    "| 2       | A, D, I |\n",
    "| 3       | B |\n",
    "\n",
    "![](../img/tree.png) "
   ]
  },
  {
   "cell_type": "markdown",
   "metadata": {
    "slideshow": {
     "slide_type": "slide"
    }
   },
   "source": [
    "## List-based Implementation\n",
    "\n",
    "- We implement an abstract tree or hierarchy by using a class that:\n",
    "    - Stores a value\n",
    "    - Stores the children in a (linked) list"
   ]
  },
  {
   "cell_type": "code",
   "execution_count": null,
   "metadata": {
    "slideshow": {
     "slide_type": "slide"
    }
   },
   "outputs": [],
   "source": [
    "template <typename Type>\n",
    "class SimpleTree {\n",
    "private:\n",
    "    Type node_value;\n",
    "    SimpleTree *parent_node;\n",
    "    SinglyLinkedList<SimpleTree *> children;\n",
    "\n",
    "public:\n",
    "    SimpleTree( const Type& = Type(), SimpleTree* = nullptr );\n",
    "    ~SimpleTree();\n",
    "\n",
    "    Type value() const;\n",
    "    SimpleTree* parent() const;\n",
    "    int degree() const;\n",
    "    bool is_root() const;\n",
    "    bool is_leaf() const;\n",
    "    int height() const;\n",
    "    int size() const;\n",
    "    SimpleTree* child( int n ) const;\n",
    "\n",
    "    void insert( const Type& );\n",
    "    void attach( SimpleTree* );\n",
    "    void detach();\n",
    "    \n",
    "    void depth_first_traversal() const;\n",
    "};"
   ]
  },
  {
   "cell_type": "markdown",
   "metadata": {
    "slideshow": {
     "slide_type": "slide"
    }
   },
   "source": [
    "- The tree with six nodes would be stored as follows:\n",
    "![](../img/tree-adt.png)"
   ]
  },
  {
   "cell_type": "markdown",
   "metadata": {
    "slideshow": {
     "slide_type": "slide"
    }
   },
   "source": [
    "- Much of the functionality is similar to that of the `SinglyLinkedNode` class"
   ]
  },
  {
   "cell_type": "code",
   "execution_count": null,
   "metadata": {
    "slideshow": {
     "slide_type": "fragment"
    }
   },
   "outputs": [],
   "source": [
    "template <typename Type>\n",
    "SimpleTree<Type>::SimpleTree( const Type &obj, SimpleTree *p) :\n",
    "    node_value( obj ),\n",
    "    parent_node( p ) \n",
    "{\n",
    "    // Empty constructor\n",
    "}"
   ]
  },
  {
   "cell_type": "markdown",
   "metadata": {
    "slideshow": {
     "slide_type": "fragment"
    }
   },
   "source": [
    "- Even though the `children` list will remove all its content at the destructor call. We need explicitly delete all children from the list as they are represented by the pointer."
   ]
  },
  {
   "cell_type": "code",
   "execution_count": null,
   "metadata": {
    "slideshow": {
     "slide_type": "fragment"
    }
   },
   "outputs": [],
   "source": [
    "template <typename Type>\n",
    "SimpleTree<Type>::~SimpleTree() {\n",
    "    while ( !children.empty() ) {\n",
    "        auto ch = children.pop_front(); // remove child from tree node\n",
    "        delete ch; // delete child node\n",
    "    }\n",
    "}"
   ]
  },
  {
   "cell_type": "markdown",
   "metadata": {
    "slideshow": {
     "slide_type": "slide"
    }
   },
   "source": [
    "## Accessors"
   ]
  },
  {
   "cell_type": "code",
   "execution_count": null,
   "metadata": {
    "slideshow": {
     "slide_type": "fragment"
    }
   },
   "outputs": [],
   "source": [
    "template <typename Type>\n",
    "Type SimpleTree<Type>::value() const {\n",
    "    return node_value;\n",
    "}"
   ]
  },
  {
   "cell_type": "code",
   "execution_count": null,
   "metadata": {
    "slideshow": {
     "slide_type": "fragment"
    }
   },
   "outputs": [],
   "source": [
    "template <typename Type>\n",
    "SimpleTree<Type>* SimpleTree<Type>::parent() const {\n",
    "    return parent_node;\n",
    "}"
   ]
  },
  {
   "cell_type": "code",
   "execution_count": null,
   "metadata": {
    "slideshow": {
     "slide_type": "slide"
    }
   },
   "outputs": [],
   "source": [
    "template <typename Type>\n",
    "bool SimpleTree<Type>::is_root() const {\n",
    "    return ( parent() == nullptr );\n",
    "}"
   ]
  },
  {
   "cell_type": "code",
   "execution_count": null,
   "metadata": {
    "slideshow": {
     "slide_type": "fragment"
    }
   },
   "outputs": [],
   "source": [
    "template <typename Type>\n",
    "bool SimpleTree<Type>::is_leaf() const {\n",
    "    return ( degree() == 0 );\n",
    "}"
   ]
  },
  {
   "cell_type": "code",
   "execution_count": null,
   "metadata": {
    "slideshow": {
     "slide_type": "fragment"
    }
   },
   "outputs": [],
   "source": [
    "template <typename Type>\n",
    "int SimpleTree<Type>::degree() const {\n",
    "    return children.size();\n",
    "}"
   ]
  },
  {
   "cell_type": "markdown",
   "metadata": {
    "slideshow": {
     "slide_type": "slide"
    }
   },
   "source": [
    "- Accessing the $n^{th}$ child requires a for loop ($\\Theta(n)$):"
   ]
  },
  {
   "cell_type": "code",
   "execution_count": null,
   "metadata": {
    "slideshow": {
     "slide_type": "fragment"
    }
   },
   "outputs": [],
   "source": [
    "template <typename Type>\n",
    "SimpleTree<Type>* SimpleTree<Type>::child( int n ) const {\n",
    "    if ( n < 0 || n >= degree() ) {\n",
    "        return nullptr;\n",
    "    }\n",
    "\n",
    "    // Skip the first n - 1 children\n",
    "    SinglyLinkedNode< SimpleTree<Type>* >* child = children.begin();\n",
    "    // auto child = children.begin();\n",
    "    for ( int i = 1; i <= n; ++i ) {\n",
    "        child = child->next();\n",
    "    }\n",
    "\n",
    "    return child->value();\n",
    "}"
   ]
  },
  {
   "cell_type": "markdown",
   "metadata": {
    "slideshow": {
     "slide_type": "slide"
    }
   },
   "source": [
    "- To detach a tree from its parent\n",
    "    - If it is already a root, do nothing\n",
    "    - Otherwise, erase this object from the parent's list of children and set the parent pointer to zero "
   ]
  },
  {
   "cell_type": "code",
   "execution_count": null,
   "metadata": {
    "slideshow": {
     "slide_type": "fragment"
    }
   },
   "outputs": [],
   "source": [
    "template <typename Type>\n",
    "void SimpleTree<Type>::detach() {\n",
    "    if ( is_root() ) {\n",
    "        return;\n",
    "    }\n",
    "    parent()->children.remove( this );\n",
    "    parent_node = nullptr;\n",
    "}"
   ]
  },
  {
   "cell_type": "markdown",
   "metadata": {
    "slideshow": {
     "slide_type": "slide"
    }
   },
   "source": [
    "- Attaching an entirely new tree as a subtree, however, first requires us to check if the tree is not already a subtree of another node\n",
    "    - If so, we must detach it first and only then can we add it"
   ]
  },
  {
   "cell_type": "code",
   "execution_count": null,
   "metadata": {
    "slideshow": {
     "slide_type": "fragment"
    }
   },
   "outputs": [],
   "source": [
    "template <typename Type>\n",
    "void SimpleTree<Type>::attach( SimpleTree<Type> *tree ) {\n",
    "    if ( !tree->is_root() ) {\n",
    "        tree->detach();\n",
    "    }\n",
    "    tree->parent_node = this;\n",
    "    children.push_back( tree );\n",
    "}"
   ]
  },
  {
   "cell_type": "markdown",
   "metadata": {
    "slideshow": {
     "slide_type": "slide"
    }
   },
   "source": [
    "- Inserting a new object to become a child is similar to a linked list"
   ]
  },
  {
   "cell_type": "code",
   "execution_count": null,
   "metadata": {
    "slideshow": {
     "slide_type": "fragment"
    }
   },
   "outputs": [],
   "source": [
    "template <typename Type>\n",
    "void SimpleTree<Type>::insert( const Type& obj ) {\n",
    "    attach( new SimpleTree( obj, this ) );\n",
    "}"
   ]
  },
  {
   "cell_type": "markdown",
   "metadata": {
    "slideshow": {
     "slide_type": "slide"
    }
   },
   "source": [
    "## Size\n",
    "\n",
    "- Suppose we want to find the size of a tree\n",
    "    - An empty tree has size `0`, a tree with no children has size `1`\n",
    "    - Otherwise, the size is one plus the size of all the children"
   ]
  },
  {
   "cell_type": "code",
   "execution_count": null,
   "metadata": {
    "slideshow": {
     "slide_type": "fragment"
    }
   },
   "outputs": [],
   "source": [
    "template <typename Type>\n",
    "int SimpleTree<Type>::size() const {\n",
    "    if ( this == nullptr ) {\n",
    "        return 0;\n",
    "    }\n",
    "\n",
    "    int tree_size = 1;\n",
    "    for ( auto *child = children.begin(); child != nullptr; child = child->next() ) {\n",
    "        tree_size += child->value()->size();\n",
    "    }\n",
    "    return tree_size ;\n",
    "}"
   ]
  },
  {
   "cell_type": "markdown",
   "metadata": {
    "slideshow": {
     "slide_type": "slide"
    }
   },
   "source": [
    "## Array-based Implementation\n",
    "\n",
    "- Implementing a tree by storing the children in an array is similar, however, we must deal with the full structure\n",
    "    - A general tree using an array would have a constructor similar to"
   ]
  },
  {
   "cell_type": "code",
   "execution_count": null,
   "metadata": {
    "slideshow": {
     "slide_type": "fragment"
    }
   },
   "outputs": [],
   "source": [
    "template <typename Type>\n",
    "SimpleTree<Type>::SimpleTree( Type const &obj, SimpleTree *p ):\n",
    "    node_value( obj ),\n",
    "    parent_node( p ),\n",
    "    child_count( 0 ),\n",
    "    child_capacity( 4 ),\n",
    "    children( new (SimpleTree*)[child_capacity] )\n",
    "{\n",
    "    // Empty constructor\n",
    "}"
   ]
  },
  {
   "cell_type": "markdown",
   "metadata": {
    "slideshow": {
     "slide_type": "slide"
    }
   },
   "source": [
    "## Complexity\n",
    "\n",
    "- We can summarizes the performance of the linked-structure implementation of a tree.\n",
    "\n",
    "| Operation | Time |\n",
    "|----------:|:----:|\n",
    "|is_root, is_leaf| O(1) |\n",
    "|parent     | O(1) |\n",
    "|child(p)   | O(d) |\n",
    "|empty, degree | O(1) |\n",
    "|attach, detach, insert | O(1) |\n",
    "|height, size| O(n) |\n",
    "\n",
    "- where $d$ is the degree of a node $p$, the number of node's children, $n$ number of elements stored in the tree"
   ]
  },
  {
   "cell_type": "markdown",
   "metadata": {
    "slideshow": {
     "slide_type": "slide"
    }
   },
   "source": [
    "## Summary\n",
    "\n",
    "- We have looked at one implementation of a general tree\n",
    "    - store the value of each node\n",
    "    - store all the children in a linked list\n",
    "    - not an easy ($\\Theta(1)$) way to access children\n",
    "    - if we use an array, different problems..."
   ]
  },
  {
   "cell_type": "markdown",
   "metadata": {
    "slideshow": {
     "slide_type": "slide"
    }
   },
   "source": [
    "# Tree Traversals"
   ]
  },
  {
   "cell_type": "markdown",
   "metadata": {
    "slideshow": {
     "slide_type": "slide"
    }
   },
   "source": [
    "## Background\n",
    "\n",
    "- All the objects stored in an array or linked list can be accessed sequentially\n",
    "\n",
    "- When discussing deques, we introduced iterators in C++\n",
    "    - These allow the user to step through all the objects in a container\n",
    "\n",
    "- Question: How can we iterate through all the objects in a tree in a predictable and efficient manner?\n",
    "    - Requirements: $\\Theta(n)$ run time and $O(n)$ memory "
   ]
  },
  {
   "cell_type": "markdown",
   "metadata": {
    "slideshow": {
     "slide_type": "slide"
    }
   },
   "source": [
    "- We have already seen one traversal\n",
    "    - The **breadth-first traversal** visits all nodes at depth $k$ before proceeding onto depth $k + 1$\n",
    "    - Easy to implement using a queue\n",
    "\n",
    "- Another approach is to visit always go as deep as possible before visiting other siblings: **depth-first traversals**"
   ]
  },
  {
   "cell_type": "markdown",
   "metadata": {
    "slideshow": {
     "slide_type": "slide"
    }
   },
   "source": [
    "## Breadth-First Traversal\n",
    "\n",
    "- Breadth-first traversals visit all nodes at a given depth\n",
    "    - Can be implemented using a queue\n",
    "    - Run time is $\\Theta(n)$\n",
    "    - Memory is potentially expensive: maximum nodes at a given depth\n",
    "    - Order: `A B H C D G I E F J K`\n",
    "\n",
    "![](../img/bfs02.png)"
   ]
  },
  {
   "cell_type": "markdown",
   "metadata": {
    "slideshow": {
     "slide_type": "slide"
    }
   },
   "source": [
    "## Queue-base Implementation\n",
    "\n",
    "- The implementation was already discussed\n",
    "    - Create a queue and push the root node onto the queue\n",
    "    - While the queue is not empty\n",
    "        - Push all of its children of the front node onto the queue\n",
    "        - Pop the front node"
   ]
  },
  {
   "cell_type": "markdown",
   "metadata": {
    "slideshow": {
     "slide_type": "slide"
    }
   },
   "source": [
    "## Depth & Height\n",
    "\n",
    "- The **depth of node** is the number of its ancestors, excluding itself.\n",
    "\n",
    "- Suppose we want to find the height of a tree\n",
    "    - An empty tree has height `-1` and a tree with no children is height `0`\n",
    "    - Otherwise, the height is one plus the maximum height of any sub tree"
   ]
  },
  {
   "cell_type": "code",
   "execution_count": null,
   "metadata": {
    "slideshow": {
     "slide_type": "fragment"
    }
   },
   "outputs": [],
   "source": [
    "template <typename Type>\n",
    "int SimpleTree<Type>::height() const {\n",
    "    int tree_height = 0;\n",
    "    for ( auto *child = children.begin(); child != nullptr; child = child->next() ) {\n",
    "        tree_height = std::max( tree_height, 1 + child->value()->height() );\n",
    "    }\n",
    "    return tree_height;\n",
    "}"
   ]
  },
  {
   "cell_type": "markdown",
   "metadata": {
    "slideshow": {
     "slide_type": "slide"
    }
   },
   "source": [
    "- The `height` function is recursive in nature\n",
    "    - Before the children are traversed, we assume that the node has no children and we set the height to zero:  $h_{current} = 0$\n",
    "    - In recursively traversing the children, each child returns its height $h$ and we update the height if $1 + h > h_{current}$\n",
    "    - Once all children have been traversed, we return $h_{current}$\n",
    "\n",
    "- When the root returns a value, that is the height of the tree\n",
    "![](../img/height.png)"
   ]
  },
  {
   "cell_type": "markdown",
   "metadata": {
    "slideshow": {
     "slide_type": "slide"
    }
   },
   "source": [
    "### Example"
   ]
  },
  {
   "cell_type": "code",
   "execution_count": 3,
   "metadata": {
    "slideshow": {
     "slide_type": "fragment"
    }
   },
   "outputs": [],
   "source": [
    "// Create a tree\n",
    "TreeTraversals<char> t('A');\n",
    "t.insert('B'); t.insert('H');\n",
    "auto ch = t.child(0); ch->insert('C'); ch->insert('E');\n",
    "ch = t.child(0)->child(0); ch->insert('D');\n",
    "ch = t.child(0)->child(1); ch->insert('F'); ch->insert('G');\n",
    "ch = t.child(1); ch->insert('I'); ch->insert('M');\n",
    "ch = t.child(1)->child(0); ch->insert('J'); ch->insert('K'); ch->insert('L');"
   ]
  },
  {
   "cell_type": "code",
   "execution_count": 7,
   "metadata": {
    "slideshow": {
     "slide_type": "fragment"
    }
   },
   "outputs": [
    {
     "name": "stdout",
     "output_type": "stream",
     "text": [
      "A: height = 3\n",
      "B: height = 2\n",
      "B: depth = 1\n",
      "G: depth = 3\n"
     ]
    }
   ],
   "source": [
    "{\n",
    "    std::cout << t.value() << \": height = \" << t.height() << std::endl;\n",
    "    auto ch = (TreeTraversals<char>*)t.child(0);\n",
    "    std::cout << ch->value() << \": height = \" << ch->height() << std::endl;\n",
    "    std::cout << ch->value() << \": depth = \" << t.depth(ch) << std::endl;\n",
    "    ch = (TreeTraversals<char>*)(t.child(0)->child(1)->child(1));\n",
    "    std::cout << ch->value() << \": depth = \" << t.depth(ch) << std::endl;\n",
    "}"
   ]
  },
  {
   "cell_type": "markdown",
   "metadata": {
    "slideshow": {
     "slide_type": "slide"
    }
   },
   "source": [
    "## Backtracking\n",
    "\n",
    "- First, we will define a *backtracking* algorithm for stepping through a tree\n",
    "    - At any node, we proceed to the first child that has not yet been visited\n",
    "    - Or, if we have visited all the children (of which a leaf node is a special case), we *backtrack to the parent* and repeat this decision making process\n",
    "\t- We end once all the children of the root are visited\n",
    "\n",
    "![](../img/backtrack.png)"
   ]
  },
  {
   "cell_type": "markdown",
   "metadata": {
    "slideshow": {
     "slide_type": "slide"
    }
   },
   "source": [
    "## Depth-First Traversal\n",
    "\n",
    "- We define such a path as a depth-first traversal\n",
    "\n",
    "- We note that each node could be visited twice in such a scheme\n",
    "    - The first time the node is approached (before any children), **preorder traversal**\n",
    "    - The last time it is approached (after all children), **postorder traversal**\n",
    "    \n",
    "![](../img/dfs.png)    "
   ]
  },
  {
   "cell_type": "markdown",
   "metadata": {
    "slideshow": {
     "slide_type": "slide"
    }
   },
   "source": [
    "## Implementing depth-first traversals\n",
    "\n",
    "- Depth-first traversals can be implemented with recursion"
   ]
  },
  {
   "cell_type": "code",
   "execution_count": 36,
   "metadata": {
    "slideshow": {
     "slide_type": "fragment"
    }
   },
   "outputs": [],
   "source": [
    "template <typename Type>\n",
    "void SimpleTree<Type>::depth_first_traversal() const {\n",
    "    // Perform pre-visit operations on the value\n",
    "    std::cout << \"<\" << node_value << \">\";\n",
    "    // Perform a depth-first traversal on each of the children\n",
    "    for ( auto *child = children.begin(); child != nullptr; child = child->next() ) {\n",
    "       child->value()->depth_first_traversal();\n",
    "    }\n",
    "    // Perform post-visit operations on the value\n",
    "    std::cout << \"</\" << node_value << \">\";\n",
    "}"
   ]
  },
  {
   "cell_type": "markdown",
   "metadata": {
    "slideshow": {
     "slide_type": "slide"
    }
   },
   "source": [
    "- Alternatively, we can use a stack\n",
    "    - Create a stack and push the root node onto the stack\n",
    "    - While the stack is not empty\n",
    "        - Pop the top node \n",
    "        - Push all of the children of that node to the top of the stack in *reverse order*\n",
    "- Run time is $\\Theta(n)$\n",
    "    - The objects on the stack are all unvisited siblings from the root to the current node\n",
    "        - If each node has a maximum of two children, the memory required is $\\Theta(h)$\n",
    "            - where $h$ is the height of the tree\n",
    "\n",
    "- With the recursive implementation, the memory is $\\Theta(h)$\n",
    "    - recursion just hides the memory"
   ]
  },
  {
   "cell_type": "markdown",
   "metadata": {
    "slideshow": {
     "slide_type": "subslide"
    }
   },
   "source": [
    "### Example"
   ]
  },
  {
   "cell_type": "code",
   "execution_count": 11,
   "metadata": {
    "slideshow": {
     "slide_type": "fragment"
    }
   },
   "outputs": [
    {
     "name": "stdout",
     "output_type": "stream",
     "text": [
      "Preorder:\n",
      "<A><B><C><D><E><F><G><H><I><J><K><L><M>\n",
      "Postorder:\n",
      "</D></C></F></G></E></B></J></K></L></I></M></H></A>\n",
      "Depth First:\n",
      "<A><B><C><D></D></C><E><F></F><G></G></E></B><H><I><J></J><K></K><L></L></I><M></M></H></A>"
     ]
    }
   ],
   "source": [
    "std::cout << \"Preorder:\" << std::endl;\n",
    "t.depth_first_traversal(TreeTraversals<char>::Order::Pre);\n",
    "std::cout << \"\\nPostorder:\" << std::endl;\n",
    "t.depth_first_traversal(TreeTraversals<char>::Order::Post);\n",
    "std::cout << \"\\nDepth First:\" << std::endl;\n",
    "t.depth_first_traversal(TreeTraversals<char>::Order::Both);"
   ]
  },
  {
   "cell_type": "markdown",
   "metadata": {
    "slideshow": {
     "slide_type": "fragment"
    }
   },
   "source": [
    "![](../img/dfs.png)  "
   ]
  },
  {
   "cell_type": "markdown",
   "metadata": {
    "slideshow": {
     "slide_type": "slide"
    }
   },
   "source": [
    "## Guidelines\n",
    "\n",
    "- Depth-first traversals are used whenever\n",
    "    - The parent needs information about all its children or descendants, or\n",
    "    - The children require information about all its parent or ancestors\n",
    "\n",
    "- In designing a depth-first traversal, it is necessary to consider\n",
    "    - Before the children are traversed, what initializations, operations and calculations must be performed?\n",
    "\n",
    "- In recursively traversing the children\n",
    "    - What information must be passed to the children during the recursive call?\n",
    "    - What information must the children pass back, and how must this information be collated?\n",
    "    - Once all children have been traversed, what operations and calculations depend on information collated during the recursive traversals?\n",
    "    - What information must be passed back to the parent?"
   ]
  },
  {
   "cell_type": "markdown",
   "metadata": {
    "slideshow": {
     "slide_type": "slide"
    }
   },
   "source": [
    "## Printing a Hierarchy\n",
    "\n",
    "- Consider the directory structure presented on the left \n",
    "    - How do we display this in the format on the right?\n",
    "\n",
    "| | |\n",
    "|-|-|\n",
    "| ![](../img/dirs1.png) | ![](../img/dirs2.png) |\n",
    "\n",
    "\n",
    "- What do we do at each step?"
   ]
  },
  {
   "cell_type": "markdown",
   "metadata": {
    "slideshow": {
     "slide_type": "slide"
    }
   },
   "source": [
    "- For a directory, we initialize a tab level at the root to `0`\n",
    "- We then do\n",
    "    - Before the children are traversed, we must\n",
    "        - Indent an appropriate number of tabs, and\n",
    "        - Print the name of the directory followed by a `/`\n",
    "    - In recursively traversing the children\n",
    "        - A value of one plus the current tab level must be passed to the children, and\n",
    "        - No information must be passed back\n",
    "    - Once all children have been traversed, we are finished"
   ]
  },
  {
   "cell_type": "markdown",
   "metadata": {
    "slideshow": {
     "slide_type": "slide"
    }
   },
   "source": [
    "- Assume the function `void print_tabs( int n )` prints `n` tabs"
   ]
  },
  {
   "cell_type": "code",
   "execution_count": null,
   "metadata": {
    "slideshow": {
     "slide_type": "fragment"
    }
   },
   "outputs": [],
   "source": [
    "template <typename Type>\n",
    "void SimpleTree<Type>::print( int depth ) const {\n",
    "    print_tabs( depth );    \n",
    "    std::cout << value()->directory_name() << '/' << std::endl;\n",
    "\n",
    "    for ( auto *child = children.begin(); child != nullptr; child = child->next() ) {\n",
    "        child->value()->print( depth + 1 );\n",
    "    }\n",
    "}"
   ]
  },
  {
   "cell_type": "markdown",
   "metadata": {
    "slideshow": {
     "slide_type": "subslide"
    }
   },
   "source": [
    "### Example"
   ]
  },
  {
   "cell_type": "code",
   "execution_count": 10,
   "metadata": {
    "slideshow": {
     "slide_type": "fragment"
    }
   },
   "outputs": [
    {
     "name": "stdout",
     "output_type": "stream",
     "text": [
      "A/\n",
      "\tB/\n",
      "\t\tC/\n",
      "\t\t\tD/\n",
      "\t\tE/\n",
      "\t\t\tF/\n",
      "\t\t\tG/\n",
      "\tH/\n",
      "\t\tI/\n",
      "\t\t\tJ/\n",
      "\t\t\tK/\n",
      "\t\t\tL/\n",
      "\t\tM/\n",
      "\n"
     ]
    }
   ],
   "source": [
    "std::cout << t << std::endl;    "
   ]
  }
 ],
 "metadata": {
  "celltoolbar": "Slideshow",
  "kernelspec": {
   "display_name": "C++17",
   "language": "C++17",
   "name": "xcpp17"
  },
  "language_info": {
   "codemirror_mode": "text/x-c++src",
   "file_extension": ".cpp",
   "mimetype": "text/x-c++src",
   "name": "c++",
   "version": "17"
  }
 },
 "nbformat": 4,
 "nbformat_minor": 4
}
