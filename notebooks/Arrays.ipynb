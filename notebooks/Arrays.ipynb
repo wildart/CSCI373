{
 "cells": [
  {
   "cell_type": "code",
   "execution_count": 9,
   "metadata": {
    "slideshow": {
     "slide_type": "skip"
    }
   },
   "outputs": [],
   "source": [
    "#include <iostream>\n",
    "#include <iomanip>\n",
    "using namespace std;\n",
    "cout << boolalpha; "
   ]
  },
  {
   "cell_type": "markdown",
   "metadata": {
    "slideshow": {
     "slide_type": "slide"
    }
   },
   "source": [
    "# Arrays"
   ]
  },
  {
   "cell_type": "markdown",
   "metadata": {
    "slideshow": {
     "slide_type": "slide"
    }
   },
   "source": [
    "## Memory Allocation\n",
    "\n",
    "- Memory allocation can be classified as either\n",
    "    - Contiguous\n",
    "    - Linked\n",
    "    - Indexed\n",
    "\n",
    "- Prototypical examples:\n",
    "    - Contiguous allocation: arrays\n",
    "    - Linked allocation: linked lists"
   ]
  },
  {
   "cell_type": "markdown",
   "metadata": {
    "slideshow": {
     "slide_type": "slide"
    }
   },
   "source": [
    "## Contiguous Allocation\n",
    "\n",
    "- An array stores *n* objects in a single contiguous space of memory\n",
    "- Unfortunately, if more memory is required, a request for new memory usually requires copying all information into the new memory\n",
    "    - In general, you cannot request for the operating system to allocate to you the next *n* memory locations"
   ]
  },
  {
   "cell_type": "markdown",
   "metadata": {
    "slideshow": {
     "slide_type": "slide"
    }
   },
   "source": [
    "## Linked Allocation\n",
    "\n",
    "- Linked storage such as a linked list associates two pieces of data with each item being stored:\n",
    "    - The object itself, and\n",
    "    - A reference to the next item\n",
    "        - In C++ that reference is the address of the next node"
   ]
  },
  {
   "cell_type": "markdown",
   "metadata": {
    "slideshow": {
     "slide_type": "slide"
    }
   },
   "source": [
    "## Indexed Allocation\n",
    "\n",
    "- With indexed allocation, an array of pointers (possibly NULL) link to a sequence of allocated memory locations\n",
    "\n",
    "- Used in the C++ standard template library\n",
    "\n",
    "- Matrices can be implemented using indexed allocation:\n",
    "    - Most implementations of matrices (or higher-dimensional arrays) use indices pointing into a single contiguous block of memory"
   ]
  },
  {
   "cell_type": "markdown",
   "metadata": {
    "slideshow": {
     "slide_type": "slide"
    }
   },
   "source": [
    "## Other Allocation Formats\n",
    "\n",
    "- We will look at some variations or hybrids of these memory allocations including:\n",
    "    - Trees\n",
    "    - Graphs\n",
    "    - Deques (linked arrays)\n",
    "    - inodes"
   ]
  },
  {
   "cell_type": "markdown",
   "metadata": {
    "slideshow": {
     "slide_type": "slide"
    }
   },
   "source": [
    "## Linear List\n",
    "\n",
    "- *Linear list* is a data object whose instances are of the form ($e_1,e_2,\\ldots,e_n$)\n",
    "    - $e_i$ is an element of the list\n",
    "    - $e_1$ is the first element, and $e_n$ is the last element\n",
    "    - $n$ is the length of the list\n",
    "    - when $n = 0$, it is called an empty list.\n",
    "    - $e_1$ comes before $e_2$, $e_2$ comes before $e_3$, and so on.\n",
    "- Examples\n",
    "    - student names order by their alphabets\n",
    "    - a list of exam scores sorted by descending order"
   ]
  },
  {
   "cell_type": "markdown",
   "metadata": {
    "slideshow": {
     "slide_type": "slide"
    }
   },
   "source": [
    "## Implementations of Linear List\n",
    "\n",
    "- Array-based (Formula-based)\n",
    "    - Uses a mathematical formula to determine where (i.e., the memory address) to store each element of a list\n",
    "- Linked list (Pointer-based)\n",
    "    - The elements of a list may be stored in any arbitrary set of locations\n",
    "    - Each element has an explicit pointer (or link) to the next element\n",
    "- Indirect addressing\n",
    "    - The elements of a list may be stored in any arbitrary set of locations\n",
    "    - Maintain a table such that the ith table entry tells us where the ith element is stored\n",
    "- Simulated pointer\n",
    "    - Similar to linked representation but integers replace the C++ pointers"
   ]
  },
  {
   "cell_type": "markdown",
   "metadata": {
    "slideshow": {
     "slide_type": "slide"
    }
   },
   "source": [
    "## ArrayList\n",
    "\n",
    "- The **Vector** or **Array List ADT** extends the notion of array by storing a sequence of objects\n",
    "- It uses an array to store the elements of linear list.\n",
    "- An element can be accessed, inserted or removed by specifying its index (number of elements preceding it)\n",
    "- An exception is thrown if an incorrect index is given (e.g., a negative index)\n",
    "- Individual element is located in the array using a mathematical formula.\n",
    "    - typical formula: **location(i) = i - 1**"
   ]
  },
  {
   "cell_type": "markdown",
   "metadata": {
    "slideshow": {
     "slide_type": "slide"
    }
   },
   "source": [
    "## ArrayList Itreface\n",
    "\n",
    "- Main methods:\n",
    "    - `at(integer i)`: returns the element at index `i` without removing it\n",
    "    - `set(integer i, object o)`: replace the element at index `i` with `o`\n",
    "    - `insert(integer i, object o)`: insert a new element `o` to have index `i`\n",
    "    - `erase(integer i)`: removes element at index `i`\n",
    "\n",
    "- Additional methods:\n",
    "    - `size()`\n",
    "    - `max_size()`\n",
    "    - `empty()`"
   ]
  },
  {
   "cell_type": "markdown",
   "metadata": {
    "slideshow": {
     "slide_type": "slide"
    }
   },
   "source": [
    "## Applications of Array Lists\n",
    "\n",
    "- Direct applications\n",
    "    - Sorted collection of objects (elementary database)\n",
    "    - Indirect applications\n",
    "- Auxiliary data structure for algorithms\n",
    "    - Component of other data structures"
   ]
  },
  {
   "cell_type": "markdown",
   "metadata": {
    "slideshow": {
     "slide_type": "slide"
    }
   },
   "source": [
    "## Array-based Implementation\n",
    "\n",
    "- Use a static array `A` of size `N`\n",
    "- A variable `n` keeps track of the size of the array list (number of elements stored)\n",
    "- Operation `at(i)` is implemented in $O(1)$ time by returning `A[i]`\n",
    "- Operation `set(i,o)` is implemented in $O(1)$ time by performing `A[i] = o`\n",
    "\n",
    "![](img/arraylist.png)"
   ]
  },
  {
   "cell_type": "code",
   "execution_count": null,
   "metadata": {
    "slideshow": {
     "slide_type": "slide"
    }
   },
   "outputs": [],
   "source": [
    "template <typename T>\n",
    "class ArrayList {\n",
    "protected:\n",
    "    int n;       // current size\n",
    "    int N;       // maximum allowed size\n",
    "    T* elements; // storage for the objects\n",
    "public:\n",
    "    ArrayList(int size = 10) : n{0}, N{size} {\n",
    "        elements = new T[N];\n",
    "    }\n",
    "    ~ArrayList() {\n",
    "        delete[] elements;\n",
    "    }\n",
    "    // Capacity\n",
    "    bool empty() const;\n",
    "    int size() const;\n",
    "    int max_size() const;\n",
    "    // Element access\n",
    "    T at(int i) const;\n",
    "    void set(int i, T o);\n",
    "    // Modifiers\n",
    "    void insert(int i, T o);\n",
    "    void erase(int i);\n",
    "};"
   ]
  },
  {
   "cell_type": "markdown",
   "metadata": {
    "slideshow": {
     "slide_type": "slide"
    }
   },
   "source": [
    "## Insertion\n",
    "\n",
    "- In operation `insert(i, o)`, we need to make room for the new element in the $i$th position\n",
    "    - by shifting forward the $n-i$ elements $A[i], \\ldots, A[n - 1]$\n",
    "- In the worst case *(i = 0)*, this takes $O(n)$ time\n",
    "\n",
    "![](../img/arraylist-insert.png)"
   ]
  },
  {
   "cell_type": "code",
   "execution_count": 2,
   "metadata": {
    "slideshow": {
     "slide_type": "slide"
    }
   },
   "outputs": [
    {
     "name": "stdout",
     "output_type": "stream",
     "text": [
      "Current size: 0\n",
      "Max size: 10\n",
      "Empty: true\n"
     ]
    }
   ],
   "source": [
    "#include \"../src/ArrayList.h\"\n",
    "\n",
    "ArrayList<int> al;\n",
    "cout << \"Current size: \" << al.size() << endl;\n",
    "cout << \"Max size: \" << al.max_size() << endl;\n",
    "cout << \"Empty: \" << al.empty() << endl;"
   ]
  },
  {
   "cell_type": "code",
   "execution_count": 3,
   "metadata": {
    "slideshow": {
     "slide_type": "fragment"
    }
   },
   "outputs": [
    {
     "name": "stdout",
     "output_type": "stream",
     "text": [
      "ArrayList: 1\n"
     ]
    }
   ],
   "source": [
    "al.insert(0, 1);\n",
    "cout << \"ArrayList: \"; al.print(); cout << endl;"
   ]
  },
  {
   "cell_type": "code",
   "execution_count": 4,
   "metadata": {
    "slideshow": {
     "slide_type": "fragment"
    }
   },
   "outputs": [
    {
     "name": "stdout",
     "output_type": "stream",
     "text": [
      "ArrayList: 2-1\n"
     ]
    }
   ],
   "source": [
    "al.insert(0, 2);\n",
    "cout << \"ArrayList: \"; al.print(); cout << endl;"
   ]
  },
  {
   "cell_type": "code",
   "execution_count": 5,
   "metadata": {
    "slideshow": {
     "slide_type": "fragment"
    }
   },
   "outputs": [
    {
     "name": "stdout",
     "output_type": "stream",
     "text": [
      "ArrayList: 2-3-1\n",
      "Current size: 3\n"
     ]
    }
   ],
   "source": [
    "al.insert(1, 3);\n",
    "cout << \"ArrayList: \"; al.print(); cout << endl;\n",
    "cout << \"Current size: \" << al.size() << endl;"
   ]
  },
  {
   "cell_type": "markdown",
   "metadata": {
    "slideshow": {
     "slide_type": "slide"
    }
   },
   "source": [
    "## Element Removal\n",
    "\n",
    "- In operation `erase(i)`, we need to fill the hole left by the removed element\n",
    "    - by shifting backward the $n - i - 1$ elements $A[i + 1], \\ldots, A[n - 1]$.\n",
    "- In the worst case $(i = 0)$, this takes $O(n)$ time\n",
    "\n",
    "![](../img/arraylist-erase.png)"
   ]
  },
  {
   "cell_type": "code",
   "execution_count": 6,
   "metadata": {
    "slideshow": {
     "slide_type": "slide"
    }
   },
   "outputs": [
    {
     "name": "stdout",
     "output_type": "stream",
     "text": [
      "ArrayList: 2-3-4-1\n",
      "Current size: 4\n"
     ]
    }
   ],
   "source": [
    "al.insert(2, 4);\n",
    "cout << \"ArrayList: \"; al.print(); cout << endl;\n",
    "cout << \"Current size: \" << al.size() << endl;"
   ]
  },
  {
   "cell_type": "code",
   "execution_count": 7,
   "metadata": {
    "slideshow": {
     "slide_type": "fragment"
    }
   },
   "outputs": [
    {
     "name": "stdout",
     "output_type": "stream",
     "text": [
      "ArrayList: 2-4-1\n",
      "Current size: 3\n"
     ]
    }
   ],
   "source": [
    "al.erase(1);\n",
    "cout << \"ArrayList: \"; al.print(); cout << endl;\n",
    "cout << \"Current size: \" << al.size() << endl;"
   ]
  },
  {
   "cell_type": "code",
   "execution_count": 8,
   "metadata": {
    "slideshow": {
     "slide_type": "fragment"
    }
   },
   "outputs": [
    {
     "name": "stdout",
     "output_type": "stream",
     "text": [
      "ArrayList: 4-1\n",
      "Current size: 2\n"
     ]
    }
   ],
   "source": [
    "al.erase(0);\n",
    "cout << \"ArrayList: \"; al.print(); cout << endl;\n",
    "cout << \"Current size: \" << al.size() << endl;"
   ]
  },
  {
   "cell_type": "markdown",
   "metadata": {
    "slideshow": {
     "slide_type": "slide"
    }
   },
   "source": [
    "## Performance\n",
    "\n",
    "- In the array based implementation of an array list:\n",
    "    - The space used by the data structure is $O(n)$ (linear)\n",
    "    - `size`, `empty`, `at` and `set` run in $O(1)$ (constant) time\n",
    "    - `insert` and `erase` run in $O(n)$ (linear) time in worst case\n",
    "- If we use the array in a circular fashion, operations `insert(0, x)` and `erase(0, x)` run in $O(1)$ time\n",
    "- In an `insert` operation, when the array is full, instead of throwing an exception, we can replace the array with a larger one"
   ]
  },
  {
   "cell_type": "markdown",
   "metadata": {
    "slideshow": {
     "slide_type": "slide"
    }
   },
   "source": [
    "## Tabular Representation\n",
    "\n",
    "- Data is often available in tabular form\n",
    "- Tabular data is often represented in arrays\n",
    "- Matrix is an example of tabular data and is often represented as a 2-dimensional array\n",
    "    - Matrices are normally indexed beginning at 1 rather than 0\n",
    "    - Matrices also support operations such as `add`, `multiply`, and `transpose`, which are NOT supported by C++’s 2D array\n",
    "    \n",
    "- It is possible to **reduce time and space** using a customized representation of multidimensional arrays\n",
    "    - Row- and column-major mapping and representations of multidimensional arrays\n",
    "    - Special matrices: diagonal, tridiagonal, triangular, symmetric, sparse"
   ]
  },
  {
   "cell_type": "markdown",
   "metadata": {
    "slideshow": {
     "slide_type": "slide"
    }
   },
   "source": [
    "## 2D Arrays\n",
    "\n",
    "The elements of a 2-dimensional array a declared as:\n",
    "\n",
    "```cpp\n",
    "int a[3][4];\n",
    "```\n",
    "\n",
    "may be shown as a table\n",
    "\n",
    "    a[0][0]     a[0][1]    a[0][2]    a[0][3]\n",
    "    a[1][0]     a[1][1]    a[1][2]    a[1][3]\n",
    "    a[2][0]     a[2][1]    a[2][2]    a[2][3]\n",
    "    \n",
    "- we can use either rows or columns"
   ]
  },
  {
   "cell_type": "markdown",
   "metadata": {
    "slideshow": {
     "slide_type": "slide"
    }
   },
   "source": [
    "## Jagged Arrays\n",
    "\n",
    "- A **jagged array** is an array whose elements are **arrays**\n",
    "    - The elements of a jagged array can be of different dimensions and sizes\n",
    "    - A jagged array is sometimes called an **array of arrays**\n",
    "    \n",
    "- Represent 2D array as a **1D array of rows** and store as 3 1D arrays  \n",
    "\n",
    "```cpp\n",
    "int row0[]{1, 2, 3, 4};\n",
    "int row1[]{5, 6, 7, 8};\n",
    "int row2[]{9, 8, 7, 6};\n",
    "int* x[]{row0, row1, row2}; // 4 separate 1D array\n",
    "```"
   ]
  },
  {
   "cell_type": "code",
   "execution_count": 11,
   "metadata": {
    "slideshow": {
     "slide_type": "slide"
    }
   },
   "outputs": [
    {
     "name": "stdout",
     "output_type": "stream",
     "text": [
      "x[1][1] = f\n",
      "x[2][3] = z\n"
     ]
    }
   ],
   "source": [
    "char row0[]{'a', 'b', 'c', 'd'};\n",
    "char row1[]{'e', 'f', 'j', 'h'};\n",
    "char row2[]{'w', 'x', 'y', 'z'};\n",
    "char* x[]{row0, row1, row2};\n",
    "\n",
    "cout << \"x[1][1] = \" << (x[1])[1] << endl;\n",
    "cout << \"x[2][3] = \" << x[2][3] << endl;"
   ]
  },
  {
   "cell_type": "markdown",
   "metadata": {
    "slideshow": {
     "slide_type": "slide"
    }
   },
   "source": [
    "## Array Representation in C++\n",
    "\n",
    "- Requires contiguous memory of size 3, 4, 4, and 4 for the 4 1D arrays.\n",
    "- 1 memory block of size **number of rows** and **number of rows** blocks of size **number of columns**\n",
    "- space overhead = (number of rows + 1) x 4 bytes\n",
    "    - overhead for 3 1D arrays = 4 * 4 bytes = 16 bytes"
   ]
  },
  {
   "cell_type": "markdown",
   "metadata": {
    "slideshow": {
     "slide_type": "slide"
    }
   },
   "source": [
    "## Row-Major Order\n",
    "\n",
    "    a b c d\n",
    "    e f g h\n",
    "    w x y z\n",
    "\n",
    "- Convert 2D into 1D array y by collecting elements by rows\n",
    "- Within a row elements are collected from left to right\n",
    "- Rows are collected from top to bottom\n",
    "    - y[] = {a, b, c, d, e, f, g, h, w, x, y, z}"
   ]
  },
  {
   "cell_type": "markdown",
   "metadata": {
    "slideshow": {
     "slide_type": "slide"
    }
   },
   "source": [
    "## Locating Element x[i][j]\n",
    "\n",
    "- assume $x$ has $r$ rows and $c$ columns\n",
    "- each row has $c$ elements\n",
    "- $i$ rows to the left of row $i$\n",
    "    - so $ic$ elements to the left of $x[i][0]$\n",
    "- $x[i][j]$ is mapped to position  $ic + j$ of the 1D array"
   ]
  },
  {
   "cell_type": "code",
   "execution_count": 17,
   "metadata": {
    "slideshow": {
     "slide_type": "slide"
    }
   },
   "outputs": [],
   "source": [
    "char y[12]; // convert to row-major order\n",
    "int k = 0, r = 3, c = 4;\n",
    "for (int i=0;i<r; i++)       // iterate through rows\n",
    "    for (int j=0;j<c; j++) { // iterate through columns\n",
    "        y[k] = x[i][j];\n",
    "        k++;\n",
    "    }"
   ]
  },
  {
   "cell_type": "code",
   "execution_count": 18,
   "metadata": {
    "slideshow": {
     "slide_type": "fragment"
    }
   },
   "outputs": [
    {
     "name": "stdout",
     "output_type": "stream",
     "text": [
      "y[] = { a, b, c, d, e, f, j, h, w, x, y, z, }"
     ]
    }
   ],
   "source": [
    "cout << \"y[] = { \";\n",
    "for (auto e : y)\n",
    "    cout << e << \", \";\n",
    "cout << \"}\";"
   ]
  },
  {
   "cell_type": "code",
   "execution_count": 14,
   "metadata": {
    "slideshow": {
     "slide_type": "fragment"
    }
   },
   "outputs": [
    {
     "name": "stdout",
     "output_type": "stream",
     "text": [
      "x[i][j] = z\n",
      "y[i*c+j] = z\n"
     ]
    }
   ],
   "source": [
    "int i = 2, j = 3;\n",
    "cout << \"x[i][j] = \" << x[i][j] << endl;\n",
    "cout << \"y[i*c+j] = \" << y[i*c+j] << endl;"
   ]
  },
  {
   "cell_type": "markdown",
   "metadata": {
    "slideshow": {
     "slide_type": "slide"
    }
   },
   "source": [
    "## Column-Major Order\n",
    "\n",
    "    a b c d\n",
    "    e f g h\n",
    "    w x y z\n",
    "\n",
    "- Convert 2D into 1D array y by collecting elements by columns\n",
    "- Within a column elements are collected from top to bottom\n",
    "- Columns are collected from left to right\n",
    "    - y[] = {a, e, w, b, f, x, c, g, y, d, h, z}"
   ]
  },
  {
   "cell_type": "code",
   "execution_count": 19,
   "metadata": {
    "slideshow": {
     "slide_type": "slide"
    }
   },
   "outputs": [],
   "source": [
    "char y[12]; // convert to column-major order\n",
    "int k = 0, r = 3, c = 4;\n",
    "for (int j=0;j<c; j++)       // iterate through columns\n",
    "    for (int i=0;i<r; i++) { // iterate through rows    \n",
    "        y[k] = x[i][j];\n",
    "        k++;\n",
    "    }"
   ]
  },
  {
   "cell_type": "code",
   "execution_count": 20,
   "metadata": {
    "slideshow": {
     "slide_type": "fragment"
    }
   },
   "outputs": [
    {
     "name": "stdout",
     "output_type": "stream",
     "text": [
      "y[] = { a, e, w, b, f, x, c, j, y, d, h, z, }"
     ]
    }
   ],
   "source": [
    "cout << \"y[] = { \";\n",
    "for (auto e : y)\n",
    "    cout << e << \", \";\n",
    "cout << \"}\";"
   ]
  },
  {
   "cell_type": "code",
   "execution_count": 21,
   "metadata": {
    "slideshow": {
     "slide_type": "fragment"
    }
   },
   "outputs": [
    {
     "name": "stdout",
     "output_type": "stream",
     "text": [
      "x[i][j] = h\n",
      "y[i+r*j] = h\n"
     ]
    }
   ],
   "source": [
    "int i = 1, j = 3;\n",
    "cout << \"x[i][j] = \" << x[i][j] << endl;\n",
    "cout << \"y[i+r*j] = \" << y[i+r*j] << endl;"
   ]
  },
  {
   "cell_type": "markdown",
   "metadata": {
    "slideshow": {
     "slide_type": "slide"
    }
   },
   "source": [
    "## Row- and Column-Major Mappings\n",
    "\n",
    "- Row-major order mapping functions\n",
    "    - for 2D arrays: $map(i_1,i_2) = i_1 c_2+i_2$\n",
    "\t- for 3D arrays: $map(i_1,i_2,i_3) = i_1 c_2 c_3 + i_2 c_3 + i_3$\n",
    "\n",
    "- What is the mapping function for the following 2D array?\n",
    "```\n",
    "    1  2  3  4  5  6\n",
    "    7  8  9 10 11 12\n",
    "   13 14 15 16 17 18\n",
    "```"
   ]
  },
  {
   "cell_type": "markdown",
   "metadata": {
    "slideshow": {
     "slide_type": "fragment"
    }
   },
   "source": [
    "- Answer: $map(i_1,i_2) = 6i_1+i_2$, so $map(2,3) = ?$\n",
    "- Column-major order mapping functions\n",
    "\t- do this as an exercise"
   ]
  },
  {
   "cell_type": "markdown",
   "metadata": {
    "slideshow": {
     "slide_type": "slide"
    }
   },
   "source": [
    "## Dynamic Allocation of Matrices\n",
    "\n",
    "- If the dimensions of a two-dimensional array are not known in advance, it is necessary to allocate the array dynamically.\n",
    "- The matrix is an array of row pointers. Since each row pointer is of type **int***, the matrix is of type **int****, that is, a pointer to a pointer of integers."
   ]
  },
  {
   "cell_type": "code",
   "execution_count": 2,
   "metadata": {
    "slideshow": {
     "slide_type": "fragment"
    }
   },
   "outputs": [],
   "source": [
    "int n = 3, m = 4;\n",
    "int** M = new int*[n]; // allocate an array of row pointers\n",
    "for (int i = 0; i < n; i++) {\n",
    "    M[i] = new int[m]; // allocate the i-th row\n",
    "    for (int j = 0; j < m; j++)\n",
    "        M[i][j] = i*10+j; // initialize with some data (optional)\n",
    "}"
   ]
  },
  {
   "cell_type": "markdown",
   "metadata": {
    "slideshow": {
     "slide_type": "slide"
    }
   },
   "source": [
    "## Dynamic Allocation of Matrices (cont.)\n",
    "- Once allocated, we can access its elements just as before, for example, as `M[i][j]`"
   ]
  },
  {
   "cell_type": "code",
   "execution_count": 3,
   "metadata": {
    "slideshow": {
     "slide_type": "fragment"
    }
   },
   "outputs": [
    {
     "name": "stdout",
     "output_type": "stream",
     "text": [
      "M[2][3] = 23\n"
     ]
    }
   ],
   "source": [
    "cout << \"M[2][3] = \" << M[2][3] << endl;"
   ]
  },
  {
   "cell_type": "markdown",
   "metadata": {
    "slideshow": {
     "slide_type": "fragment"
    }
   },
   "source": [
    "Deallocating the matrix involves reversing these steps\n",
    "- First, we deallocate each of the rows, one by one\n",
    "- Then deallocate the array of row pointers\n",
    "- Since we are deleting an array, we use the command `delete[]`"
   ]
  },
  {
   "cell_type": "code",
   "execution_count": 4,
   "metadata": {
    "slideshow": {
     "slide_type": "fragment"
    }
   },
   "outputs": [],
   "source": [
    "for (int i = 0; i < n; i++)\n",
    "    delete[] M[i]; // delete the i-th row\n",
    "delete[] M;        // delete the array of row pointers"
   ]
  }
 ],
 "metadata": {
  "celltoolbar": "Slideshow",
  "kernelspec": {
   "display_name": "C++14",
   "language": "C++14",
   "name": "xcpp14"
  },
  "language_info": {
   "codemirror_mode": "text/x-c++src",
   "file_extension": ".cpp",
   "mimetype": "text/x-c++src",
   "name": "c++",
   "version": "14"
  },
  "rise": {
   "enable_chalkboard": true
  }
 },
 "nbformat": 4,
 "nbformat_minor": 4
}
