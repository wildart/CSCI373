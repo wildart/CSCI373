{
 "cells": [
  {
   "cell_type": "code",
   "execution_count": 1,
   "metadata": {
    "slideshow": {
     "slide_type": "skip"
    }
   },
   "outputs": [],
   "source": [
    "#include <iostream>\n",
    "#include <cmath>\n",
    "#include <algorithm>"
   ]
  },
  {
   "cell_type": "markdown",
   "metadata": {
    "slideshow": {
     "slide_type": "slide"
    }
   },
   "source": [
    "# Balanced Trees"
   ]
  },
  {
   "cell_type": "markdown",
   "metadata": {
    "slideshow": {
     "slide_type": "slide"
    }
   },
   "source": [
    "- Run times depend on the height of the trees\n",
    "\n",
    "- As was noted in the previous sections\n",
    "    - The best case height is $\\Theta(\\ln(n))$\n",
    "    - The worst case height is $\\Theta(n)$\n",
    "\n",
    "- The average height of a randomly generated binary search tree is actually $\\Theta(\\ln(n))$\n",
    "    - However, following random insertions and erases, the average height tends to increase to $\\Theta(\\sqrt n)$"
   ]
  },
  {
   "cell_type": "markdown",
   "metadata": {
    "slideshow": {
     "slide_type": "slide"
    }
   },
   "source": [
    "## Balance\n",
    "\n",
    "- We want to ensure that the run times never fall into $\\omega(\\ln(n))$\n",
    "\n",
    "- Requirement:\n",
    "    - We must maintain a height which is $\\Theta(\\ln(n))$\n",
    "\n",
    "- To do this, we will define an idea of **balance**"
   ]
  },
  {
   "cell_type": "markdown",
   "metadata": {
    "slideshow": {
     "slide_type": "slide"
    }
   },
   "source": [
    "- For a perfect tree, all nodes have the same number of descendants on each side\n",
    "\n",
    "![](../img/bt-perfect.png)\n",
    "\n",
    "- Perfect binary trees are balanced while linked lists are not"
   ]
  },
  {
   "cell_type": "markdown",
   "metadata": {
    "slideshow": {
     "slide_type": "slide"
    }
   },
   "source": [
    "- This binary tree would also probably not be considered to be \"balanced\" at the root node\n",
    "\n",
    "![](../img/bt-unbalanced.png)"
   ]
  },
  {
   "cell_type": "markdown",
   "metadata": {
    "slideshow": {
     "slide_type": "slide"
    }
   },
   "source": [
    "- How about this example?\n",
    "\n",
    "![](../img/bt-unbalanced2.png)\n",
    "\n",
    "- The root seems balanced, but what about the left sub-tree?"
   ]
  },
  {
   "cell_type": "markdown",
   "metadata": {
    "slideshow": {
     "slide_type": "slide"
    }
   },
   "source": [
    "## Definition\n",
    "\n",
    "- We must develop a quantitative definition of balance which can be applied\n",
    "\n",
    "- Balanced may be defined by:\n",
    "    - **Height balancing**: comparing the heights of the two sub trees\n",
    "    - **Null-path-length balancing**: comparing the null-path-length of each of the two sub-trees (the length to the closest null sub-tree/empty node)\n",
    "    - **Weight balancing**: comparing the number of null sub-trees in each of the two sub trees\n",
    "\n",
    "- We will need to prove that if a tree satisfies the definition of balance, its height is $\\Theta(\\ln(n))$"
   ]
  },
  {
   "cell_type": "markdown",
   "metadata": {
    "slideshow": {
     "slide_type": "slide"
    }
   },
   "source": [
    "## Red-Black Trees\n",
    "\n",
    "- Red-black trees maintain balance by\n",
    "    - All nodes are colored red or black (0 or 1)\n",
    "\n",
    "- Requirements:\n",
    "    - The root must be black\n",
    "    - All children of a red node must be black\n",
    "    - Any path from the root to an empty node must have the same number of black nodes\n",
    "    \n",
    "![](../img/rb-tree.png)"
   ]
  },
  {
   "cell_type": "markdown",
   "metadata": {
    "slideshow": {
     "slide_type": "slide"
    }
   },
   "source": [
    "- *Red-black trees* are **null-path-length balanced**\n",
    "    - the null-path length going through one sub-tree must not be greater than twice the null-path length going through the other\n",
    "        - A perfect tree of height $h$ has a null-path length of $h + 1$\n",
    "        - Any other tree of height $h$ must have a null-path-length less than $h + 1$\n",
    "        \n",
    "![](../img/rb-tree2.png)"
   ]
  },
  {
   "cell_type": "markdown",
   "metadata": {
    "slideshow": {
     "slide_type": "slide"
    }
   },
   "source": [
    "## Weight-Balanced Trees\n",
    "\n",
    "- Recall:  an empty node/null subtree is any position within a binary tree that could be filled with the next insertion\n",
    "    - This tree has 9 nodes and 10 empty nodes\n",
    "    ![](../img/bt-empty.png)\n",
    "    - The ratios of the empty nodes at the root node are 5/10 and 5/10"
   ]
  },
  {
   "cell_type": "markdown",
   "metadata": {
    "slideshow": {
     "slide_type": "slide"
    }
   },
   "source": [
    "- WB($\\alpha$) trees ($0 < \\alpha \\leq 1/3$) maintain weight balance requiring that neither side has less than a a proportion of the empty nodes\n",
    "    - both proportions fall in $[\\alpha, 1 - \\alpha]$\n",
    "- With one node, both are 0.5\n",
    "![](../img/balance2.png)\n",
    "- With two, the proportions are 1/3 and 2/3 \n",
    "![](../img/balance1.png)"
   ]
  },
  {
   "cell_type": "markdown",
   "metadata": {
    "slideshow": {
     "slide_type": "slide"
    }
   },
   "source": [
    "- If $\\alpha$ is bounded by\n",
    "$$0.25 = \\frac{1}{4} \\leq \\alpha \\leq 1-\\frac{\\sqrt 2}{2} \\approx 0.2929$$\n",
    "\n",
    "\tthen it will be possible to perform all operations in $\\Theta(\\ln(n))$ time\n",
    "    - If $\\alpha$ is smaller than 0.25 (larger range) the height of the tree may be $\\omega(\\ln(n))$\n",
    "    - If $\\alpha$ is greater than $1-\\frac{\\sqrt 2}{2}$, the operations required to maintain balance may be $\\omega(\\ln(n))$ "
   ]
  },
  {
   "cell_type": "markdown",
   "metadata": {
    "slideshow": {
     "slide_type": "slide"
    }
   },
   "source": [
    "# AVL Trees"
   ]
  },
  {
   "cell_type": "markdown",
   "metadata": {
    "slideshow": {
     "slide_type": "slide"
    }
   },
   "source": [
    "## Background\n",
    "\n",
    "- Previously\n",
    "    - Binary search trees store linearly ordered data\n",
    "    - Best case height: $\\Theta(\\ln(n))$\n",
    "    - Worst case height: $O(n) $\n",
    "\n",
    "- Requirement\n",
    "    - Define and maintain a balance to ensure $\\Theta(\\ln(n))$ height  "
   ]
  },
  {
   "cell_type": "markdown",
   "metadata": {
    "slideshow": {
     "slide_type": "slide"
    }
   },
   "source": [
    "## Prototypical Examples\n",
    "\n",
    "- Consider following tree construction:\n",
    "\n",
    "|     |     |\n",
    "|:----|:----|\n",
    "|starting with this tree, add `1` | \tThis is more like a linked list; however, we can fix this |\n",
    "|![](../img/imbalance1.png) | ![](../img/imbalance2.png) |\n",
    "|Promote `2` to the root, demote `3` to be `2`'s right child, and `1` remains the left child of `2` | \tThe result is a perfect, though trivial tree|\n",
    "|![](../img/imbalance3.png) | ![](../img/imbalance4.png) |\n"
   ]
  },
  {
   "cell_type": "markdown",
   "metadata": {
    "slideshow": {
     "slide_type": "slide"
    }
   },
   "source": [
    "|     |     |\n",
    "|:----|:----|\n",
    "|Alternatively, given this tree, insert `2`  | Again, the product is a linked list; however, we can fix this, too |\n",
    "|![](../img/imbalance5.png) | ![](../img/imbalance6.png) |\n",
    "|Promote `2` to the root, and assign `1` and `3` to be its children | The result is a perfect tree|\n",
    "|![](../img/imbalance7.png) | ![](../img/imbalance4.png) |"
   ]
  },
  {
   "cell_type": "markdown",
   "metadata": {
    "slideshow": {
     "slide_type": "fragment"
    }
   },
   "source": [
    "- These examples may seem trivial, but they are the basis for the corrections in the next data structure we will see:  **AVL trees**"
   ]
  },
  {
   "cell_type": "markdown",
   "metadata": {
    "slideshow": {
     "slide_type": "slide"
    }
   },
   "source": [
    "- We will focus on the first strategy: **AVL trees**\n",
    "    - Named after Adelson-Velskii and Landis\n",
    "\n",
    "- Balance is defined by comparing the height of the two sub-trees\n",
    "\n",
    "- Recall\n",
    "    - An empty tree has height `-1`\n",
    "    - A tree with a single node has height `0`\n",
    "    \n",
    "- A binary search tree is said to be **AVL balanced** if\n",
    "    - The difference in the heights between the left and right sub-trees is at most 1, and\n",
    "    - Both sub-trees are themselves AVL trees"
   ]
  },
  {
   "cell_type": "markdown",
   "metadata": {
    "slideshow": {
     "slide_type": "slide"
    }
   },
   "source": [
    "- AVL trees with 1, 2, 3, and 4 nodes\n",
    "![](../img/avl-tree1.png)"
   ]
  },
  {
   "cell_type": "markdown",
   "metadata": {
    "slideshow": {
     "slide_type": "slide"
    }
   },
   "source": [
    "- Here is a larger AVL tree (42 nodes)\n",
    "\n",
    "![](../img/avl-tree2.png)\n",
    "\n",
    "- The root node is AVL-balanced\n",
    "    - Both sub-trees are of height 4\n",
    "- All other nodes (e.g., AF and BL) are AVL balanced\n",
    "    - The sub-trees differ in height by at most one"
   ]
  },
  {
   "cell_type": "markdown",
   "metadata": {
    "slideshow": {
     "slide_type": "slide"
    }
   },
   "source": [
    "## Height of an AVL Tree\n",
    "\n",
    "- By the definition of complete trees, any complete binary search tree is an AVL tree\n",
    "\n",
    "- Thus an upper bound on the number of nodes in an AVL tree of height $h$ a perfect binary tree with $2^{h+1}-1$ nodes\n",
    "    - What is an lower bound?"
   ]
  },
  {
   "cell_type": "markdown",
   "metadata": {
    "slideshow": {
     "slide_type": "slide"
    }
   },
   "source": [
    "- Let $F(h)$ be the fewest number of nodes in a tree of height $h$\n",
    "\n",
    "|  |   | \n",
    "|--|---|\n",
    "|$F(0) = 1$<br> $F(1) = 2$<br> $F(2) = 4$|![](../img/avl-tree1.png)\n",
    "\n",
    "\n",
    "- Can we find $F(h)$?"
   ]
  },
  {
   "cell_type": "markdown",
   "metadata": {
    "slideshow": {
     "slide_type": "slide"
    }
   },
   "source": [
    "- The worst-case AVL tree of height h would have\n",
    "    - A worst-case AVL tree of height $h-1$ on one side,\n",
    "    - A worst-case AVL tree of height $h-2$ on the other, and\n",
    "    - The root node\n",
    "\n",
    "- We get: $F(h) = F(h - 1) + 1 + F(h - 2)$"
   ]
  },
  {
   "cell_type": "markdown",
   "metadata": {
    "slideshow": {
     "slide_type": "slide"
    }
   },
   "source": [
    "- This is a recurrence relation\n",
    "$$F(n) = \\begin{cases}\n",
    "1 & h = 0 \\\\\n",
    "2 & h = 1 \\\\\n",
    "F(n-1) + F(n-2) + 1 & h > 1 \\\\\n",
    "\\end{cases}$$    \n",
    "\n",
    "\n",
    "\n",
    "\n",
    "- The solution?\n",
    "    - Note that $F(h) + 1 = (F(h - 1) + 1) + (F(h - 2) + 1)$\n",
    "    - Therefore, F(h) + 1 is a **Fibonacci number**\n",
    "        - F(0) + 1 =  2 → F(0) =  1\n",
    "        - F(1) + 1 =  3 → F(1) =  2\n",
    "        - F(2) + 1 =  5 → F(2) =  4\n",
    "        - F(3) + 1 =  8 → F(3) =  7\n",
    "        - F(4) + 1 = 13 → F(4) = 12\n",
    "        - F(5) + 1 = 21 → F(5) = 20\n",
    "        - F(6) + 1 = 34 → F(6) = 33\n"
   ]
  },
  {
   "cell_type": "markdown",
   "metadata": {
    "slideshow": {
     "slide_type": "slide"
    }
   },
   "source": [
    "- This is approximately\n",
    "$$ F(h) \\approx 1.8944 \\phi^h - 1$$    \n",
    "where $\\phi = (1+\\sqrt 5)/2 \\approx 1.6180$ is the golden ratio\n",
    "\n",
    "- That is, $F(h) = \\Omega(\\phi^h)$\n",
    "\n",
    "- Thus, we may find the maximum value of $h$ for a given $n$:\n",
    "$$h \\leq \\log_\\phi \\left(\\frac{n+1}{1.8944}\\right) = \\log_\\phi(n+1)-1.3277 \\\\= 1.4404 \\lg(n+1)- 1.3277 $$\n"
   ]
  },
  {
   "cell_type": "markdown",
   "metadata": {
    "slideshow": {
     "slide_type": "slide"
    }
   },
   "source": [
    "- Recall that the height of a complete tree is $h = \\lfloor\\lg(n)\\rfloor$\n",
    "    - The floor function makes the analysis interesting\n",
    "    - With $n = 3$ nodes, it can be twice the height\n",
    "    - For $n \\geq 4096$, ~35% worse is an upper bound"
   ]
  },
  {
   "cell_type": "code",
   "execution_count": 2,
   "metadata": {
    "slideshow": {
     "slide_type": "fragment"
    }
   },
   "outputs": [],
   "source": [
    "double avl_height(double n) {return 1.4404*log2(n+1)-1.3277;}"
   ]
  },
  {
   "cell_type": "code",
   "execution_count": 3,
   "metadata": {
    "slideshow": {
     "slide_type": "fragment"
    }
   },
   "outputs": [
    {
     "data": {
      "text/plain": [
       "\"AVL tree: 1.553100, complete tree: 1.000000, 64.387354%\""
      ]
     },
     "execution_count": 3,
     "metadata": {},
     "output_type": "execute_result"
    }
   ],
   "source": [
    "double n = 3, h = avl_height(n), h_cmp = floor(log2(n));\n",
    "\"AVL tree: \"+std::to_string(h)+\", complete tree: \"+std::to_string(h_cmp) + \", \"+std::to_string((ceil(h)-h_cmp)*100/h)+\"%\""
   ]
  },
  {
   "cell_type": "code",
   "execution_count": 6,
   "metadata": {
    "slideshow": {
     "slide_type": "fragment"
    }
   },
   "outputs": [
    {
     "data": {
      "text/plain": [
       "\"AVL tree: 15.957607, complete tree: 12.000000, 25.066415%\""
      ]
     },
     "execution_count": 6,
     "metadata": {},
     "output_type": "execute_result"
    }
   ],
   "source": [
    "double n = 4096, h = avl_height(n), h_cmp = floor(log2(n));\n",
    "\"AVL tree: \"+std::to_string(h)+\", complete tree: \"+std::to_string(h_cmp) + \", \"+std::to_string((ceil(h)-h_cmp)*100/h)+\"%\""
   ]
  },
  {
   "cell_type": "markdown",
   "metadata": {
    "slideshow": {
     "slide_type": "slide"
    }
   },
   "source": [
    "- In this example, $n = 88$, the worst- and best-case scenarios differ in height by only **2**\n",
    "\n",
    "![](../img/avl-tree3.png)"
   ]
  },
  {
   "cell_type": "code",
   "execution_count": 6,
   "metadata": {
    "slideshow": {
     "slide_type": "fragment"
    }
   },
   "outputs": [
    {
     "data": {
      "text/plain": [
       "\"AVL tree: 7.999946, complete tree: 6.000000, 25.000167%\""
      ]
     },
     "execution_count": 6,
     "metadata": {},
     "output_type": "execute_result"
    }
   ],
   "source": [
    "double n = 88, h = avl_height(n), h_cmp = floor(log2(n));\n",
    "\"AVL tree: \"+std::to_string(h)+\", complete tree: \"+std::to_string(h_cmp) + \", \"+std::to_string((ceil(h)-h_cmp)*100/h)+\"%\""
   ]
  },
  {
   "cell_type": "markdown",
   "metadata": {
    "slideshow": {
     "slide_type": "slide"
    }
   },
   "source": [
    "## Maintaining Balance\n",
    "\n",
    "- To maintain AVL balance, observe that:\n",
    "    - Inserting a node can increase the height of a tree by at most 1\n",
    "    - Removing a node can decrease the height of a tree by at most 1"
   ]
  },
  {
   "cell_type": "markdown",
   "metadata": {
    "slideshow": {
     "slide_type": "slide"
    }
   },
   "source": [
    "|  |  |\n",
    "|:-|:-|\n",
    "|Consider this AVL tree| After inserting `15` into this tree, the heights of none of the sub-trees change. The tree remains balanced|\n",
    "|![](../img/balance01.png)|![](../img/balance02.png)|"
   ]
  },
  {
   "cell_type": "markdown",
   "metadata": {
    "slideshow": {
     "slide_type": "slide"
    }
   },
   "source": [
    "|  |  |\n",
    "|:-|:-|\n",
    "|Consider inserting `42` into this tree, the tree height doesn't change| Now, the heights of two sub-trees have increased by one. The tree still remains balanced|\n",
    "|![](../img/balance04.png)|![](../img/balance05.png)|"
   ]
  },
  {
   "cell_type": "markdown",
   "metadata": {
    "slideshow": {
     "slide_type": "slide"
    }
   },
   "source": [
    "### Tree Height\n",
    "\n",
    "- To calculate changes in `height`, the member function must run in $\\Theta(1)$ time\n",
    "\n",
    "- Our implementation of height is $O(n)$\n",
    "\n",
    "```cpp\n",
    "template <typename Type>\n",
    "int BinaryNode<Type>::height() const {\n",
    "    return 1 + std::max(\n",
    "        left() == nullptr ? 0 : left()->height(),\n",
    "        right() == nullptr ? 0 : right()->height());\n",
    "}\n",
    "```"
   ]
  },
  {
   "cell_type": "markdown",
   "metadata": {
    "slideshow": {
     "slide_type": "slide"
    }
   },
   "source": [
    "- Introduce a member variable to the node\n",
    "```cpp\n",
    "int tree_height;\n",
    "```\n",
    "- The member function is now:"
   ]
  },
  {
   "cell_type": "code",
   "execution_count": null,
   "metadata": {
    "slideshow": {
     "slide_type": "fragment"
    }
   },
   "outputs": [],
   "source": [
    "template <typename Type>\n",
    "int AVLNode<Type>::height() const {\n",
    "    return tree_height;    \n",
    "}"
   ]
  },
  {
   "cell_type": "markdown",
   "metadata": {
    "slideshow": {
     "slide_type": "fragment"
    }
   },
   "source": [
    "- Plus some auxiliary methods for managing `tree_height` member  "
   ]
  },
  {
   "cell_type": "code",
   "execution_count": null,
   "metadata": {
    "slideshow": {
     "slide_type": "fragment"
    }
   },
   "outputs": [],
   "source": [
    "template <typename Type>\n",
    "int AVLNode<Type>::height( AVLNode* n ) const {\n",
    "    return n == nullptr ? -1 : n->height();\n",
    "}\n",
    "template <typename Type>\n",
    "void AVLNode<Type>::update_height( AVLNode* n ){\n",
    "    n->tree_height = 1 + std::max( height(n->left()), height(n->right()));\n",
    "}"
   ]
  },
  {
   "cell_type": "markdown",
   "metadata": {
    "slideshow": {
     "slide_type": "slide"
    }
   },
   "source": [
    "- Only `insert` and `erase` may change the height\n",
    "    - This is the only place we need to update the height\n",
    "    - These algorithms are already recursive"
   ]
  },
  {
   "cell_type": "code",
   "execution_count": null,
   "metadata": {
    "slideshow": {
     "slide_type": "fragment"
    }
   },
   "outputs": [],
   "source": [
    "bool AVLNode<Type>::insert( const Type &obj, AVLNode* &t ) {\n",
    "    bool res = false;\n",
    "    if ( t == nullptr ) {\n",
    "        t = new AVLNode<Type>( obj );\n",
    "        t->tree_height = 0;\n",
    "        res = true;\n",
    "    } else if ( obj < t->value() ) {\n",
    "        res = insert( obj, t->left_tree );\n",
    "        if ( res ) update_height( t );\n",
    "    } else if ( obj > t->value() ) {\n",
    "        res = insert( obj, t->right_tree );\n",
    "        if ( res ) update_height( t );\n",
    "    }\n",
    "    return res;\n",
    "}"
   ]
  },
  {
   "cell_type": "markdown",
   "metadata": {
    "slideshow": {
     "slide_type": "slide"
    }
   },
   "source": [
    "## Balancing Tree\n",
    "\n",
    "- If a tree is AVL balanced, for an insertion to cause an imbalance\n",
    "    - The heights of the sub-trees must differ by 1\n",
    "    - The insertion must increase the height of the deeper sub-tree by 1\n",
    "\n",
    "|  |  |\n",
    "|:-|:-|\n",
    "|Suppose we insert `23` into our initial tree| The heights of each of the sub-trees from here to the root are increased by one|\n",
    "|![](../img/balance06.png)|![](../img/balance07.png)|"
   ]
  },
  {
   "cell_type": "markdown",
   "metadata": {
    "slideshow": {
     "slide_type": "slide"
    }
   },
   "source": [
    "|  |  |\n",
    "|:-|:-|\n",
    "|However, only two of the nodes are unbalanced: `17` and `36`| We only have to fix the imbalance at the **lowest** node|\n",
    "|![](../img/balance08.png)|![](../img/balance09.png)|"
   ]
  },
  {
   "cell_type": "markdown",
   "metadata": {
    "slideshow": {
     "slide_type": "slide"
    }
   },
   "source": [
    "|  |  |\n",
    "|:-|:-|\n",
    "|We can promote `23` to where `17` is, and make `17` the left child of `23`| Thus, that node is no longer unbalanced (Incidentally, the root now balanced as well)|\n",
    "|![](../img/balance10.png)|![](../img/balance11.png)|"
   ]
  },
  {
   "cell_type": "markdown",
   "metadata": {
    "slideshow": {
     "slide_type": "slide"
    }
   },
   "source": [
    "|  |  |\n",
    "|:-|:-|\n",
    "|Consider adding `6`| The height of each of the trees in the path back to the root are increased by one|\n",
    "|![](../img/balance12.png)|![](../img/balance13.png)|"
   ]
  },
  {
   "cell_type": "markdown",
   "metadata": {
    "slideshow": {
     "slide_type": "slide"
    }
   },
   "source": [
    "- The height of each of the trees in the path back to the root are increased by one\n",
    "    - However, only the root node is now unbalanced\n",
    "![](../img/balance14.png)\n",
    "- To fix this, we will look at the general case"
   ]
  },
  {
   "cell_type": "markdown",
   "metadata": {
    "slideshow": {
     "slide_type": "slide"
    }
   },
   "source": [
    "## Maintaining Balance: Case 1\n",
    "\n",
    "- Consider the following setup\n",
    "    - Each blue triangle represents a tree of height $h$\n",
    "    ![](../img/balance-a01.png)"
   ]
  },
  {
   "cell_type": "markdown",
   "metadata": {
    "slideshow": {
     "slide_type": "slide"
    }
   },
   "source": [
    "- Insert $a$ into this tree: it falls into the left subtree $B_L$ of $b$\n",
    "    - Assume $B_L$ remains balanced\n",
    "    - Thus, the tree rooted at $b$ is also balanced\n",
    "    ![](../img/balance-a02.png)"
   ]
  },
  {
   "cell_type": "markdown",
   "metadata": {
    "slideshow": {
     "slide_type": "slide"
    }
   },
   "source": [
    "- The tree rooted at node $f$ is now unbalanced\n",
    "    - We will correct the imbalance at this node\n",
    "    ![](../img/balance-a03.png)"
   ]
  },
  {
   "cell_type": "markdown",
   "metadata": {
    "slideshow": {
     "slide_type": "slide"
    }
   },
   "source": [
    "|  |   |  |\n",
    "|:-|:-:|-:|\n",
    "|Here are examples of when the insertion of 7 may cause this situation when h = -1, 0, and 1| |![](../img/balance-a03.png)\n",
    "|![](../img/balance-a05.png)|![](../img/balance-a06.png)|![](../img/balance-a07.png)"
   ]
  },
  {
   "cell_type": "markdown",
   "metadata": {
    "slideshow": {
     "slide_type": "slide"
    }
   },
   "source": [
    "- We will modify these three pointers\n",
    "    - At this point, this references the unbalanced root node $f$\n",
    "    ![](../img/balance-a08.png)"
   ]
  },
  {
   "cell_type": "markdown",
   "metadata": {
    "slideshow": {
     "slide_type": "slide"
    }
   },
   "source": [
    "- Specifically, we will rotate these two nodes around the root\n",
    "    - Recall the first prototypical example\n",
    "    - Promote node $b$ to the root and demote node $f$ to be the right child of $b$\n",
    "    \n",
    "|  |  |\n",
    "|-:|:-|\n",
    "|AVLNode&lt;Type&gt; *b = f->left(); <br/> AVLNode&lt;Type&gt; *B_R = b->right(); | ![](../img/balance-a09.png) |"
   ]
  },
  {
   "cell_type": "markdown",
   "metadata": {
    "slideshow": {
     "slide_type": "slide"
    }
   },
   "source": [
    "- This requires the address of node $f$ to be assigned to the `right_tree` member variable of node $b$\n",
    "\n",
    "|  |  |\n",
    "|-:|:-|\n",
    "|AVLNode&lt;Type&gt; *b = f->left(); <br/> AVLNode&lt;Type&gt; *B_R = b->right(); <br/> b->right_tree = f; | ![](../img/balance-a10.png) |"
   ]
  },
  {
   "cell_type": "markdown",
   "metadata": {
    "slideshow": {
     "slide_type": "slide"
    }
   },
   "source": [
    "- Assign any former parent of node $f$ to the address of node $b$\n",
    "- Assign the address of the tree $B_R$ to `left_tree` of node $f$\n",
    "\n",
    "|  |  |\n",
    "|-:|:-|\n",
    "|AVLNode&lt;Type&gt; *b = f->left(); <br/> AVLNode&lt;Type&gt; *B_R = b->right(); <br/> b->right_tree = f; <br/> f->left_tree = B_R; <br/> f = b; <br/> // update height of node f & b  | ![](../img/balance-a11.png) |"
   ]
  },
  {
   "cell_type": "markdown",
   "metadata": {
    "slideshow": {
     "slide_type": "slide"
    }
   },
   "source": [
    "- The nodes $b$ and $f$ are now balanced and all remaining nodes of the subtrees are in their correct positions\n",
    "    - The height of $f$ is now $h + 1$ while $b$ remains at height $h + 2$    \n",
    "    ![](../img/balance-a12.png)"
   ]
  },
  {
   "cell_type": "markdown",
   "metadata": {
    "slideshow": {
     "slide_type": "slide"
    }
   },
   "source": [
    "- Additionally, height of the corrected tree rooted at $b$ equals the original height of the tree rooted at $f$\n",
    "    - Thus, this insertion will no longer affect the balance of any ancestors all the way back to the root\n",
    "    ![](../img/balance-a13.png)"
   ]
  },
  {
   "cell_type": "markdown",
   "metadata": {
    "slideshow": {
     "slide_type": "slide"
    }
   },
   "source": [
    "- In the previous example, the correction is following\n",
    "![](../img/balance-a14.png)"
   ]
  },
  {
   "cell_type": "markdown",
   "metadata": {
    "slideshow": {
     "slide_type": "slide"
    }
   },
   "source": [
    "- In our three sample cases with h = -1, 0, and 1, the node is now balanced and the same height as the tree before the insertion\n",
    "![](../img/balance-a15.png)"
   ]
  },
  {
   "cell_type": "markdown",
   "metadata": {
    "slideshow": {
     "slide_type": "slide"
    }
   },
   "source": [
    "## Maintaining Balance: Case 2\n",
    "\n",
    "- Alternatively, consider the insertion of $c$ where $b < c < f$ into our original tree\n",
    "![](../img/balance-a01.png)"
   ]
  },
  {
   "cell_type": "markdown",
   "metadata": {
    "slideshow": {
     "slide_type": "slide"
    }
   },
   "source": [
    "- Assume that the insertion of $c$ increases the height of $B_R$\n",
    "    - Once again, $f$ becomes unbalanced\n",
    "    ![](../img/balance-b01.png)"
   ]
  },
  {
   "cell_type": "markdown",
   "metadata": {
    "slideshow": {
     "slide_type": "slide"
    }
   },
   "source": [
    "|  |  |\n",
    "|:-|:-|\n",
    "|Here are examples of when the insertion of 14 may cause this situation when $h$ = -1, 0, and 1 <br/> ![](../img/balance-b01.png)|![](../img/balance-b02.png)"
   ]
  },
  {
   "cell_type": "markdown",
   "metadata": {
    "slideshow": {
     "slide_type": "slide"
    }
   },
   "source": [
    "- Unfortunately, the previous correction does not fix the imbalance at the root of this sub-tree\n",
    "    - the new root, $b$, remains unbalanced\n",
    "    ![](../img/balance-b03.png)"
   ]
  },
  {
   "cell_type": "markdown",
   "metadata": {
    "slideshow": {
     "slide_type": "slide"
    }
   },
   "source": [
    "- In our three sample cases with $h$ = -1, 0, and 1, doing the same thing as before results in a tree that is still unbalanced\n",
    "    - The imbalance is just shifted to the other side\n",
    "![](../img/balance-b04.png)"
   ]
  },
  {
   "cell_type": "markdown",
   "metadata": {
    "slideshow": {
     "slide_type": "slide"
    }
   },
   "source": [
    "- Re-label the tree by dividing the left subtree of $f$ into a tree rooted at $d$ with two subtrees of height $h-1$\n",
    "![](../img/balance-b05.png)"
   ]
  },
  {
   "cell_type": "markdown",
   "metadata": {
    "slideshow": {
     "slide_type": "slide"
    }
   },
   "source": [
    "- Now an insertion causes an imbalance at $f$\n",
    "    - The addition of either $c$ or $e$ will cause this\n",
    "![](../img/balance-b06.png)"
   ]
  },
  {
   "cell_type": "markdown",
   "metadata": {
    "slideshow": {
     "slide_type": "slide"
    }
   },
   "source": [
    "- We will reassign the following pointers\n",
    "\n",
    "|  |  |\n",
    "|-:|:-|\n",
    "|//========================== <br/> AVLNode&lt;Type&gt; *b = f->left(); <br/> AVLNode&lt;Type&gt; *d  = b->right(); <br/> AVLNode&lt;Type&gt; *DL = d->left(); <br/> AVLNode&lt;Type&gt; *DR = d->right(); <br/>//========================== | ![](../img/balance-b07.png) |"
   ]
  },
  {
   "cell_type": "markdown",
   "metadata": {
    "slideshow": {
     "slide_type": "slide"
    }
   },
   "source": [
    "- Specifically, we will order these three nodes as a perfect tree\n",
    "    - Recall the second prototypical example\n",
    "\n",
    "|  |  |\n",
    "|-:|-:|\n",
    "|//========================== <br/> AVLNode&lt;Type&gt; *b = f->left(), <br/> *d  = b->right(), <br/>  *DL = d->left(), <br/> *DR = d->right(); <br/>//========================== | ![](../img/balance-b08.png) |"
   ]
  },
  {
   "cell_type": "markdown",
   "metadata": {
    "slideshow": {
     "slide_type": "slide"
    }
   },
   "source": [
    "- To achieve this, $b$ and $f$ will be assigned as children of the new root $d$\n",
    "|  |  |\n",
    "|-:|:-|\n",
    "|//========================== <br/> AVLNode&lt;Type&gt; *b = f->left(), <br/> *d  = b->right(), <br/> *DL = d->left(), <br/> *DR = d->right(); <br/> d->left_tree  = b; <br/> d->right_tree = f; <br/>//========================== | ![](../img/balance-b09.png) |"
   ]
  },
  {
   "cell_type": "markdown",
   "metadata": {
    "slideshow": {
     "slide_type": "slide"
    }
   },
   "source": [
    "- We also have to connect the two subtrees and original parent of $f$\n",
    "\n",
    "|  |  |\n",
    "|-:|:-|\n",
    "|//========================== <br/> AVLNode&lt;Type&gt; *b = f->left(), <br/> *d  = b->right(), <br/> *DL = d->left(), <br/> *DR = d->right(); <br/> d->left_tree  = b; <br/> d->right_tree = f; <br/> b->right_tree = DL; <br/> f->left_tree = DR; <br/> // update height of nodes b, f & d <br/> f =d; <br/>//========================== | ![](../img/balance-b10.png) |"
   ]
  },
  {
   "cell_type": "markdown",
   "metadata": {
    "slideshow": {
     "slide_type": "slide"
    }
   },
   "source": [
    "- Now the tree rooted at $d$ is balanced\n",
    "    - After the correction, height of $b$ and $f$ become $h + 1$ and $d$ is $h + 2$\n",
    " ![](../img/balance-b11.png)"
   ]
  },
  {
   "cell_type": "markdown",
   "metadata": {
    "slideshow": {
     "slide_type": "slide"
    }
   },
   "source": [
    "- Again, the height of the root did not change\n",
    "    - The heights of all three nodes changed in this process\n",
    "\n",
    "![](../img/balance-b12.png)"
   ]
  },
  {
   "cell_type": "markdown",
   "metadata": {
    "slideshow": {
     "slide_type": "slide"
    }
   },
   "source": [
    "- \tIn our three sample cases with $h$ = -1, 0, and 1, the node is now balanced and the same height as the tree before the insertion\n",
    "![](../img/balance-b13.png)"
   ]
  },
  {
   "cell_type": "markdown",
   "metadata": {
    "slideshow": {
     "slide_type": "slide"
    }
   },
   "source": [
    "## Maintaining balance:  Summary\n",
    "\n",
    "- There are two symmetric cases to those we have examined\n",
    "    - Insertions into the right-left sub-tree\n",
    "    ![](../img/balance-b14.png)\n",
    "    - Insertions into either the right-right sub-tree \n",
    "    ![](../img/balance-b15.png)"
   ]
  },
  {
   "cell_type": "markdown",
   "metadata": {
    "slideshow": {
     "slide_type": "slide"
    }
   },
   "source": [
    "## Implementation: Insert"
   ]
  },
  {
   "cell_type": "code",
   "execution_count": null,
   "metadata": {
    "slideshow": {
     "slide_type": "fragment"
    }
   },
   "outputs": [],
   "source": [
    "bool AVLNode<Type>::insert( const Type &obj, AVLNode* &t ) {\n",
    "    bool res = false;\n",
    "    if ( t == nullptr ) {\n",
    "        t = new AVLNode<Type>( obj ); \n",
    "        t->tree_height = 0; \n",
    "        res = true;\n",
    "        // no balancing necessary (why?)\n",
    "    } else if ( obj < t->value() ) {\n",
    "        res = insert( obj, t->left_tree );\n",
    "        if ( res ) {\n",
    "            if ( height(t->left()) - height(t->right()) > 1 ) { // allowed imbalance\n",
    "                // determine if it is a left-left or left-right insertion\n",
    "                //    whichever subtree height is bigger\n",
    "                // perform the appropriate correction\n",
    "            }\n",
    "            update_height( t );\n",
    "        } \n",
    "    } else if ( obj > t->value() ) {\n",
    "        // symmetric implementation of the above case\n",
    "    }\n",
    "    return res;\n",
    "}"
   ]
  },
  {
   "cell_type": "markdown",
   "metadata": {
    "slideshow": {
     "slide_type": "slide"
    }
   },
   "source": [
    "- Comments:\n",
    "    - Both balances are $\\Theta(1)$\n",
    "    - All insertions are still $\\Theta(\\ln(n))$\n",
    "    - It is possible to *tighten* the previous code\n",
    "    - Aside\n",
    "         - if you want to explicitly rotate the nodes $A$ and $B$, you must also pass a reference to the parent pointer as an argument:\n",
    "        ```cpp\n",
    "        insert( Type &obj, AVLNode<Type>*  &parent )\n",
    "        ```"
   ]
  },
  {
   "cell_type": "markdown",
   "metadata": {
    "slideshow": {
     "slide_type": "slide"
    }
   },
   "source": [
    "## Example: Insertion\n",
    "\n",
    "- Consider this AVL tree\n",
    "![](../img/avl-insert01.png)"
   ]
  },
  {
   "cell_type": "markdown",
   "metadata": {
    "slideshow": {
     "slide_type": "subslide"
    }
   },
   "source": [
    "- Insert `73`\n",
    "![](../img/avl-insert02.png)"
   ]
  },
  {
   "cell_type": "markdown",
   "metadata": {
    "slideshow": {
     "slide_type": "subslide"
    }
   },
   "source": [
    "- The node `81` is unbalanced\n",
    "    - A left-left imbalance\n",
    "\n",
    "| | |\n",
    "|-|:-:|\n",
    "|![](../img/avl-insert03.png)|Imbalance correction ![](../img/imbalance2.png)|"
   ]
  },
  {
   "cell_type": "markdown",
   "metadata": {
    "slideshow": {
     "slide_type": "subslide"
    }
   },
   "source": [
    "- The node `81` is unbalanced\n",
    "    - A left-left imbalance\n",
    "    - Promote the intermediate node to the imbalanced node\n",
    "\n",
    "| | |\n",
    "|-|:-:|\n",
    "|![](../img/avl-insert03.png)|Imbalance correction ![](../img/imbalance3.png)|"
   ]
  },
  {
   "cell_type": "markdown",
   "metadata": {
    "slideshow": {
     "slide_type": "subslide"
    }
   },
   "source": [
    "- The node `81` is unbalanced\n",
    "    - A left-left imbalance\n",
    "    - Promote the intermediate node to the imbalanced node\n",
    "    - `75` is that node\n",
    "\n",
    "| | |\n",
    "|-|:-:|\n",
    "|![](../img/avl-insert03.png)|Imbalance correction ![](../img/imbalance4.png)|"
   ]
  },
  {
   "cell_type": "markdown",
   "metadata": {
    "slideshow": {
     "slide_type": "subslide"
    }
   },
   "source": [
    "- The node `81` is unbalanced\n",
    "    - A left-left imbalance\n",
    "    - Promote the intermediate node to the imbalanced node\n",
    "    - `75` is that node\n",
    "\n",
    "![](../img/avl-insert04.png)"
   ]
  },
  {
   "cell_type": "markdown",
   "metadata": {
    "slideshow": {
     "slide_type": "subslide"
    }
   },
   "source": [
    "- The tree is AVL balanced\n",
    "![](../img/avl-insert05.png)"
   ]
  },
  {
   "cell_type": "markdown",
   "metadata": {
    "slideshow": {
     "slide_type": "slide"
    }
   },
   "source": [
    "- Insert `77`\n",
    "![](../img/avl-insert06.png)"
   ]
  },
  {
   "cell_type": "markdown",
   "metadata": {
    "slideshow": {
     "slide_type": "subslide"
    }
   },
   "source": [
    "- The node `87` is unbalanced\n",
    "    - A left-right imbalance\n",
    "\n",
    "| | |\n",
    "|-|:-:|\n",
    "|![](../img/avl-insert07.png)|Imbalance correction ![](../img/imbalance6.png)|"
   ]
  },
  {
   "cell_type": "markdown",
   "metadata": {
    "slideshow": {
     "slide_type": "subslide"
    }
   },
   "source": [
    "- The node `87` is unbalanced\n",
    "    - A left-right imbalance\n",
    "    - Promote the intermediate node to the imbalanced node\n",
    "\n",
    "| | |\n",
    "|-|:-:|\n",
    "|![](../img/avl-insert07.png)|Imbalance correction ![](../img/imbalance7.png)|"
   ]
  },
  {
   "cell_type": "markdown",
   "metadata": {
    "slideshow": {
     "slide_type": "subslide"
    }
   },
   "source": [
    "- The node `87` is unbalanced\n",
    "    - A left-right imbalance\n",
    "    - Promote the intermediate node to the imbalanced node\n",
    "    - `81` is that value\n",
    "\n",
    "| | |\n",
    "|-|:-:|\n",
    "|![](../img/avl-insert07.png)|Imbalance correction ![](../img/imbalance4.png)|"
   ]
  },
  {
   "cell_type": "markdown",
   "metadata": {
    "slideshow": {
     "slide_type": "subslide"
    }
   },
   "source": [
    "- The node `87` is unbalanced\n",
    "    - A left-right imbalance\n",
    "    - Promote the intermediate node to the imbalanced node\n",
    "    - `81` is that value\n",
    "\n",
    "![](../img/avl-insert08.png)"
   ]
  },
  {
   "cell_type": "markdown",
   "metadata": {
    "slideshow": {
     "slide_type": "subslide"
    }
   },
   "source": [
    "- The tree is AVL balanced\n",
    "![](../img/avl-insert09.png)"
   ]
  },
  {
   "cell_type": "markdown",
   "metadata": {
    "slideshow": {
     "slide_type": "slide"
    }
   },
   "source": [
    "- Insert `76`\n",
    "![](../img/avl-insert10.png)"
   ]
  },
  {
   "cell_type": "markdown",
   "metadata": {
    "slideshow": {
     "slide_type": "subslide"
    }
   },
   "source": [
    "- The node `78` is unbalanced\n",
    "    - A left-left imbalance\n",
    "![](../img/avl-insert11.png)"
   ]
  },
  {
   "cell_type": "markdown",
   "metadata": {
    "slideshow": {
     "slide_type": "subslide"
    }
   },
   "source": [
    "- The node `78` is unbalanced\n",
    "    - Promote `77`\n",
    "![](../img/avl-insert12.png)"
   ]
  },
  {
   "cell_type": "markdown",
   "metadata": {
    "slideshow": {
     "slide_type": "subslide"
    }
   },
   "source": [
    "- Again, balanced\n",
    "![](../img/avl-insert13.png)"
   ]
  },
  {
   "cell_type": "markdown",
   "metadata": {
    "slideshow": {
     "slide_type": "slide"
    }
   },
   "source": [
    "- Insert `80`\n",
    "![](../img/avl-insert14.png)"
   ]
  },
  {
   "cell_type": "markdown",
   "metadata": {
    "slideshow": {
     "slide_type": "subslide"
    }
   },
   "source": [
    "- The node `69` is unbalanced\n",
    "    - A right-left imbalance\n",
    "    - Promote the intermediate node to the imbalanced node\n",
    "![](../img/avl-insert15.png)"
   ]
  },
  {
   "cell_type": "markdown",
   "metadata": {
    "slideshow": {
     "slide_type": "subslide"
    }
   },
   "source": [
    "- The node `69` is unbalanced\n",
    "    - A right-left imbalance\n",
    "    - Promote the intermediate node to the imbalanced node\n",
    "    - `75` is that value\n",
    "![](../img/avl-insert16.png)"
   ]
  },
  {
   "cell_type": "markdown",
   "metadata": {
    "slideshow": {
     "slide_type": "subslide"
    }
   },
   "source": [
    "- Again, balanced\n",
    "![](../img/avl-insert17.png)"
   ]
  },
  {
   "cell_type": "markdown",
   "metadata": {
    "slideshow": {
     "slide_type": "slide"
    }
   },
   "source": [
    "- Insert `74`\n",
    "![](../img/avl-insert18.png)"
   ]
  },
  {
   "cell_type": "markdown",
   "metadata": {
    "slideshow": {
     "slide_type": "subslide"
    }
   },
   "source": [
    "- The node `72` is unbalanced\n",
    "    - A right-right imbalance\n",
    "    - Promote the intermediate node to the imbalanced node\n",
    "![](../img/avl-insert19.png)"
   ]
  },
  {
   "cell_type": "markdown",
   "metadata": {
    "slideshow": {
     "slide_type": "subslide"
    }
   },
   "source": [
    "- The node `72` is unbalanced\n",
    "    - A right-right imbalance\n",
    "    - Promote the intermediate node to the imbalanced node\n",
    "    - `73` is that value\n",
    "![](../img/avl-insert20.png)"
   ]
  },
  {
   "cell_type": "markdown",
   "metadata": {
    "slideshow": {
     "slide_type": "subslide"
    }
   },
   "source": [
    "- Again, balanced\n",
    "![](../img/avl-insert21.png)"
   ]
  },
  {
   "cell_type": "markdown",
   "metadata": {
    "slideshow": {
     "slide_type": "slide"
    }
   },
   "source": [
    "- Insert `64`\n",
    "    - This causes no imbalances\n",
    "![](../img/avl-insert22.png)"
   ]
  },
  {
   "cell_type": "markdown",
   "metadata": {
    "slideshow": {
     "slide_type": "slide"
    }
   },
   "source": [
    "- Insert `55`\n",
    "![](../img/avl-insert23.png)"
   ]
  },
  {
   "cell_type": "markdown",
   "metadata": {
    "slideshow": {
     "slide_type": "subslide"
    }
   },
   "source": [
    "- The node `69` is unbalanced\n",
    "    - A left-left imbalance\n",
    "    - Promote the intermediate node to the imbalanced node\n",
    "![](../img/avl-insert24.png)"
   ]
  },
  {
   "cell_type": "markdown",
   "metadata": {
    "slideshow": {
     "slide_type": "subslide"
    }
   },
   "source": [
    "- The node `69` is unbalanced\n",
    "    - A left-left imbalance\n",
    "    - Promote the intermediate node to the imbalanced node\n",
    "    - `63` is that value\n",
    "![](../img/avl-insert25.png)"
   ]
  },
  {
   "cell_type": "markdown",
   "metadata": {
    "slideshow": {
     "slide_type": "subslide"
    }
   },
   "source": [
    "- The tree is now balanced\n",
    "![](../img/avl-insert26.png)"
   ]
  },
  {
   "cell_type": "markdown",
   "metadata": {
    "slideshow": {
     "slide_type": "slide"
    }
   },
   "source": [
    "- Insert `70`\n",
    "![](../img/avl-insert27.png)"
   ]
  },
  {
   "cell_type": "markdown",
   "metadata": {
    "slideshow": {
     "slide_type": "subslide"
    }
   },
   "source": [
    "- The root node is now imbalanced\n",
    "    - A right-left imbalance\n",
    "    - Promote the intermediate node to the root\n",
    "![](../img/avl-insert28.png)"
   ]
  },
  {
   "cell_type": "markdown",
   "metadata": {
    "slideshow": {
     "slide_type": "subslide"
    }
   },
   "source": [
    "- The root node is now imbalanced\n",
    "    - A right-left imbalance\n",
    "    - Promote the intermediate node to the root\n",
    "    - `63` is that value\n",
    "![](../img/avl-insert29.png)"
   ]
  },
  {
   "cell_type": "markdown",
   "metadata": {
    "slideshow": {
     "slide_type": "subslide"
    }
   },
   "source": [
    "- The result is AVL balanced\n",
    "![](../img/avl-insert30.png)"
   ]
  },
  {
   "cell_type": "markdown",
   "metadata": {
    "slideshow": {
     "slide_type": "slide"
    }
   },
   "source": [
    "## Erase\n",
    "\n",
    "- Removing a node from an AVL tree may cause more than one AVL imbalance\n",
    "    - Like `insert`, `erase` must check after it has been successfully called on a child to see if it caused an imbalance\n",
    "    - Unfortunately, it may cause $O(h)$ imbalances that must be corrected\n",
    "        - Insertions will only cause one imbalance that must be fixed\n",
    "    - The movement of trees, however, may require that more than one node within the triplet has its height corrected"
   ]
  },
  {
   "cell_type": "markdown",
   "metadata": {
    "slideshow": {
     "slide_type": "slide"
    }
   },
   "source": [
    "- Consider the following AVL tree\n",
    "![](../img/avl-erase01.png)"
   ]
  },
  {
   "cell_type": "markdown",
   "metadata": {
    "slideshow": {
     "slide_type": "slide"
    }
   },
   "source": [
    "- Suppose we erase the front node `1`\n",
    "![](../img/avl-erase02.png)"
   ]
  },
  {
   "cell_type": "markdown",
   "metadata": {
    "slideshow": {
     "slide_type": "slide"
    }
   },
   "source": [
    "- While its previous parent, `2`, is not unbalanced, its grandparent `3` is\n",
    "    - The imbalance is in the right-right subtree\n",
    "![](../img/avl-erase03.png)"
   ]
  },
  {
   "cell_type": "markdown",
   "metadata": {
    "slideshow": {
     "slide_type": "slide"
    }
   },
   "source": [
    "- We can correct this with a simple balance\n",
    "![](../img/avl-erase04.png)"
   ]
  },
  {
   "cell_type": "markdown",
   "metadata": {
    "slideshow": {
     "slide_type": "slide"
    }
   },
   "source": [
    "- The node of that subtree, `5`, is now balanced\n",
    "![](../img/avl-erase05.png)"
   ]
  },
  {
   "cell_type": "markdown",
   "metadata": {
    "slideshow": {
     "slide_type": "slide"
    }
   },
   "source": [
    "- Recursing to the root, however, `8` is also unbalanced\n",
    "    - This is a right-left imbalance\n",
    "![](../img/avl-erase06.png)"
   ]
  },
  {
   "cell_type": "markdown",
   "metadata": {
    "slideshow": {
     "slide_type": "slide"
    }
   },
   "source": [
    "- Promoting `11` to the root corrects the imbalance \n",
    "![](../img/avl-erase07.png)"
   ]
  },
  {
   "cell_type": "markdown",
   "metadata": {
    "slideshow": {
     "slide_type": "slide"
    }
   },
   "source": [
    "- At this point, the node `11` is balanced\n",
    "![](../img/avl-erase08.png)"
   ]
  },
  {
   "cell_type": "markdown",
   "metadata": {
    "slideshow": {
     "slide_type": "slide"
    }
   },
   "source": [
    "- Still, the root node is unbalanced\n",
    "    - This is a right-right imbalance\n",
    "![](../img/avl-erase09.png)"
   ]
  },
  {
   "cell_type": "markdown",
   "metadata": {
    "slideshow": {
     "slide_type": "slide"
    }
   },
   "source": [
    "- Again, a simple balance fixes the imbalance\n",
    "![](../img/avl-erase10.png)"
   ]
  },
  {
   "cell_type": "markdown",
   "metadata": {
    "slideshow": {
     "slide_type": "slide"
    }
   },
   "source": [
    "- The resulting tree is now AVL balanced\n",
    "    - Note, few erases will require one balance, even fewer will require more than one\n",
    "![](../img/avl-erase11.png)"
   ]
  },
  {
   "cell_type": "markdown",
   "metadata": {
    "slideshow": {
     "slide_type": "slide"
    }
   },
   "source": [
    "## AVL Trees as Arrays\n",
    "\n",
    "- We previously saw that\n",
    "    - Complete tree can be stored using an array using $\\Theta(n)$ memory\n",
    "    - An arbitrary tree of $n$ nodes requires $O(2^n)$ memory\n",
    "\n",
    "- Is it possible to store an AVL tree as an array and not require exponentially more memory?"
   ]
  },
  {
   "cell_type": "markdown",
   "metadata": {
    "slideshow": {
     "slide_type": "slide"
    }
   },
   "source": [
    "- Recall that in the worst case, an AVL tree of $n$ nodes has a height at most\n",
    "$$log_\\phi(n) - 1.3277$$\n",
    "- Such a tree requires an array of size\n",
    "$$2^{log_\\phi(n) - 1.3277 + 1} - 1$$\n",
    "- We can rewrite this as\n",
    "$$ 2^{-0.3277} n^{log_\\phi(2)} \\approx 0.7968 n^{1.44}$$\n",
    "- Thus, we would require $O(n^{1.44})$ memory\n",
    "    - It is still sub-optimal when compared to the linear growth associated with link-allocated trees\n",
    "        - Tree size $n=10^3$ will require $\\sim 20n$ array size\n",
    "        - Tree size $n=10^6$ will require $\\sim 436n$ array size"
   ]
  },
  {
   "cell_type": "markdown",
   "metadata": {
    "slideshow": {
     "slide_type": "slide"
    }
   },
   "source": [
    "## Summary\n",
    "\n",
    "- AVL balance is defined by ensuring the difference in heights is 0 or 1\n",
    "- Insertions and erases are like binary search trees\n",
    "- Each insertion requires at least one correction to maintain AVL balance\n",
    "- Erases may require $O(h)$ corrections\n",
    "- These corrections require $\\Theta(1)$ time\n",
    "- Depth is $\\Theta( \\ln(n) )$\n",
    "    - all $O(h)$ operations are $O( \\ln(n) )$"
   ]
  },
  {
   "cell_type": "markdown",
   "metadata": {
    "slideshow": {
     "slide_type": "skip"
    }
   },
   "source": [
    "Based on material provided by Douglas Wilhelm Harder"
   ]
  }
 ],
 "metadata": {
  "celltoolbar": "Slideshow",
  "kernelspec": {
   "display_name": "C++17",
   "language": "C++17",
   "name": "xcpp17"
  },
  "language_info": {
   "codemirror_mode": "text/x-c++src",
   "file_extension": ".cpp",
   "mimetype": "text/x-c++src",
   "name": "c++",
   "version": "17"
  }
 },
 "nbformat": 4,
 "nbformat_minor": 4
}
