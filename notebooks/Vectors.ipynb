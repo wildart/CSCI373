{
 "cells": [
  {
   "cell_type": "code",
   "execution_count": 1,
   "metadata": {
    "slideshow": {
     "slide_type": "skip"
    }
   },
   "outputs": [],
   "source": [
    "#include <iostream>\n",
    "#include <iomanip>\n",
    "using namespace std;\n",
    "std::cout << std::boolalpha; "
   ]
  },
  {
   "cell_type": "markdown",
   "metadata": {
    "slideshow": {
     "slide_type": "slide"
    }
   },
   "source": [
    "# Vectors"
   ]
  },
  {
   "cell_type": "markdown",
   "metadata": {
    "slideshow": {
     "slide_type": "slide"
    }
   },
   "source": [
    "## ArrayVector\n",
    "\n",
    "- The **Array Vector ADT** extends the `ArrayList` to allow dynamically grow its size\n",
    "- It uses an array to store the elements of linear list\n",
    "- An element can be accessed, inserted or removed by specifying its index (number of elements preceding it)\n",
    "- An exception is thrown if an incorrect index is given (e.g., a negative index)\n",
    "- Individual element is located in the array using a mathematical formula.\n",
    "    - typical formula: **location(i) = i - 1**"
   ]
  },
  {
   "cell_type": "markdown",
   "metadata": {
    "slideshow": {
     "slide_type": "slide"
    }
   },
   "source": [
    "## ArrayVector Itreface\n",
    "\n",
    "- All methods as in `ArrayList`\n",
    "\n",
    "- Modifiers:\n",
    "    - `push_back(object o)`: appends a new element `o` to the end of the list\n",
    "    - `pop_back()`: removes element at the end of the list"
   ]
  },
  {
   "cell_type": "code",
   "execution_count": null,
   "metadata": {
    "slideshow": {
     "slide_type": "slide"
    }
   },
   "outputs": [],
   "source": [
    "template <typename T>\n",
    "class ArrayVector: public ArrayList<T> {\n",
    "public:\n",
    "    ArrayVector(int size = 1) :  ArrayList<T>(size) {\n",
    "    }\n",
    "    // Modifiers\n",
    "    void push_back(T o);\n",
    "    void pop_back();\n",
    "};"
   ]
  },
  {
   "cell_type": "markdown",
   "metadata": {
    "slideshow": {
     "slide_type": "slide"
    }
   },
   "source": [
    "## Insertion\n",
    "\n",
    "- In operation `insert(i, o)`, we need to make room for the new element in the $i$th posistion\n",
    "    - by shifting forward the $n-i$ elements $A[i], \\ldots, A[n - 1]$\n",
    "- In the worst case *(i = 0)*, this takes $O(n)$ time\n",
    "\n",
    "![](../img/arraylist-insert.png)"
   ]
  },
  {
   "cell_type": "code",
   "execution_count": 6,
   "metadata": {
    "slideshow": {
     "slide_type": "slide"
    }
   },
   "outputs": [
    {
     "name": "stdout",
     "output_type": "stream",
     "text": [
      "Current size: 0\n",
      "Max size: 1\n",
      "Empty: true\n"
     ]
    }
   ],
   "source": [
    "#include \"../dev/ArrayVector.hpp\"\n",
    "\n",
    "ArrayVector<int> av;\n",
    "cout << \"Current size: \" << av.size() << endl;\n",
    "cout << \"Max size: \" << av.max_size() << endl;\n",
    "cout << \"Empty: \" << av.empty() << endl;"
   ]
  },
  {
   "cell_type": "code",
   "execution_count": 7,
   "metadata": {
    "slideshow": {
     "slide_type": "fragment"
    }
   },
   "outputs": [
    {
     "name": "stdout",
     "output_type": "stream",
     "text": [
      "ArrayList: 1\n",
      "Current size: 1\n",
      "Max size: 1\n"
     ]
    }
   ],
   "source": [
    "av.push_back(1);\n",
    "cout << \"ArrayList: \"; av.print(); cout << endl;\n",
    "cout << \"Current size: \" << av.size() << endl;\n",
    "cout << \"Max size: \" << av.max_size() << endl;"
   ]
  },
  {
   "cell_type": "code",
   "execution_count": 8,
   "metadata": {
    "slideshow": {
     "slide_type": "slide"
    }
   },
   "outputs": [
    {
     "name": "stdout",
     "output_type": "stream",
     "text": [
      "ArrayVector: 1-2\n",
      "Current size: 2\n",
      "Max size: 4\n"
     ]
    }
   ],
   "source": [
    "av.push_back(2);\n",
    "cout << \"ArrayVector: \"; av.print(); cout << endl;\n",
    "cout << \"Current size: \" << av.size() << endl;\n",
    "cout << \"Max size: \" << av.max_size() << endl;"
   ]
  },
  {
   "cell_type": "code",
   "execution_count": 9,
   "metadata": {
    "slideshow": {
     "slide_type": "fragment"
    }
   },
   "outputs": [
    {
     "name": "stdout",
     "output_type": "stream",
     "text": [
      "ArrayVector: 1-2-3-4-5-6\n",
      "Current size: 6\n",
      "Max size: 7\n"
     ]
    }
   ],
   "source": [
    "av.push_back(3); av.push_back(4); av.push_back(5); av.push_back(6); \n",
    "cout << \"ArrayVector: \"; av.print(); cout << endl;\n",
    "cout << \"Current size: \" << av.size() << endl;\n",
    "cout << \"Max size: \" << av.max_size() << endl;"
   ]
  },
  {
   "cell_type": "markdown",
   "metadata": {
    "slideshow": {
     "slide_type": "slide"
    }
   },
   "source": [
    "## Growable ArrayVector\n",
    "\n",
    "- In a `push_back(o)` operation, we always insert at the end\n",
    "- When the array is full, we replace the array with a larger one\n",
    "- How large should the new array be?\n",
    "    - **Incremental strategy**: increase the size by a constant `c`\n",
    "    - **Doubling strategy**: double the size"
   ]
  },
  {
   "cell_type": "markdown",
   "metadata": {
    "slideshow": {
     "slide_type": "slide"
    }
   },
   "source": [
    "## Comparison of the Strategies\n",
    "\n",
    "- We compare the incremental strategy and the doubling strategy by analyzing the total time $T(n)$ needed to perform a series of $n$ `push_back(o)` operations\n",
    "- We assume that we start with an empty storage represented by an array of size 1\n",
    "- We call amortized time of an insert operation the average time taken by an insert over the series of operations, i.e., $T(n)/n$"
   ]
  },
  {
   "cell_type": "markdown",
   "metadata": {
    "slideshow": {
     "slide_type": "slide"
    }
   },
   "source": [
    "## Incremental Strategy\n",
    "\n",
    "- We replace the array $k = n/c$ times\n",
    "- The total time $T(n)$ of a series of $n$ insert operations is proportional to\n",
    "$$n + c + 2c + 3c + 4c + \\cdots + kc =$$\n",
    "$$n + c(1 + 2 + 3 + \\cdots + k) =$$\n",
    "$$n + ck(k + 1)/2$$\n",
    "\n",
    "- Since $c$ is a constant, $T(n)$ is $O(n + k 2 )$, i.e., $O(n^2)$\n",
    "- The amortized time of an insert operation is $O(n)$"
   ]
  },
  {
   "cell_type": "code",
   "execution_count": 19,
   "metadata": {
    "slideshow": {
     "slide_type": "slide"
    }
   },
   "outputs": [
    {
     "name": "stdout",
     "output_type": "stream",
     "text": [
      "i: 2, max_size: 7\n",
      "i: 8, max_size: 13\n",
      "i: 14, max_size: 19\n",
      "i: 20, max_size: 25\n",
      "i: 26, max_size: 31\n",
      "i: 32, max_size: 37\n",
      "i: 38, max_size: 43\n",
      "i: 44, max_size: 49\n",
      "i: 50, max_size: 55\n",
      "i: 56, max_size: 61\n",
      "i: 62, max_size: 67\n",
      "i: 68, max_size: 73\n",
      "i: 74, max_size: 79\n",
      "i: 80, max_size: 85\n",
      "i: 86, max_size: 91\n",
      "i: 92, max_size: 97\n",
      "i: 98, max_size: 103\n",
      "Vector: 1-2-3-4-5-6-7-8-9-10-11-12-13-14-15-16-17-18-19-20-21-22-23-24-25-26-27-28-29-30-31-32-33-34-35-36-37-38-39-40-41-42-43-44-45-46-47-48-49-50-51-52-53-54-55-56-57-58-59-60-61-62-63-64-65-66-67-68-69-70-71-72-73-74-75-76-77-78-79-80-81-82-83-84-85-86-87-88-89-90-91-92-93-94-95-96-97-98-99-100"
     ]
    }
   ],
   "source": [
    "// Linear growth: n+6\n",
    "ArrayVector<int> av(1);\n",
    "av.set_growth_func([](int n){return n+6;});\n",
    "int cursize = av.max_size();\n",
    "for (int i=1; i <= 100; i++){\n",
    "    av.push_back(i);\n",
    "    if (cursize != av.max_size()) { // print the storage size when it changed\n",
    "        std::cout << \"i: \" << i << \", max_size: \" << av.max_size() << std::endl;\n",
    "        cursize = av.max_size();\n",
    "    }\n",
    "}\n",
    "cout << \"Vector: \"; av.print();"
   ]
  },
  {
   "cell_type": "markdown",
   "metadata": {
    "slideshow": {
     "slide_type": "slide"
    }
   },
   "source": [
    "## Doubling Strategy\n",
    "\n",
    "- We replace the array $k = \\log_2 n$ times\n",
    "- The total time $T(n)$ of a series of $n$ insert operations is proportional to\n",
    "$$n + 1 + 2 + 4 + 8 + \\cdots + 2 k =$$\n",
    "$$n + 2^{k+1} - 1 =$$\n",
    "$$3n − 1$$\n",
    "\n",
    "- $T(n)$ is $O(n)$\n",
    "- The amortized time of an insert operation is $O(1)$"
   ]
  },
  {
   "cell_type": "code",
   "execution_count": 20,
   "metadata": {
    "slideshow": {
     "slide_type": "slide"
    }
   },
   "outputs": [
    {
     "name": "stdout",
     "output_type": "stream",
     "text": [
      "i: 2, max_size: 2\n",
      "i: 3, max_size: 4\n",
      "i: 5, max_size: 16\n",
      "i: 17, max_size: 256\n",
      "Vector: 1-2-3-4-5-6-7-8-9-10-11-12-13-14-15-16-17-18-19-20-21-22-23-24-25-26-27-28-29-30-31-32-33-34-35-36-37-38-39-40-41-42-43-44-45-46-47-48-49-50-51-52-53-54-55-56-57-58-59-60-61-62-63-64-65-66-67-68-69-70-71-72-73-74-75-76-77-78-79-80-81-82-83-84-85-86-87-88-89-90-91-92-93-94-95-96-97-98-99-100"
     ]
    }
   ],
   "source": [
    "// Exponential growth: 2^k\n",
    "ArrayVector<int> av(1);\n",
    "av.set_growth_func([](int n){return n==1 ? n+1: n*n;});\n",
    "int cursize = av.max_size();\n",
    "for (int i=1; i <= 100; i++){\n",
    "    av.push_back(i);\n",
    "    if (cursize != av.max_size()) { // print the storage size when it changed\n",
    "        std::cout << \"i: \" << i << \", max_size: \" << av.max_size() << std::endl;\n",
    "        cursize = av.max_size();\n",
    "    }\n",
    "}\n",
    "cout << \"Vector: \"; av.print();"
   ]
  }
 ],
 "metadata": {
  "celltoolbar": "Slideshow",
  "kernelspec": {
   "display_name": "C++14",
   "language": "C++14",
   "name": "xcpp14"
  },
  "language_info": {
   "codemirror_mode": "text/x-c++src",
   "file_extension": ".cpp",
   "mimetype": "text/x-c++src",
   "name": "c++",
   "version": "14"
  }
 },
 "nbformat": 4,
 "nbformat_minor": 4
}
