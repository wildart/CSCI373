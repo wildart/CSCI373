{
 "cells": [
  {
   "cell_type": "code",
   "execution_count": 1,
   "metadata": {
    "slideshow": {
     "slide_type": "skip"
    }
   },
   "outputs": [],
   "source": [
    "#include <iostream>\n",
    "#include <algorithm>"
   ]
  },
  {
   "cell_type": "markdown",
   "metadata": {
    "slideshow": {
     "slide_type": "slide"
    }
   },
   "source": [
    "# Search Trees"
   ]
  },
  {
   "cell_type": "markdown",
   "metadata": {
    "slideshow": {
     "slide_type": "slide"
    }
   },
   "source": [
    "## Abstract Sorted Lists\n",
    "\n",
    "- In the **Abstract List ADT**, the objects are explicitly linearly ordered by the programmer\n",
    "\n",
    "- Within the **Abstract Sorted List ADT** the relation is based on an **implicit** linear ordering\n",
    "    - Certain operations no longer make sense\n",
    "        `push_front` and `push_back` are replaced by a generic insert\n",
    "        \n",
    "- Queries that may be made about data stored in a **Sorted List ADT** include\n",
    "    - Finding the smallest and largest values\n",
    "    - Finding the $k$th largest value\n",
    "    - Find the next larger and previous smaller objects of a given object which may or may not be in the container\n",
    "    - Iterate through those objects that fall on an interval $[a, b]$"
   ]
  },
  {
   "cell_type": "markdown",
   "metadata": {
    "slideshow": {
     "slide_type": "slide"
    }
   },
   "source": [
    "## Implementation\n",
    "\n",
    "- If we implement an **Abstract Sorted List** using an array or a linked list, we will have operations which are $O(n)$\n",
    "    - As an insertion could occur anywhere in a linked list or array, we must either traverse or copy, on average, $O(n)$ objects"
   ]
  },
  {
   "cell_type": "markdown",
   "metadata": {
    "slideshow": {
     "slide_type": "slide"
    }
   },
   "source": [
    "## Binary Search Trees\n",
    "\n",
    "- A binary tree dictates an order on the two children\n",
    "\n",
    "- Exploit this order to\timprove performance\n",
    "    - Require all objects in the left sub-tree to be less than the object stored in the root node, and\n",
    "    - Require all objects in the right sub-tree to be greater than the object in the root object\n",
    "    \n",
    "![](../img/bs-tree1.png)\n",
    "\n",
    "- Each of the two sub-trees will themselves be binary search trees"
   ]
  },
  {
   "cell_type": "markdown",
   "metadata": {
    "slideshow": {
     "slide_type": "slide"
    }
   },
   "source": [
    "- We can already use this structure for searching:\n",
    "    - examine the root node and if we have not found what we are looking for\n",
    "        - If the object is less than what is stored in the root node, continue searching in the left sub-tree\n",
    "        - Otherwise, continue searching the right sub-tree\n",
    "\n",
    "- With a linear order, one of the following three must be true\n",
    "    - `a < b`\n",
    "    - `a = b`\n",
    "    - `a > b`"
   ]
  },
  {
   "cell_type": "markdown",
   "metadata": {
    "slideshow": {
     "slide_type": "slide"
    }
   },
   "source": [
    "## Definition\n",
    "\n",
    "- A non-empty **binary search tree** as a binary tree with the following properties\n",
    "    - The left sub-tree (if any) is a binary search tree and all values are less than the root value, and\n",
    "    - The right sub-tree (if any) is a binary search tree and all values are greater than the root value\n",
    "    \n",
    "![](../img/bs-tree2.png)"
   ]
  },
  {
   "cell_type": "markdown",
   "metadata": {
    "slideshow": {
     "slide_type": "slide"
    }
   },
   "source": [
    "- Unfortunately, it is possible to construct degenerate binary search trees\n",
    "    - This is equivalent to a linked list, i.e., $O(n)$\n",
    "\n",
    "![](../img/bs-tree3.png)\n",
    "\n",
    "- All these binary search trees store the same data"
   ]
  },
  {
   "cell_type": "markdown",
   "metadata": {
    "slideshow": {
     "slide_type": "slide"
    }
   },
   "source": [
    "## Duplicate values\n",
    "\n",
    "- Assume that in any binary tree, we are **not storing** duplicate values unless otherwise stated\n",
    "    - In reality, it is seldom the case where duplicate values in a container must be stored as separate entities\n",
    "\n",
    "- You can always consider duplicate values with modifications to the algorithms we will cover"
   ]
  },
  {
   "cell_type": "markdown",
   "metadata": {
    "slideshow": {
     "slide_type": "slide"
    }
   },
   "source": [
    "## Implementation\n",
    "\n",
    "- An implementation of a binary search tree follows the blueprint of `SinglyLinkedList` class\n",
    "    - we will have a `BinarySearchNode` class\n",
    "    - a `BinarySearchTree` class will store a pointer to the root\n",
    "\n",
    "- We will use templates, however, we will require that the class overrides the comparison operators\n",
    "- Any class which uses this binary search tree class must therefore implement comparison operators for the stored values, e.g.\n",
    "```cpp\n",
    "bool operator<( Type const &, Type const & );\n",
    "```"
   ]
  },
  {
   "cell_type": "code",
   "execution_count": 2,
   "metadata": {
    "slideshow": {
     "slide_type": "slide"
    }
   },
   "outputs": [],
   "source": [
    "#include \"../src/BinaryNode.h\"\n",
    "\n",
    "template <typename Type>\n",
    "class BinarySearchTree;\n",
    "\n",
    "template <typename Type>\n",
    "class BinarySearchNode : public BinaryNode<Type> {\n",
    "    using BinaryNode<Type>::element;\n",
    "    using BinaryNode<Type>::left_tree;\n",
    "    using BinaryNode<Type>::right_tree;\n",
    "\n",
    "public:\n",
    "    BinarySearchNode( const Type& );\n",
    "\n",
    "    // Accessors\n",
    "    BinarySearchNode* left() const;\n",
    "    BinarySearchNode* right() const;\n",
    "    Type front() const; // minimum object\n",
    "    Type back() const;  // maximum object\n",
    "    bool find( const Type & ) const;\n",
    "    Type next( Type const & ) const;\n",
    "    Type at( int k ) const;\n",
    "    void print( int = 0 );\n",
    "\n",
    "    // Mutators\n",
    "    bool insert( const Type &, BinarySearchNode *& = nullptr );\n",
    "    bool erase( const Type &, BinarySearchNode *& = nullptr );\n",
    "\n",
    "    // Friends\n",
    "    friend class BinarySearchTree<Type>;\n",
    "    \n",
    "    template <typename T>\n",
    "    friend std::ostream &operator<<( std::ostream &, const BinarySearchNode<T> & );\n",
    "};"
   ]
  },
  {
   "cell_type": "markdown",
   "metadata": {
    "slideshow": {
     "slide_type": "slide"
    }
   },
   "source": [
    "### Constructor\n",
    "\n",
    "- The constructor simply calls the constructor of the base class\n",
    "    - Recall that it sets both `left_tree` and `right_tree` to `nullptr`\n",
    "    - It assumes that this is a new leaf node"
   ]
  },
  {
   "cell_type": "code",
   "execution_count": 3,
   "metadata": {
    "scrolled": true,
    "slideshow": {
     "slide_type": "fragment"
    }
   },
   "outputs": [],
   "source": [
    "template <typename Type>\n",
    "BinarySearchNode<Type>::BinarySearchNode( const Type &e ) :\n",
    "    BinaryNode<Type>( e ){\n",
    "    // Just calls the constructor of the base class\n",
    "}"
   ]
  },
  {
   "cell_type": "markdown",
   "metadata": {
    "slideshow": {
     "slide_type": "slide"
    }
   },
   "source": [
    "### Accessors\n",
    "\n",
    "- Because it is a derived class, it already inherits the function:\n",
    "```cpp\n",
    "Type value() const\n",
    "```\n",
    "- Because the base class returns a pointer to a `BinaryNode`, we must recast them as `BinarySearchNode`"
   ]
  },
  {
   "cell_type": "code",
   "execution_count": 4,
   "metadata": {
    "slideshow": {
     "slide_type": "fragment"
    }
   },
   "outputs": [],
   "source": [
    "template <typename Type>\n",
    "BinarySearchNode<Type> *BinarySearchNode<Type>::left() const {\n",
    "    return reinterpret_cast<BinarySearchNode *>( BinaryNode<Type>::left() );\n",
    "}\n",
    "\n",
    "template <typename Type>\n",
    "BinarySearchNode<Type> *BinarySearchNode<Type>::right() const {\n",
    "    return reinterpret_cast<BinarySearchNode *>( BinaryNode<Type>::right() );\n",
    "}"
   ]
  },
  {
   "cell_type": "markdown",
   "metadata": {
    "slideshow": {
     "slide_type": "slide"
    }
   },
   "source": [
    "- Following member functions are inherited from the base class `BinaryNode`\n",
    "```cpp\n",
    "bool is_leaf() const\n",
    "int size() const\n",
    "int height() const\n",
    "```"
   ]
  },
  {
   "cell_type": "markdown",
   "metadata": {
    "slideshow": {
     "slide_type": "slide"
    }
   },
   "source": [
    "### Finding the Minimum Object\n",
    "\n",
    "- To find the node containing the smallest elements in the tree (its front)\n",
    "    - start at the root and go left as long as there is a left child.\n",
    "    - the stopping point is the smallest element\n",
    "- The run time $O(h)$\n",
    "![](../img/bs-tree-min.png)"
   ]
  },
  {
   "cell_type": "code",
   "execution_count": 5,
   "metadata": {
    "slideshow": {
     "slide_type": "fragment"
    }
   },
   "outputs": [],
   "source": [
    "template <typename Type>\n",
    "Type BinarySearchNode<Type>::front() const {\n",
    "    return ( left() == nullptr ) ? this->value() : left()->front();\n",
    "}"
   ]
  },
  {
   "cell_type": "markdown",
   "metadata": {
    "slideshow": {
     "slide_type": "slide"
    }
   },
   "source": [
    "### Finding the Maximum Object\n",
    "\n",
    "- To find the node containing the largest elements in the tree (its back)\n",
    "    - start at the root and go right as long as there is a right child.\n",
    "    - the stopping point is the largest element.\n",
    "- The run time $O(h)$\n",
    "![](../img/bs-tree-max.png)"
   ]
  },
  {
   "cell_type": "code",
   "execution_count": 6,
   "metadata": {
    "slideshow": {
     "slide_type": "fragment"
    }
   },
   "outputs": [],
   "source": [
    "template <typename Type>\n",
    "Type BinarySearchNode<Type>::back() const {\n",
    "    return ( right() == nullptr ) ? this->value() : right()->back();\n",
    "}"
   ]
  },
  {
   "cell_type": "markdown",
   "metadata": {
    "slideshow": {
     "slide_type": "slide"
    }
   },
   "source": [
    "### Find\n",
    "\n",
    "- To determine membership, traverse the tree based on the linear relationship\n",
    "    - If a node containing the value is found, e.g., `81`, return `true`\n",
    "    ![](../img/bs-tree-find1.png)\n",
    "    - If an empty node is reached, e.g., `36`, the object is not in the tree:\n",
    "    ![](../img/bs-tree-find2.png)"
   ]
  },
  {
   "cell_type": "markdown",
   "metadata": {
    "slideshow": {
     "slide_type": "slide"
    }
   },
   "source": [
    "- The implementation is similar to `front` and `back`\n",
    "    - The run time is $O(h)$"
   ]
  },
  {
   "cell_type": "code",
   "execution_count": 7,
   "metadata": {
    "scrolled": true,
    "slideshow": {
     "slide_type": "fragment"
    }
   },
   "outputs": [],
   "source": [
    "template <typename Type>\n",
    "bool BinarySearchNode<Type>::find( const Type &obj ) const {\n",
    "    if ( this->value() == obj ) {\n",
    "        return true;\n",
    "    } else if ( this->value() < obj && right() != nullptr) {\n",
    "        return right()->find( obj );\n",
    "    } else if ( this->value() > obj && left() != nullptr) {\n",
    "        return left()->find( obj );\n",
    "    }\n",
    "    return false;\n",
    "}"
   ]
  },
  {
   "cell_type": "markdown",
   "metadata": {
    "slideshow": {
     "slide_type": "slide"
    }
   },
   "source": [
    "## Insert\n",
    "\n",
    "- Recall that a **Sorted List** is implicitly ordered\n",
    "    - It does not make sense to have member functions such as `push_front` and `push_back`\n",
    "    - Insertion will be performed by a single insert member function which places the object into the correct location"
   ]
  },
  {
   "cell_type": "markdown",
   "metadata": {
    "slideshow": {
     "slide_type": "slide"
    }
   },
   "source": [
    "- An insertion will be performed at a leaf node\n",
    "    - Any empty node is a possible location for an insertion\n",
    "    ![](../img/bs-tree-insert1.png)\n",
    "- The values which may be inserted at any empty node depend on the surrounding nodes"
   ]
  },
  {
   "cell_type": "markdown",
   "metadata": {
    "slideshow": {
     "slide_type": "slide"
    }
   },
   "source": [
    "- For example, this node may hold `48`, `49`, or `50`\n",
    "![](../img/bs-tree-insert2.png)"
   ]
  },
  {
   "cell_type": "markdown",
   "metadata": {
    "slideshow": {
     "slide_type": "slide"
    }
   },
   "source": [
    "- An insertion at this location must be `35`, `36`, `37`, or `38`\n",
    "![](../img/bs-tree-insert3.png)"
   ]
  },
  {
   "cell_type": "markdown",
   "metadata": {
    "slideshow": {
     "slide_type": "slide"
    }
   },
   "source": [
    "- This empty node may hold values from `71` to `74`\n",
    "![](../img/bs-tree-insert4.png)"
   ]
  },
  {
   "cell_type": "markdown",
   "metadata": {
    "slideshow": {
     "slide_type": "slide"
    }
   },
   "source": [
    "- Like `find`, we will step through the tree\n",
    "    - If we find the object already in the tree, stop\n",
    "        - The object is already in the binary search tree (no duplicates)\n",
    "    - Otherwise, we will arrive at an empty node\n",
    "    - The object will be inserted into that location\n",
    "- The run time is $O(h)$"
   ]
  },
  {
   "cell_type": "markdown",
   "metadata": {
    "slideshow": {
     "slide_type": "slide"
    }
   },
   "source": [
    "- In inserting the value `52`, we traverse the tree until we reach an empty node\n",
    "    - The left sub-tree of `54` is an empty node\n",
    "    ![](../img/bs-tree-insert5.png)"
   ]
  },
  {
   "cell_type": "markdown",
   "metadata": {
    "slideshow": {
     "slide_type": "slide"
    }
   },
   "source": [
    "- A new leaf node is created and assigned to the member variable `left_tree`\n",
    "![](../img/bs-tree-insert6.png)"
   ]
  },
  {
   "cell_type": "markdown",
   "metadata": {
    "slideshow": {
     "slide_type": "slide"
    }
   },
   "source": [
    "- In inserting `40`, we determine the right sub-tree of `39` is an empty node\n",
    "![](../img/bs-tree-insert7.png)"
   ]
  },
  {
   "cell_type": "markdown",
   "metadata": {
    "slideshow": {
     "slide_type": "slide"
    }
   },
   "source": [
    "- A new leaf node storing `40` is created and assigned to the member variable `right_tree`\n",
    "![](../img/bs-tree-insert8.png)"
   ]
  },
  {
   "cell_type": "code",
   "execution_count": 8,
   "metadata": {
    "slideshow": {
     "slide_type": "slide"
    }
   },
   "outputs": [],
   "source": [
    "template <typename Type>\n",
    "bool BinarySearchNode<Type>::insert( const Type &obj, BinarySearchNode* &t ) {\n",
    "    if ( t == nullptr ) {\n",
    "        t = new BinarySearchNode<Type>( obj );\n",
    "        return true;\n",
    "    } else if ( obj < t->value() ) {\n",
    "        return insert( obj, reinterpret_cast<BinarySearchNode<Type>*&>(t->left_tree) );\n",
    "    } else if ( obj > t->value() ) {\n",
    "        return insert( obj, reinterpret_cast<BinarySearchNode<Type>*&>(t->right_tree) );\n",
    "    } else {\n",
    "        return false;\n",
    "    }\n",
    "}"
   ]
  },
  {
   "cell_type": "markdown",
   "metadata": {
    "slideshow": {
     "slide_type": "fragment"
    }
   },
   "source": [
    "It is assumed that if neither of the conditions\n",
    "- `obj < value()`\n",
    "- `obj > value()`\n",
    "\n",
    "then `obj == value()` and therefore we do nothing\n",
    "- The object is already in the binary search tree\t"
   ]
  },
  {
   "cell_type": "code",
   "execution_count": 9,
   "metadata": {
    "slideshow": {
     "slide_type": "skip"
    }
   },
   "outputs": [],
   "source": [
    "template <typename Type>\n",
    "void BinarySearchNode<Type>::print( int depth ) {\n",
    "    auto print_tabs = [](int depth) { std::string tabs(depth, '\\t'); std::cout << tabs; };\n",
    "    print_tabs( depth );\n",
    "    std::cout << this->value() << std::endl;\n",
    "    if (left() != nullptr)\n",
    "        left()->print(depth+1);\n",
    "    if (right() != nullptr)\n",
    "        right()->print(depth+1);\n",
    "}"
   ]
  },
  {
   "cell_type": "code",
   "execution_count": 10,
   "metadata": {
    "slideshow": {
     "slide_type": "subslide"
    }
   },
   "outputs": [
    {
     "name": "stdout",
     "output_type": "stream",
     "text": [
      "Before `40` added\n",
      "42\n",
      "\t39\n",
      "\t\t11\n",
      "\t\t\t8\n",
      "\t\t\t\t3\n",
      "\t\t\t29\n",
      "\t\t\t\t19\n",
      "\t\t\t\t\t16\n",
      "\t\t\t\t\t24\n",
      "\t\t\t\t34\n",
      "After `40` added\n",
      "42\n",
      "\t39\n",
      "\t\t11\n",
      "\t\t\t8\n",
      "\t\t\t\t3\n",
      "\t\t\t29\n",
      "\t\t\t\t19\n",
      "\t\t\t\t\t16\n",
      "\t\t\t\t\t24\n",
      "\t\t\t\t34\n",
      "\t\t40\n"
     ]
    }
   ],
   "source": [
    "{\n",
    "    BinarySearchNode<int>* r = new BinarySearchNode<int>(42);\n",
    "    for(int i : {39,11,8,3,29,19,16,24,34})\n",
    "        r->insert(i, r);\n",
    "    std::cout << \"Before `40` added\" <<std::endl;    \n",
    "    r->print();    \n",
    "    r->insert(40, r);\n",
    "    std::cout << \"After `40` added\" <<std::endl;    \n",
    "    r->print();\n",
    "    r->clear();\n",
    "}"
   ]
  },
  {
   "cell_type": "markdown",
   "metadata": {
    "slideshow": {
     "slide_type": "slide"
    }
   },
   "source": [
    "### Exercise\n",
    "\n",
    "- In the given order, insert these objects into an initially empty binary search tree:\n",
    "```\n",
    "    31  45  36  14  52  42  6  21  73  47  26 37  33  8\n",
    "``` \n",
    "- What values could be placed:\n",
    "    - To the left of 21?\n",
    "    - To the right of 26?\n",
    "    - To the left of 47?\n",
    "- How would we determine if 40 is in this binary search tree?\n",
    "- Which values could be inserted to increase the height of the tree?"
   ]
  },
  {
   "cell_type": "code",
   "execution_count": 11,
   "metadata": {
    "slideshow": {
     "slide_type": "subslide"
    }
   },
   "outputs": [
    {
     "name": "stdout",
     "output_type": "stream",
     "text": [
      "Height: 5\n",
      "31\n",
      "\t14\n",
      "\t\t6\n",
      "\t\t\t8\n",
      "\t\t21\n",
      "\t\t\t26\n",
      "\t45\n",
      "\t\t36\n",
      "\t\t\t33\n",
      "\t\t\t42\n",
      "\t\t\t\t37\n",
      "\t\t52\n",
      "\t\t\t47\n",
      "\t\t\t73\n",
      "Height: 6\n",
      "31\n",
      "\t14\n",
      "\t\t6\n",
      "\t\t\t8\n",
      "\t\t21\n",
      "\t\t\t26\n",
      "\t45\n",
      "\t\t36\n",
      "\t\t\t33\n",
      "\t\t\t42\n",
      "\t\t\t\t37\n",
      "\t\t\t\t\t40\n",
      "\t\t52\n",
      "\t\t\t47\n",
      "\t\t\t73\n"
     ]
    }
   ],
   "source": [
    "{\n",
    "    BinarySearchNode<int>* r = new BinarySearchNode<int>(31);\n",
    "    for(int i : {45,36,14,52,42,6,21,73,47,26,37,33,8})\n",
    "        r->insert(i, r);\n",
    "    std::cout << \"Height: \" << r->height() << std::endl;\n",
    "    r->print();\n",
    "    r->insert(40, r);\n",
    "    std::cout << \"Height: \" << r->height() << std::endl;\n",
    "    r->print();\n",
    "    r->clear();\n",
    "}"
   ]
  },
  {
   "cell_type": "markdown",
   "metadata": {
    "slideshow": {
     "slide_type": "slide"
    }
   },
   "source": [
    "## Erase\n",
    "\n",
    "- A node being erased is not always going to be a leaf node\n",
    "- There are three possible scenarios:\n",
    "    - The node is a leaf node,\n",
    "    - It has exactly one child, or\n",
    "    - It has two children (it is a full node)"
   ]
  },
  {
   "cell_type": "markdown",
   "metadata": {
    "slideshow": {
     "slide_type": "slide"
    }
   },
   "source": [
    "- A leaf node simply must be removed and the appropriate member variable of the parent is set to `nullptr`\n",
    "    - Consider removing `75`\n",
    "![](../img/bs-tree-erase1.png)"
   ]
  },
  {
   "cell_type": "markdown",
   "metadata": {
    "slideshow": {
     "slide_type": "slide"
    }
   },
   "source": [
    "- The node is deleted and `left_tree` of `81` is set to `nullptr`\n",
    "![](../img/bs-tree-erase2.png)"
   ]
  },
  {
   "cell_type": "markdown",
   "metadata": {
    "slideshow": {
     "slide_type": "slide"
    }
   },
   "source": [
    "- Erasing the node containing `40` is similar\n",
    "![](../img/bs-tree-erase3.png)"
   ]
  },
  {
   "cell_type": "markdown",
   "metadata": {
    "slideshow": {
     "slide_type": "slide"
    }
   },
   "source": [
    "- The node is deleted and `right_tree` of `39` is set to `nullptr`\n",
    "![](../img/bs-tree-erase4.png)"
   ]
  },
  {
   "cell_type": "markdown",
   "metadata": {
    "slideshow": {
     "slide_type": "slide"
    }
   },
   "source": [
    "- If a node has only one child, we can simply promote the sub-tree associated with the child\n",
    "    - Consider removing 8 which has one left child\n",
    "![](../img/bs-tree-erase5.png)"
   ]
  },
  {
   "cell_type": "markdown",
   "metadata": {
    "slideshow": {
     "slide_type": "slide"
    }
   },
   "source": [
    "- The node `8` is deleted and the `left_tree` of `11` is updated to point to `3`\n",
    "![](../img/bs-tree-erase6.png)"
   ]
  },
  {
   "cell_type": "markdown",
   "metadata": {
    "slideshow": {
     "slide_type": "slide"
    }
   },
   "source": [
    "- There is no difference in promoting a single node or a sub-tree\n",
    "    - To remove `39`, it has a single child `11`\n",
    "![](../img/bs-tree-erase7.png)"
   ]
  },
  {
   "cell_type": "markdown",
   "metadata": {
    "slideshow": {
     "slide_type": "slide"
    }
   },
   "source": [
    "- The node containing `39` is deleted and `left_node` of `42` is updated to point to `11`\n",
    "    - Notice that order is still maintained\n",
    "![](../img/bs-tree-erase8.png)"
   ]
  },
  {
   "cell_type": "markdown",
   "metadata": {
    "slideshow": {
     "slide_type": "slide"
    }
   },
   "source": [
    "- Consider erasing the node containing `99`\n",
    "![](../img/bs-tree-erase9.png)"
   ]
  },
  {
   "cell_type": "markdown",
   "metadata": {
    "slideshow": {
     "slide_type": "slide"
    }
   },
   "source": [
    "- \tThe node is deleted and the left sub-tree is promoted\n",
    "    - The member variable right_tree of `70` is set to point to `92`\n",
    "    - Again, the order of the tree is maintained\n",
    "![](../img/bs-tree-erase10.png)"
   ]
  },
  {
   "cell_type": "markdown",
   "metadata": {
    "slideshow": {
     "slide_type": "slide"
    }
   },
   "source": [
    "- Finally, we will consider the problem of erasing a full node, e.g., `42`\n",
    "- We will perform two operations\n",
    "    - Replace `42` with the minimum object in the right sub-tree\n",
    "    - Erase that object from the right sub-tree\n",
    "\n",
    "![](../img/bs-tree-erase11.png)"
   ]
  },
  {
   "cell_type": "markdown",
   "metadata": {
    "slideshow": {
     "slide_type": "slide"
    }
   },
   "source": [
    "- In this case, we replace `42` with `47`\n",
    "    - We temporarily have two copies of `47` in the tree\n",
    "\n",
    "![](../img/bs-tree-erase12.png)"
   ]
  },
  {
   "cell_type": "markdown",
   "metadata": {
    "slideshow": {
     "slide_type": "slide"
    }
   },
   "source": [
    "- We now recursively erase `47` from the right sub-tree\n",
    "    - We note that `47` is a leaf node in the right sub-tree\n",
    "\n",
    "![](../img/bs-tree-erase13.png)"
   ]
  },
  {
   "cell_type": "markdown",
   "metadata": {
    "slideshow": {
     "slide_type": "slide"
    }
   },
   "source": [
    "- Leaf nodes are simply removed and `left_tree` of `51` is set to `nullptr`\n",
    "    - Notice that the tree is still sorted\n",
    "\t\t- `47` was the least object in the right sub-tree\n",
    "\n",
    "![](../img/bs-tree-erase14.png)"
   ]
  },
  {
   "cell_type": "markdown",
   "metadata": {
    "slideshow": {
     "slide_type": "slide"
    }
   },
   "source": [
    "- Suppose we want to erase the root `47` again\n",
    "    - We must copy the minimum of the right sub-tree\n",
    "    - We could promote the maximum object in the left sub-tree and achieve similar results\n",
    "\n",
    "![](../img/bs-tree-erase15.png)"
   ]
  },
  {
   "cell_type": "markdown",
   "metadata": {
    "slideshow": {
     "slide_type": "slide"
    }
   },
   "source": [
    "- We copy `51` from the right sub-tree\n",
    "![](../img/bs-tree-erase16.png)"
   ]
  },
  {
   "cell_type": "markdown",
   "metadata": {
    "slideshow": {
     "slide_type": "slide"
    }
   },
   "source": [
    "- We must proceed by delete `51` from the right sub-tree\n",
    "![](../img/bs-tree-erase17.png)"
   ]
  },
  {
   "cell_type": "markdown",
   "metadata": {
    "slideshow": {
     "slide_type": "slide"
    }
   },
   "source": [
    "- In this case, the node storing `51` has just a single child\n",
    "![](../img/bs-tree-erase18.png)"
   ]
  },
  {
   "cell_type": "markdown",
   "metadata": {
    "slideshow": {
     "slide_type": "slide"
    }
   },
   "source": [
    "- We delete the node containing `51` and assign the member variable `left_tree` of `70` to point to `59`\n",
    "![](../img/bs-tree-erase19.png)\n",
    "- Note that after seven removals, the remaining tree is still correctly sorted"
   ]
  },
  {
   "cell_type": "markdown",
   "metadata": {
    "slideshow": {
     "slide_type": "slide"
    }
   },
   "source": [
    "- In the two examples of removing a full node, we promoted:\n",
    "    - A node with no children\n",
    "    - A node with right child\n",
    "- Is it possible, in removing a full node, to promote a child with two children?\n",
    "\n",
    "| |\n",
    "|-|\n",
    "|![](../img/bs-tree-erase12.png) |\n",
    "|![](../img/bs-tree-erase16.png) |"
   ]
  },
  {
   "cell_type": "markdown",
   "metadata": {
    "slideshow": {
     "slide_type": "slide"
    }
   },
   "source": [
    "- Recall that we promoted the minimum value in the right sub-tree\n",
    "    - If that node had a left sub-tree, that sub-tree would contain a smaller value\n",
    "    \n",
    "| |\n",
    "|-|\n",
    "|![](../img/bs-tree-erase12.png) |\n",
    "|![](../img/bs-tree-erase16.png) |"
   ]
  },
  {
   "cell_type": "code",
   "execution_count": 12,
   "metadata": {
    "slideshow": {
     "slide_type": "slide"
    }
   },
   "outputs": [],
   "source": [
    "template <typename Type>\n",
    "bool BinarySearchNode<Type>::erase( Type const &obj, BinarySearchNode *&t ) {\n",
    "    if (  t == nullptr ) {\n",
    "        return false;  // Item not found; do nothing\n",
    "    } else if ( obj < t->value() ) {\n",
    "        return erase( obj,  reinterpret_cast<BinarySearchNode<Type>*&>(t->left_tree) );\n",
    "    } else if ( obj > t->value() ) {\n",
    "        return erase( obj, reinterpret_cast<BinarySearchNode<Type>*&>(t->right_tree) );\n",
    "    } else if ( t->left() != nullptr && t->right() != nullptr ) {   // full node\n",
    "        t->element = t->right()->front();\n",
    "        erase( t->value(), reinterpret_cast<BinarySearchNode<Type>*&>(t->right_tree) );\n",
    "    } else { // only one child or leaf\n",
    "        BinarySearchNode<Type> *oldNode = t;\n",
    "        t = ( t->left() != nullptr ) ? t->left() : t->right();\n",
    "        delete oldNode;\n",
    "    }\n",
    "    return true;\n",
    "}"
   ]
  },
  {
   "cell_type": "code",
   "execution_count": 13,
   "metadata": {
    "slideshow": {
     "slide_type": "subslide"
    }
   },
   "outputs": [
    {
     "name": "stdout",
     "output_type": "stream",
     "text": [
      "Before `75` removed\n",
      "42\n",
      "\t39\n",
      "\t\t11\n",
      "\t\t\t8\n",
      "\t\t\t\t3\n",
      "\t\t\t29\n",
      "\t\t\t\t19\n",
      "\t\t\t\t\t16\n",
      "\t\t\t\t\t24\n",
      "\t\t\t\t34\n",
      "\t70\n",
      "\t\t51\n",
      "\t\t\t47\n",
      "\t\t\t59\n",
      "\t\t\t\t54\n",
      "\t\t\t\t\t52\n",
      "\t\t\t\t68\n",
      "\t\t\t\t\t63\n",
      "\t\t99\n",
      "\t\t\t92\n",
      "\t\t\t\t81\n",
      "\t\t\t\t\t75\n",
      "\t\t\t\t\t87\n",
      "\t\t\t\t96\n",
      "After `75` removed\n",
      "42\n",
      "\t39\n",
      "\t\t11\n",
      "\t\t\t8\n",
      "\t\t\t\t3\n",
      "\t\t\t29\n",
      "\t\t\t\t19\n",
      "\t\t\t\t\t16\n",
      "\t\t\t\t\t24\n",
      "\t\t\t\t34\n",
      "\t70\n",
      "\t\t51\n",
      "\t\t\t47\n",
      "\t\t\t59\n",
      "\t\t\t\t54\n",
      "\t\t\t\t\t52\n",
      "\t\t\t\t68\n",
      "\t\t\t\t\t63\n",
      "\t\t99\n",
      "\t\t\t92\n",
      "\t\t\t\t81\n",
      "\t\t\t\t\t87\n",
      "\t\t\t\t96\n"
     ]
    }
   ],
   "source": [
    "{\n",
    "    BinarySearchNode<int>* r = new BinarySearchNode<int>(42);\n",
    "    for(int i : {39,11,8,3,29,19,16,24,34,70,51,47,59,54,52,68,63,99,92,81,75,87,96})\n",
    "        r->insert(i, r);\n",
    "    std::cout << \"Before `75` removed\" <<std::endl;    \n",
    "    r->print();\n",
    "    r->erase(75, r);\n",
    "    std::cout << \"After `75` removed\" <<std::endl;    \n",
    "    r->print();\n",
    "    r->clear();\n",
    "}"
   ]
  },
  {
   "cell_type": "markdown",
   "metadata": {
    "slideshow": {
     "slide_type": "slide"
    }
   },
   "source": [
    "### Exercise\n",
    "\n",
    "- In the binary search tree generated previous exercise:\n",
    "    - Erase 47\n",
    "    - Erase 21\n",
    "    - Erase 45\n",
    "    - Erase 31\n",
    "    - Erase 36"
   ]
  },
  {
   "cell_type": "code",
   "execution_count": 14,
   "metadata": {
    "slideshow": {
     "slide_type": "subslide"
    }
   },
   "outputs": [
    {
     "name": "stdout",
     "output_type": "stream",
     "text": [
      "Height: 5\n",
      "31\n",
      "\t14\n",
      "\t\t6\n",
      "\t\t\t8\n",
      "\t\t21\n",
      "\t\t\t26\n",
      "\t45\n",
      "\t\t36\n",
      "\t\t\t33\n",
      "\t\t\t42\n",
      "\t\t\t\t37\n",
      "\t\t52\n",
      "\t\t\t47\n",
      "\t\t\t73\n",
      "Height: 5\n",
      "31\n",
      "\t14\n",
      "\t\t6\n",
      "\t\t\t8\n",
      "\t\t21\n",
      "\t\t\t26\n",
      "\t45\n",
      "\t\t36\n",
      "\t\t\t33\n",
      "\t\t\t42\n",
      "\t\t\t\t37\n",
      "\t\t52\n",
      "\t\t\t73\n"
     ]
    }
   ],
   "source": [
    "{\n",
    "    BinarySearchNode<int>* r = new BinarySearchNode<int>(31);\n",
    "    for(int i : {45,36,14,52,42,6,21,73,47,26,37,33,8})\n",
    "        r->insert(i, r);\n",
    "    std::cout << \"Height: \" << r->height() << std::endl;\n",
    "    r->print();\n",
    "    r->erase(47, r);\n",
    "    std::cout << \"Height: \" << r->height() << std::endl;\n",
    "    r->print();\n",
    "    r->clear();\n",
    "}"
   ]
  },
  {
   "cell_type": "markdown",
   "metadata": {
    "slideshow": {
     "slide_type": "slide"
    }
   },
   "source": [
    "## Binary Search Tree\n",
    "\n",
    "- Now, we introduce a container which stores the root, `BinarySearchTree` class\n",
    "- Most operations will be simply passed to the root node"
   ]
  },
  {
   "cell_type": "code",
   "execution_count": 15,
   "metadata": {
    "slideshow": {
     "slide_type": "fragment"
    }
   },
   "outputs": [],
   "source": [
    "template <typename Type>\n",
    "class BinarySearchTree {\n",
    "    BinarySearchNode<Type> *root_node;\n",
    "public:\n",
    "    BinarySearchTree();\n",
    "    ~BinarySearchTree();\n",
    "\n",
    "    BinarySearchNode<Type>* root() const;\n",
    "    bool empty() const;\n",
    "    int size() const;\n",
    "    int height() const;\n",
    "    Type front() const;\n",
    "    Type back() const;\n",
    "    bool find( const Type &obj ) const;\n",
    "    Type at( int k ) const;\n",
    "\n",
    "    void clear();\n",
    "    bool insert( const Type &obj );\n",
    "    bool erase( const Type &obj );\n",
    "};"
   ]
  },
  {
   "cell_type": "markdown",
   "metadata": {
    "slideshow": {
     "slide_type": "slide"
    }
   },
   "source": [
    "### Constructor & Destructor"
   ]
  },
  {
   "cell_type": "code",
   "execution_count": 16,
   "metadata": {
    "slideshow": {
     "slide_type": "fragment"
    }
   },
   "outputs": [],
   "source": [
    "template <typename Type>\n",
    "BinarySearchTree<Type>::BinarySearchTree(): root_node( nullptr ) {\n",
    "    // does nothing\n",
    "}"
   ]
  },
  {
   "cell_type": "code",
   "execution_count": 17,
   "metadata": {
    "slideshow": {
     "slide_type": "fragment"
    }
   },
   "outputs": [],
   "source": [
    "template <typename Type>\n",
    "BinarySearchTree<Type>::~BinarySearchTree() {\n",
    "    clear();\n",
    "}"
   ]
  },
  {
   "cell_type": "code",
   "execution_count": 18,
   "metadata": {
    "slideshow": {
     "slide_type": "fragment"
    }
   },
   "outputs": [],
   "source": [
    "template <typename Type>\n",
    "void BinarySearchTree<Type>::clear() {\n",
    "    root()->clear();\n",
    "}"
   ]
  },
  {
   "cell_type": "markdown",
   "metadata": {
    "slideshow": {
     "slide_type": "slide"
    }
   },
   "source": [
    "### Capacity"
   ]
  },
  {
   "cell_type": "code",
   "execution_count": 19,
   "metadata": {
    "slideshow": {
     "slide_type": "fragment"
    }
   },
   "outputs": [],
   "source": [
    "template <typename Type>\n",
    "BinarySearchNode<Type>* BinarySearchTree<Type>::root() const {\n",
    "    return root_node;\n",
    "}"
   ]
  },
  {
   "cell_type": "code",
   "execution_count": 20,
   "metadata": {
    "slideshow": {
     "slide_type": "fragment"
    }
   },
   "outputs": [],
   "source": [
    "template <typename Type>\n",
    "bool BinarySearchTree<Type>::empty() const {\n",
    "    return root() == nullptr;\n",
    "}"
   ]
  },
  {
   "cell_type": "code",
   "execution_count": 21,
   "metadata": {
    "slideshow": {
     "slide_type": "fragment"
    }
   },
   "outputs": [],
   "source": [
    "template <typename Type>\n",
    "int BinarySearchTree<Type>::size() const {\n",
    "    return empty() ? 0 : root()->size();\n",
    "}"
   ]
  },
  {
   "cell_type": "code",
   "execution_count": 22,
   "metadata": {
    "slideshow": {
     "slide_type": "fragment"
    }
   },
   "outputs": [],
   "source": [
    "template <typename Type>\n",
    "int BinarySearchTree<Type>::height() const {\n",
    "    return empty() ? -1 : root()->height();\n",
    "}"
   ]
  },
  {
   "cell_type": "markdown",
   "metadata": {
    "slideshow": {
     "slide_type": "slide"
    }
   },
   "source": [
    "### Accessors"
   ]
  },
  {
   "cell_type": "code",
   "execution_count": 23,
   "metadata": {
    "slideshow": {
     "slide_type": "fragment"
    }
   },
   "outputs": [],
   "source": [
    "template <typename Type>\n",
    "Type BinarySearchTree<Type>::front() const {\n",
    "    return root()->front();\n",
    "}"
   ]
  },
  {
   "cell_type": "code",
   "execution_count": 24,
   "metadata": {
    "slideshow": {
     "slide_type": "fragment"
    }
   },
   "outputs": [],
   "source": [
    "template <typename Type>\n",
    "Type BinarySearchTree<Type>::back() const {\n",
    "    return root()->back();\n",
    "}"
   ]
  },
  {
   "cell_type": "code",
   "execution_count": 25,
   "metadata": {
    "slideshow": {
     "slide_type": "fragment"
    }
   },
   "outputs": [],
   "source": [
    "template <typename Type>\n",
    "bool BinarySearchTree<Type>::find( Type const &obj ) const {\n",
    "     return root()->find( obj );\n",
    "}"
   ]
  },
  {
   "cell_type": "markdown",
   "metadata": {
    "slideshow": {
     "slide_type": "slide"
    }
   },
   "source": [
    "### Modifiers"
   ]
  },
  {
   "cell_type": "code",
   "execution_count": 26,
   "metadata": {
    "slideshow": {
     "slide_type": "fragment"
    }
   },
   "outputs": [],
   "source": [
    "template <typename Type>\n",
    "bool BinarySearchTree<Type>::insert( Type const &obj ) {\n",
    "    if ( empty() ) {\n",
    "        root_node = new BinarySearchNode<Type>(obj);\n",
    "        return true;\n",
    "    }\n",
    "    return root()->insert( obj, root_node );\n",
    "}"
   ]
  },
  {
   "cell_type": "code",
   "execution_count": 27,
   "metadata": {
    "slideshow": {
     "slide_type": "fragment"
    }
   },
   "outputs": [],
   "source": [
    "template <typename Type>\n",
    "bool BinarySearchTree<Type>::erase( Type const &obj ) {\n",
    "    return root()->erase( obj, root_node );\n",
    "}"
   ]
  },
  {
   "cell_type": "markdown",
   "metadata": {
    "slideshow": {
     "slide_type": "slide"
    }
   },
   "source": [
    "## Previous and Next Objects\n",
    "\n",
    "- All the operations up to now have been operations which work on any container: `count`, `insert`, etc.\n",
    "\n",
    "- Operations specific to *linearly ordered data* include\n",
    "    - Find the next larger and previous smaller objects of a given object which may or may not be in the container\n",
    "    - Find the $k$th value of the container\n",
    "    - Iterate through those objects that fall on an interval $[a, b]$\n",
    "\n",
    "- We will focus on finding the next largest object"
   ]
  },
  {
   "cell_type": "markdown",
   "metadata": {
    "slideshow": {
     "slide_type": "slide"
    }
   },
   "source": [
    "- To find the next largest object\n",
    "    - If the node has a right sub-tree, the minimum object in that sub-tree is the next-largest object \n",
    "    \n",
    "![](../img/bs-tree-next1.png)"
   ]
  },
  {
   "cell_type": "markdown",
   "metadata": {
    "slideshow": {
     "slide_type": "slide"
    }
   },
   "source": [
    "- If, however, there is no right sub-tree:\n",
    "    - It is the next largest object (if any) that exists in the path from the root to the node\n",
    "![](../img/bs-tree-next2.png)"
   ]
  },
  {
   "cell_type": "markdown",
   "metadata": {
    "slideshow": {
     "slide_type": "slide"
    }
   },
   "source": [
    "- More generally:  what is the next largest value of an arbitrary object?\n",
    "    - This can be found with a single search from the root node to one of the leaves - an $O(h)$ operation\n",
    "- This function returns the object if it did not find something greater than it"
   ]
  },
  {
   "cell_type": "code",
   "execution_count": 28,
   "metadata": {
    "slideshow": {
     "slide_type": "fragment"
    }
   },
   "outputs": [],
   "source": [
    "template <typename Type>\n",
    "Type BinarySearchNode<Type>::next( const Type &obj ) const {\n",
    "    if ( this->is_leaf() ) {\n",
    "        return obj;\n",
    "    } else if ( this->value() == obj  ) {\n",
    "        return ( right() == nullptr ) ? obj : right()->front();\n",
    "    } else if ( this->value() > obj ) {\n",
    "        Type tmp = left()->next( obj );\n",
    "        return ( tmp == obj ) ? this->value() : tmp;\n",
    "    } else {\n",
    "        return right()->next( obj );\n",
    "    }\n",
    "}"
   ]
  },
  {
   "cell_type": "code",
   "execution_count": 29,
   "metadata": {
    "slideshow": {
     "slide_type": "subslide"
    }
   },
   "outputs": [
    {
     "name": "stdout",
     "output_type": "stream",
     "text": [
      "51\n",
      "\t11\n",
      "\t\t3\n",
      "\t\t29\n",
      "\t\t\t19\n",
      "\t\t\t\t16\n",
      "\t\t\t\t24\n",
      "\t\t\t34\n",
      "\t70\n",
      "\t\t59\n",
      "\t\t\t54\n",
      "\t\t\t\t52\n",
      "\t\t\t68\n",
      "\t\t\t\t63\n",
      "\t\t92\n",
      "\t\t\t81\n",
      "\t\t\t\t87\n",
      "\t\t\t96\n",
      "Next op 3: 11\n",
      "Next op 63: 68\n",
      "Next op 51: 52\n",
      "Next op 59: 63\n"
     ]
    }
   ],
   "source": [
    "{\n",
    "    BinarySearchTree<int> t;\n",
    "    for(int i : {42,39,11,8,3,29,19,16,24,34,70,51,47,59,54,52,68,63,99,92,81,75,87,96})\n",
    "        t.insert(i);\n",
    "    for(int i : {75,8,39,99,42,47})\n",
    "        t.erase(i);\n",
    "    auto r = t.root(); r->print();\n",
    "    std::cout << \"Next op 3: \" << r->next(3) << std::endl;\n",
    "    std::cout << \"Next op 63: \" << r->next(63) << std::endl;\n",
    "    std::cout << \"Next op 51: \" << r->next(51) << std::endl;\n",
    "    std::cout << \"Next op 59: \" << r->next(59) << std::endl;\n",
    "}"
   ]
  },
  {
   "cell_type": "markdown",
   "metadata": {
    "slideshow": {
     "slide_type": "slide"
    }
   },
   "source": [
    "## Finding the $k$th Object\n",
    "\n",
    "- Another operation on sorted lists may be finding the $k$th largest object\n",
    "    - Recall that $k$ goes from $0$ to $n-1$, and $l$ is the size of the left sub-tree\n",
    "    - If the left sub-tree has $l = k$ values, return the current node,\n",
    "    - If the left sub-tree has $l > k$ values, return the $k$th value of the left sub-tree,\n",
    "    - Otherwise, the left sub-tree has $l < k$ values, so return the $(k-l-1)$th value of the right sub-tree\n",
    "![](../img/bs-tree-kth.png)"
   ]
  },
  {
   "cell_type": "code",
   "execution_count": 30,
   "metadata": {
    "slideshow": {
     "slide_type": "slide"
    }
   },
   "outputs": [],
   "source": [
    "template <typename Type>\n",
    "Type BinarySearchNode<Type>::at( int k ) const {\n",
    "    int l = left() == nullptr ? 0 : left()->size();\n",
    "    if ( l == k ) {\n",
    "        return this->value();\n",
    "    } else if ( l > k ) {\n",
    "        return left()->at( k );\n",
    "    } else {\n",
    "        return right()->at( k - l - 1 );\n",
    "    }\n",
    "}"
   ]
  },
  {
   "cell_type": "code",
   "execution_count": 31,
   "metadata": {
    "slideshow": {
     "slide_type": "fragment"
    }
   },
   "outputs": [],
   "source": [
    "template <typename Type>\n",
    "Type BinarySearchTree<Type>::at( int k ) const {\n",
    "     return ( k < 0 || k >= size() ) ? Type() : root()->at( k );\n",
    "                       // Need to go from 0, ..., n - 1\n",
    "}"
   ]
  },
  {
   "cell_type": "markdown",
   "metadata": {
    "slideshow": {
     "slide_type": "slide"
    }
   },
   "source": [
    "- The above implementation requires that `size()` returns in $\\Theta(1)$ time\n",
    "- We must have a member variable\n",
    "```cpp\n",
    "int tree_size;\n",
    "```\n",
    "    which stores the number of descendants of this node\n",
    "\n",
    "- This requires $\\Theta(n)$ additional memory\n",
    "```cpp\n",
    "template <typename Type>\n",
    "bool BinarySearchTree<Type>::size() const {\n",
    "    return root()->size();\n",
    "}\n",
    "```\n",
    "- We can implement this in the `BinaryNode` class, if we want\n",
    "    - The constructor will set the size to 1\n",
    "    - We must now update `insert` and `erase` to update `tree_size`"
   ]
  },
  {
   "cell_type": "code",
   "execution_count": 32,
   "metadata": {
    "slideshow": {
     "slide_type": "subslide"
    }
   },
   "outputs": [
    {
     "name": "stdout",
     "output_type": "stream",
     "text": [
      "At index 0: 3\n",
      "At index 6: 34\n",
      "At index 10: 59\n",
      "At index 14: 81\n"
     ]
    }
   ],
   "source": [
    "{\n",
    "    BinarySearchTree<int> t;\n",
    "    for(int i : {42,39,11,8,3,29,19,16,24,34,70,51,47,59,54,52,68,63,99,92,81,75,87,96})\n",
    "        t.insert(i);\n",
    "    for(int i : {75,8,39,99,42,47})\n",
    "        t.erase(i);\n",
    "    std::cout << \"At index 0: \" << t.at(0) << std::endl;\n",
    "    std::cout << \"At index 6: \" << t.at(6) << std::endl;\n",
    "    std::cout << \"At index 10: \" << t.at(10) << std::endl;\n",
    "    std::cout << \"At index 14: \" << t.at(14) << std::endl;\n",
    "}"
   ]
  },
  {
   "cell_type": "markdown",
   "metadata": {
    "slideshow": {
     "slide_type": "slide"
    }
   },
   "source": [
    "## Run Time: $O(h)$\n",
    "\n",
    "- Almost all of the relevant operations on a binary search tree are $O(h)$\n",
    "    - If the tree is close to a linked list, the run times is $O(n)$\n",
    "        - Insert $1, 2, 3, 4, 5, 6, 7, \\ldots, n$ into a empty binary search tree\n",
    "    - The best we can do is if the tree is perfect, $O(\\ln(n))$\n",
    "    - Our goal will be to find tree structures where we can maintain a height of $\\Theta(\\ln(n))$\n",
    "\n",
    "- We will look trees which ensure that the height remains $\\Theta(\\ln(n))$\n",
    "    - AVL trees\n",
    "    - B+ trees\n",
    "    - Others exist, too"
   ]
  },
  {
   "cell_type": "markdown",
   "metadata": {
    "slideshow": {
     "slide_type": "skip"
    }
   },
   "source": [
    "Based on material provided by Douglas Wilhelm Harder"
   ]
  }
 ],
 "metadata": {
  "celltoolbar": "Slideshow",
  "kernelspec": {
   "display_name": "C++17",
   "language": "C++17",
   "name": "xcpp17"
  },
  "language_info": {
   "codemirror_mode": "text/x-c++src",
   "file_extension": ".cpp",
   "mimetype": "text/x-c++src",
   "name": "c++",
   "version": "17"
  }
 },
 "nbformat": 4,
 "nbformat_minor": 4
}
