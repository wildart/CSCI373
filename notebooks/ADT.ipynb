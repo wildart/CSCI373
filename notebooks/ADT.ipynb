{
 "cells": [
  {
   "cell_type": "code",
   "execution_count": 1,
   "metadata": {
    "slideshow": {
     "slide_type": "skip"
    }
   },
   "outputs": [],
   "source": [
    "#include <iostream>\n",
    "#include <set>\n",
    "#include <vector>\n",
    "using namespace std;"
   ]
  },
  {
   "cell_type": "markdown",
   "metadata": {
    "slideshow": {
     "slide_type": "slide"
    }
   },
   "source": [
    "#  Abstract Data Types"
   ]
  },
  {
   "cell_type": "markdown",
   "metadata": {
    "slideshow": {
     "slide_type": "slide"
    }
   },
   "source": [
    "## Data Abstraction\n",
    "\n",
    "- An **abstract data type** is a user-defined data type that satisfies the following **two conditions**:\n",
    "    - The representation of objects of the type is **hidden** from the program units that use these objects, so the only operations possible are those provided in the type's definition\n",
    "    - The declarations of the type and the protocols of the operations on objects of the type are contained in a **single** syntactic unit.\n",
    "\n",
    "- An instance of an abstract data type is called an **object**.  "
   ]
  },
  {
   "cell_type": "markdown",
   "metadata": {
    "slideshow": {
     "slide_type": "slide"
    }
   },
   "source": [
    "## Encapsulation\n",
    "\n",
    "**Encapsulation** is one of the fundamentals of OOP.\n",
    "- It refers to the bundling of data with the methods that operate on that data.\n",
    "\n",
    "Encapsulation is used to **hide** the *values* or *state* of a structured data object inside a class\n",
    "- Publicly accessible methods are generally provided in the class, **getters** and **setters**, to access the values"
   ]
  },
  {
   "cell_type": "markdown",
   "metadata": {
    "slideshow": {
     "slide_type": "slide"
    }
   },
   "source": [
    "## Encapsulation in C++\n",
    "\n",
    "The **class** is the encapsulation device\n",
    "- A class is a type\n",
    "- All of the class instances of a class share a single copy of the member functions\n",
    "- Each instance of a class has its own copy of the class data members\n",
    "- Instances can be *static*, *stack dynamic*, or *heap dynamic*\n",
    "\n",
    "Information hiding\n",
    "- `private` clause for hidden entities\n",
    "- `public` clause for interface entities\n",
    "- `protected` clause for inheritance"
   ]
  },
  {
   "cell_type": "markdown",
   "metadata": {
    "slideshow": {
     "slide_type": "slide"
    }
   },
   "source": [
    "## Containers\n",
    "\n",
    "- The most general Abstract Data Type (ADT) is that of a container\n",
    "    - The [Container ADT](http://en.wikipedia.org/wiki/Container_(abstract_data_type))\n",
    "- A container describes structures that store and give access to objects\n",
    "- The queries and operations of interest may be defined on:\n",
    "    - The container as an entity, or\n",
    "    - The objects stored within a container"
   ]
  },
  {
   "cell_type": "markdown",
   "metadata": {
    "slideshow": {
     "slide_type": "slide"
    }
   },
   "source": [
    "## Operations on a Container\t\n",
    "\n",
    "- The operations we may wish to perform on a container are:\n",
    "    - Create a new container\n",
    "    - Copy or destroy an existing container\n",
    "    - Empty a container\n",
    "    - Query how many objects are in a container\n",
    "    - Query what is the maximum number of objects a container can hold\n",
    "    - Given two containers:\n",
    "        - Find the union (merge), or\n",
    "        - Find the intersection"
   ]
  },
  {
   "cell_type": "markdown",
   "metadata": {
    "slideshow": {
     "slide_type": "slide"
    }
   },
   "source": [
    "## Operations on a Container (cont.)\n",
    "\n",
    "- Many of these operations on containers are in the Standard Template Library (STL)\n",
    "\n",
    "| Activity    | Method     | \n",
    "|-------------|------------|\n",
    "| Constructor | Container() |\n",
    "|Copy Constructor | Container( Container const & )\n",
    "|Destructor | ~Container()\n",
    "|Empty it | void clear()\n",
    "|How many objects are in it? | int size() const\n",
    "|Is it empty? | bool empty() const\n",
    "|How many objects can it hold? | int max_size() const\n",
    "|Merge with another container | void insert( Container const & )"
   ]
  },
  {
   "cell_type": "markdown",
   "metadata": {
    "slideshow": {
     "slide_type": "slide"
    }
   },
   "source": [
    "## Operations on Objects Stored in a Container\n",
    "\n",
    "- Given a container, we may wish to:\n",
    "    - Insert an object into a container\n",
    "    - Access or modify an object in a container\n",
    "    - Remove an object from the container\n",
    "    - Query if an object is in the container\n",
    "    - If applicable, count how many copies of an object are in a container\n",
    "    - Iterate (step through) the objects in a container"
   ]
  },
  {
   "cell_type": "markdown",
   "metadata": {
    "slideshow": {
     "slide_type": "slide"
    }
   },
   "source": [
    "## Operations on Objects Stored in a Container (cont.)\n",
    "\n",
    "- Many of these operations on containers are in the Standard Template Library (STL)\n",
    "\n",
    "| Activity    | Method     | \n",
    "|-------------|------------|\n",
    "|Insert an object| void insert( Type const & )\n",
    "|Erase an object | void erase( Type const & )\n",
    "|Find or access an object | iterator find( Type const & )\n",
    "|Count the number of copies | int count( Type const & )\n",
    "|Iterate through the objects in a container | iterator begin() const"
   ]
  },
  {
   "cell_type": "markdown",
   "metadata": {
    "slideshow": {
     "slide_type": "slide"
    }
   },
   "source": [
    "## Simple and Associative Containers\n",
    "\n",
    "- We may split containers into two general classifications:\n",
    "    - **Simple**: Containers that store individual objects\n",
    "        - *Circular Array* for temperature readings\n",
    "    - **Associative**: Containers that store keys but also store records associated with those keys\n",
    "        - *CUNY Student ID* for Student Academic Record\n",
    "        \n",
    "- Any of the Abstract Data Types we will discuss can be implemented as either a simple container or an associative container\n",
    "\n",
    "- We will focus mostly on simple containers in this course\n",
    "    - Any container we discuss can be modified to store key-record pairs"
   ]
  },
  {
   "cell_type": "markdown",
   "metadata": {
    "slideshow": {
     "slide_type": "slide"
    }
   },
   "source": [
    "## Unique or Duplicate Objects\n",
    "\n",
    "- Another design requirement may be to either:\n",
    "    - Require that all objects in the container are unique, or\n",
    "    - Allow duplicate objects\n",
    "\n",
    "- Many of the containers we will look at will assume uniqueness unless otherwise stated\n",
    "    - Dealing with duplicate objects is often just additional, and sometimes subtle, code"
   ]
  },
  {
   "cell_type": "markdown",
   "metadata": {
    "slideshow": {
     "slide_type": "slide"
    }
   },
   "source": [
    "## Standard Template Library\n",
    "\n",
    "- We will begin by introducing four containers from the C++ Standard Template Library (STL)\n",
    "\n",
    "|    | Unique Objects/Keys | Duplicate Objects/Keys |\n",
    "|----|---------------------|------------------------|\n",
    "| Simple Container | `set<Type>` | `multiset<Type>`\n",
    "| Associative Container | `map<Key_type, Type>` | `multimap<Key_type, Type>`"
   ]
  },
  {
   "cell_type": "code",
   "execution_count": 2,
   "metadata": {
    "slideshow": {
     "slide_type": "slide"
    }
   },
   "outputs": [
    {
     "name": "stdout",
     "output_type": "stream",
     "text": [
      "Size of ints: 101\n",
      "Size of ints: 100\n"
     ]
    }
   ],
   "source": [
    "{\n",
    "    std::set<int> ints;\n",
    "//     std::vector<int> ints;\n",
    "\n",
    "    for ( int i = -100; i <= 100; ++i ) {\n",
    "        ints.insert( i*i );        // Ignores duplicates:  (-3)*(-3) == 3*3\n",
    "//         ints.push_back( i*i );        // Has duplicates\n",
    "    }                              // Inserts 101 values: 0, 1, 4, 9, ..., 10000\n",
    "\n",
    "    std::cout << \"Size of ints: \" << ints.size() << std::endl;  // Prints 101\n",
    "\n",
    "    ints.erase( 50 );                 // Does nothing\n",
    "    ints.erase( 9 );                  // Removes 9\n",
    "    std::cout << \"Size of ints: \" << ints.size() << std::endl;  // Prints 100\n",
    "}"
   ]
  },
  {
   "cell_type": "markdown",
   "metadata": {
    "slideshow": {
     "slide_type": "slide"
    }
   },
   "source": [
    "## Operations\n",
    "\n",
    "- In any application, the actual required operations may be only a subset of the possible operations\n",
    "    - In the design of any solution, it is important to consider both current and future requirements\n",
    "    - Under certain conditions, by reducing specific operations, the speed can be increased or the memory decreased"
   ]
  },
  {
   "cell_type": "markdown",
   "metadata": {
    "slideshow": {
     "slide_type": "slide"
    }
   },
   "source": [
    "## Software Engineering: ADT\n",
    "\n",
    "- In engineering, we tend to see certain patterns that occur over and over in applications\n",
    "\n",
    "- In these circumstances, we first name these patterns and then proceed to define certain standard solutions or implementations\n",
    "\n",
    "- In software in storing objects and relationships in containers, there are reoccurring containers of objects and associated relationships where the actual queries and operations are restricted\n",
    "    - We model such containers by Abstract Data Types or ADTs\n"
   ]
  },
  {
   "cell_type": "markdown",
   "metadata": {
    "slideshow": {
     "slide_type": "slide"
    }
   },
   "source": [
    "## Abstract Data Types\n",
    "\n",
    "Any time you are intending to store objects, you must ask:\n",
    "- What are the relationships on the objects?\n",
    "- What queries will be made about the objects in the container?\n",
    "- What operations will be performed on the objects in the container?\n",
    "- What operations may be performed on the container as a whole?\n",
    "- What queries will be made about the relationships between the objects in the container?\n",
    "- What operations may be made on the relationships themselves between the objects in the container?"
   ]
  },
  {
   "cell_type": "markdown",
   "metadata": {
    "slideshow": {
     "slide_type": "slide"
    }
   },
   "source": [
    "## Abstract Data Types (cont.)\n",
    "\n",
    "- Throughout this course, we will describe various ADTs and then look at various data structures that will allow us to efficiently implement the required queries and operations defined by the ADT\n",
    "\n",
    "- We have already discussed one ADT and a corresponding implementation:\n",
    "    The Container ADT\n",
    "    \n",
    "- The next question is, how do we implement these efficiently on a computer?"
   ]
  }
 ],
 "metadata": {
  "celltoolbar": "Slideshow",
  "kernelspec": {
   "display_name": "C++14",
   "language": "C++14",
   "name": "xcpp14"
  },
  "language_info": {
   "codemirror_mode": "text/x-c++src",
   "file_extension": ".cpp",
   "mimetype": "text/x-c++src",
   "name": "c++",
   "version": "14"
  },
  "rise": {
   "enable_chalkboard": true
  }
 },
 "nbformat": 4,
 "nbformat_minor": 4
}
