{
 "cells": [
  {
   "cell_type": "code",
   "execution_count": 1,
   "metadata": {
    "slideshow": {
     "slide_type": "skip"
    }
   },
   "outputs": [],
   "source": [
    "#include <iostream>\n",
    "using namespace std;"
   ]
  },
  {
   "cell_type": "markdown",
   "metadata": {
    "slideshow": {
     "slide_type": "slide"
    }
   },
   "source": [
    "#  C++ Brief Review"
   ]
  },
  {
   "cell_type": "markdown",
   "metadata": {
    "slideshow": {
     "slide_type": "slide"
    }
   },
   "source": [
    "## Control Statements\n",
    "\n",
    "- Conditionals\n",
    "```cpp\n",
    "if ( expression ) {\n",
    "    // ...\n",
    "} else if ( expression ) {\n",
    "    // ...                   \n",
    "} else {                         \n",
    "    // ...                   \n",
    "}\n",
    "```\n",
    "- Loops\n",
    "```cpp\n",
    "for ( int i = 0; i < N; ++i ) {\n",
    "    // ...\n",
    "}\n",
    "while ( expression ) {\n",
    "    // ...\n",
    "}\n",
    "do {\n",
    "// ...\n",
    "} while ( expression );\n",
    "```"
   ]
  },
  {
   "cell_type": "markdown",
   "metadata": {
    "slideshow": {
     "slide_type": "slide"
    }
   },
   "source": [
    "## Arrays\t\n",
    "    \n",
    "- Declaring static arrays:  \n",
    "\n",
    "```cpp\n",
    "const int ARRAY_CAPACITY = 10; // prevents reassignment\n",
    "int array[ARRAY_CAPACITY];\n",
    "```\n",
    "\n",
    "- Accessing arrays:  \n",
    "   \n",
    "```cpp \n",
    "array[0] = 1;\n",
    "for ( int i = 1; i < ARRAY_CAPACITY; ++i ) {\n",
    "    array[i] = 2*array[i – 1] + 1;\n",
    "}\n",
    "```\n",
    "\n",
    "- Recall that arrays go from  0  to  ARRAY_CAPACITY – 1"
   ]
  },
  {
   "cell_type": "code",
   "execution_count": 2,
   "metadata": {
    "slideshow": {
     "slide_type": "slide"
    }
   },
   "outputs": [
    {
     "name": "stderr",
     "output_type": "stream",
     "text": [
      "\u001b[1minput_line_9:5:5: \u001b[0m\u001b[0;1;35mwarning: \u001b[0m\u001b[1marray index 10 is past the end of the array (which contains 10 elements) [-Warray-bounds]\u001b[0m\n",
      "    array[10] = 1; \n",
      "\u001b[0;1;32m    ^     ~~\n",
      "\u001b[0m\u001b[1minput_line_9:4:5: \u001b[0m\u001b[0;1;30mnote: \u001b[0marray 'array' declared here\u001b[0m\n",
      "    int array[ARRAY_CAPACITY];\n",
      "\u001b[0;1;32m    ^\n",
      "\u001b[0m"
     ]
    },
    {
     "name": "stdout",
     "output_type": "stream",
     "text": [
      "1120162368\n",
      "21924\n"
     ]
    }
   ],
   "source": [
    "{        \n",
    "    const int ARRAY_CAPACITY = 10; // prevents reassignment\n",
    "    int array[ARRAY_CAPACITY];\n",
    "    array[10] = 1; \n",
    "    cout << array[0] << endl;\n",
    "    cout << array[1] << endl;\n",
    "}"
   ]
  },
  {
   "cell_type": "markdown",
   "metadata": {
    "slideshow": {
     "slide_type": "slide"
    }
   },
   "source": [
    "## Functions\n",
    "\n",
    "- Function must be declared before usage:\n",
    "\n",
    "```cpp\n",
    "// A function with a global name\n",
    "int sqr( int n ) {\n",
    "    return n*n;\n",
    "}\n",
    "\n",
    "int main() {\n",
    "    cout << \"The square of 3 is \" << sqr(3) << endl;\n",
    "    return 0;\n",
    "}\n",
    "```"
   ]
  },
  {
   "cell_type": "markdown",
   "metadata": {
    "slideshow": {
     "slide_type": "slide"
    }
   },
   "source": [
    "## The C++ Preprocessor\n",
    "\n",
    "- C++ is based on C, which was written in the early 1970s\n",
    "\n",
    "- Any command starting with a `#` in the first column is not a C/C++ statement, but rather a preprocessor statement\n",
    "    - The preprocessor performed very basic text-based (or lexical) substitutions\n",
    "    - The output is sent to the compiler\n",
    "    \n",
    "- The sequence is:\n",
    "    - file (filename.cpp) → preprocessor → compiler (g++)\n",
    "\n",
    "- Note, this is done automatically by the compiler:  no additional steps are necessary\n",
    "\n",
    "- At the top of any C++ program, you will see one or more directives starting with a #, e.g.,\n",
    "    - `#include <iostream>`"
   ]
  },
  {
   "cell_type": "markdown",
   "metadata": {
    "slideshow": {
     "slide_type": "slide"
    }
   },
   "source": [
    "![](../img/c-pproc.png)"
   ]
  },
  {
   "cell_type": "markdown",
   "metadata": {
    "slideshow": {
     "slide_type": "slide"
    }
   },
   "source": [
    "## Libraries\n",
    "\n",
    "- You will write your code in a file such as `Single_list.h` where you will implement a data structure\n",
    "\n",
    "- This file will be included in our tester file `Single_list_tester.h` with a statement such as:\n",
    "    - `#include \"Single_list.h\"`\n",
    "\n",
    "- The file `Single_list_int_driver.cpp` then includes the tester file:\n",
    "    - `#include \"Single_list_tester.h\"`"
   ]
  },
  {
   "cell_type": "markdown",
   "metadata": {
    "slideshow": {
     "slide_type": "slide"
    }
   },
   "source": [
    "## Libraries (cont.)\n",
    "\n",
    "- In this class, you will put all code in the header file\n",
    "\n",
    "- This is not normal practice:\n",
    "    - Usually the header (.h) file only contains declarations\n",
    "    - The definitions (the actual implementations) are stored in a related file and compiled into an object file"
   ]
  },
  {
   "cell_type": "markdown",
   "metadata": {
    "slideshow": {
     "slide_type": "slide"
    }
   },
   "source": [
    "![](../img/c-pproc2.png)"
   ]
  },
  {
   "cell_type": "markdown",
   "metadata": {
    "slideshow": {
     "slide_type": "slide"
    }
   },
   "source": [
    "## Guards\n",
    "\n",
    "- With all these includes, it is always necessary to avoid the same file being included twice, otherwise you have duplicate definitions\n",
    "\n",
    "- This is done with guard statements:\n",
    "\n",
    "```cpp\n",
    "#ifndef SINGLE_LIST_H\n",
    "#define SINGLE_LIST_H\n",
    "\n",
    "template <typename Type>\n",
    "class Single_list {\n",
    "\t///...\n",
    "};\n",
    "\n",
    "#endif\n",
    "```\n",
    "- or `#pragma once`"
   ]
  },
  {
   "cell_type": "markdown",
   "metadata": {
    "slideshow": {
     "slide_type": "slide"
    }
   },
   "source": [
    "## Code Structure\n",
    "\n",
    "- This class definition contains only the signatures (or prototypes) of the operations\n",
    "\n",
    "- The actual member function definitions may be defined elsewhere, either in:\n",
    "    - The same file, or\n",
    "    - Another file which is compiled into an object file"
   ]
  },
  {
   "cell_type": "markdown",
   "metadata": {
    "slideshow": {
     "slide_type": "slide"
    }
   },
   "source": [
    "## The File as the Unit of Compilation\n",
    "\n",
    "- In C/C++, the file is the base unit of compilation:\n",
    "    - Any `.cpp` file may be compiled into object code\n",
    "    - Only files containing an int main() function can be compiled into an executable\n",
    "\n",
    "- The signature of main is:\n",
    "\n",
    "```cpp\n",
    "int main () {\n",
    "    // does some stuff\n",
    "    return 0;\n",
    "}\n",
    "```\n",
    "\n",
    "- The operating system is expecting a return value\n",
    "    - Usually 0"
   ]
  },
  {
   "cell_type": "markdown",
   "metadata": {
    "slideshow": {
     "slide_type": "slide"
    }
   },
   "source": [
    "## The File as the Unit of Compilation (cont.)\n",
    "\n",
    "- If you add a function, declare its **prototype** first:"
   ]
  },
  {
   "cell_type": "code",
   "execution_count": null,
   "metadata": {
    "slideshow": {
     "slide_type": "fragment"
    }
   },
   "outputs": [],
   "source": [
    "#include<iostream>\n",
    "using namespace std;\n",
    "\n",
    "const int a = 1;\n",
    "\n",
    "int sqr( int ); // Function declaration (prototype)\n",
    "\n",
    "int main() {\n",
    "    cout << \"The square of 3 is \" << sqr(3) << endl;\n",
    "    return 0;\n",
    "}\n",
    "\n",
    "int sqr( int n ) { // Function definition\n",
    "    int a;\n",
    "    return n*n; // The definition can be in another file\n",
    "}"
   ]
  },
  {
   "cell_type": "markdown",
   "metadata": {
    "slideshow": {
     "slide_type": "slide"
    }
   },
   "source": [
    "## Scope\n",
    "\n",
    "- Variables defined:\n",
    "    - In functions are local variables\n",
    "    - In classes are member variables\n",
    "    - Elsewhere are global variables\n",
    "\t\n",
    "- Functions defined:\n",
    "    - In classes are member functions\n",
    "    - Elsewhere are global functions\n",
    "\t\n",
    "- In all these cases, the keyword **static** can modify the scope"
   ]
  },
  {
   "cell_type": "code",
   "execution_count": 2,
   "metadata": {
    "slideshow": {
     "slide_type": "slide"
    }
   },
   "outputs": [
    {
     "name": "stdout",
     "output_type": "stream",
     "text": [
      "3\n",
      "2\n",
      "1\n"
     ]
    }
   ],
   "source": [
    "{\n",
    "    int a{1};\n",
    "    {\n",
    "        int a{2};\n",
    "        {\n",
    "            int a{3};\n",
    "            cout << a << endl;\n",
    "        }\n",
    "        cout << a << endl;\n",
    "    }\n",
    "    cout << a << endl;\n",
    "}"
   ]
  },
  {
   "cell_type": "markdown",
   "metadata": {
    "slideshow": {
     "slide_type": "slide"
    }
   },
   "source": [
    "## Namespaces\n",
    "\n",
    "- Global variables/variables cause problems, especially in large projects\n",
    "    - Hundreds of employees\n",
    "    - Dozens of projects\n",
    "    - Everyone wanting a function init()\n",
    "\n",
    "- In C++ (and XML), this is solved using **namespaces**"
   ]
  },
  {
   "cell_type": "markdown",
   "metadata": {
    "slideshow": {
     "slide_type": "slide"
    }
   },
   "source": [
    "## Namespaces (cont.)\n",
    "\n",
    "- A namespace adds an extra disambiguation between similar names\n",
    "\n",
    "```cpp\n",
    "namespace jjay_csci373 {\n",
    "    int n = 4;\n",
    "    double mean = 2.34567;\n",
    "\n",
    "    void init() {\n",
    "        // Does something...\n",
    "    }\n",
    "}\n",
    "```\n",
    "\t\n",
    "- There are two means of accessing these global variables and functions outside of this **namespace**:\n",
    "    - The namespace as a prefix: `jjay_csci373::init()`\n",
    "    - The using statement: `using namespace jjay_csci373;`"
   ]
  },
  {
   "cell_type": "markdown",
   "metadata": {
    "slideshow": {
     "slide_type": "slide"
    }
   },
   "source": [
    "## Classes\n",
    "\n",
    "- To begin, we will create a complex number class\n",
    "\t\n",
    "- To describe this class, we could use the following words:\n",
    "    - Store the real and imaginary components\n",
    "    - Allow the user to:\n",
    "        - Create a complex number\n",
    "        - Retrieve the real and imaginary parts\n",
    "        - Find the absolute value and the exponential value\n",
    "        - Normalize a non-zero complex number       "
   ]
  },
  {
   "cell_type": "markdown",
   "metadata": {
    "slideshow": {
     "slide_type": "slide"
    }
   },
   "source": [
    "## Classes (cont.)\n",
    "\n",
    "- Another way to summarize the properties of a class is through UML Class Diagrams\n",
    "\n",
    "![](../img/cnum-uml.png)"
   ]
  },
  {
   "cell_type": "markdown",
   "metadata": {
    "slideshow": {
     "slide_type": "slide"
    }
   },
   "source": [
    "## Classes (cont.)\n",
    "    \n",
    "- An example of a C++ class declaration is following\n",
    "    - It does not provide an implementation"
   ]
  },
  {
   "cell_type": "code",
   "execution_count": 3,
   "metadata": {
    "slideshow": {
     "slide_type": "fragment"
    }
   },
   "outputs": [],
   "source": [
    "class Complex {\n",
    "    private:\n",
    "        double re, im;\n",
    "\n",
    "    public:\n",
    "        Complex( double = 0.0, double = 0.0 );\n",
    "\n",
    "        double real() const;\n",
    "        double imag() const;\n",
    "        double abs() const;\n",
    "        Complex exp() const;\n",
    "\n",
    "        void normalize();\n",
    "};"
   ]
  },
  {
   "cell_type": "markdown",
   "metadata": {
    "slideshow": {
     "slide_type": "slide"
    }
   },
   "source": [
    "## `Complex` Class"
   ]
  },
  {
   "cell_type": "code",
   "execution_count": 4,
   "metadata": {
    "slideshow": {
     "slide_type": "fragment"
    }
   },
   "outputs": [],
   "source": [
    "Complex::Complex( double r, double i ):re( r ), im( i ) {}"
   ]
  },
  {
   "cell_type": "code",
   "execution_count": 5,
   "metadata": {
    "slideshow": {
     "slide_type": "fragment"
    }
   },
   "outputs": [],
   "source": [
    "// return the real component\n",
    "double Complex::real() const {\n",
    "    return re;\n",
    "}"
   ]
  },
  {
   "cell_type": "code",
   "execution_count": 6,
   "metadata": {
    "slideshow": {
     "slide_type": "fragment"
    }
   },
   "outputs": [],
   "source": [
    "// return the imaginary component\n",
    "double Complex::imag() const {\n",
    "    return im;\n",
    "}"
   ]
  },
  {
   "cell_type": "code",
   "execution_count": 7,
   "metadata": {
    "slideshow": {
     "slide_type": "slide"
    }
   },
   "outputs": [],
   "source": [
    "// return the absolute value\n",
    "double Complex::abs() const {\n",
    "    return std::sqrt( re*re + im*im );\n",
    "}"
   ]
  },
  {
   "cell_type": "code",
   "execution_count": 8,
   "metadata": {
    "slideshow": {
     "slide_type": "fragment"
    }
   },
   "outputs": [],
   "source": [
    "// Return the exponential of the complex value\n",
    "Complex Complex::exp() const {\n",
    "    double exp_re = std::exp( re );\n",
    "\n",
    "    return Complex( exp_re*std::cos(im), exp_re*std::sin(im) );\n",
    "}"
   ]
  },
  {
   "cell_type": "code",
   "execution_count": 9,
   "metadata": {
    "slideshow": {
     "slide_type": "slide"
    }
   },
   "outputs": [],
   "source": [
    "// Normalize the complex number (giving it unit absolute value, |z| = 1)\n",
    "void Complex::normalize() {\n",
    "    if ( re == 0 && im == 0 ) {\n",
    "        return;\n",
    "    }\n",
    "\n",
    "    double absval = abs();\n",
    "    re /= absval;\n",
    "    im /= absval;\n",
    "}"
   ]
  },
  {
   "cell_type": "code",
   "execution_count": 10,
   "metadata": {
    "slideshow": {
     "slide_type": "slide"
    }
   },
   "outputs": [
    {
     "name": "stdout",
     "output_type": "stream",
     "text": [
      "Real: 2\n",
      "Im: 1\n",
      "Abs: 2.23607\n",
      "Real: 3.99232\n",
      "Im: 6.21768\n",
      "Real: 0.894427\n",
      "Im: 0.447214\n"
     ]
    }
   ],
   "source": [
    "{\n",
    "    int i;\n",
    "    Complex num{2,1};\n",
    "    cout << \"Real: \" << num.real() << endl;\n",
    "    cout << \"Im: \" << num.imag() << endl;\n",
    "    cout << \"Abs: \" << num.abs() << endl;\n",
    "    Complex expnum = num.exp();\n",
    "    cout << \"Real: \" << expnum.real() << endl;\n",
    "    cout << \"Im: \" << expnum.imag() << endl;\n",
    "    num.normalize();\n",
    "    cout << \"Real: \" << num.real() << endl;\n",
    "    cout << \"Im: \" << num.imag() << endl;\n",
    "}"
   ]
  },
  {
   "cell_type": "markdown",
   "metadata": {
    "slideshow": {
     "slide_type": "slide"
    }
   },
   "source": [
    "## Accessors and Mutators\n",
    "\n",
    "- We can classify member functions into two categories:\n",
    "    - Those leaving the object unchanged\n",
    "    - Those modifying the member variables of the object\n",
    "\t\n",
    "- Respectively, these are referred to as:\n",
    "    - **Accessors:** we are accessing and using the class members\n",
    "    - **Mutators:**\twe are changing/mutating the class members"
   ]
  },
  {
   "cell_type": "markdown",
   "metadata": {
    "slideshow": {
     "slide_type": "slide"
    }
   },
   "source": [
    "## Accessors and Mutators (cont.)\n",
    "\n",
    "- Good programming practice is to enforce that a routine specified to be an accessor **cannot** be accidentally changed to a mutator\n",
    "    - This is done with the **const** keyword after the parameter list\n",
    "        - `double abs() const`;"
   ]
  },
  {
   "cell_type": "code",
   "execution_count": 12,
   "metadata": {
    "slideshow": {
     "slide_type": "fragment"
    }
   },
   "outputs": [
    {
     "name": "stderr",
     "output_type": "stream",
     "text": [
      "\u001b[1minput_line_19:1:17: \u001b[0m\u001b[0;1;31merror: \u001b[0m\u001b[1mout-of-line definition of 'abs2' does not match any declaration in '__cling_N53::Complex'\u001b[0m\n",
      "double Complex::abs2() const {\n",
      "\u001b[0;1;32m                ^~~~\n",
      "\u001b[0m\u001b[1minput_line_19:2:8: \u001b[0m\u001b[0;1;31merror: \u001b[0m\u001b[1mcannot assign to non-static data member within const member function 'abs2'\u001b[0m\n",
      "    re = 1.0;  // modifying (mutating) 're'\n",
      "\u001b[0;1;32m    ~~ ^\n",
      "\u001b[0m\u001b[1minput_line_19:1:17: \u001b[0m\u001b[0;1;30mnote: \u001b[0mmember function '__cling_N53::Complex::abs2' is declared const here\u001b[0m\n",
      "double Complex::abs2() const {\n",
      "\u001b[0;1;32m~~~~~~~~~~~~~~~~^~~~~~~~~~~~\n",
      "\u001b[0m"
     ]
    },
    {
     "ename": "Interpreter Error",
     "evalue": "",
     "output_type": "error",
     "traceback": [
      "Interpreter Error: "
     ]
    }
   ],
   "source": [
    "double Complex::abs2() const {\n",
    "    re = 1.0;  // modifying (mutating) 're'\n",
    "    return std::sqrt( re*re + im*im );\n",
    "}"
   ]
  },
  {
   "cell_type": "markdown",
   "metadata": {
    "slideshow": {
     "slide_type": "slide"
    }
   },
   "source": [
    "## Visibility\n",
    "\n",
    "- In C++, this is described by a block prefixed by one of the **access modifiers**\n",
    "    - private\n",
    "\t- protected\n",
    "\t- public"
   ]
  },
  {
   "cell_type": "markdown",
   "metadata": {
    "slideshow": {
     "slide_type": "slide"
    }
   },
   "source": [
    "## Frendship"
   ]
  },
  {
   "cell_type": "code",
   "execution_count": 13,
   "metadata": {
    "slideshow": {
     "slide_type": "fragment"
    }
   },
   "outputs": [],
   "source": [
    "class ClassY;                   // declare that ClassY is a class\n",
    "\n",
    "class ClassX {\n",
    "    private:\n",
    "        int privy;              // the variable privy is private\n",
    "\n",
    "    friend class ClassY;        // ClassY is a \"friend\" of ClassX\n",
    "};\n",
    "\n",
    "class ClassY {                  // define ClassY\n",
    "    private:\n",
    "        ClassX value;           // Y stores one instance of X\n",
    "    public:\n",
    "        void set_x() {\n",
    "            value.privy = 42;   // a member function of ClassY can\n",
    "        }                       // access and modify the private\n",
    "};                              // member privy of \"value\""
   ]
  },
  {
   "cell_type": "markdown",
   "metadata": {
    "slideshow": {
     "slide_type": "slide"
    }
   },
   "source": [
    "## Inheritance in C++\n",
    "\n",
    "\n",
    "- You can designate that a new class should **inherit** the members of an existing class.\n",
    "- This existing class is called the **base class**, and the new class is referred to as the **derived class**.\n",
    "- A derived class represents a more **specialized** group of objects.\n",
    "- C++ offers *public*, **protected** and *private* inheritance.\n",
    "- With public inheritance, every object of a derived class is also an object of that derived class’s base class.\n",
    "- Base-class objects are **not** objects of their derived classes.\n",
    "- With object-oriented programming, you focus on the commonalities among objects in the system rather than on the special cases."
   ]
  },
  {
   "cell_type": "markdown",
   "metadata": {
    "slideshow": {
     "slide_type": "slide"
    }
   },
   "source": [
    "![](../img/Inheritance2.png)"
   ]
  },
  {
   "cell_type": "code",
   "execution_count": 14,
   "metadata": {
    "slideshow": {
     "slide_type": "slide"
    }
   },
   "outputs": [],
   "source": [
    "class Shape {\n",
    "public:\n",
    "    virtual void draw() {cout << \"Draw shape\" << endl; }\n",
    "};"
   ]
  },
  {
   "cell_type": "code",
   "execution_count": 15,
   "metadata": {
    "slideshow": {
     "slide_type": "fragment"
    }
   },
   "outputs": [],
   "source": [
    "class Circle : public Shape {\n",
    "    float r{0.0};\n",
    "public:\n",
    "    void draw() {cout << \"Draw circle\" << endl; }\n",
    "    void draw(int a) {cout << \"Draw circle: \" << a << endl; }\n",
    "    void radius() {cout << \"The radius is \" << r << endl; }\n",
    "};"
   ]
  },
  {
   "cell_type": "code",
   "execution_count": 16,
   "metadata": {
    "slideshow": {
     "slide_type": "slide"
    }
   },
   "outputs": [
    {
     "name": "stdout",
     "output_type": "stream",
     "text": [
      "Draw shape\n",
      "Draw shape\n"
     ]
    }
   ],
   "source": [
    "{\n",
    "    Shape s;\n",
    "    s.draw();\n",
    "    Shape* base_ptr = &s;\n",
    "    base_ptr->draw();    \n",
    "}"
   ]
  },
  {
   "cell_type": "code",
   "execution_count": 17,
   "metadata": {
    "slideshow": {
     "slide_type": "fragment"
    }
   },
   "outputs": [
    {
     "name": "stdout",
     "output_type": "stream",
     "text": [
      "Draw circle\n",
      "Draw circle: 2\n"
     ]
    }
   ],
   "source": [
    "{\n",
    "    Circle c;\n",
    "    c.draw();\n",
    "    Circle* der_ptr = &c;\n",
    "    der_ptr->draw(2);\n",
    "}"
   ]
  },
  {
   "cell_type": "markdown",
   "metadata": {
    "slideshow": {
     "slide_type": "slide"
    }
   },
   "source": [
    "## Public, Protected and Private Inheritance\n",
    "\n",
    "<div><div style=\"width:80%; float: left; display: inline-block;margin-left: 15%;\">\n",
    "    <img src=\"../img/Accessibility.png\"/>\n",
    "</div></div>   "
   ]
  },
  {
   "cell_type": "markdown",
   "metadata": {
    "slideshow": {
     "slide_type": "slide"
    }
   },
   "source": [
    "## Operator Overloading\n",
    "\n",
    "- **Overloaded operators** provide a concise notation for manipulating string objects.\n",
    "- You can use operators with your **own user-defined types** as well.\n",
    "- Although C++ does **not allow new operators** to be created\n",
    "    - it does **allow most existing operators** to be overloaded so that, when they're used with objects, they have meaning appropriate to those objects.\n",
    "- Operators that cannot be overloaded: \n",
    "    - .\n",
    "    - .* (pointer to member)\n",
    "    - **::**\n",
    "    - **?:**\n",
    "- Operator **overloading is not automatic**\n",
    "    - you must write operator-overloading functions to perform the desired operations."
   ]
  },
  {
   "cell_type": "markdown",
   "metadata": {
    "slideshow": {
     "slide_type": "slide"
    }
   },
   "source": [
    "## Polymorphism\n",
    "\n",
    "- **Polymorphism** is one of the key features of object-oriented programming, after classes and inheritance.\n",
    "    - *polymorphism* means *different forms*\n",
    "- **\"program in the general\"** rather than **program in the specific\"**\n",
    "    - Write programs that process objects of classes that are part of the same class hierarchy as if they were all objects of the hierarchy's base class.\n",
    "- Polymorphism works off base-class pointer handles and base-class **reference handles**, but **not** off name handles."
   ]
  },
  {
   "cell_type": "markdown",
   "metadata": {
    "slideshow": {
     "slide_type": "slide"
    }
   },
   "source": [
    "## Virtual Functions\n",
    "\n",
    "Suppose that shape classes such as `Circle`, `Triangle`, `Rectangle` and `Square` are all derived from base class `Shape`.\n",
    "- Each of these classes might be endowed with the ability to **draw** itself via a member function `draw`, but the function for each shape is quite different.\n",
    "- In a program that draws a set of shapes, it would be useful to be able to treat all the shapes generally as objects of the base class `Shape`.\n",
    "- To draw any shape, we could simply use a **base-class** `Shape` pointer to invoke function `draw`\n",
    "    - Let the program determine dynamically (i.e., at runtime) which **derived-class** `draw` function to use, based on the type of the object to which the base-class `Shape` pointer points at any given time.\n",
    "- This is **polymorphic behavior**.\n",
    "    - The `draw()` function must be declared to be virtual in the base class.  "
   ]
  },
  {
   "cell_type": "code",
   "execution_count": 18,
   "metadata": {
    "slideshow": {
     "slide_type": "slide"
    }
   },
   "outputs": [],
   "source": [
    "class Square : public Shape {\n",
    "    float s{0.0};\n",
    "public:\n",
    "    void draw() {cout << \"Draw square\" << endl; }\n",
    "    void side() {cout << \"The side is \" << s << endl; }\n",
    "};"
   ]
  },
  {
   "cell_type": "code",
   "execution_count": 19,
   "metadata": {
    "slideshow": {
     "slide_type": "fragment"
    }
   },
   "outputs": [
    {
     "name": "stdout",
     "output_type": "stream",
     "text": [
      "Draw circle\n",
      "Draw square\n",
      "Draw circle\n",
      "Draw square\n"
     ]
    }
   ],
   "source": [
    "{\n",
    "    // Create derived-class objects\n",
    "    Circle c;\n",
    "    c.draw();\n",
    "    \n",
    "    Square s;\n",
    "    s.draw();\n",
    "    \n",
    "    // Use base-class pointer\n",
    "    Shape* ptr[2];\n",
    "\n",
    "    ptr[0] = &c;\n",
    "    ptr[0]->draw();\n",
    "    \n",
    "    ptr[1] = &s;\n",
    "    ptr[1]->draw();\n",
    "}"
   ]
  },
  {
   "cell_type": "markdown",
   "metadata": {
    "slideshow": {
     "slide_type": "slide"
    }
   },
   "source": [
    "## Abstract Classes\n",
    "\n",
    "- There are cases in which it's useful to define **classes from which you never intend to instantiate any objects**.\n",
    "- Such classes are called **abstract classes** or **interfaces**.\n",
    "- Because these classes normally are used as base classes in inheritance hierarchies, we refer to them as **abstract base classes**.\n",
    "- Cannot be used to instantiate objects, because they are **incomplete** - derived classes must define the \"missing pieces.\"\n",
    "- An abstract class is a base class from which other classes can inherit.\n",
    "- Classes that can be used to instantiate objects are **concrete classes**.\n",
    "- Such classes define **every** member function they declare."
   ]
  },
  {
   "cell_type": "markdown",
   "metadata": {
    "slideshow": {
     "slide_type": "slide"
    }
   },
   "source": [
    "## Pure `virtual` Functions\n",
    "\n",
    "- A class is made **abstract** by declaring **one or more** of its virtual functions to be **\"pure.\"**\n",
    "    - A pure virtual function is specified by placing **\"= 0\"** in its declaration, as in\n",
    "```c++\n",
    "virtual void draw() = 0;\n",
    "```\n",
    "- The `= 0` is a pure specifier.\n",
    "- Pure virtual functions typically **do not provide implementations**, though they can."
   ]
  },
  {
   "cell_type": "markdown",
   "metadata": {
    "slideshow": {
     "slide_type": "slide"
    }
   },
   "source": [
    "## Pure `virtual` Functions (cont.)\n",
    "\n",
    "- Each **concrete** derived class **must override all** base-class **pure virtual functions** with concrete implementations of those functions; otherwise the derived class is also abstract.\n",
    "- The difference between a `virtual` function and a pure `virtual` function is that a `virtual` function **has** an implementation and gives the derived class the **option** of overriding the function.\n",
    "- By contrast, a pure virtual function **does not have** an implementation and **requires** the derived class to override the function for that derived class to be concrete; otherwise the derived class remains **abstract**.\n",
    "- Pure virtual functions are used when it **does not make sense** for the base class to have an implementation of a function, but you want all concrete derived classes to implement the function."
   ]
  },
  {
   "cell_type": "markdown",
   "metadata": {
    "slideshow": {
     "slide_type": "slide"
    }
   },
   "source": [
    "## Software Engineering: Interfaces\n",
    "\n",
    "- An **abstract class** defines a common **public interface** for the various classes that derive from it in a class hierarchy.\n",
    "    - An abstract class contains one or more pure virtual functions that concrete derived classes must override.        \n",
    "- An abstract class has at least one pure virtual function.\n",
    "- An abstract class also can have data members and concrete functions (including constructors and destructors), which are subject to the normal rules of inheritance by derived classes.\n",
    "- Failure to override a pure virtual function in a derived class makes that class abstract.\n",
    "    - Attempting to instantiate an object of an abstract class causes a compilation error."
   ]
  },
  {
   "cell_type": "markdown",
   "metadata": {
    "slideshow": {
     "slide_type": "slide"
    }
   },
   "source": [
    "## Templates\n",
    "\n",
    "- Suppose you want to build a general linked list which could hold anything\n",
    "    - Because there is no ultimate common type, to avoid re-implementing each class for each class we are interested in storing, we must have a different mechanism\n",
    "    \n",
    "- This mechanism uses a tool called **templates**\n",
    "    - A function has parameters which are of a specific type\n",
    "    - A template is like a function, however, the parameters themselves are types   "
   ]
  },
  {
   "cell_type": "code",
   "execution_count": 20,
   "metadata": {
    "slideshow": {
     "slide_type": "fragment"
    }
   },
   "outputs": [],
   "source": [
    "template <typename Type>\n",
    "Type sqr( Type x ) {\n",
    "    return x*x;\n",
    "} "
   ]
  },
  {
   "cell_type": "code",
   "execution_count": 21,
   "metadata": {
    "slideshow": {
     "slide_type": "fragment"
    }
   },
   "outputs": [
    {
     "name": "stdout",
     "output_type": "stream",
     "text": [
      "49\n",
      "9.8696\n"
     ]
    }
   ],
   "source": [
    "{\n",
    "    cout << sqr<int>(7) << endl;\n",
    "    cout << sqr<double>(3.141592653589793) << endl;\n",
    "}"
   ]
  },
  {
   "cell_type": "markdown",
   "metadata": {
    "slideshow": {
     "slide_type": "slide"
    }
   },
   "source": [
    "## Templates (cont.)\n",
    "    \n",
    "- Our complex number class uses double-precision floating-point numbers\n",
    "\n",
    "- What if we don't require the precision and want to save memory with floating-point numbers\n",
    "    - Do we write the entire class twice?\n",
    "    - How about templates?"
   ]
  },
  {
   "cell_type": "code",
   "execution_count": 22,
   "metadata": {
    "slideshow": {
     "slide_type": "fragment"
    }
   },
   "outputs": [],
   "source": [
    "template <class T>\n",
    "class Complex2 {\n",
    "private:\n",
    "    T re, im;\n",
    "public:\n",
    "    Complex2(T r, T i): re(r), im(i) {}\n",
    "    T real() const { return re; }\n",
    "    Complex2<T> normalize();\n",
    "};"
   ]
  },
  {
   "cell_type": "code",
   "execution_count": 25,
   "metadata": {
    "slideshow": {
     "slide_type": "fragment"
    }
   },
   "outputs": [
    {
     "name": "stdout",
     "output_type": "stream",
     "text": [
      "2\n",
      "2.5\n"
     ]
    }
   ],
   "source": [
    "{\n",
    "    Complex2<int> num{2,1};\n",
    "    cout << num.real() << endl;\n",
    "    Complex2<double> num2{2.5,1.0};\n",
    "    cout << num2.real() << endl;\n",
    "}"
   ]
  },
  {
   "cell_type": "markdown",
   "metadata": {
    "slideshow": {
     "slide_type": "slide"
    }
   },
   "source": [
    "## Pointers\n",
    "\n",
    "- One of the simplest ideas in C, but one which most students have a problem with is a pointer\n",
    "    - Every variable (barring optimization) is stored somewhere in memory \n",
    "    - That address is an integer, so why can't we store an address in a variable?\n",
    "![](https://imgs.xkcd.com/comics/pointers.png)"
   ]
  },
  {
   "cell_type": "markdown",
   "metadata": {
    "slideshow": {
     "slide_type": "slide"
    }
   },
   "source": [
    "## Pointers (cont.)\n",
    "\n",
    "- We could simply have an ‘address’ type:\n",
    "```cpp\n",
    "     address ptr;    // store an address\n",
    "                     // THIS IS WRONG\n",
    "```\n",
    "\thowever, the compiler does not know what it is an address of (is it the address of an int, a double, etc.)\n",
    "\n",
    "- Instead, we have to indicate what it is pointing to:\n",
    "```cpp\n",
    "     int *ptr;   // a pointer to an integer\n",
    "                 // the address of the integer variable 'ptr'\n",
    "```"
   ]
  },
  {
   "cell_type": "markdown",
   "metadata": {
    "slideshow": {
     "slide_type": "slide"
    }
   },
   "source": [
    "## Pointers (cont.)\n",
    "\n",
    "- First we must get the address of a variable\n",
    "    - This is done with the **&** operator (*a*mpersand/*a*ddress of)"
   ]
  },
  {
   "cell_type": "code",
   "execution_count": 26,
   "metadata": {
    "slideshow": {
     "slide_type": "fragment"
    }
   },
   "outputs": [
    {
     "name": "stdout",
     "output_type": "stream",
     "text": [
      "0x7fff3dbe13e4\n"
     ]
    }
   ],
   "source": [
    "{\n",
    "    int m = 5;    // m is an int storing 5\n",
    "    int *ptr;     // a pointer to an int\n",
    "    ptr = &m;     // assign to ptr the\n",
    "                   // address of m\n",
    "    cout << ptr << endl;\n",
    "}"
   ]
  },
  {
   "cell_type": "markdown",
   "metadata": {
    "slideshow": {
     "slide_type": "slide"
    }
   },
   "source": [
    "## Pointers (cont.)\n",
    "\n",
    "- We have pointers:  we would now like to manipulate what is stored at that address\n",
    "\t\n",
    "- We can access/modify what is stored at that memory location by using the * operator (dereference)"
   ]
  },
  {
   "cell_type": "code",
   "execution_count": 27,
   "metadata": {
    "slideshow": {
     "slide_type": "fragment"
    }
   },
   "outputs": [
    {
     "name": "stdout",
     "output_type": "stream",
     "text": [
      "5\n"
     ]
    }
   ],
   "source": [
    "{\n",
    "    int m = 5;    // m is an int storing 5\n",
    "    int *ptr;     // a pointer to an int\n",
    "    ptr = &m;     // assign to ptr the\n",
    "                   // address of m\n",
    "    cout << *ptr << endl;\n",
    "}"
   ]
  },
  {
   "cell_type": "markdown",
   "metadata": {
    "slideshow": {
     "slide_type": "slide"
    }
   },
   "source": [
    "## Pointers (cont.)\n",
    "\n",
    "- Similarly, we can modify values stored at an address:"
   ]
  },
  {
   "cell_type": "code",
   "execution_count": 28,
   "metadata": {
    "slideshow": {
     "slide_type": "fragment"
    }
   },
   "outputs": [
    {
     "name": "stdout",
     "output_type": "stream",
     "text": [
      "3\n"
     ]
    }
   ],
   "source": [
    "{\n",
    "    int m = 5;    // m is an int storing 5\n",
    "    int *ptr;     // a pointer to an int\n",
    "    ptr = &m;     // assign to ptr the\n",
    "                  // address of m\n",
    "    *ptr = 3;     // store 3 at that memory location\n",
    "    cout << m << endl;\n",
    "}"
   ]
  },
  {
   "cell_type": "markdown",
   "metadata": {
    "slideshow": {
     "slide_type": "slide"
    }
   },
   "source": [
    "## Pointers (cont.)\n",
    "\n",
    "- Pointers to objects must, similarly be dereferenced:"
   ]
  },
  {
   "cell_type": "code",
   "execution_count": 30,
   "metadata": {
    "slideshow": {
     "slide_type": "fragment"
    }
   },
   "outputs": [
    {
     "name": "stdout",
     "output_type": "stream",
     "text": [
      "3\n",
      "3\n",
      "3\n"
     ]
    }
   ],
   "source": [
    "{\n",
    "   Complex2<int> z( 3, 4 );\n",
    "   Complex2<int> *pz;\n",
    "   pz = &z;\n",
    "   cout << z.real() << endl;\n",
    "   cout << (*pz).real() << endl; // pz->real();\n",
    "   cout << pz->real() << endl;\n",
    "}"
   ]
  },
  {
   "cell_type": "markdown",
   "metadata": {
    "slideshow": {
     "slide_type": "slide"
    }
   },
   "source": [
    "## Memory Allocation\n",
    "\n",
    "- Memory allocation in C++ is done through the **new** operator \n",
    "\n",
    "- This is an explicit request to the operating system for memory\n",
    "    - This is a very expensive operation\n",
    "    - The OS must:\n",
    "        - Find the appropriate amount of memory,\n",
    "        - Indicate that it has been allocated, and\n",
    "        - Return the address of the first memory location"
   ]
  },
  {
   "cell_type": "markdown",
   "metadata": {
    "slideshow": {
     "slide_type": "slide"
    }
   },
   "source": [
    "## Memory Allocation (cont.)\n",
    "\n",
    "- Inside a local scope, memory allocation of declared variables is dealt with by the compiler\n",
    "\n",
    "``` cpp\n",
    "int my_func() {\n",
    "    Complex<double> z(3, 4);  // calls constructor with 3, 4\n",
    "                              // creates 3 + 4j\n",
    "                              // 16 bytes are allocated by the compiler\n",
    "\n",
    "    double r = z.abs(); // 8 bytes are allocated by the compiler\n",
    "\n",
    "    return 0;           // The compiler reclaims the 24 bytes\n",
    "}\n",
    "```"
   ]
  },
  {
   "cell_type": "markdown",
   "metadata": {
    "slideshow": {
     "slide_type": "slide"
    }
   },
   "source": [
    "## Memory Allocation (cont.)\n",
    "\n",
    "- Memory for a single instance of a class (one object) is allocated using the **new** operator, e.g.,\n",
    "```cpp\n",
    "    Complex<double> *pz = new Complex<double>( 3, 4 );\n",
    "```\n",
    "- The new operator returns the address of the first byte of the memory allocated\n",
    "- Next, to deallocate the memory, we must explicitly tell the operating system using the **delete** operator:\n",
    "```cpp\n",
    "    delete pz;\n",
    "```"
   ]
  },
  {
   "cell_type": "code",
   "execution_count": 31,
   "metadata": {
    "scrolled": true,
    "slideshow": {
     "slide_type": "slide"
    }
   },
   "outputs": [
    {
     "name": "stdout",
     "output_type": "stream",
     "text": [
      "Real: 2\n",
      "Real: 3\n"
     ]
    }
   ],
   "source": [
    "{\n",
    "    Complex2<double> *pz;\n",
    "    {\n",
    "        Complex2<double> q(2.0,0.0);\n",
    "        cout << \"Real: \" << q.real() << endl;\n",
    "        pz = new Complex2<double>( 3, 4 );\n",
    "    }    \n",
    "//     cout << \"Real: \" << q.real() << endl;\n",
    "    cout << \"Real: \" << (pz->real()) << endl;\n",
    "    delete pz;\n",
    "}"
   ]
  },
  {
   "cell_type": "markdown",
   "metadata": {
    "slideshow": {
     "slide_type": "slide"
    }
   },
   "source": [
    "## Memory Allocation (cont.)\n",
    "\n",
    "- Consider a linked list where each node is allocated:\n",
    "```cpp\n",
    "    new Node<Type>( obj )\n",
    "```\n",
    "\n",
    "- Such a call will be made each time a new element is added to the linked list\n",
    "\n",
    "- For each new, there must be a corresponding delete:\n",
    "    - Each removal of an object requires a call to delete\n",
    "    - If a non-empty list is itself being deleted, the destructor must call delete on all remaining nodes"
   ]
  },
  {
   "cell_type": "markdown",
   "metadata": {
    "slideshow": {
     "slide_type": "slide"
    }
   },
   "source": [
    "## Exceptions\n",
    "\n",
    "- Exceptions provide a way to react to exceptional circumstances (like runtime errors) in programs by transferring control to special functions called **handlers**.\n",
    "- Exception handling provides a standard mechanism for processing errors.\n",
    "    - This is especially important when working on a large project.\n",
    "- Without exception handling, it's common for a function to calculate and return a value on success or return an error indicator on failure.\n",
    "    - A common problem with this architecture is using the return value in a subsequent calculation without first checking whether the value is the error indicator.\n",
    "    - Exception handling eliminates this problem.    "
   ]
  },
  {
   "cell_type": "code",
   "execution_count": 32,
   "metadata": {
    "slideshow": {
     "slide_type": "slide"
    }
   },
   "outputs": [
    {
     "name": "stdout",
     "output_type": "stream",
     "text": [
      "I'm in try block!\n",
      "This is an exception: std::bad_alloc\n",
      "Done!"
     ]
    }
   ],
   "source": [
    "try\n",
    "{\n",
    "    cout << \"I'm in try block!\" << endl;\n",
    "    int* myarray = new int[1000000000000];\n",
    "    // use myarray here\n",
    "    delete[] myarray;\n",
    "    cout << \"Out of try block!\" << endl;\n",
    "}\n",
    "catch (bad_alloc& e)\n",
    "{\n",
    "    cout << \"This is an exception: \" << e.what() << '\\n';\n",
    "}\n",
    "catch (runtime_error& e)\n",
    "{\n",
    "    cout << \"This is a runtime error\\n\";\n",
    "}\n",
    "cout << \"Done!\";"
   ]
  },
  {
   "cell_type": "markdown",
   "metadata": {
    "slideshow": {
     "slide_type": "slide"
    }
   },
   "source": [
    "\n",
    "## Exception Handling Workflow\n",
    "\n",
    "- To catch exceptions, a portion of code is placed under exception inspection.\n",
    "- This is done by enclosing that portion of code in a **`try` block**.\n",
    "    - When an exceptional circumstance arises within that block, an exception is thrown that transfers the control to the exception handler. \n",
    "    - If no exception is thrown, the code continues normally and all handlers are ignored."
   ]
  },
  {
   "cell_type": "markdown",
   "metadata": {
    "slideshow": {
     "slide_type": "slide"
    }
   },
   "source": [
    "## Exception Handling Workflow (cont.)\n",
    "\n",
    "- The exception handler is declared with the **`catch`** keyword immediately after the closing brace of the **`try` block**.\n",
    "    - The syntax for catch is similar to a regular function with one parameter.\n",
    "    - The type of this parameter is very important, since the type of the argument passed by the throw expression is checked against it, and only in the case they match, the exception is caught by that handler.    "
   ]
  }
 ],
 "metadata": {
  "celltoolbar": "Slideshow",
  "kernelspec": {
   "display_name": "C++14",
   "language": "C++14",
   "name": "xcpp14"
  },
  "language_info": {
   "codemirror_mode": "text/x-c++src",
   "file_extension": ".cpp",
   "mimetype": "text/x-c++src",
   "name": "c++",
   "version": "14"
  },
  "rise": {
   "enable_chalkboard": true
  }
 },
 "nbformat": 4,
 "nbformat_minor": 4
}
