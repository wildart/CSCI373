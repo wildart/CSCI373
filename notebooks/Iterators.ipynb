{
 "cells": [
  {
   "cell_type": "code",
   "execution_count": 1,
   "metadata": {
    "slideshow": {
     "slide_type": "skip"
    }
   },
   "outputs": [],
   "source": [
    "#include <iostream>\n",
    "#include <deque>\n",
    "#include \"../src/SinglyLinkedNode.h\"\n",
    "using namespace std;"
   ]
  },
  {
   "cell_type": "markdown",
   "metadata": {
    "slideshow": {
     "slide_type": "slide"
    }
   },
   "source": [
    "# Iterators"
   ]
  },
  {
   "cell_type": "markdown",
   "metadata": {
    "slideshow": {
     "slide_type": "slide"
    }
   },
   "source": [
    "## Accessing the ADT Entries\n",
    "\n",
    "- There are three mechanisms for accessing entries in the ADT, e.g. deque:\n",
    "    - Two random access member functions\n",
    "        - An overloaded indexing operator\t\t`ideque[10]`\n",
    "        - The `at()` member function; and\t\t`ideque.at( 10 )`\n",
    "    - The iterator design pattern\n",
    "\n",
    "- The difference between indexing and using the function `at( int )` is that the second will throw an `out_of_range` exception if it accesses an entry outside the range of the container\n"
   ]
  },
  {
   "cell_type": "markdown",
   "metadata": {
    "slideshow": {
     "slide_type": "slide"
    }
   },
   "source": [
    "## Stepping Through Lists\n",
    "\n",
    "You should be familiar with this technique of stepping through a list:\n",
    "\n",
    "```cpp\n",
    "ArrayList<int> list;\n",
    "for ( int i = 0; i < list.size(); ++i ) { cout << list.at( i ); }\n",
    "```\n",
    "\n",
    "or\n",
    "\n",
    "```cpp\n",
    "SinglyLinkedList<int> list;\n",
    "for ( SinglyLinkedNode<int> *ptr = list.head(); ptr != 0; ptr = ptr->next() ) {\n",
    "    cout << ptr->value();\n",
    "}\n",
    "```"
   ]
  },
  {
   "cell_type": "markdown",
   "metadata": {
    "slideshow": {
     "slide_type": "slide"
    }
   },
   "source": [
    "- There are serious problems with this approach:\n",
    "    - It exposes the underlying structure\n",
    "    - It is impossible to change the implementation once users have access to the structure\n",
    "    - The implementation will change from class to class\n",
    "        - `SinglyLinkedList` requires `SinglyLinkedNode`\n",
    "        - `DoublyLinkedList` requires `DoublyLinkedNode`\n",
    "    - An array-based data structure does not have a direct analogy to the concept of either `head()` or `next()`"
   ]
  },
  {
   "cell_type": "markdown",
   "metadata": {
    "slideshow": {
     "slide_type": "slide"
    }
   },
   "source": [
    "- More critically, what happens with the following code?    \n",
    "```cpp\n",
    "SinglyLinkedNode<int> *ptr = list.front();\n",
    "list.pop_front();\n",
    "cout << ptr->value() << endl; /// ???\n",
    "```"
   ]
  },
  {
   "cell_type": "markdown",
   "metadata": {
    "slideshow": {
     "slide_type": "fragment"
    }
   },
   "source": [
    "- Or how about ...\n",
    "```cpp\n",
    "ArrayList<int> list;\n",
    "for ( int i = 0; i < 10; ++i ) { list.push_front( i ); }\n",
    "delete list.front();        // ?!\t\n",
    "```"
   ]
  },
  {
   "cell_type": "markdown",
   "metadata": {
    "slideshow": {
     "slide_type": "slide"
    }
   },
   "source": [
    "## Iterators\n",
    "\n",
    "- Above list implementations expose the underlying data structure for evaluation purposes\n",
    "    - This is, however, not good programming practice\n",
    "\n",
    "- The C++ STL uses the concept of an iterator to solve this problem\n",
    "    - The iterator is not unique to C++\n",
    "    - It is an industry recognized approach to solving a particular problem\n",
    "    - Such a solution is called a *design pattern*\n",
    "        - Formalized in [Design Patterns by E.Gamma et al.](https://en.wikipedia.org/wiki/Design_Patterns)"
   ]
  },
  {
   "cell_type": "markdown",
   "metadata": {
    "slideshow": {
     "slide_type": "slide"
    }
   },
   "source": [
    "## Standard Template Library Iterators\n",
    "\n",
    "- Associated with each STL container class is an *nested class* termed an **iterator**\n",
    "    - `deque<int> ideque;`\n",
    "    - `deque<int>::iterator itr`;\n",
    "\n",
    "- The iterator \"refers\" to one position within the deque\n",
    "    - It is similar a pointer but is **independent** of implementation"
   ]
  },
  {
   "cell_type": "markdown",
   "metadata": {
    "slideshow": {
     "slide_type": "slide"
    }
   },
   "source": [
    "## Analogy\n",
    "\n",
    "- Consider a filing system with an administrative assistant\n",
    "- Your concern is not how reports are filed (so long as it's efficient), it is only necessary that you can give directions to the assistant\n",
    "- You can request that your assistant\n",
    "    - Starts with either the first or last file\n",
    "    - You can request to see the file the assistant is currently holding\n",
    "    - You can modify the file the assistant is currently holding\n",
    "    - You can request that the assistant either:\n",
    "    - Go to the next file, or\n",
    "    - Go to the previous file"
   ]
  },
  {
   "cell_type": "markdown",
   "metadata": {
    "slideshow": {
     "slide_type": "slide"
    }
   },
   "source": [
    "## C++ Iterators\n",
    "\n",
    "- In C++, iterators **overloads** a number of operators:\n",
    "    - The unary `*` operator returns a reference to the value stored at the location pointed to by the iterator\n",
    "    - The operator `++` updates the iterator to point to the next position\n",
    "    - The operator `--` updates the iterator to point to the previous location\n",
    "\n",
    "- Note: these look like, but are not, **pointers**..."
   ]
  },
  {
   "cell_type": "code",
   "execution_count": 2,
   "metadata": {
    "slideshow": {
     "slide_type": "slide"
    }
   },
   "outputs": [
    {
     "data": {
      "text/plain": [
       "{ 3, 5, 4, 6 }"
      ]
     },
     "execution_count": 2,
     "metadata": {},
     "output_type": "execute_result"
    }
   ],
   "source": [
    "deque<int> ideque;\n",
    "ideque.push_front( 5 ); ideque.push_back( 4 );\n",
    "ideque.push_front( 3 ); ideque.push_back( 6 );\n",
    "// the deque is now 3 5 4 6\n",
    "ideque"
   ]
  },
  {
   "cell_type": "markdown",
   "metadata": {
    "slideshow": {
     "slide_type": "fragment"
    }
   },
   "source": [
    "- We request an iterator on a specific instance of a deque by calling the member function `begin()`\n",
    "![](../img/iter1.png)"
   ]
  },
  {
   "cell_type": "code",
   "execution_count": 3,
   "metadata": {
    "slideshow": {
     "slide_type": "fragment"
    }
   },
   "outputs": [],
   "source": [
    "deque<int>::iterator itr = ideque.begin();"
   ]
  },
  {
   "cell_type": "markdown",
   "metadata": {
    "slideshow": {
     "slide_type": "slide"
    }
   },
   "source": [
    "- We access the value by calling `*itr`\n",
    "![](../img/iter2.png)"
   ]
  },
  {
   "cell_type": "code",
   "execution_count": 4,
   "metadata": {
    "slideshow": {
     "slide_type": "fragment"
    }
   },
   "outputs": [
    {
     "name": "stdout",
     "output_type": "stream",
     "text": [
      "3"
     ]
    }
   ],
   "source": [
    "{\n",
    "    cout << *itr;\n",
    "}"
   ]
  },
  {
   "cell_type": "markdown",
   "metadata": {
    "slideshow": {
     "slide_type": "slide"
    }
   },
   "source": [
    "Similarly, we can modify the value by assigning to `*itr`:\n",
    "![](../img/iter3.png)"
   ]
  },
  {
   "cell_type": "code",
   "execution_count": 5,
   "metadata": {
    "slideshow": {
     "slide_type": "fragment"
    }
   },
   "outputs": [
    {
     "name": "stdout",
     "output_type": "stream",
     "text": [
      "3 == 3\n",
      "11 == 11\n"
     ]
    }
   ],
   "source": [
    "{\n",
    "    cout << *itr << \" == \" << ideque.front() << endl;\n",
    "    *itr = 11; // assignment operator\n",
    "    cout << *itr << \" == \" << ideque.front() << endl;\n",
    "}"
   ]
  },
  {
   "cell_type": "markdown",
   "metadata": {
    "slideshow": {
     "slide_type": "slide"
    }
   },
   "source": [
    "- We update the iterator to refer to the next value by calling increment `++itr`\n",
    "\n",
    "![](../img/iter3.png)\n",
    "\n",
    "```cpp\n",
    "++itr;\n",
    "```\n",
    "\n",
    "![](../img/iter4.png)"
   ]
  },
  {
   "cell_type": "code",
   "execution_count": 6,
   "metadata": {
    "slideshow": {
     "slide_type": "fragment"
    }
   },
   "outputs": [
    {
     "name": "stdout",
     "output_type": "stream",
     "text": [
      "11 5"
     ]
    }
   ],
   "source": [
    "{\n",
    "    cout << *itr << \" \";\n",
    "    ++itr; // prefix increment operator\n",
    "    cout << *itr;\n",
    "}"
   ]
  },
  {
   "cell_type": "markdown",
   "metadata": {
    "slideshow": {
     "slide_type": "slide"
    }
   },
   "source": [
    "- The iterators returned by `begin()` and `end()` refer to\n",
    "    - The **first** position (head) in the container, and\n",
    "    - The position **after the last** value in the container.\n",
    "![](../img/iter5.png)"
   ]
  },
  {
   "cell_type": "markdown",
   "metadata": {
    "slideshow": {
     "slide_type": "slide"
    }
   },
   "source": [
    "- The reverse iterators returned by `rbegin()` and `rend()` refer to:\n",
    "    - the **last** position (tail) in the container, and\n",
    "    - the position **before the first** location in the container.\n",
    "![](../img/iter5.png)"
   ]
  },
  {
   "cell_type": "markdown",
   "metadata": {
    "slideshow": {
     "slide_type": "slide"
    }
   },
   "source": [
    "- If a container is empty then the beginning and ending iterators are **equal**"
   ]
  },
  {
   "cell_type": "code",
   "execution_count": 7,
   "metadata": {
    "slideshow": {
     "slide_type": "fragment"
    }
   },
   "outputs": [
    {
     "name": "stdout",
     "output_type": "stream",
     "text": [
      "1 1\n"
     ]
    }
   ],
   "source": [
    "{\n",
    "    deque<int> cntr;\n",
    "\n",
    "    cout << (  cntr.begin() == cntr.end()  ) << \" \"\n",
    "         << ( cntr.rbegin() == cntr.rend() ) << endl;\n",
    "}"
   ]
  },
  {
   "cell_type": "markdown",
   "metadata": {
    "slideshow": {
     "slide_type": "fragment"
    }
   },
   "source": [
    "- Because we can have multiple iterators referring to values within the same container, it makes sense that we can use the comparison operator `==` and `!=`"
   ]
  },
  {
   "cell_type": "markdown",
   "metadata": {
    "slideshow": {
     "slide_type": "slide"
    }
   },
   "source": [
    "- The folloing code gives some suggestion as to why `end()` refers to the position **after the last** location in the container"
   ]
  },
  {
   "cell_type": "code",
   "execution_count": 8,
   "metadata": {
    "slideshow": {
     "slide_type": "fragment"
    }
   },
   "outputs": [
    {
     "data": {
      "text/plain": [
       "{ 11, 5, 4, 6 }"
      ]
     },
     "execution_count": 8,
     "metadata": {},
     "output_type": "execute_result"
    }
   ],
   "source": [
    "ideque"
   ]
  },
  {
   "cell_type": "code",
   "execution_count": 9,
   "metadata": {
    "slideshow": {
     "slide_type": "fragment"
    }
   },
   "outputs": [
    {
     "name": "stdout",
     "output_type": "stream",
     "text": [
      "11\n",
      "5\n",
      "4\n",
      "6\n"
     ]
    }
   ],
   "source": [
    "for ( int i = 0; i != ideque.size(); ++i ) {\n",
    "    cout << ideque[i] << endl;\n",
    "}"
   ]
  },
  {
   "cell_type": "code",
   "execution_count": 10,
   "metadata": {
    "slideshow": {
     "slide_type": "fragment"
    }
   },
   "outputs": [
    {
     "name": "stdout",
     "output_type": "stream",
     "text": [
      "11\n",
      "5\n",
      "4\n",
      "6\n"
     ]
    }
   ],
   "source": [
    "for ( deque<int>::iterator itr = ideque.begin(); itr != ideque.end(); ++itr ) {\n",
    "    cout << *itr << endl;\n",
    "}"
   ]
  },
  {
   "cell_type": "markdown",
   "metadata": {
    "slideshow": {
     "slide_type": "slide"
    }
   },
   "source": [
    "- Modifying something beyond the last location of the container results in **undefined behaviour**\n",
    "\n",
    "- Do not use `end()` iterator for updates"
   ]
  },
  {
   "cell_type": "code",
   "execution_count": 11,
   "metadata": {
    "slideshow": {
     "slide_type": "fragment"
    }
   },
   "outputs": [
    {
     "data": {
      "text/plain": [
       "{ 11, 5, 4, 6 }"
      ]
     },
     "execution_count": 11,
     "metadata": {},
     "output_type": "execute_result"
    }
   ],
   "source": [
    "deque<int>::iterator itr = ideque.end();\n",
    "*itr = 3; // wrong\n",
    "ideque"
   ]
  },
  {
   "cell_type": "markdown",
   "metadata": {
    "slideshow": {
     "slide_type": "fragment"
    }
   },
   "source": [
    "- You should use the correct member functions"
   ]
  },
  {
   "cell_type": "code",
   "execution_count": 12,
   "metadata": {
    "slideshow": {
     "slide_type": "fragment"
    }
   },
   "outputs": [
    {
     "data": {
      "text/plain": [
       "{ 11, 5, 4, 6, 3 }"
      ]
     },
     "execution_count": 12,
     "metadata": {},
     "output_type": "execute_result"
    }
   ],
   "source": [
    "ideque.push_back( 3 ); // right\n",
    "ideque"
   ]
  },
  {
   "cell_type": "code",
   "execution_count": 13,
   "metadata": {
    "slideshow": {
     "slide_type": "slide"
    }
   },
   "outputs": [
    {
     "name": "stdout",
     "output_type": "stream",
     "text": [
      "11\n",
      "5\n",
      "5 4 6 3 "
     ]
    }
   ],
   "source": [
    "deque<int>::iterator itr = ideque.begin();\n",
    "cout << *itr << endl;\n",
    "++itr;\n",
    "cout << *itr << endl;\n",
    "\n",
    "while ( itr != ideque.end() ) {\n",
    "    cout << *itr << \" \";\n",
    "    ++itr;\n",
    "}"
   ]
  },
  {
   "cell_type": "markdown",
   "metadata": {
    "slideshow": {
     "slide_type": "slide"
    }
   },
   "source": [
    "## Why Iterators?\n",
    "\n",
    "- Now that you understand what an iterator does, lets examine why this is standard software-engineering solution; they\n",
    "    - Do not expose the underlying structure\n",
    "    - Require $\\Theta(1)$ additional memory\n",
    "    - Provide a common interface which can be used regardless of whether or not it's a vector, a deque, or any other data structure\n",
    "    - Do not change, even if the underlying implementation does"
   ]
  },
  {
   "cell_type": "markdown",
   "metadata": {
    "slideshow": {
     "slide_type": "slide"
    }
   },
   "source": [
    "## Iterator Classes\n",
    "\n",
    "- These are not real C++ classes, but simply [categories](https://users.cs.northwestern.edu/~riesbeck/programming/c++/stl-iterators.html) of **kind of iterators**.\n",
    "    - Each category specifies the operations the iterator supports, see [Iterator library](https://en.cppreference.com/w/cpp/iterator).\n",
    "\n",
    "- For example, some iterators support incrementing but not decrementing, some support dereferencing for getting data but not for storing data, etc.\n",
    "\n",
    "- Each STL container defines what class of iterators it can return. \n",
    "    - See **Member types** section for [list](https://en.cppreference.com/w/cpp/container/list) or [deque](https://en.cppreference.com/w/cpp/container/deque)\n",
    "- Each algorithm specifies what class of iterators it requires.    \n",
    "    - E.g. some functions from `<algorithm>` library: [sort](https://en.cppreference.com/w/cpp/algorithm/sort) or [partition](https://en.cppreference.com/w/cpp/algorithm/partition)"
   ]
  },
  {
   "cell_type": "markdown",
   "metadata": {
    "slideshow": {
     "slide_type": "slide"
    }
   },
   "source": [
    "## InputIterator\n",
    "\n",
    "- `InputIterator` is a useful but limited class of iterators. If `iter` is an `InputIterator`, you can use:\n",
    "\n",
    "    - `++iter` and `iter++` to increment it, i.e., advance the pointer to the next element\n",
    "    - `*iter` to dereference as `rvalue`, i.e., get the element value pointed to\n",
    "    - `==` and `!=` to compare it another iterator (typically the \"end\" iterator)\n",
    "    - its value type does not need to be assignable, `t = u` is not required"
   ]
  },
  {
   "cell_type": "markdown",
   "metadata": {
    "slideshow": {
     "slide_type": "slide"
    }
   },
   "source": [
    "## OutputIterator\n",
    "\n",
    "- `OutputIterator` is another limited class of iterators. If `iter` is an `OutputIterator`, you can use:\n",
    "\n",
    "    - `++iter` and `iter++` to increment it, i.e., advance the pointer to the next element\n",
    "    - Can be dereferenced as an `lvalue`, to store data in the location pointed to, `*iter = ...`"
   ]
  },
  {
   "cell_type": "markdown",
   "metadata": {
    "slideshow": {
     "slide_type": "slide"
    }
   },
   "source": [
    "## `ForwardIterator`\n",
    "\n",
    "- `ForwardIterator` combines `InputIterator` and `OutputIterator`.\n",
    "    - You can use them to read and write to a container.\n",
    "    - They also support saving and reusing"
   ]
  },
  {
   "cell_type": "code",
   "execution_count": 14,
   "metadata": {
    "slideshow": {
     "slide_type": "fragment"
    }
   },
   "outputs": [],
   "source": [
    "vector<int> v;\n",
    "vector<int>::iterator iter, iterSaved;\n",
    "v.push_back(1); v.push_back(2); v.push_back(3);"
   ]
  },
  {
   "cell_type": "code",
   "execution_count": 15,
   "metadata": {
    "slideshow": {
     "slide_type": "fragment"
    }
   },
   "outputs": [
    {
     "name": "stdout",
     "output_type": "stream",
     "text": [
      "Previous element is 1\n",
      "Current element is 2\n",
      "New current element is 10\n"
     ]
    }
   ],
   "source": [
    "iter = v.begin();\n",
    "iterSaved = iter;\n",
    "iter++;\n",
    "cout << \"Previous element is \" << (*iterSaved) << endl;\n",
    "cout << \"Current element is \" << (*iter) << endl; \n",
    "*iter = 10;\n",
    "cout << \"New current element is \" << (*iter) << endl; "
   ]
  },
  {
   "cell_type": "code",
   "execution_count": 16,
   "metadata": {
    "slideshow": {
     "slide_type": "fragment"
    }
   },
   "outputs": [
    {
     "name": "stdout",
     "output_type": "stream",
     "text": [
      "1 10 3 "
     ]
    }
   ],
   "source": [
    "for (iter = v.begin(); iter != v.end(); iter++)\n",
    "  cout << (*iter) << \" \";"
   ]
  },
  {
   "cell_type": "markdown",
   "metadata": {
    "slideshow": {
     "slide_type": "slide"
    }
   },
   "source": [
    "## BidirectionalIterator\n",
    "\n",
    "If `iter` is a `BidirectionalIterator`, you can use:\n",
    "\n",
    "- all `ForwardIterator` operations\n",
    "- `--iter` and `iter--` to decrement it, i.e., advance the pointer to the previous element"
   ]
  },
  {
   "cell_type": "code",
   "execution_count": 17,
   "metadata": {
    "slideshow": {
     "slide_type": "fragment"
    }
   },
   "outputs": [
    {
     "name": "stdout",
     "output_type": "stream",
     "text": [
      "Current element is 10\n",
      "Previous element is 1\n"
     ]
    }
   ],
   "source": [
    "iter = v.begin();\n",
    "iter++;\n",
    "cout << \"Current element is \" << *iter << endl; \n",
    "iter--;\n",
    "cout << \"Previous element is \" << *iter << endl;"
   ]
  },
  {
   "cell_type": "markdown",
   "metadata": {
    "slideshow": {
     "slide_type": "slide"
    }
   },
   "source": [
    "## RandomAccessIterator\n",
    "\n",
    "- If `iter1` and `iter2` are `RandomAccessIterator`'s, you can use:\n",
    "\n",
    "- all `BidirectionalIterator` operations\n",
    "- standard pointer arithmetic, i.e., `iter + n`, `iter - n`, `iter += n`, `iter -= n`, and `iter1 - iter2` (but not `iter1 + iter2`)\n",
    "- all comparisons, i.e., `iter1 > iter2`, `iter1 < iter2`, `iter1 >= iter2`, and `iter1 <= iter2`"
   ]
  },
  {
   "cell_type": "code",
   "execution_count": 18,
   "metadata": {
    "slideshow": {
     "slide_type": "fragment"
    }
   },
   "outputs": [
    {
     "name": "stdout",
     "output_type": "stream",
     "text": [
      "Current element is 1\n",
      "Next element is 10\n",
      "After next element is 3\n"
     ]
    }
   ],
   "source": [
    "iter = v.begin();\n",
    "cout << \"Current element is \" << *iter << endl; \n",
    "cout << \"Next element is \" << (*(iter+1)) << endl;\n",
    "cout << \"After next element is \" << (*(iter+2)) << endl;"
   ]
  },
  {
   "cell_type": "markdown",
   "metadata": {
    "slideshow": {
     "slide_type": "slide"
    }
   },
   "source": [
    "- Since `BidirectionalIterator`'s support `++` and `--`, don't they support these operations too?\n",
    "    - The answer is that `RandomAccessIterator`'s support these operations in constant time.\n",
    "        - That is, you can jump `N` elements in the same time it takes to jump 1 element.\n",
    "    - So an STL `list` container can return a `BidirectionalIterator`, but not a `RandomAccessIterator`.\n",
    "    - `vector` and `deque` can return `RandomAccessIterator`."
   ]
  },
  {
   "cell_type": "code",
   "execution_count": 19,
   "metadata": {
    "slideshow": {
     "slide_type": "slide"
    }
   },
   "outputs": [],
   "source": [
    "typedef SinglyLinkedNode<int> SLN;\n",
    "\n",
    "class ListWithIterator {\n",
    "    SLN* head;\n",
    "\n",
    "public:\n",
    "    class iterator {\n",
    "        friend ListWithIterator; // for access to the parent list class memebers\n",
    "    public:\n",
    "        iterator(): curr{nullptr}{} // empty default constructor\n",
    "        int operator* () const { return curr->value(); }\n",
    "        iterator operator++ () { // prefix increment\n",
    "            curr = curr->next(); return *this;\n",
    "        }        \n",
    "        bool operator== ( const iterator & rhs ) const { return curr == rhs.curr; }\n",
    "    protected:\n",
    "        SLN *curr; // current list node\n",
    "        iterator(SLN* node): curr{node}{} // iterator constructor        \n",
    "    };\n",
    "    \n",
    "    ListWithIterator(SLN* h = nullptr) : head{h} {} // list constructor\n",
    "    ~ListWithIterator() { while(!empty()) pop_front(); } // list destructor\n",
    "    bool empty() { return head == nullptr; } \n",
    "    SLN* front() { return head; }\n",
    "    void pop_front() { auto tmp = head; head = head->next(); delete tmp; };\n",
    "    \n",
    "    iterator begin() const { return iterator( head ); }\n",
    "    iterator end() const { return iterator(); }\n",
    "};"
   ]
  },
  {
   "cell_type": "code",
   "execution_count": 20,
   "metadata": {
    "slideshow": {
     "slide_type": "slide"
    }
   },
   "outputs": [
    {
     "name": "stdout",
     "output_type": "stream",
     "text": [
      "Direct list access: 1 2 3 \n",
      "\n",
      "From iterator: 1 2 3 "
     ]
    }
   ],
   "source": [
    "{\n",
    "    SLN* h = new SLN(1, new SLN(2, new SLN(3, nullptr)));\n",
    "    ListWithIterator lst{h};\n",
    "    \n",
    "    cout << \"Direct list access: \";\n",
    "    for( auto ptr = lst.front(); ptr != nullptr; ptr=ptr->next())\n",
    "        cout << ptr->value() << \" \";\n",
    "    \n",
    "    cout << \"\\n\\nFrom iterator: \";\n",
    "    for( ListWithIterator::iterator iter = lst.begin(); !(iter == lst.end()); ++iter)\n",
    "        cout << *iter << \" \" ;\n",
    "}"
   ]
  }
 ],
 "metadata": {
  "celltoolbar": "Slideshow",
  "kernelspec": {
   "display_name": "C++17",
   "language": "C++17",
   "name": "xcpp17"
  },
  "language_info": {
   "codemirror_mode": "text/x-c++src",
   "file_extension": ".cpp",
   "mimetype": "text/x-c++src",
   "name": "c++",
   "version": "17"
  }
 },
 "nbformat": 4,
 "nbformat_minor": 4
}
