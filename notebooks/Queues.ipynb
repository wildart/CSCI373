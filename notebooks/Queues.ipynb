{
 "cells": [
  {
   "cell_type": "code",
   "execution_count": 1,
   "metadata": {
    "slideshow": {
     "slide_type": "skip"
    }
   },
   "outputs": [],
   "source": [
    "#include \"../src/SinglyLinkedNode.h\""
   ]
  },
  {
   "cell_type": "markdown",
   "metadata": {
    "slideshow": {
     "slide_type": "slide"
    }
   },
   "source": [
    "# Queues & Deques"
   ]
  },
  {
   "cell_type": "markdown",
   "metadata": {
    "slideshow": {
     "slide_type": "slide"
    }
   },
   "source": [
    "## Abstract Queue\n",
    "\n",
    "- An **Abstract Queue (Queue ADT)** is an abstract data type that emphasizes specific operations:\n",
    "    - Uses a explicit linear ordering\n",
    "    - Insertions and removals are performed individually\n",
    "    - There are no restrictions on objects inserted into *(pushed onto)* the queue - that object is designated the back of the queue\n",
    "    - The object designated as the **front** of the queue is the object which was in the queue the longest\n",
    "    - The remove operation *(popping from the queue)* removes the current **front** of the queue\n",
    "    \n",
    "- There are two exceptions associated with this abstract data structure\n",
    "    - It is an undefined operation to call either pop or front on an empty queue"
   ]
  },
  {
   "cell_type": "markdown",
   "metadata": {
    "slideshow": {
     "slide_type": "slide"
    }
   },
   "source": [
    "- Also called a **first-in-first-out (FIFO)** data structure\n",
    "- Graphically, we may view these operations as follows\n",
    "\n",
    "![](../img/queue.png)\n",
    "\n",
    "- Alternative terms may be used for the four operations on a queue, including:\n",
    "    - queue & dequeue\n",
    "    - head & tail"
   ]
  },
  {
   "cell_type": "markdown",
   "metadata": {
    "slideshow": {
     "slide_type": "slide"
    }
   },
   "source": [
    "## Applications\n",
    "\n",
    "- The most common application is in client-server models\n",
    "    - Multiple clients may be requesting services from one or more servers\n",
    "    - Some clients may have to wait while the servers are busy\n",
    "    - Those clients are placed in a queue and serviced in the order of arrival\n",
    "\n",
    "- Grocery stores, banks, and airport security use queues\n",
    "\n",
    "- Most shared computer services are servers:\n",
    "    - Web, file, ftp, ssh, database, mail, printers, etc."
   ]
  },
  {
   "cell_type": "markdown",
   "metadata": {
    "slideshow": {
     "slide_type": "slide"
    }
   },
   "source": [
    "## Implementations\n",
    "\n",
    "- We will look at two implementations of queues\n",
    "    - Singly linked lists\n",
    "    - Circular arrays\n",
    "\n",
    "- Requirements\n",
    "    - All queue operations must run in $\\Theta(1)$ time"
   ]
  },
  {
   "cell_type": "markdown",
   "metadata": {
    "slideshow": {
     "slide_type": "slide"
    }
   },
   "source": [
    "## Linked List Implementation\n",
    "\n",
    "- Removal is only possible at the front with $\\Theta(1)$ run time\n",
    "\n",
    "![](../img/sll.png)\n",
    "\n",
    "|        | front / 1st node | back / $n$th node        |\n",
    "|-------:|:-----------:|:-----------:|    \n",
    "| find | $\\Theta(1)$ | ${\\Theta(1)}$ |\n",
    "| insert | $\\Theta(1)$ | ${\\Theta(1)}$ |\n",
    "| erase  | $\\Theta(1)$ | $\\Theta(n)$ |    \n",
    "\n",
    "- The desired behavior of an Abstract Queue may be reproduced by performing insertions at the back\n"
   ]
  },
  {
   "cell_type": "markdown",
   "metadata": {
    "slideshow": {
     "slide_type": "slide"
    }
   },
   "source": [
    "## `LinkedList` Definition"
   ]
  },
  {
   "cell_type": "code",
   "execution_count": 3,
   "metadata": {
    "slideshow": {
     "slide_type": "fragment"
    }
   },
   "outputs": [],
   "source": [
    "template <typename Type>\n",
    "class LinkedList {\n",
    "private:\n",
    "    SinglyLinkedNode<Type> *list_head;\n",
    "    SinglyLinkedNode<Type> *list_tail;\n",
    "\n",
    "public:\n",
    "    LinkedList();\n",
    "    ~LinkedList();\n",
    "\n",
    "    // Accessors\n",
    "    bool empty() const;\n",
    "    Type front() const;\n",
    "\n",
    "    // Mutators\n",
    "    void push_front( const Type & );\n",
    "    void push_back( const Type & );\n",
    "    Type pop_front();\n",
    "};\n"
   ]
  },
  {
   "cell_type": "markdown",
   "metadata": {
    "slideshow": {
     "slide_type": "slide"
    }
   },
   "source": [
    "## Queue-as-List Class\n",
    "\n",
    "- The queue class using a singly linked list has a single private member variable: **list**"
   ]
  },
  {
   "cell_type": "code",
   "execution_count": 4,
   "metadata": {
    "slideshow": {
     "slide_type": "fragment"
    }
   },
   "outputs": [],
   "source": [
    "template <typename Type>\n",
    "class LinkedQueue {\n",
    "    private:\n",
    "        LinkedList<Type> list;\n",
    "    public:\n",
    "        bool empty() const;\n",
    "        Type front() const;\n",
    "        void push( Type const & );\n",
    "        Type pop();\n",
    "};"
   ]
  },
  {
   "cell_type": "markdown",
   "metadata": {
    "slideshow": {
     "slide_type": "slide"
    }
   },
   "source": [
    "- The implementation is similar to that of a Stack-as-List"
   ]
  },
  {
   "cell_type": "code",
   "execution_count": 5,
   "metadata": {
    "slideshow": {
     "slide_type": "fragment"
    }
   },
   "outputs": [],
   "source": [
    "template <typename Type>\n",
    "bool LinkedQueue<Type>::empty() const {\n",
    "    return list.empty();\n",
    "}"
   ]
  },
  {
   "cell_type": "code",
   "execution_count": 6,
   "metadata": {
    "slideshow": {
     "slide_type": "fragment"
    }
   },
   "outputs": [],
   "source": [
    "template <typename Type>\n",
    "void LinkedQueue<Type>::push( Type const &obj ) {\n",
    "    list.push_back( obj );\n",
    "}"
   ]
  },
  {
   "cell_type": "code",
   "execution_count": 7,
   "metadata": {
    "slideshow": {
     "slide_type": "fragment"
    }
   },
   "outputs": [],
   "source": [
    "template <typename Type>\n",
    "Type LinkedQueue<Type>::front() const {\n",
    "    if ( empty() ) {\n",
    "        throw std::underflow_error(\"Queue is empty\");\n",
    "    }\n",
    "    return list.front();\n",
    "}"
   ]
  },
  {
   "cell_type": "code",
   "execution_count": 8,
   "metadata": {
    "slideshow": {
     "slide_type": "fragment"
    }
   },
   "outputs": [],
   "source": [
    "template <typename Type>\n",
    "Type LinkedQueue<Type>::pop() {\n",
    "    if ( empty() ) {\n",
    "        throw std::underflow_error(\"Queue is empty\");\n",
    "    }\n",
    "    return list.pop_front();\n",
    "}"
   ]
  },
  {
   "cell_type": "markdown",
   "metadata": {
    "slideshow": {
     "slide_type": "slide"
    }
   },
   "source": [
    "## Array Implementation\n",
    "\n",
    "- A one-ended array **does not allow** all operations to occur in $\\Theta(1)$\n",
    "\n",
    "![](../img/array1.png)\n",
    "\n",
    "- With asymptotic analysis of array lists, we can now make the following statements:\n",
    "\n",
    "|        | front / 1st node | back / $n$th node        |\n",
    "|-------:|:-----------:|:-----------:|    \n",
    "| find | $\\Theta(1)$ | ${\\Theta(1)}$ |\n",
    "| insert | $\\Theta(n)$ | ${\\Theta(1)}$ |\n",
    "| erase  | $\\Theta(n)$ | $\\Theta(1)$ |    "
   ]
  },
  {
   "cell_type": "markdown",
   "metadata": {
    "slideshow": {
     "slide_type": "slide"
    }
   },
   "source": [
    "- Using a two-ended array, $\\Theta(1)$ are possible by pushing at the back and popping from the front\n",
    "\n",
    "![](../img/array2.png)\n",
    "\n",
    "- With asymptotic analysis of two-ended array lists, we can now make the following statements:\n",
    "\n",
    "|        | front / 1st node | back / $n$th node        |\n",
    "|-------:|:-----------:|:-----------:|    \n",
    "| find | $\\Theta(1)$ | ${\\Theta(1)}$ |\n",
    "| insert | $\\Theta(1)$ | ${\\Theta(1)}$ |\n",
    "| erase  | $\\Theta(1)$ | $\\Theta(1)$ |    "
   ]
  },
  {
   "cell_type": "markdown",
   "metadata": {
    "slideshow": {
     "slide_type": "slide"
    }
   },
   "source": [
    "## Design\n",
    "\n",
    "- We need to store an array:\n",
    "    - In C++, this is done by storing the address of the first entry\n",
    "    ```cpp\n",
    "    Type *array;\n",
    "    ```\n",
    "\n",
    "- The number of objects currently in the queue and the front and back indexes\n",
    "    - The number of objects currently in the stack\n",
    "    ```cpp\n",
    "    int queue_size;\n",
    "    int ifront;      // index of the front entry\n",
    "    int iback;       // index of the back entry\n",
    "    ```\n",
    "    - The capacity of the array\n",
    "    ```cpp\n",
    "\tint array_capacity;\n",
    "    ```"
   ]
  },
  {
   "cell_type": "markdown",
   "metadata": {
    "slideshow": {
     "slide_type": "slide"
    }
   },
   "source": [
    "## Queue-as-Array Class\n",
    "\n",
    "- The class definition is similar to that of the `ArrayStack`"
   ]
  },
  {
   "cell_type": "code",
   "execution_count": 10,
   "metadata": {
    "slideshow": {
     "slide_type": "fragment"
    }
   },
   "outputs": [],
   "source": [
    "template <typename Type>\n",
    "class ArrayQueue {\n",
    "    private:\n",
    "        int queue_size;\n",
    "        int ifront;\n",
    "        int iback;\n",
    "        int array_capacity;\n",
    "        Type *array;\n",
    "    public:\n",
    "        ArrayQueue( int = 10 );\n",
    "        ~ArrayQueue();\n",
    "        bool empty() const;\n",
    "        Type front() const;\n",
    "        void push( Type const & );\n",
    "        Type pop();\n",
    "};"
   ]
  },
  {
   "cell_type": "markdown",
   "metadata": {
    "slideshow": {
     "slide_type": "slide"
    }
   },
   "source": [
    "## Constructor\n",
    "\n",
    "- Before we initialize the values, we will state that\n",
    "    - `iback` is the index of the most-recently pushed object\n",
    "    - `ifront` is the index of the object at the front of the queue\n",
    "\n",
    "- To push, we will increment `iback` and place the new item at that location\n",
    "    - To make sense of this, we will initialize\n",
    "    ```cpp\n",
    "    iback = -1;\n",
    "    ifront = 0;\n",
    "    ```\n",
    "    - After the first push, we will increment `iback` to 0, place the pushed item at that location"
   ]
  },
  {
   "cell_type": "markdown",
   "metadata": {
    "slideshow": {
     "slide_type": "slide"
    }
   },
   "source": [
    "- Again, we must initialize the values\n",
    "    - We must allocate memory for the array and initialize the member variables\n",
    "    - The call to `new Type[array_capacity]` makes a request to the operating system for `array_capacity` objects"
   ]
  },
  {
   "cell_type": "code",
   "execution_count": 12,
   "metadata": {
    "slideshow": {
     "slide_type": "fragment"
    }
   },
   "outputs": [],
   "source": [
    "#include <algorithm>\n",
    "\n",
    "template <typename Type>\n",
    "ArrayQueue<Type>::ArrayQueue( int n ):\n",
    "    queue_size( 0 ),\n",
    "    iback( -1 ),\n",
    "    ifront( 0 ),\n",
    "    array_capacity( std::max(1, n) ),\n",
    "    array( new Type[array_capacity] )\n",
    "{\n",
    "    // Empty constructor\n",
    "}"
   ]
  },
  {
   "cell_type": "markdown",
   "metadata": {
    "slideshow": {
     "slide_type": "fragment"
    }
   },
   "source": [
    "- **Note:** Initialization is performed in the order specified in the class declaration"
   ]
  },
  {
   "cell_type": "markdown",
   "metadata": {
    "slideshow": {
     "slide_type": "slide"
    }
   },
   "source": [
    "## Destructor\n",
    "\n",
    "- The destructor is unchanged from `ArrayStack`"
   ]
  },
  {
   "cell_type": "code",
   "execution_count": 13,
   "metadata": {
    "slideshow": {
     "slide_type": "fragment"
    }
   },
   "outputs": [],
   "source": [
    "template <typename Type>\n",
    "ArrayQueue<Type>::~ArrayQueue() {\n",
    "    delete[] array;\n",
    "}"
   ]
  },
  {
   "cell_type": "markdown",
   "metadata": {
    "slideshow": {
     "slide_type": "slide"
    }
   },
   "source": [
    "## Member Functions\n",
    "\n",
    "- These two functions are similar in behavior as in `ArrayStack` class"
   ]
  },
  {
   "cell_type": "code",
   "execution_count": 14,
   "metadata": {
    "slideshow": {
     "slide_type": "fragment"
    }
   },
   "outputs": [],
   "source": [
    "template <typename Type>\n",
    "bool ArrayQueue<Type>::empty() const {\n",
    "    return ( queue_size == 0 );\n",
    "}"
   ]
  },
  {
   "cell_type": "code",
   "execution_count": 16,
   "metadata": {
    "slideshow": {
     "slide_type": "fragment"
    }
   },
   "outputs": [],
   "source": [
    "template <typename Type>\n",
    "Type ArrayQueue<Type>::front() const {\n",
    "    if ( empty() ) {\n",
    "        throw std::underflow_error(\"Queue is empty\");\n",
    "    }\n",
    "    return array[ifront];\n",
    "}"
   ]
  },
  {
   "cell_type": "markdown",
   "metadata": {
    "slideshow": {
     "slide_type": "slide"
    }
   },
   "source": [
    "- However, a naïve implementation of `push` and `pop` may cause difficulties"
   ]
  },
  {
   "cell_type": "code",
   "execution_count": 18,
   "metadata": {
    "slideshow": {
     "slide_type": "fragment"
    }
   },
   "outputs": [],
   "source": [
    "template <typename Type>\n",
    "void ArrayQueue<Type>::push( Type const &obj ) {\n",
    "    if ( queue_size == array_capacity ) {\n",
    "        throw std::overflow_error(\"Queue is full\");\n",
    "    }\n",
    "    ++iback;\n",
    "    array[iback] = obj;\n",
    "    ++queue_size;\n",
    "}"
   ]
  },
  {
   "cell_type": "code",
   "execution_count": 19,
   "metadata": {
    "slideshow": {
     "slide_type": "fragment"
    }
   },
   "outputs": [],
   "source": [
    "template <typename Type>\n",
    "Type ArrayQueue<Type>::pop() {\n",
    "    if ( empty() ) {\n",
    "        throw std::underflow_error(\"Queue is empty\");\n",
    "    }\n",
    "    --queue_size;\n",
    "    ++ifront;\n",
    "    return array[ifront - 1];\n",
    "}"
   ]
  },
  {
   "cell_type": "markdown",
   "metadata": {
    "slideshow": {
     "slide_type": "slide"
    }
   },
   "source": [
    "- Suppose that\n",
    "    - The array capacity is 16\n",
    "    - We have performed 16 pushes\n",
    "    - We have performed 5 pops\n",
    "        - The queue size is now 11\n",
    "        ![](../img/push1.png)\n",
    "\n",
    "- We perform one further push\n",
    "    - In this case, the array is not full and yet we cannot place any more objects in to the array"
   ]
  },
  {
   "cell_type": "markdown",
   "metadata": {
    "cell_style": "split",
    "slideshow": {
     "slide_type": "slide"
    }
   },
   "source": [
    "- Instead of viewing the array on the range $0, \\ldots, 15$, consider the indexes being cyclic\n",
    "\n",
    "$$\\ldots, 15, 0, 1, \\ldots, 15, 0, 1, \\ldots, 15, 0, 1, \\ldots$$"
   ]
  },
  {
   "cell_type": "markdown",
   "metadata": {
    "cell_style": "split",
    "slideshow": {
     "slide_type": "fragment"
    }
   },
   "source": [
    "- This is referred to as a circular array\n",
    "\n",
    "![](../img/circular1.png)"
   ]
  },
  {
   "cell_type": "markdown",
   "metadata": {
    "cell_style": "split",
    "slideshow": {
     "slide_type": "slide"
    }
   },
   "source": [
    "- Now, the next push may be performed in the next available location of the circular array\n",
    "\n",
    "```cpp\n",
    "++iback;\n",
    "if ( iback == capacity() ) {\n",
    "    iback = 0;\n",
    "}\n",
    "```\n",
    "\n",
    "- or using modular arithmetic\n",
    "\n",
    "```cpp\n",
    "iback = (iback + 1) % capacity()\n",
    "```"
   ]
  },
  {
   "cell_type": "markdown",
   "metadata": {
    "cell_style": "split",
    "slideshow": {
     "slide_type": "fragment"
    }
   },
   "source": [
    "![](../img/circular2.png)"
   ]
  },
  {
   "cell_type": "markdown",
   "metadata": {
    "slideshow": {
     "slide_type": "slide"
    }
   },
   "source": [
    "## Exceptions\n",
    "\n",
    "- As with a stack, there are a number of options which can be used if the array is filled\n",
    "\n",
    "- If the array is filled, we have four options\n",
    "    - Increase the size of the array\n",
    "    - Throw an exception\n",
    "    - Ignore the element being pushed\n",
    "    - Put the pushing process to \"sleep\" until something else pops the front of the queue\n",
    "\n",
    "- Include a member function `bool full() const;`"
   ]
  },
  {
   "cell_type": "markdown",
   "metadata": {
    "slideshow": {
     "slide_type": "slide"
    }
   },
   "source": [
    "## Increasing Capacity\n",
    "\n",
    "- Unfortunately, if we choose to increase the capacity, this becomes slightly more complex\n",
    "- A direct copy does not work\n",
    "![](../img/resize1.png)"
   ]
  },
  {
   "cell_type": "markdown",
   "metadata": {
    "slideshow": {
     "slide_type": "slide"
    }
   },
   "source": [
    "- The first solution\n",
    "    - Move those beyond the front to the end of the array\n",
    "    - The next push would then occur in position 6\n",
    "![](../img/resize2.png)    "
   ]
  },
  {
   "cell_type": "markdown",
   "metadata": {
    "slideshow": {
     "slide_type": "slide"
    }
   },
   "source": [
    "- An alternate solution is normalization\n",
    "    - Map the front back at position 0\n",
    "    - The next push would then occur in position 16\n",
    "![](../img/resize3.png)"
   ]
  },
  {
   "cell_type": "markdown",
   "metadata": {
    "slideshow": {
     "slide_type": "slide"
    }
   },
   "source": [
    "## Application\n",
    "\n",
    "- One of the applications of the queue is performing a **breadth-first traversal** of a directory tree\n",
    "    - Consider searching the directory structure\n",
    "    ![](../img/bfs01.png)"
   ]
  },
  {
   "cell_type": "markdown",
   "metadata": {
    "slideshow": {
     "slide_type": "slide"
    }
   },
   "source": [
    "- We would rather search the more shallow directories first then plunge deep into searching one sub-directory and all of its contents\n",
    "\n",
    "- One such search is called a **breadth-first search (BFS)**\n",
    "    - Search all the directories at one level before descending a level\n",
    "    ![](../img/bfs02.png)"
   ]
  },
  {
   "cell_type": "markdown",
   "metadata": {
    "slideshow": {
     "slide_type": "slide"
    }
   },
   "source": [
    "## BFS Algorithm\n",
    "\n",
    "- The easiest implementation is\n",
    "    - Place the root directory into a queue\n",
    "    - While the queue is not empty\n",
    "        - Pop the directory at the front of the queue\n",
    "        - Push all of its sub-directories into the queue\n",
    "\n",
    "- The order in which the directories come out of the queue will be in breadth-first order\n"
   ]
  },
  {
   "cell_type": "markdown",
   "metadata": {
    "slideshow": {
     "slide_type": "slide"
    }
   },
   "source": [
    "| | |\n",
    "|-|-|\n",
    "|Push the root directory A | ![](../img/bfs03.png)| \n",
    "|Pop A and push its two sub-directories B and H | ![](../img/bfs04.png)|\n",
    "|Pop B and push C, D, and G | ![](../img/bfs05.png)|\n",
    "|Pop H and push its one sub-directory I | ![](../img/bfs06.png)|\n",
    "|Pop C,  no sub-directories | ![](../img/bfs07.png)|\n",
    "|Pop D and push E and F | ![](../img/bfs08.png)|\n",
    "|Pop G,  no sub-directories | ![](../img/bfs09.png)|\n",
    "|Pop I and push J and K | ![](../img/bfs10.png)|\n",
    "|Pop E,  no sub-directories | ![](../img/bfs11.png)|\n",
    "|Pop F,  no sub-directories | ![](../img/bfs12.png)|\n",
    "|Pop J,  no sub-directories | ![](../img/bfs13.png)|\n",
    "|Pop K and the queue is empty | ![](../img/bfs14.png)|\t"
   ]
  },
  {
   "cell_type": "markdown",
   "metadata": {
    "slideshow": {
     "slide_type": "slide"
    }
   },
   "source": [
    "- The resulting order\n",
    "```\n",
    "A B H C D G I E F J K\n",
    "```\n",
    "is in breadth-first order of\n",
    "![](../img/bfs01.png)"
   ]
  },
  {
   "cell_type": "markdown",
   "metadata": {
    "slideshow": {
     "slide_type": "slide"
    }
   },
   "source": [
    "## Standard Template Library\n",
    "\n",
    "- The Standard Template Library (STL) has a [wrapper class `queue`](https://en.cppreference.com/w/cpp/container/queue) which is a container adapter that gives the programmer the functionality of a queue"
   ]
  },
  {
   "cell_type": "code",
   "execution_count": 1,
   "metadata": {
    "slideshow": {
     "slide_type": "fragment"
    }
   },
   "outputs": [
    {
     "name": "stdout",
     "output_type": "stream",
     "text": [
      "Head: 13\n",
      "Head: 42\n",
      "Size: 1\n"
     ]
    }
   ],
   "source": [
    "#include <iostream>\n",
    "#include <list>\n",
    "#include <queue>\n",
    "{\n",
    "    std::queue< int, std::list<int> > iqueue;\n",
    "\n",
    "    iqueue.push( 13 );\n",
    "    iqueue.push( 42 );\n",
    "    std::cout << \"Head: \" << iqueue.front() << std::endl;\n",
    "    iqueue.pop(); // no return value\n",
    "    std::cout << \"Head: \" << iqueue.front() << std::endl;\n",
    "    std::cout << \"Size: \" << iqueue.size() << std::endl;\n",
    "}"
   ]
  },
  {
   "cell_type": "markdown",
   "metadata": {
    "slideshow": {
     "slide_type": "slide"
    }
   },
   "source": [
    "## Queues\n",
    "\n",
    "- The queue is one of the most common abstract data structures\n",
    "- Understanding how a queue works is trivial\n",
    "- The implementation is only slightly more difficult than that of a stack\n",
    "\n",
    "- Applications include:\n",
    "    - Queuing clients in a client-server model\n",
    "    - Breadth-first traversals of trees"
   ]
  },
  {
   "cell_type": "markdown",
   "metadata": {
    "slideshow": {
     "slide_type": "slide"
    }
   },
   "source": [
    "# Deque"
   ]
  },
  {
   "cell_type": "markdown",
   "metadata": {
    "slideshow": {
     "slide_type": "slide"
    }
   },
   "source": [
    "## Abstract Deque\n",
    "\n",
    "An **Abstract Deque (Deque ADT)** is an abstract data structure which emphasizes specific operations\n",
    "- Uses a explicit linear ordering\n",
    "- Insertions and removals are performed individually\n",
    "- Allows insertions at both the front and back of the deque\n",
    "![](../img/deque.png)"
   ]
  },
  {
   "cell_type": "markdown",
   "metadata": {
    "slideshow": {
     "slide_type": "slide"
    }
   },
   "source": [
    "## Methods\n",
    "\n",
    "- The operations will be called\n",
    "    - front\n",
    "    - back\n",
    "    - push_front\n",
    "    - push_back\n",
    "    - pop_front\n",
    "    - pop_back\n",
    "\n",
    "- There are four errors associated with this abstract data type:\n",
    "    - It is an undefined operation to access or pop from an empty deque"
   ]
  },
  {
   "cell_type": "markdown",
   "metadata": {
    "slideshow": {
     "slide_type": "slide"
    }
   },
   "source": [
    "## Applications\n",
    "\n",
    "- Useful as a general-purpose tool\n",
    "    - Can be used as either a queue or a stack\n",
    "\n",
    "- Problem solving\n",
    "    - Consider solving a maze by adding or removing a constructed path at the front\n",
    "    - Once the solution is found, iterate from the back for the solution"
   ]
  },
  {
   "cell_type": "markdown",
   "metadata": {
    "slideshow": {
     "slide_type": "slide"
    }
   },
   "source": [
    "## Implementations\n",
    "\n",
    "- The implementations are clear - use\n",
    "    - a doubly linked list\n",
    "    - a circular array"
   ]
  },
  {
   "cell_type": "markdown",
   "metadata": {
    "slideshow": {
     "slide_type": "slide"
    }
   },
   "source": [
    "## Doubly Linked List Implementation\n",
    "\n",
    "- Every function of the deque ADT runs in $\\Theta(1)$ time.\n",
    "    - The space usage is $O(n)$\n",
    "\n",
    "![](../img/dll.png)\n",
    "\n",
    "|        | front / 1st node | back / $n$th node        |\n",
    "|-------:|:-----------:|:-----------:|    \n",
    "| find | $\\Theta(1)$ | ${\\Theta(1)}$ |\n",
    "| insert | $\\Theta(1)$ | ${\\Theta(1)}$ |\n",
    "| erase  | $\\Theta(1)$ | $\\Theta(1)$ |    \n",
    "\n",
    "- Most of the member functions for the `LinkedDeque` class are straightforward generalizations of the corresponding functions of the `LinkedQueue` class\n",
    "    - Simply invoke the appropriate operation from the underlying `DoublyLinkedList` object"
   ]
  },
  {
   "cell_type": "markdown",
   "metadata": {
    "slideshow": {
     "slide_type": "slide"
    }
   },
   "source": [
    "## Standard Template Library\n",
    "\n",
    "- The Standard Template Library (STL) has a [wrapper class `deque`](https://en.cppreference.com/w/cpp/container/deque) which is a container adapter that gives the programmer the functionality of a deque"
   ]
  },
  {
   "cell_type": "code",
   "execution_count": 3,
   "metadata": {
    "slideshow": {
     "slide_type": "fragment"
    }
   },
   "outputs": [
    {
     "name": "stdout",
     "output_type": "stream",
     "text": [
      "Head: 11\n",
      "Tail: 42\n",
      "Head: 12\n",
      "Size: 2\n"
     ]
    }
   ],
   "source": [
    "#include <iostream>\n",
    "#include <deque>\n",
    "{\n",
    "    std::deque<int> ideque;\n",
    "\n",
    "    ideque.push_front( 12 );\n",
    "    ideque.push_back( 42 );\n",
    "    ideque.push_front( 11 );\n",
    "    std::cout << \"Head: \" << ideque.front() << std::endl;\n",
    "    std::cout << \"Tail: \" << ideque.back() << std::endl;\n",
    "    ideque.pop_front(); // no return value\n",
    "    std::cout << \"Head: \" << ideque.front() << std::endl;\n",
    "    std::cout << \"Size: \" << ideque.size() << std::endl;\n",
    "}"
   ]
  }
 ],
 "metadata": {
  "celltoolbar": "Slideshow",
  "kernelspec": {
   "display_name": "C++17",
   "language": "C++17",
   "name": "xcpp17"
  },
  "language_info": {
   "codemirror_mode": "text/x-c++src",
   "file_extension": ".cpp",
   "mimetype": "text/x-c++src",
   "name": "c++",
   "version": "17"
  }
 },
 "nbformat": 4,
 "nbformat_minor": 4
}
